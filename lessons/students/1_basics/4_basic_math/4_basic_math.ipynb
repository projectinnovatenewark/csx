{
 "cells": [
  {
   "cell_type": "code",
   "execution_count": null,
   "metadata": {},
   "outputs": [],
   "source": [
    "\"\"\"\n",
    "This is an introduction to basic math and imports in Python\n",
    "\"\"\"\n",
    "\n",
    "# TITLE: Section 1 - Basic Mathematical Operations in Python, & Modulo (8 minutes)\n",
    "# Math in Python works exactly as you'd think it should. It's just like using a calculator,\n",
    "# except you can store equations in variables. Below are basic mathematical operations you have \n",
    "# seen in standard algebra classes.\n",
    "addition = 2 + 2 # This is addition\n",
    "subtraction = 10 - 5 # This is sutraction\n",
    "multiplication = 3 * 4 # This is multiplication\n",
    "division = 12 / 4 # This is division\n",
    "exponents = 2 ** 2 # This is finding exponential value (2^2 or 2 squared)\n",
    "\n",
    "# IMPORTANT:\n",
    "# In python 2, division of whole numbers always returned a whole number,\n",
    "# but in python 3, they return float values.\n",
    "\n",
    "# The \"%\" is called the modulo operator. The modulo operator is used to return the remainder\n",
    "# of one number in the next. In the below example, 9 goes into 120 13 times with a remainder of 3.\n",
    "remainder = 120 % 9\n",
    "print(\"Math Section One\")\n",
    "print(f\"addition: {addition}, subtraction: {subtraction}, multiplication: {multiplication}, division: {division}, exponents: {exponents}, remainder: {remainder}.\")\n",
    "\n",
    "# Let us not forget, variables can be changed! Lets reassign multiple variables in one line.\n",
    "# Use Lesson 2 Section 2 if you need a reminder on setting multiple variables in a line.\n",
    "addition, subtraction, multiplication = 4 + 4, 20 - 6, 2 * 2\n",
    "\n",
    "print(\"Lets see if our variables changed.\")\n",
    "print(\"addition: \", addition, \"subtraction: \", subtraction, \"multiplication: \", multiplication)"
   ]
  }
 ],
 "metadata": {
  "language_info": {
   "name": "python"
  },
  "orig_nbformat": 4
 },
 "nbformat": 4,
 "nbformat_minor": 2
}
