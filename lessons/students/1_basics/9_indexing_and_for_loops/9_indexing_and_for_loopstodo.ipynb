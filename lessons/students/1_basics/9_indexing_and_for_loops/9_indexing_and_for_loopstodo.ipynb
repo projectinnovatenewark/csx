{
 "cells": [
  {
   "cell_type": "code",
   "execution_count": null,
   "metadata": {},
   "outputs": [],
   "source": [
    "\"\"\"\n",
    "Working with for loops in dictionaries and lists\n",
    "\"\"\"\n",
    "\n",
    "# TODO: Section 1.1:\n",
    "\n",
    "grades = [60, 73, 80, 87]\n",
    "\n",
    "# Loop through the list above and \"curve\" each grade by 3 points and print those\n",
    "# curved grades."
   ]
  },
  {
   "cell_type": "code",
   "execution_count": null,
   "metadata": {},
   "outputs": [],
   "source": []
  },
  {
   "cell_type": "code",
   "execution_count": null,
   "metadata": {},
   "outputs": [],
   "source": [
    "#TODO: Section 1.2:\n",
    "\n",
    "# In a new loop, print the statement \"Student [num] got a [grade].\" use the \".index()\" method to\n",
    "# find the student's position in the list.\n",
    "\n",
    "# TIP: Make the print statement readable for an end user."
   ]
  },
  {
   "cell_type": "code",
   "execution_count": null,
   "metadata": {},
   "outputs": [],
   "source": []
  },
  {
   "cell_type": "code",
   "execution_count": null,
   "metadata": {},
   "outputs": [],
   "source": [
    "# TODO: Section 2:\n",
    "\n",
    "# Use a \"for loop\" to print each character in the following string. Your print statement should\n",
    "# read, \"Current letter: [char]\".\n",
    "\n",
    "vroom = \"racecar\""
   ]
  },
  {
   "cell_type": "code",
   "execution_count": null,
   "metadata": {},
   "outputs": [],
   "source": []
  },
  {
   "cell_type": "code",
   "execution_count": null,
   "metadata": {},
   "outputs": [],
   "source": [
    "# TODO: Section 3:\n",
    "\n",
    "# Loop through a range of numbers between 2 and 9. Within the \"for loop\", divide each number by 2\n",
    "# and print the result."
   ]
  },
  {
   "cell_type": "code",
   "execution_count": null,
   "metadata": {},
   "outputs": [],
   "source": []
  },
  {
   "cell_type": "code",
   "execution_count": null,
   "metadata": {},
   "outputs": [],
   "source": [
    "# TODO: Section 4: \n",
    "# In the following dictionary, keys are associated with days of the week & values represent\n",
    "# temperatures.\n",
    "\n",
    "# TIP: \n",
    "# Dictionaries can be spread out over multiple line to avoing surpassing character limits, as seen\n",
    "# below:\n",
    "\n",
    "temperature_forecast = {\n",
    "    \"Sunday\": 65,\n",
    "    \"Monday\": 70,\n",
    "    \"Tuesday\": 80,\n",
    "    \"Wednesday\": 70,\n",
    "    \"Thursday\": 67,\n",
    "    \"Friday\": 95,\n",
    "    \"Saturday\": 100\n",
    "}\n",
    "\n",
    "# Create a for loop that prints out each day of the week with its associated temperature in the\n",
    "# format. \"On [day] it will be [temperature] degrees outside.\"\n",
    "\n",
    "for day in temperature_forecast:\n",
    "  print(f\"On {day} it will be {temperature_forecast[day]}\")"
   ]
  }
 ],
 "metadata": {
  "language_info": {
   "name": "python"
  },
  "orig_nbformat": 4
 },
 "nbformat": 4,
 "nbformat_minor": 2
}
