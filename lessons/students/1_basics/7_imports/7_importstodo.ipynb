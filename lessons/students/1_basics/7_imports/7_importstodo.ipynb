{
 "cells": [
  {
   "cell_type": "code",
   "execution_count": null,
   "metadata": {},
   "outputs": [],
   "source": [
    "\"\"\"\n",
    "Use compounding interest rates and initial investment to find your return on investment\n",
    "and calculate the taxes owed\n",
    "\"\"\"\n",
    "\n",
    "# INSERT IMPORT STATEMENT HERE # FIXME\n",
    "\n",
    "# TODO: Section 1\n",
    "# Import the annual_interest and TAX_RATE constants from the file \"interest.py\" in\n",
    "# studentrepository/todos/1_basics\n",
    "\n",
    "# Ask a user how much they would like to invest with an input. Set it equal to a variable\n",
    "# named \"investment\".\n",
    "# TIP: Don't forget to convert the input to an integer!\n",
    "\n",
    "# Calculate how much their investment would appreciate in one year by multiplying\n",
    "# the investment variable by the annual_interest. Set the appreciation amount\n",
    "# equal to a variable named \"appreciation\".\n"
   ]
  },
  {
   "cell_type": "code",
   "execution_count": null,
   "metadata": {},
   "outputs": [],
   "source": [
    "# TODO: Section 1.1\n",
    "\n",
    "# Create a new variable named \"new_value\" by adding the \"appreciation\" variable to the\n",
    "# \"investment\" variable.\n",
    "\n",
    "# Calculate the taxes you have to pay by setting a variable of \"taxes\" equal to\n",
    "# the \"appreciation\" variable times the TAX_RATE.\n",
    "\n",
    "# Print to the user the following output using f shorthand: \"Your investment of {investment} is now worth\n",
    "# {new_value} and you owe {taxes} in taxes.\""
   ]
  }
 ],
 "metadata": {
  "language_info": {
   "name": "python"
  },
  "orig_nbformat": 4
 },
 "nbformat": 4,
 "nbformat_minor": 2
}
