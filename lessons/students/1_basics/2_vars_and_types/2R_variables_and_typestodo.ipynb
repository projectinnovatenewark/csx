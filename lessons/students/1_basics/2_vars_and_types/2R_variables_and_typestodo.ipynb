{
 "cells": [
  {
   "cell_type": "code",
   "execution_count": null,
   "metadata": {},
   "outputs": [],
   "source": [
    "\"\"\"\n",
    "Using variables and types\n",
    "\"\"\"\n",
    "\n",
    "# TITLE: Section 1 - Variables & Types"
   ]
  },
  {
   "cell_type": "code",
   "execution_count": null,
   "metadata": {},
   "outputs": [],
   "source": [
    "# TODO: Section 1.1\n",
    "\n",
    "# Assign an integer to the variable \"bakers_dozen\", then print it.\n",
    "# bakers_dozen = # FIXME: Uncomment to complete\n",
    "# print() # FIXME: Uncomment to complete"
   ]
  },
  {
   "cell_type": "code",
   "execution_count": null,
   "metadata": {},
   "outputs": [],
   "source": []
  },
  {
   "cell_type": "code",
   "execution_count": null,
   "metadata": {},
   "outputs": [],
   "source": [
    "# TODO: Section 1.2\n",
    "\n",
    "# Assign an string to the variable \"mary_had_a_little_lamb\", then print it.\n",
    "# mary_had_a_little_lamb = # FIXME: Uncomment to complete\n",
    "# print() # FIXME: Uncomment to complete"
   ]
  },
  {
   "cell_type": "code",
   "execution_count": null,
   "metadata": {},
   "outputs": [],
   "source": []
  },
  {
   "cell_type": "code",
   "execution_count": null,
   "metadata": {},
   "outputs": [],
   "source": [
    "# TODO: Section 1.3\n",
    "# Assign a float with 2 decimals to the variable \"pi\", then print it..\n",
    "# pi = # FIXME: Uncomment to complete\n",
    "# print() # FIXME: Uncomment to complete"
   ]
  },
  {
   "cell_type": "code",
   "execution_count": null,
   "metadata": {},
   "outputs": [],
   "source": []
  },
  {
   "cell_type": "code",
   "execution_count": null,
   "metadata": {},
   "outputs": [],
   "source": [
    "# TODO: Section 1.4\n",
    "# Set 4 variables using only one line. The 4 variables should be made up of 1 integer, 1 string, 1\n",
    "# float, and 1 boolean. Print each variable in its own print statement."
   ]
  },
  {
   "cell_type": "code",
   "execution_count": null,
   "metadata": {},
   "outputs": [],
   "source": []
  },
  {
   "cell_type": "code",
   "execution_count": null,
   "metadata": {},
   "outputs": [],
   "source": [
    "# TITLE: Section 2 - Type Function and Type Conversion\n",
    "\n",
    "# TODO: Section 2.1\n",
    "\n",
    "# Convert var2 to an integer so that we can print the sum of the two values.\n",
    "var1 = 100\n",
    "var2 = '200'\n",
    "var3 = var1 + var2 # FIXME: Convert var2 on this line.\n",
    "\n",
    "print(var3)"
   ]
  },
  {
   "cell_type": "code",
   "execution_count": null,
   "metadata": {},
   "outputs": [],
   "source": []
  },
  {
   "cell_type": "code",
   "execution_count": null,
   "metadata": {},
   "outputs": [],
   "source": [
    " TODO: Section 2.2\n",
    "\n",
    "# Now try to convert var2 to a float and print the sum. What is the type of the sum?\n",
    "var1 = 100\n",
    "var2 = '200'\n",
    "var3 = var1 + var2  # FIXME: Convert var2 on this line.\n",
    "\n",
    "print(var3)\n"
   ]
  }
 ],
 "metadata": {
  "language_info": {
   "name": "python"
  },
  "orig_nbformat": 4
 },
 "nbformat": 4,
 "nbformat_minor": 2
}
