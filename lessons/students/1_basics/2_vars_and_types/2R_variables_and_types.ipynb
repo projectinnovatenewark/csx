{
 "cells": [
  {
   "cell_type": "code",
   "execution_count": null,
   "metadata": {},
   "outputs": [],
   "source": [
    "\"\"\"\n",
    "Review on variables, and variable types.\n",
    "\"\"\"\n",
    "\n",
    "# TITLE: Section 1 - Variables & Types\n",
    "\n",
    "# A variable is a reserved memory location used to store a given value. All data types can be stored\n",
    "# as variables. When defining a variable, the name is on the left side of the \"=\" and the data\n",
    "# being stored is on the right.\n",
    "\n",
    "# A number without a decimal point is an integer.\n",
    "number1 = 5\n",
    "\n",
    "# You can set multiple variables in one line of code using commas.\n",
    "var1, var2, var3 = 1, 2, 3\n",
    "print(var1, var2, var3)\n",
    "\n",
    "# A number with a decimal point is a float.\n",
    "float1 = 6.3\n",
    "\n",
    "# Anything wrapped in quotation marks is a string, which represents text.\n",
    "string1 = \"Hello\"\n",
    "string2 = \"World!\"\n",
    "\n",
    "# Concatenation is the process of combining strings.\n",
    "big_string = string1 + string2\n",
    "print(big_string)\n",
    "\n",
    "# Booleans are true or false values.\n",
    "boolean = False\n",
    "boolean2 = True\n",
    "\n",
    "# If you want to set a variable to an empty value, use the None type.\n",
    "variable_for_later = None\n",
    "\n",
    "# TODO: Section 1 of TODO 2R"
   ]
  },
  {
   "cell_type": "code",
   "execution_count": null,
   "metadata": {},
   "outputs": [],
   "source": [
    "# TITLE: Section 2 - Type Function and Type Conversion\n",
    "\n",
    "# Python uses the type() function to check the type of a variable.\n",
    "\n",
    "num1, string1 = 2, \"Any string\"\n",
    "\n",
    "print(f\"num1: {type(num1)}\")\n",
    "print(f\"string1: {type(string1)}\")\n",
    "\n",
    "# To convert values into other types use the following built in functions:\n",
    "int() # is used to convert a given value to an integer.\n",
    "float() # is used to convert a given value to a float.\n",
    "str() # is used to convert a given value to a string.\n",
    "bool() # is used to convert a given value to a boolean.\n",
    "\n",
    "num1 = 45\n",
    "print(f\"num1: {type(num1)}\")\n",
    "\n",
    "num_to_string = str(num1)\n",
    "print(f\"num_to_string: {type(num_to_string)}\")"
   ]
  }
 ],
 "metadata": {
  "kernelspec": {
   "display_name": "Python 3.8.9 64-bit",
   "language": "python",
   "name": "python3"
  },
  "language_info": {
   "name": "python",
   "version": "3.8.9"
  },
  "orig_nbformat": 4,
  "vscode": {
   "interpreter": {
    "hash": "31f2aee4e71d21fbe5cf8b01ff0e069b9275f58929596ceb00d14d90e3e16cd6"
   }
  }
 },
 "nbformat": 4,
 "nbformat_minor": 2
}
