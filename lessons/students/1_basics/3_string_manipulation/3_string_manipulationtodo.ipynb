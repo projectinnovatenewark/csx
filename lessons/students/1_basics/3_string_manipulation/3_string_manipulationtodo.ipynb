{
 "cells": [
  {
   "cell_type": "code",
   "execution_count": null,
   "metadata": {},
   "outputs": [],
   "source": [
    "\"\"\"\n",
    "Using string manipulation\n",
    "\"\"\"\n",
    "# TITLE:  Section 1 - The \"input()\" Function\n",
    "\n",
    "# TODO: Section 1.1:\n",
    "# Ask a user to input their full name and set it equal to a variable called \"full_name\". Greet the\n",
    "# user by printing \"Hello [full_name], welcome to your personality quiz!\" Make sure the comma comes\n",
    "# directly after the \"full_name\" variable."
   ]
  },
  {
   "cell_type": "code",
   "execution_count": null,
   "metadata": {},
   "outputs": [],
   "source": []
  },
  {
   "cell_type": "code",
   "execution_count": null,
   "metadata": {},
   "outputs": [],
   "source": [
    " TITLE: Section 2 - Modifying the Casing of Strings\n",
    "\n",
    "# TODO: Section 2:\n",
    "# Manipulate the variable \"classic\" using the 3 functions learned in this lesson and store each in\n",
    "# new variables called \"classic_title\", \"classic_upper\", \"classic_lower\". Then print each of the new\n",
    "# variables on a different line by using \"\\n\".\n",
    "# HINT: You should only have one print statement.\n",
    "\n",
    "classic = \"thE GREat GatSBy\""
   ]
  },
  {
   "cell_type": "code",
   "execution_count": null,
   "metadata": {},
   "outputs": [],
   "source": []
  },
  {
   "cell_type": "code",
   "execution_count": null,
   "metadata": {},
   "outputs": [],
   "source": [
    "# TITLE: Section 4 - String-related Functions\n",
    "\n",
    "# TODO: Section 4:\n",
    "# It looks like the below list was meant to be one long string. Use what you learned in this section\n",
    "#  to join the items together and separate each item with a space. Set this to a new variable called\n",
    "# \"phrase\" and print it to check your output.\n",
    "\n",
    "listy = [\"This\", \"shouldn't be\", \"a list.\"]"
   ]
  }
 ],
 "metadata": {
  "language_info": {
   "name": "python"
  },
  "orig_nbformat": 4
 },
 "nbformat": 4,
 "nbformat_minor": 2
}
