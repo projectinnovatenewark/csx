{
 "cells": [
  {
   "cell_type": "code",
   "execution_count": null,
   "metadata": {},
   "outputs": [],
   "source": [
    "\"\"\"\n",
    "Example recursion functions. reference: https://realpython.com/python-thinking-recursively/\n",
    "\"\"\"\n",
    "\n",
    "# the first example we will review is recursively executing a factorial.\n",
    "# Factorial multiplies every number by the number before it until it hits 1\n",
    "# i.e. 5! would equal 5 x 4 x 3 x 2\n",
    "# or 3! would equal 3 x 2\n",
    "\n",
    "# recursion is a functioning that calls itself, thus breaking a large\n",
    "# problem down into smaller and smaller sub-problems until it is solved\n",
    "\n",
    "def factorial_recursive(n):\n",
    "    # Base case: 1! = 1\n",
    "    if n == 1:\n",
    "        return 1\n",
    "\n",
    "    # Recursive case: n! = n * (n-1)!\n",
    "    else:\n",
    "        return n * factorial_recursive(n-1)\n",
    "print(factorial_recursive(10))\n"
   ]
  },
  {
   "cell_type": "code",
   "execution_count": null,
   "metadata": {},
   "outputs": [],
   "source": [
    "\n",
    "# The Fibonacci sequence is a set of numbers that starts with a one or a zero,\n",
    "# followed by a one, and proceeds based on the rule that each number\n",
    "# (called a Fibonacci number) is equal to the sum of the preceding two numbers.\n",
    "# the first few numbers in the fibonacci sequence are 1, 1, 2, 3, 5, 8, 13, 21, 34, 55\n",
    "\n",
    "def fibonacci(num):\n",
    "    \"\"\"use recursion to find the n'th term in the fibonacci sequence\"\"\"\n",
    "    if num < 2:\n",
    "        return num\n",
    "    else:\n",
    "        return fibonacci(num-1)+fibonacci(num-2)\n",
    "\n",
    "print(fibonacci(10))"
   ]
  }
 ],
 "metadata": {
  "language_info": {
   "name": "python"
  },
  "orig_nbformat": 4
 },
 "nbformat": 4,
 "nbformat_minor": 2
}
