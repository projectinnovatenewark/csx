{
 "cells": [
  {
   "cell_type": "code",
   "execution_count": null,
   "metadata": {},
   "outputs": [],
   "source": [
    "\"\"\"\n",
    "Use employees.txt to perform operations on a list of employees\n",
    "\"\"\"\n",
    "\n",
    "# SETUP STEPS:\n",
    "# 1) Go to https://github.com/projectinnovatenewark/csx/tree/master/lessons/students/2_functions_and_conditions/15_file_handling\n",
    "# 2) Copy contents of the file employees.txt\n",
    "# 3) Create a new file in your directory that contains the todo for the file handling lesson\n",
    "# 4) Paste in the contents to your newly created employees.txt file\n",
    "# 5) Save the file\n",
    "# 6) Write your Python code\n",
    "# 7) Change directories into your directory with the Python program\n",
    "# 8) Run the program with this command in your terminal, `python3 program_name.py`\n",
    "\n",
    "# IMPORTANT:\n",
    "# Make sure your terminal is using the same working directory is in the same working directory as\n",
    "# \"employees.txt\". Also, the spacing in \"employees.txt\" may look off, but it will not impact your\n",
    "# ability to complete the todos.\n",
    "\n",
    "# TODO: Section 1.1\n",
    "\n",
    "# Use the \"open\" function to read the contents of \"employees.txt\" and print them to the terminal\n",
    "# using the \".read()\" method. Then close the file."
   ]
  },
  {
   "cell_type": "code",
   "execution_count": null,
   "metadata": {},
   "outputs": [],
   "source": []
  },
  {
   "cell_type": "code",
   "execution_count": null,
   "metadata": {},
   "outputs": [],
   "source": [
    "\n",
    "# TODO: Section 1.2\n",
    "\n",
    "# Reopen \"employees.txt\". Then read each line in the file seperately using the \".readlines()\" method\n",
    "# and print them out to the terminal. Lastly close the file.\n"
   ]
  },
  {
   "cell_type": "code",
   "execution_count": null,
   "metadata": {},
   "outputs": [],
   "source": []
  },
  {
   "cell_type": "code",
   "execution_count": null,
   "metadata": {},
   "outputs": [],
   "source": [
    "# TODO: Section 2\n",
    "\n",
    "# Open \"employees.txt\". Then write to the file without overwriting its contents and add a new \n",
    "# employee. The format of the employee information should be:\n",
    "# \"John (tab) Smith (tab) Public Relations (tab) 50000\". Then open the file again to read its\n",
    "# contents and print them to the terminal. Lastly close the file.\n",
    "\n",
    "# HINT: Use \"\\t\" in strings to create a tab."
   ]
  }
 ],
 "metadata": {
  "language_info": {
   "name": "python"
  },
  "orig_nbformat": 4
 },
 "nbformat": 4,
 "nbformat_minor": 2
}
