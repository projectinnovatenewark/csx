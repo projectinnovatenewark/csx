{
 "cells": [
  {
   "cell_type": "code",
   "execution_count": null,
   "metadata": {},
   "outputs": [],
   "source": [
    "\"\"\"\n",
    "Working with functions and scope\n",
    "\"\"\"\n",
    "\n",
    "# TODO: Section 1\n",
    "# Define a function called \"double()\" that sets a parameter of \"x\". The function should double \"x\"\n",
    "# and print the product. Call the function and pass it the below variable as an argument.\n",
    "double_this = 7\n",
    "\n",
    "# After completing the above, define a function called \"printer()\" that sets no parameter.\n",
    "# The function should just print the \"double_this\" variable. Then call the function."
   ]
  },
  {
   "cell_type": "code",
   "execution_count": null,
   "metadata": {},
   "outputs": [],
   "source": []
  },
  {
   "cell_type": "code",
   "execution_count": null,
   "metadata": {},
   "outputs": [],
   "source": []
  },
  {
   "cell_type": "code",
   "execution_count": null,
   "metadata": {},
   "outputs": [],
   "source": [
    "# TODO: Section 2\n",
    "# Copy your \"double()\" function from above to this block of code. Change the function to use a\n",
    "# return value, store that return value in a variable, and print the product.\n",
    "double_this = 38\n"
   ]
  },
  {
   "cell_type": "code",
   "execution_count": null,
   "metadata": {},
   "outputs": [],
   "source": []
  },
  {
   "cell_type": "code",
   "execution_count": null,
   "metadata": {},
   "outputs": [],
   "source": [
    "# TODO: Section 3\n",
    "# Write a function that takes an input statement of an integer and store it in a variable called\n",
    "# \"num\". and then tests if the integer is even or odd. If the input is even, print \"[num] is even.\"\n",
    "# Otherwise print the statement \"[num] is odd.\" Lastly call the function."
   ]
  },
  {
   "cell_type": "code",
   "execution_count": null,
   "metadata": {},
   "outputs": [],
   "source": []
  },
  {
   "cell_type": "code",
   "execution_count": null,
   "metadata": {},
   "outputs": [],
   "source": []
  },
  {
   "cell_type": "code",
   "execution_count": null,
   "metadata": {},
   "outputs": [],
   "source": [
    "# TODO: Section 4\n",
    "# Define a function that takes a dictionary as a parameter, loops through the dictionary, and\n",
    "# returns the iteration number, key, and value in the following format:\n",
    "# \"Iteration number [1] returns the key [key] and the value [value].\" Lastly call the function.\n",
    "\n",
    "# Here is an example dictionary:\n",
    "EXAMPLE_DICTIONARY = {\"key1\": \"value1\", \"key2\": \"value2\", \"key3\": \"value3\", \"key4\": \"value4\"}"
   ]
  },
  {
   "cell_type": "code",
   "execution_count": null,
   "metadata": {},
   "outputs": [],
   "source": []
  },
  {
   "cell_type": "code",
   "execution_count": null,
   "metadata": {},
   "outputs": [],
   "source": []
  }
 ],
 "metadata": {
  "language_info": {
   "name": "python"
  },
  "orig_nbformat": 4
 },
 "nbformat": 4,
 "nbformat_minor": 2
}
