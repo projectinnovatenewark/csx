{
 "cells": [
  {
   "attachments": {},
   "cell_type": "markdown",
   "metadata": {},
   "source": [
    "# Dataframes and Data Visualization Part 2"
   ]
  },
  {
   "cell_type": "markdown",
   "metadata": {},
   "source": [
    "For this lesson we will need the following packages; pandas, mathplotlib.pylplot, seaborn, scipy, numpy."
   ]
  },
  {
   "cell_type": "markdown",
   "metadata": {},
   "source": [
    "## Section 1"
   ]
  },
  {
   "attachments": {},
   "cell_type": "markdown",
   "metadata": {},
   "source": [
    "### Basic summary statistics\n",
    "\n",
    "Basic summary statistics provide an overview of the central tendency, dispersion, and shape of a variable.\n",
    "Python's pandas library offers a convenient method called `describe()` to generate summary statistics for a DataFrame.\n",
    "\n",
    "In this example, we import the pandas library and load the data from a CSV file into a DataFrame named data. The `describe()`\n",
    "method is then called on the DataFrame to calculate summary statistics such as count, mean, standard deviation, minimum, quartiles,\n",
    "and maximum for each numerical column in the data. The result is stored in the summary variable and printed."
   ]
  },
  {
   "cell_type": "code",
   "execution_count": null,
   "metadata": {},
   "outputs": [],
   "source": [
    "import pandas as pd\n",
    "\n",
    "# Load the data into a DataFrame\n",
    "df_students = pd.read_csv('students_performance.csv')\n",
    "\n",
    "# Generate summary statistics\n",
    "summary = df_students.describe()\n",
    "print(summary)"
   ]
  },
  {
   "attachments": {},
   "cell_type": "markdown",
   "metadata": {},
   "source": [
    "<span style =\"background-color:yellow\">\n",
    "TODO: Print out the statistical summary for your data set and interpret what the values represent to your classmates. Based of this data what are some expectations you have for the shape of your data?\n",
    "</span>"
   ]
  },
  {
   "attachments": {},
   "cell_type": "markdown",
   "metadata": {},
   "source": [
    "### Counting Missing Values and Identifying Outliers\n",
    "\n",
    "Missing values and outliers are important considerations in data analysis. Python's pandas library provides functions to count missing values and identify outliers.\n",
    "\n",
    "To count missing values:"
   ]
  },
  {
   "cell_type": "code",
   "execution_count": null,
   "metadata": {},
   "outputs": [],
   "source": [
    "# Count missing values in each column\n",
    "missing_values = df_students.isnull().sum()\n",
    "print(missing_values)"
   ]
  },
  {
   "attachments": {},
   "cell_type": "markdown",
   "metadata": {},
   "source": [
    "The `isnull()` function checks each element in the DataFrame and returns `True` if it is missing `(NaN)` and `False` otherwise. By calling `sum()` on the result, we obtain the count of missing values for each column."
   ]
  },
  {
   "cell_type": "markdown",
   "metadata": {},
   "source": [
    "Since there are some missing values detected we can go about filling them. This can be done using aggregate fucntions such as finding the mean of the other values, an example could be inputting the mean math score to input into the null values. "
   ]
  },
  {
   "cell_type": "code",
   "execution_count": null,
   "metadata": {},
   "outputs": [],
   "source": [
    "import numpy as np\n",
    "\n",
    "# Create an array with null values\n",
    "data = np.array((df_students))\n",
    "\n",
    "# Fill null values in string array with a specific value\n",
    "filled_array = np.where(data == None, 'Unknown', data)\n",
    "\n",
    "print(filled_array)"
   ]
  },
  {
   "cell_type": "markdown",
   "metadata": {},
   "source": [
    "## Section 2"
   ]
  },
  {
   "cell_type": "markdown",
   "metadata": {},
   "source": [
    "### Outliers, and Shape"
   ]
  },
  {
   "attachments": {},
   "cell_type": "markdown",
   "metadata": {},
   "source": [
    "Sometimes, data may have outliers. An outlier is a data point that differs significantly from other data points. It's existence may skew our data and impact other descriptive statistic values to the point where any conclusion we make from them are not accurate. We can identify outliers using the z-score method. A z-score is a statistical measurement that describes how far a data point is from the mean of the data. We can use a z-score as a cutoff point for reasonable data. In this example, we will use 3 as the cutoff.\n",
    "\n",
    "To identify outliers using a z-score method check to see if there is something 3 standard deviations outside from the mean. "
   ]
  },
  {
   "attachments": {},
   "cell_type": "markdown",
   "metadata": {},
   "source": [
    "In this example, we use the `zscore()` function from the scipy.stats module to calculate the z-scores for each value in a specific column, where column_name represents the column of interest. We then define a threshold (e.g., 3) to identify outliers. Values with z-scores exceeding the threshold are considered outliers, and we use the `abs()` function to take the absolute values of the z-scores. Finally, we create a DataFrame named outliers containing the rows with identified outliers and print it."
   ]
  },
  {
   "attachments": {},
   "cell_type": "markdown",
   "metadata": {},
   "source": [
    "<span style =\"background-color:yellow\">\n",
    "TODO: Examine your data and find out if their are any outliers or null values. Next create a boxplot and a histogram for your datasets. Once completed converse with another student talking about how any outliers or null values may have impacted your graphs. Next talk about any observations you had of your graphs and anything that popped out at you.\n",
    "<span\\>"
   ]
  },
  {
   "cell_type": "markdown",
   "metadata": {},
   "source": [
    "## Section 3"
   ]
  },
  {
   "cell_type": "markdown",
   "metadata": {},
   "source": [
    "### Normal Distribution and Bimodal Distribution"
   ]
  },
  {
   "cell_type": "markdown",
   "metadata": {},
   "source": [
    "Here's an example of generating a normal distribution using NumPy and plotting it with matplotlib:"
   ]
  },
  {
   "cell_type": "markdown",
   "metadata": {},
   "source": [
    "In this example, we generate 1000 random samples from a normal distribution with a mean of 0 and a standard deviation of 1 using `np.random.normal()`. The generated samples are then plotted as a histogram using `plt.hist()`. The bins parameter specifies the number of bins for the histogram, `density=True` ensures that the histogram is normalized, alpha controls the transparency of the bars, and color sets the color of the bars to blue.\n",
    "\n",
    "Finally, the code sets the x-axis label to `\"Value\"`, the y-axis label to `\"Probability Density\"`, and the title of the plot to `\"Normal Distribution\"` using `plt.xlabel(), plt.ylabel()`, and `plt.title()` respectively.\n",
    "\n",
    "Running this code will display a plot with a histogram representing the generated random samples from the normal distribution."
   ]
  },
  {
   "cell_type": "code",
   "execution_count": null,
   "metadata": {},
   "outputs": [],
   "source": [
    "import numpy as np\n",
    "import matplotlib.pyplot as plt\n",
    "\n",
    "# Set the parameters for the normal distribution\n",
    "mean = 0\n",
    "std_dev = 1\n",
    "\n",
    "# Generate random samples from a normal distribution\n",
    "samples = np.random.normal(mean, std_dev, 1000)\n",
    "\n",
    "# Plot the histogram of the samples\n",
    "plt.hist(samples, bins=30, density=True, alpha=0.7, color='blue')\n",
    "\n",
    "# Set plot labels and title\n",
    "plt.xlabel('Value')\n",
    "plt.ylabel('Probability Density')\n",
    "plt.title('Normal Distribution')\n",
    "\n",
    "# Show the plot\n",
    "plt.show()"
   ]
  },
  {
   "cell_type": "markdown",
   "metadata": {},
   "source": [
    "To create an example of bimodal data, we can generate random samples from a mixture of two Gaussian distributions. Here's the modified code:"
   ]
  },
  {
   "cell_type": "code",
   "execution_count": null,
   "metadata": {},
   "outputs": [],
   "source": [
    "import numpy as np\n",
    "import matplotlib.pyplot as plt\n",
    "\n",
    "# Generate random samples from a mixture of two Gaussian distributions\n",
    "mean1 = -2\n",
    "std_dev1 = 1\n",
    "samples1 = np.random.normal(mean1, std_dev1, 500)\n",
    "\n",
    "mean2 = 2\n",
    "std_dev2 = 0.5\n",
    "samples2 = np.random.normal(mean2, std_dev2, 500)\n",
    "\n",
    "samples = np.concatenate((samples1, samples2))\n",
    "\n",
    "# Plot the histogram of the samples\n",
    "plt.hist(samples, bins=30, density=True, alpha=0.7, color='blue')\n",
    "\n",
    "# Set plot labels and title\n",
    "plt.xlabel('Value')\n",
    "plt.ylabel('Probability Density')\n",
    "plt.title('Bimodal Data Example')\n",
    "\n",
    "# Show the plot\n",
    "plt.show()"
   ]
  },
  {
   "cell_type": "markdown",
   "metadata": {},
   "source": [
    "## Section 3"
   ]
  },
  {
   "cell_type": "markdown",
   "metadata": {},
   "source": [
    "### Standard Deviation/Statistic calculations"
   ]
  },
  {
   "cell_type": "markdown",
   "metadata": {},
   "source": [
    "Learning about where the statistic calculations come from is important to understanding how they coorelate with each other\n",
    "and what their significance is. "
   ]
  },
  {
   "cell_type": "markdown",
   "metadata": {},
   "source": [
    "In the example below we are taking the mean math score by using the `.mean()` function. Using this we calculate the variance of the data for the math scores. To calculate variance we take the residual of each data point and square it. We can use the `.std()` function to find the standard deviation for each data point. \n",
    "\n",
    "To find the z-score, a measure of how many standard deviation a data point is from the mean. we have to take the "
   ]
  },
  {
   "cell_type": "code",
   "execution_count": null,
   "metadata": {},
   "outputs": [],
   "source": [
    "# Assuming 'math score' is a column in your DataFrame\n",
    "# Calculate mean math score\n",
    "mean_math_score = df_students['math score'].mean()\n",
    "\n",
    "# Create a new column 'mathscorevariance' representing the variance of each math score from the mean. The\n",
    "# variance is the square of the difference between a value and the mean for that value.\n",
    "df_students['math_score_variance'] = (df_students['math score'] - mean_math_score)**2\n",
    "\n",
    "# Calculate standard deviation of all the math scores. This is done by summing all of the squares from\n",
    "# above, then dividing them by either the # of records (N) for an entire population, the number of\n",
    "# records minus 1 (N-1) if you only have a sample.\n",
    "std_math_score = df_students['math score'].std()\n",
    "\n",
    "# Create a new column 'math_score_std_dev' representing the standard deviation of each math score from the\n",
    "# mean. This is often called a Z-Score. Knowing the zscore for a record helps inform us how far\n",
    "# a value is from the mean.\n",
    "df_students['math_score_std_dev'] = (df_students['math score'] - mean_math_score) / std_math_score\n",
    "\n",
    "df_students[['math_score_std_dev', 'math score', 'math_score_variance']]"
   ]
  },
  {
   "cell_type": "markdown",
   "metadata": {},
   "source": [
    "As is normally the case for programming, theres a module that can calculate things much more easily for you. Here we will use the scipy package to calculate the z score in a single line of code, then cross reference the results with our above dataframe data."
   ]
  },
  {
   "cell_type": "code",
   "execution_count": null,
   "metadata": {},
   "outputs": [],
   "source": [
    "from scipy import stats"
   ]
  },
  {
   "cell_type": "code",
   "execution_count": null,
   "metadata": {},
   "outputs": [],
   "source": [
    "print(df_students['math score'].dtype)\n",
    "\n",
    "# Calculate z-scores for each value in a column. The nan_policy argument to this function will omit any null (or \"non-number\") values in this column.\n",
    "df_students['math_score_std_dev'] = stats.zscore(df_students['math score'], nan_policy='omit')\n",
    "\n",
    "df_students[['math_score_std_dev']]"
   ]
  },
  {
   "cell_type": "markdown",
   "metadata": {},
   "source": [
    "## Section 4"
   ]
  },
  {
   "cell_type": "markdown",
   "metadata": {},
   "source": [
    "### Distribution curves"
   ]
  },
  {
   "cell_type": "markdown",
   "metadata": {},
   "source": [
    "Distribution curves is how a data set looks when plotted on a graph. Distributions can be skewed to the right or the left or a various number of shapes. In te example below a histogram with 100 seperate random samples from a normal distribution are taken and then plotted on a histogram.   "
   ]
  },
  {
   "cell_type": "code",
   "execution_count": null,
   "metadata": {},
   "outputs": [],
   "source": [
    "import numpy as np\n",
    "import matplotlib.pyplot as plt\n",
    "\n",
    "# Generate random samples from a normal distribution\n",
    "mean = 0\n",
    "std_dev = 1\n",
    "samples = np.random.normal(mean, std_dev, 1000)\n",
    "\n",
    "# Plot the histogram of the samples\n",
    "plt.hist(samples, bins=30, density=True, alpha=0.7, color='blue')\n",
    "\n",
    "# Plot the probability density function (PDF) of the normal distribution\n",
    "x = np.linspace(-5, 5, 100)\n",
    "pdf = (1 / (std_dev * np.sqrt(2 * np.pi))) * np.exp(-(x - mean)**2 / (2 * std_dev**2))\n",
    "plt.plot(x, pdf, color='red', linewidth=2)\n",
    "\n",
    "# Set plot labels and title\n",
    "plt.xlabel('Value')\n",
    "plt.ylabel('Probability Density')\n",
    "plt.title('Normal Distribution')\n",
    "\n",
    "# Show the plot\n",
    "plt.show()"
   ]
  },
  {
   "cell_type": "markdown",
   "metadata": {},
   "source": [
    "## Section 5"
   ]
  },
  {
   "cell_type": "markdown",
   "metadata": {},
   "source": [
    "### Creating Skewed data"
   ]
  },
  {
   "cell_type": "markdown",
   "metadata": {},
   "source": [
    "Below is an example of right skewed data. In this case the mean is pulled to the right impacting the usability of that statistic. In cases like this median is usually a better representation of the data. The `np.random.exponential()` function allows us to programmatically create skewed data, so don't worry about what that function does."
   ]
  },
  {
   "cell_type": "code",
   "execution_count": null,
   "metadata": {},
   "outputs": [],
   "source": [
    "import numpy as np\n",
    "import matplotlib.pyplot as plt\n",
    "\n",
    "gamma_shape = 2  # Shape parameter controlling the skewness\n",
    "gamma_scale = 2  # Scale parameter controlling the spread\n",
    "samples = np.random.gamma(gamma_shape, gamma_scale, 1000)\n",
    "\n",
    "# Plot the histogram of the samples\n",
    "plt.hist(samples, bins=30, density=True, alpha=0.7, color='blue')\n",
    "\n",
    "# Set plot labels and title\n",
    "plt.xlabel('Demo Value')\n",
    "plt.ylabel('Probability Density')\n",
    "plt.title('Gamma Distribution')\n",
    "\n",
    "# Show the plot\n",
    "plt.show()"
   ]
  },
  {
   "cell_type": "markdown",
   "metadata": {},
   "source": [
    "The next example is Gamma distribution describes the graph by shape and rate. Below is an example of describing the graph by shape and scale with the parameters inputed into the `np.random.gamma` function. Gamma distributions are continously probabilty distribution just like a normal distribution. They tend to be right skewed,"
   ]
  },
  {
   "cell_type": "markdown",
   "metadata": {},
   "source": [
    "## Section 6"
   ]
  },
  {
   "attachments": {},
   "cell_type": "markdown",
   "metadata": {},
   "source": [
    "### Examining the Distribution of Variables\n",
    "\n",
    "Understanding the distribution of variables helps in assessing their shape, skewness, and potential data transformations. Python offers several visualization libraries to examine variable distributions. Let's use Matplotlib to create a histogram and Seaborn to generate a box plot."
   ]
  },
  {
   "cell_type": "code",
   "execution_count": null,
   "metadata": {},
   "outputs": [],
   "source": [
    "import matplotlib.pyplot as plt\n",
    "import seaborn as sns\n",
    "\n",
    "plt.hist(df_students['reading score'], bins = 15)\n",
    "plt.xlabel = ('Scores')\n",
    "plt.ylabel = ('Counts')\n",
    "plt.title = ('Scores vs Counts for Reading Score')"
   ]
  },
  {
   "cell_type": "code",
   "execution_count": null,
   "metadata": {},
   "outputs": [],
   "source": [
    "# Plot a histogram of a variable\n",
    "plt.hist(df_students['math score'], bins=20)\n",
    "\n",
    "# We use the .xlabel() function to give the x-axis a label\n",
    "plt.xlabel('Variable')\n",
    "\n",
    "# We use the .ylabel() function to give the y-axis a label\n",
    "plt.ylabel('Frequency')\n",
    "\n",
    "# We use the .title() function to give the histogram a title\n",
    "plt.title('Histogram of Variable')\n",
    "\n",
    "#displays the plot\n",
    "plt.show()"
   ]
  },
  {
   "cell_type": "code",
   "execution_count": null,
   "metadata": {},
   "outputs": [],
   "source": [
    "# Generate a box plot of a variable\n",
    "sns.boxplot(x=df_students['math score'])\n",
    "plt.xlabel('Variable')\n",
    "plt.title('Box Plot of Variable')\n",
    "plt.show()"
   ]
  },
  {
   "attachments": {},
   "cell_type": "markdown",
   "metadata": {},
   "source": [
    "In this example, we utilize `sns.boxplot()` from the seaborn library to create a box plot of the variable variable in the DataFrame data. The x parameter is set to the column of interest. Similarly, `xlabel()` and `title()` are used to label the x-axis and provide a title to the plot. Finally, `plt.show()` displays the box plot."
   ]
  },
  {
   "cell_type": "markdown",
   "metadata": {},
   "source": [
    "## Section 7"
   ]
  },
  {
   "attachments": {},
   "cell_type": "markdown",
   "metadata": {},
   "source": [
    "### Loading data into Pandas"
   ]
  },
  {
   "attachments": {},
   "cell_type": "markdown",
   "metadata": {},
   "source": [
    "If you are using repl, copy the contents of the csv into your repl and give it the same name of `pokemon_data.csv`"
   ]
  },
  {
   "cell_type": "markdown",
   "metadata": {},
   "source": [
    "When you are importing these packages into your Colab workspace, import them in the top module and re run the module. Colab reads the import functions from this module."
   ]
  },
  {
   "cell_type": "code",
   "execution_count": null,
   "metadata": {},
   "outputs": [],
   "source": [
    "import matplotlib.pyplot as plt\n",
    "import seaborn as sns\n",
    "import pandas as pd\n",
    "import numpy as np"
   ]
  },
  {
   "attachments": {},
   "cell_type": "markdown",
   "metadata": {},
   "source": [
    "Histograms divide the data into bins, but to find the amount of bins could prove tricky while using a large dataset\n"
   ]
  },
  {
   "cell_type": "code",
   "execution_count": null,
   "metadata": {},
   "outputs": [],
   "source": [
    "#To find the amount of bins you can use the value_counts() function\n",
    "\n",
    "df_student_vc = df_students['parental level of education'].value_counts()\n",
    "print(df_student_vc)"
   ]
  },
  {
   "attachments": {},
   "cell_type": "markdown",
   "metadata": {},
   "source": [
    "This code creates a histogram using the Matplotlib library in Python. The `plt.hist()` function is used to create the plot with the following arguments:\n",
    "\n",
    "- x: The data to be plotted. In this case, it is the \"parental level of education\" column of the DataFrame `df_students`.\n",
    "- bins: The number of bins to use in the histogram.\n",
    "\n",
    "In this case, the x argument is set to \"parental level of education\", which is a categorical variable that represents the education level of a student’s parents. The bins argument is set to 6, which means that the histogram will have 6 bins.\n",
    "\n",
    "The `plt.xlabel()`, `plt.ylabel()`, and `plt.title()` functions are then used to add labels and a title to the plot."
   ]
  },
  {
   "cell_type": "markdown",
   "metadata": {},
   "source": [
    "### Histogram"
   ]
  },
  {
   "cell_type": "code",
   "execution_count": null,
   "metadata": {},
   "outputs": [],
   "source": [
    "# Create a histogram\n",
    "plt.hist(df_students['parental level of education'], bins=6)\n",
    "plt.xlabel('Education Level')\n",
    "plt.ylabel('Count')\n",
    "plt.title('Education Distribution of Parents Education')\n",
    "\n",
    "plt.show()"
   ]
  },
  {
   "cell_type": "markdown",
   "metadata": {},
   "source": [
    "## Section 8"
   ]
  },
  {
   "attachments": {},
   "cell_type": "markdown",
   "metadata": {},
   "source": [
    "This code creates a bar plot using the Seaborn library in Python. The `sns.barplot()` function takes three arguments:\n",
    "\n",
    "- x: The column name of the categorical variable to be plotted on the x-axis.\n",
    "- y: The column name of the continuous variable to be plotted on the y-axis.\n",
    "- data: The name of the DataFrame that contains the data to be plotted.\n",
    "\n",
    "In this case, the x argument is set to \"lunch\", which is a categorical variable that represents whether a student receives free/reduced lunch or not. The y argument is set to \"math score\", which is a continuous variable that represents a student’s math score. Finally, the data argument is set to `df_students`, which is the name of the DataFrame that contains the data.\n",
    "\n",
    "The resulting plot will show the average math score for students who receive free/reduced lunch and those who do not."
   ]
  },
  {
   "cell_type": "markdown",
   "metadata": {},
   "source": [
    "### Bar plots"
   ]
  },
  {
   "cell_type": "code",
   "execution_count": null,
   "metadata": {},
   "outputs": [],
   "source": [
    "# Create a bar plot\n",
    "g = sns.barplot(x=\"lunch\", y=\"math score\", data=df_students)"
   ]
  },
  {
   "cell_type": "markdown",
   "metadata": {},
   "source": [
    "## Section 9"
   ]
  },
  {
   "attachments": {},
   "cell_type": "markdown",
   "metadata": {},
   "source": [
    "This code creates a pie chart using the Matplotlib library in Python. The `value_counts()` function is used to count the number of occurrences of each unique value in the \"race/ethnicity\" column of the DataFrame `df_students`. The resulting counts are stored in the `category_counts` variable.\n",
    "\n",
    "The `plt.pie()` function takes three arguments:\n",
    "\n",
    "- x: The values to be plotted. In this case, it is the values of `category_counts`.\n",
    "- labels: The labels for each value. In this case, it is the index of `category_counts`.\n",
    "- autopct: A string or function used to format the percentage values.\n",
    "\n",
    "The resulting pie chart will show the distribution of race/ethnicity in the DataFrame."
   ]
  },
  {
   "cell_type": "markdown",
   "metadata": {},
   "source": [
    "### Pie Chart"
   ]
  },
  {
   "cell_type": "code",
   "execution_count": null,
   "metadata": {},
   "outputs": [],
   "source": [
    "# Create a pie chart\n",
    "category_counts = df_students['race/ethnicity'].value_counts()\n",
    "plt.pie(category_counts.values, labels=category_counts.index, autopct='%1.1f%%')\n",
    "plt.title('Distribution of Race/Ethnicity')\n",
    "plt.show()\n"
   ]
  },
  {
   "cell_type": "markdown",
   "metadata": {},
   "source": [
    "## Section 10"
   ]
  },
  {
   "attachments": {},
   "cell_type": "markdown",
   "metadata": {},
   "source": [
    "### Scatter Plots:"
   ]
  },
  {
   "attachments": {},
   "cell_type": "markdown",
   "metadata": {},
   "source": [
    "The `sns.scatterplot()` function takes three arguments:\n",
    "\n",
    "- data: The name of the DataFrame that contains the data to be plotted.\n",
    "- x: The column name of the variable to be plotted on the x-axis.\n",
    "- y: The column name of the variable to be plotted on the y-axis.\n",
    "\n",
    "In this case, the data argument is set to `df_pokemon`, which is the name of the DataFrame that contains the data. The x argument is set to `\"HP\"`, which is a variable that represents a Pokemon’s hit points. The y argument is set to `\"Sp. Atk\"`, which is another variable that represents a Pokemon’s special attack points."
   ]
  },
  {
   "cell_type": "code",
   "execution_count": null,
   "metadata": {},
   "outputs": [],
   "source": [
    "# Read csv data\n",
    "df_pokemon = pd.read_csv('pokemon_data.csv')\n",
    "\n",
    "sns.scatterplot(data = df_pokemon, x = \"HP\", y = \"Sp. Atk\")"
   ]
  },
  {
   "attachments": {},
   "cell_type": "markdown",
   "metadata": {},
   "source": [
    "<span style =\"background-color:yellow\">\n",
    "TODO - Using any of the above mentioned graphs spend the next 5 minutes collecting, aggregating, and sorting your data. Then gather the nessessary inputs and creat a graph most useful for a reader trying to interpret your data. Afterwards have a 5 minutes discussion going over every step of the process with another student\n",
    "<span\\>"
   ]
  }
 ],
 "metadata": {
  "kernelspec": {
   "display_name": "base",
   "language": "python",
   "name": "python3"
  },
  "language_info": {
   "codemirror_mode": {
    "name": "ipython",
    "version": 3
   },
   "file_extension": ".py",
   "mimetype": "text/x-python",
   "name": "python",
   "nbconvert_exporter": "python",
   "pygments_lexer": "ipython3",
   "version": "3.11.3"
  },
  "orig_nbformat": 4
 },
 "nbformat": 4,
 "nbformat_minor": 2
}
