{
 "cells": [
  {
   "attachments": {},
   "cell_type": "markdown",
   "metadata": {},
   "source": [
    "# Dataframes and Data Visualization Part 2"
   ]
  },
  {
   "attachments": {},
   "cell_type": "markdown",
   "metadata": {},
   "source": [
    "## Basic summary statistics\n",
    "\n",
    "Basic summary statistics provide an overview of the central tendency, dispersion, and shape of a variable.\n",
    "Python's pandas library offers a convenient method called describe() to generate summary statistics for a DataFrame.\n",
    "\n",
    "In this example, we import the pandas library and load the data from a CSV file into a DataFrame named data. The describe()\n",
    "method is then called on the DataFrame to calculate summary statistics such as count, mean, standard deviation, minimum, quartiles,\n",
    "and maximum for each numerical column in the data. The result is stored in the summary variable and printed."
   ]
  },
  {
   "cell_type": "code",
   "execution_count": null,
   "metadata": {},
   "outputs": [],
   "source": [
    "import pandas as pd\n",
    "\n",
    "# Load the data into a DataFrame\n",
    "df_students = pd.read_csv('students_performance.csv')\n",
    "\n",
    "# Generate summary statistics\n",
    "summary = df_students.describe()\n",
    "print(summary)"
   ]
  },
  {
   "attachments": {},
   "cell_type": "markdown",
   "metadata": {},
   "source": [
    "<span style =\"background-color:yellow\">\n",
    "TODO: Print out the statistical summary for your data set and interpret what the values represent to your classmates. Based of this data what are some expectations you have for the shape of your data?\n",
    "</span>"
   ]
  },
  {
   "attachments": {},
   "cell_type": "markdown",
   "metadata": {},
   "source": [
    "## Counting Missing Values and Identifying Outliers\n",
    "\n",
    "Missing values and outliers are important considerations in data analysis. Python's pandas library provides functions to count missing values and identify outliers.\n",
    "\n",
    "To count missing values:"
   ]
  },
  {
   "cell_type": "code",
   "execution_count": null,
   "metadata": {},
   "outputs": [],
   "source": [
    "# Count missing values in each column\n",
    "missing_values = df_students.isnull().sum()\n",
    "print(missing_values)"
   ]
  },
  {
   "attachments": {},
   "cell_type": "markdown",
   "metadata": {},
   "source": [
    "The isnull() function checks each element in the DataFrame and returns True if it is missing (NaN) and False otherwise. By calling sum() on the result, we obtain the count of missing values for each column."
   ]
  },
  {
   "attachments": {},
   "cell_type": "markdown",
   "metadata": {},
   "source": [
    "Sometimes, data may have outliers. An outlier is a data point that differs significantly from other data points. It's existence may skew our data and impact other descriptive statistic values to the point where any conclusion we make from them are not accurate. We can identify outliers using the z-score method. A z-score is a statistical measurement that describes how far a data point is from the mean of the data. We can use a z-score as a cutoff point for reasonable data. In this example, we will use 3 as the cutoff.\n",
    "\n",
    "To identify outliers using a z-score method:"
   ]
  },
  {
   "cell_type": "code",
   "execution_count": null,
   "metadata": {},
   "outputs": [],
   "source": [
    "from scipy import stats\n",
    "\n",
    "# Calculate z-scores for each value in a column\n",
    "z_scores = stats.zscore(df_students['math score'])\n",
    "\n",
    "# Identify outliers using a z-score threshold\n",
    "threshold = 3\n",
    "outliers = df_students[abs(z_scores) > threshold]\n",
    "print(outliers)"
   ]
  },
  {
   "attachments": {},
   "cell_type": "markdown",
   "metadata": {},
   "source": [
    "In this example, we use the zscore() function from the scipy.stats module to calculate the z-scores for each value in a specific column, where column_name represents the column of interest. We then define a threshold (e.g., 3) to identify outliers. Values with z-scores exceeding the threshold are considered outliers, and we use the abs() function to take the absolute values of the z-scores. Finally, we create a DataFrame named outliers containing the rows with identified outliers and print it."
   ]
  },
  {
   "attachments": {},
   "cell_type": "markdown",
   "metadata": {},
   "source": [
    "## Examining the Distribution of Variables\n",
    "\n",
    "Understanding the distribution of variables helps in assessing their shape, skewness, and potential data transformations. Python offers several visualization libraries to examine variable distributions. Let's use matplotlib to create a histogram and seaborn to generate a box plot."
   ]
  },
  {
   "cell_type": "code",
   "execution_count": null,
   "metadata": {},
   "outputs": [],
   "source": [
    "import matplotlib.pyplot as plt\n",
    "import seaborn as sns\n",
    "\n",
    "# Plot a histogram of a variable\n",
    "plt.hist(df_students['math score'], bins=20)\n",
    "\n",
    "# We use the .xlabel() function to give the x-axis a label\n",
    "plt.xlabel('Variable')\n",
    "\n",
    "# We use the .ylabel() function to give the y-axis a label\n",
    "plt.ylabel('Frequency')\n",
    "\n",
    "# We use the .title() function to give the histogram a title\n",
    "plt.title('Histogram of Variable')\n",
    "\n",
    "#displays the plot\n",
    "plt.show()"
   ]
  },
  {
   "cell_type": "code",
   "execution_count": null,
   "metadata": {},
   "outputs": [],
   "source": [
    "# Generate a box plot of a variable\n",
    "sns.boxplot(x=df_students['math score'])\n",
    "plt.xlabel('Variable')\n",
    "plt.title('Box Plot of Variable')\n",
    "plt.show()"
   ]
  },
  {
   "attachments": {},
   "cell_type": "markdown",
   "metadata": {},
   "source": [
    "In this example, we utilize sns.boxplot() from the seaborn library to create a box plot of the variable variable in the DataFrame data. The x parameter is set to the column of interest. Similarly, xlabel() and title() are used to label the x-axis and provide a title to the plot. Finally, plt.show() displays the box plot."
   ]
  },
  {
   "attachments": {},
   "cell_type": "markdown",
   "metadata": {},
   "source": [
    "<span style =\"background-color:yellow\">\n",
    "TODO: Examine your data and find out if their are any outliers or null values. Next create a boxplot and a histogram for your datasets. Once completed converse with another student talking about how any outliers or null values may have impacted your graphs. Next talk about any observations you had of your graphs and anything that popped out at you.\n",
    "<span\\>"
   ]
  },
  {
   "attachments": {},
   "cell_type": "markdown",
   "metadata": {},
   "source": [
    "## Loading data into Pandas"
   ]
  },
  {
   "attachments": {},
   "cell_type": "markdown",
   "metadata": {},
   "source": [
    "If you are using repl, copy the contents of the csv into your repl and give it the same name of `pokemon_data.csv`"
   ]
  },
  {
   "cell_type": "code",
   "execution_count": null,
   "metadata": {},
   "outputs": [],
   "source": [
    "import matplotlib.pyplot as plt\n",
    "import seaborn as sns\n",
    "import pandas as pd\n",
    "import numpy as np"
   ]
  },
  {
   "attachments": {},
   "cell_type": "markdown",
   "metadata": {},
   "source": [
    "### Histograms, Bar Plots, and Pie Charts for Categorical Variables"
   ]
  },
  {
   "attachments": {},
   "cell_type": "markdown",
   "metadata": {},
   "source": [
    "Histograms divide the data into bins, but to find the amount of bins could prove tricky while using a large dataset\n"
   ]
  },
  {
   "cell_type": "code",
   "execution_count": null,
   "metadata": {},
   "outputs": [],
   "source": [
    "#To find the amount of bins you can use the value_counts() function\n",
    "\n",
    "df_student_vc = df_students['parental level of education'].value_counts()\n",
    "print(df_student_vc)"
   ]
  },
  {
   "attachments": {},
   "cell_type": "markdown",
   "metadata": {},
   "source": [
    "This code creates a histogram using the Matplotlib library in Python. The plt.hist() function is used to create the plot with the following arguments:\n",
    "\n",
    "- x: The data to be plotted. In this case, it is the \"parental level of education\" column of the DataFrame df_students.\n",
    "- bins: The number of bins to use in the histogram.\n",
    "\n",
    "In this case, the x argument is set to \"parental level of education\", which is a categorical variable that represents the education level of a student’s parents. The bins argument is set to 6, which means that the histogram will have 6 bins.\n",
    "\n",
    "The plt.xlabel(), plt.ylabel(), and plt.title() functions are then used to add labels and a title to the plot."
   ]
  },
  {
   "cell_type": "code",
   "execution_count": null,
   "metadata": {},
   "outputs": [],
   "source": [
    "# Create a histogram\n",
    "plt.hist(df_students['parental level of education'], bins=6)\n",
    "plt.xlabel('Education Level')\n",
    "plt.ylabel('Count')\n",
    "plt.title('Education Distribution of Parents Education')\n",
    "\n",
    "plt.show()"
   ]
  },
  {
   "attachments": {},
   "cell_type": "markdown",
   "metadata": {},
   "source": [
    "This code creates a bar plot using the Seaborn library in Python. The sns.barplot() function takes three arguments:\n",
    "\n",
    "x: The column name of the categorical variable to be plotted on the x-axis.\n",
    "y: The column name of the continuous variable to be plotted on the y-axis.\n",
    "data: The name of the DataFrame that contains the data to be plotted.\n",
    "In this case, the x argument is set to \"lunch\", which is a categorical variable that represents whether a student receives free/reduced lunch or not. The y argument is set to \"math score\", which is a continuous variable that represents a student’s math score. Finally, the data argument is set to df_students, which is the name of the DataFrame that contains the data.\n",
    "\n",
    "The resulting plot will show the average math score for students who receive free/reduced lunch and those who do not."
   ]
  },
  {
   "cell_type": "code",
   "execution_count": null,
   "metadata": {},
   "outputs": [],
   "source": [
    "# Create a bar plot\n",
    "g = sns.barplot(x=\"lunch\", y=\"math score\", data=df_students)"
   ]
  },
  {
   "attachments": {},
   "cell_type": "markdown",
   "metadata": {},
   "source": [
    "This code creates a pie chart using the Matplotlib library in Python. The value_counts() function is used to count the number of occurrences of each unique value in the \"race/ethnicity\" column of the DataFrame df_students. The resulting counts are stored in the category_counts variable.\n",
    "\n",
    "The plt.pie() function takes three arguments:\n",
    "\n",
    "- x: The values to be plotted. In this case, it is the values of category_counts.\n",
    "- labels: The labels for each value. In this case, it is the index of category_counts.\n",
    "- autopct: A string or function used to format the percentage values.\n",
    "\n",
    "The resulting pie chart will show the distribution of race/ethnicity in the DataFrame."
   ]
  },
  {
   "cell_type": "code",
   "execution_count": null,
   "metadata": {},
   "outputs": [],
   "source": [
    "# Create a pie chart\n",
    "category_counts = df_students['race/ethnicity'].value_counts()\n",
    "plt.pie(category_counts.values, labels=category_counts.index, autopct='%1.1f%%')\n",
    "plt.title('Distribution of Race/Ethnicity')\n",
    "plt.show()"
   ]
  },
  {
   "attachments": {},
   "cell_type": "markdown",
   "metadata": {},
   "source": [
    "### Scatter Plots:"
   ]
  },
  {
   "attachments": {},
   "cell_type": "markdown",
   "metadata": {},
   "source": [
    "The sns.scatterplot() function takes three arguments:\n",
    "\n",
    "- data: The name of the DataFrame that contains the data to be plotted.\n",
    "- x: The column name of the variable to be plotted on the x-axis.\n",
    "- y: The column name of the variable to be plotted on the y-axis.\n",
    "\n",
    "In this case, the data argument is set to df_pokemon, which is the name of the DataFrame that contains the data. The x argument is set to \"HP\", which is a variable that represents a Pokemon’s hit points. The y argument is set to \"Sp. Atk\", which is another variable that represents a Pokemon’s special attack points."
   ]
  },
  {
   "cell_type": "code",
   "execution_count": null,
   "metadata": {},
   "outputs": [],
   "source": [
    "# Read csv data\n",
    "df_pokemon = pd.read_csv('pokemon_data.csv')\n",
    "\n",
    "sns.scatterplot(data = df_pokemon, x = \"HP\", y = \"Sp. Atk\")"
   ]
  },
  {
   "attachments": {},
   "cell_type": "markdown",
   "metadata": {},
   "source": [
    "<span style =\"background-color:yellow\">\n",
    "TODO - Using any of the above mentioned graphs spend the next 5 minutes collecting, aggregating, and sorting your data. Then gather the nessessary inputs and creat a graph most useful for a reader trying to interpret your data. Afterwards have a 5 minutes discussion going over every step of the process with another student\n",
    "<span\\>"
   ]
  }
 ],
 "metadata": {
  "kernelspec": {
   "display_name": "base",
   "language": "python",
   "name": "python3"
  },
  "language_info": {
   "codemirror_mode": {
    "name": "ipython",
    "version": 3
   },
   "file_extension": ".py",
   "mimetype": "text/x-python",
   "name": "python",
   "nbconvert_exporter": "python",
   "pygments_lexer": "ipython3",
   "version": "3.10.10"
  },
  "orig_nbformat": 4
 },
 "nbformat": 4,
 "nbformat_minor": 2
}
