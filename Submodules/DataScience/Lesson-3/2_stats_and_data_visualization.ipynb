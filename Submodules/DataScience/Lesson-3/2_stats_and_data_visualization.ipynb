{
 "cells": [
  {
   "attachments": {},
   "cell_type": "markdown",
   "metadata": {},
   "source": [
    "# Data visualization"
   ]
  },
  {
   "attachments": {},
   "cell_type": "markdown",
   "metadata": {},
   "source": [
    "## Loading data into Pandas"
   ]
  },
  {
   "attachments": {},
   "cell_type": "markdown",
   "metadata": {},
   "source": [
    "If you are using repl, copy the contents of the csv into your repl and give it the same name of `pokemon_data.csv`"
   ]
  },
  {
   "cell_type": "code",
   "execution_count": null,
   "metadata": {},
   "outputs": [],
   "source": [
    "import matplotlib.pyplot as plt\n",
    "import seaborn as sns\n",
    "import pandas as pd\n",
    "import numpy as np\n",
    "\n",
    "# Read csv data\n",
    "df_students = pd.read_csv('StudentsPerformance.csv')\n",
    "df_pokemon = pd.read_csv('pokemon_data.csv')"
   ]
  },
  {
   "attachments": {},
   "cell_type": "markdown",
   "metadata": {},
   "source": [
    "### Histograms, Bar Plots, and Pie Charts for Categorical Variables"
   ]
  },
  {
   "cell_type": "code",
   "execution_count": null,
   "metadata": {},
   "outputs": [],
   "source": [
    "#To find the amount of bins you can use the value_counts() function\n",
    "\n",
    "df_student_vc = df_students['parental level of education'].value_counts()\n",
    "print(df_student_vc)"
   ]
  },
  {
   "attachments": {},
   "cell_type": "markdown",
   "metadata": {},
   "source": [
    "This code creates a histogram using the Matplotlib library in Python. The plt.hist() function is used to create the plot with the following arguments:\n",
    "\n",
    "- x: The data to be plotted. In this case, it is the \"parental level of education\" column of the DataFrame df_students.\n",
    "- bins: The number of bins to use in the histogram.\n",
    "\n",
    "In this case, the x argument is set to \"parental level of education\", which is a categorical variable that represents the education level of a student’s parents. The bins argument is set to 6, which means that the histogram will have 6 bins.\n",
    "\n",
    "The plt.xlabel(), plt.ylabel(), and plt.title() functions are then used to add labels and a title to the plot."
   ]
  },
  {
   "cell_type": "code",
   "execution_count": null,
   "metadata": {},
   "outputs": [],
   "source": [
    "# Create a histogram\n",
    "plt.hist(df_students['parental level of education'], bins=6)\n",
    "plt.xlabel('Education Level')\n",
    "plt.ylabel('Count')\n",
    "plt.title('Education Distribution of Parents Education')\n",
    "\n",
    "plt.show()"
   ]
  },
  {
   "attachments": {},
   "cell_type": "markdown",
   "metadata": {},
   "source": [
    "This code creates a bar plot using the Seaborn library in Python. The sns.barplot() function takes three arguments:\n",
    "\n",
    "x: The column name of the categorical variable to be plotted on the x-axis.\n",
    "y: The column name of the continuous variable to be plotted on the y-axis.\n",
    "data: The name of the DataFrame that contains the data to be plotted.\n",
    "In this case, the x argument is set to \"lunch\", which is a categorical variable that represents whether a student receives free/reduced lunch or not. The y argument is set to \"math score\", which is a continuous variable that represents a student’s math score. Finally, the data argument is set to df_students, which is the name of the DataFrame that contains the data.\n",
    "\n",
    "The resulting plot will show the average math score for students who receive free/reduced lunch and those who do not."
   ]
  },
  {
   "cell_type": "code",
   "execution_count": null,
   "metadata": {},
   "outputs": [],
   "source": [
    "# Create a bar plot\n",
    "g = sns.barplot(x=\"lunch\", y=\"math score\", data=df_students)"
   ]
  },
  {
   "attachments": {},
   "cell_type": "markdown",
   "metadata": {},
   "source": [
    "This code creates a pie chart using the Matplotlib library in Python. The value_counts() function is used to count the number of occurrences of each unique value in the \"race/ethnicity\" column of the DataFrame df_students. The resulting counts are stored in the category_counts variable.\n",
    "\n",
    "The plt.pie() function takes three arguments:\n",
    "\n",
    "- x: The values to be plotted. In this case, it is the values of category_counts.\n",
    "- labels: The labels for each value. In this case, it is the index of category_counts.\n",
    "- autopct: A string or function used to format the percentage values.\n",
    "\n",
    "The resulting pie chart will show the distribution of race/ethnicity in the DataFrame."
   ]
  },
  {
   "cell_type": "code",
   "execution_count": null,
   "metadata": {},
   "outputs": [],
   "source": [
    "# Create a pie chart\n",
    "category_counts = df_students['race/ethnicity'].value_counts()\n",
    "plt.pie(category_counts.values, labels=category_counts.index, autopct='%1.1f%%')\n",
    "plt.title('Distribution of Race/Ethnicity')\n",
    "plt.show()"
   ]
  },
  {
   "attachments": {},
   "cell_type": "markdown",
   "metadata": {},
   "source": [
    "### Scatter Plots:"
   ]
  },
  {
   "attachments": {},
   "cell_type": "markdown",
   "metadata": {},
   "source": [
    "The sns.scatterplot() function takes three arguments:\n",
    "\n",
    "- data: The name of the DataFrame that contains the data to be plotted.\n",
    "- x: The column name of the variable to be plotted on the x-axis.\n",
    "- y: The column name of the variable to be plotted on the y-axis.\n",
    "\n",
    "In this case, the data argument is set to df_pokemon, which is the name of the DataFrame that contains the data. The x argument is set to \"HP\", which is a variable that represents a Pokemon’s hit points. The y argument is set to \"Sp. Atk\", which is another variable that represents a Pokemon’s special attack points."
   ]
  },
  {
   "cell_type": "code",
   "execution_count": null,
   "metadata": {},
   "outputs": [],
   "source": [
    "sns.scatterplot(data = df_pokemon, x = \"HP\", y = \"Sp. Atk\")"
   ]
  },
  {
   "attachments": {},
   "cell_type": "markdown",
   "metadata": {},
   "source": [
    "<span style =\"background-color:yellow\">\n",
    "TODO - Using any of the above mentioned graphs spend the next 5 minutes collecting, aggregating, and sorting your data. Then gather the nessessary inputs and creat a graph most useful for a reader trying to interpret your data. Afterwards have a 5 minutes discussion going over every step of the process with another student\n",
    "<span\\>"
   ]
  }
 ],
 "metadata": {
  "kernelspec": {
   "display_name": "base",
   "language": "python",
   "name": "python3"
  },
  "language_info": {
   "codemirror_mode": {
    "name": "ipython",
    "version": 3
   },
   "file_extension": ".py",
   "mimetype": "text/x-python",
   "name": "python",
   "nbconvert_exporter": "python",
   "pygments_lexer": "ipython3",
   "version": "3.10.10"
  },
  "orig_nbformat": 4
 },
 "nbformat": 4,
 "nbformat_minor": 2
}
