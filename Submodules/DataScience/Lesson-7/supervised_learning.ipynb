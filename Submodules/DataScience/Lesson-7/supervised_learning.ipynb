{
 "cells": [
  {
   "cell_type": "markdown",
   "metadata": {},
   "source": [
    "# Supervised Learning"
   ]
  },
  {
   "cell_type": "markdown",
   "metadata": {},
   "source": [
    "Supervised learning is a type of machine learning which differenciates itself from other subsets of artificial intelligence by using a labled dataset with inputs and their  corresponding outputs which are used to train and test the data to predict new/ unseen data.  "
   ]
  },
  {
   "cell_type": "markdown",
   "metadata": {},
   "source": [
    " Labeled data is data which has a corresponding and known output or target variable. "
   ]
  },
  {
   "cell_type": "markdown",
   "metadata": {},
   "source": [
    "## Understanding the process"
   ]
  },
  {
   "cell_type": "markdown",
   "metadata": {},
   "source": [
    "1. Data: First we need to find a data set which is suitable for using supervised learning. This data needs the correct features (input data and target varible/ output data)  \n",
    "2. Model Selection: Before we start to make a machine learning model we will need to pick a problem based on out needs, these include: dataset size, type of problem and the complexity of the model.\n",
    "3. Using the loss function: While training your model you can use a loss function to understand the differencce between the predicted outcome and the actual outcome.\n",
    "4. Training Process: The training process includes a series of tests by the model and each time this test is run used to refine is called a epoch\n",
    "5. Model Evaluation: After defining our losses and training our model through a series of epochs we can evalute our model while using tools such as the confusion matrix.\n",
    "6. Hyperperameter tuning: These are different settings in a model which will dictate the rate and learning process of the model. \n",
    "7. Convergence: The training process which continues unitl the model's performance is satisfactory and there is minimal loss or the need number of epochs is reached. "
   ]
  },
  {
   "cell_type": "markdown",
   "metadata": {},
   "source": [
    "## Making a Supervised Model"
   ]
  },
  {
   "cell_type": "markdown",
   "metadata": {},
   "source": [
    "First we will want to import the neccessary packages. "
   ]
  },
  {
   "cell_type": "code",
   "execution_count": 3,
   "metadata": {},
   "outputs": [],
   "source": [
    "import numpy as np\n",
    "import matplotlib.pyplot as plt\n",
    "from sklearn.datasets import load_iris\n",
    "from sklearn.model_selection import train_test_split\n",
    "from sklearn.tree import DecisionTreeClassifier\n",
    "from sklearn.metrics import accuracy_score"
   ]
  },
  {
   "cell_type": "markdown",
   "metadata": {},
   "source": [
    "Next we will need to load our data set into the file."
   ]
  },
  {
   "cell_type": "code",
   "execution_count": 4,
   "metadata": {},
   "outputs": [],
   "source": [
    "# Load the Iris dataset\n",
    "iris = load_iris()\n",
    "X, y = iris.data, iris.target"
   ]
  },
  {
   "cell_type": "markdown",
   "metadata": {},
   "source": [
    "After loading in our dataset we will need to sperate the training data and testing data so the model has ample data to work with."
   ]
  },
  {
   "cell_type": "code",
   "execution_count": 5,
   "metadata": {},
   "outputs": [],
   "source": [
    "# Split the data into training and testing sets\n",
    "X_train, X_test, y_train, y_test = train_test_split(X, y, test_size=0.2, random_state=42)"
   ]
  },
  {
   "cell_type": "markdown",
   "metadata": {},
   "source": [
    "Next, we need to choose a model that would best fit our data set and the first model will be Decision Tree Classifier Model. \n",
    "\n",
    "Like we had reviewed earlier there are many reasons to use this model and some of the advantages of using this model are its interpretability, it has the ability to easily find features and realtionships in non-linear data. One major pitfall of the decison tree is that it can be prone to over fiting"
   ]
  },
  {
   "cell_type": "markdown",
   "metadata": {},
   "source": [
    "Over Fitting: this is when a model gets so good at recognizing the training data which forces it to generalize any new data it is introduced to. "
   ]
  },
  {
   "cell_type": "code",
   "execution_count": 6,
   "metadata": {},
   "outputs": [],
   "source": [
    "# Create a Decision Tree Classifier model\n",
    "dt_classifier = DecisionTreeClassifier()"
   ]
  },
  {
   "cell_type": "markdown",
   "metadata": {},
   "source": [
    "After choosing a model we need to start the training process this will start by creating a place to store our training progress and then running our training process"
   ]
  },
  {
   "cell_type": "code",
   "execution_count": 7,
   "metadata": {},
   "outputs": [],
   "source": [
    "# Lists to store training progress\n",
    "train_loss = []\n",
    "test_loss = []\n",
    "train_accuracy = []\n",
    "test_accuracy = []\n",
    "\n",
    "# Training process\n",
    "epochs = 50\n",
    "for epoch in range(epochs):\n",
    "    # Train the model on the training data\n",
    "    dt_classifier.fit(X_train, y_train)\n",
    "    \n",
    "    # Make predictions on training and testing data\n",
    "    y_train_pred = dt_classifier.predict(X_train)\n",
    "    y_test_pred = dt_classifier.predict(X_test)\n",
    "    \n",
    "    # Calculate training and testing accuracy\n",
    "    train_acc = accuracy_score(y_train, y_train_pred)\n",
    "    test_acc = accuracy_score(y_test, y_test_pred)\n",
    "    \n",
    "    # Add accuracy values to the lists\n",
    "    train_accuracy.append(train_acc)\n",
    "    test_accuracy.append(test_acc)\n",
    "    \n",
    "    # Calculate training and testing loss (optional - here we use accuracy as loss for simplicity)\n",
    "    train_loss.append(1 - train_acc)\n",
    "    test_loss.append(1 - test_acc)"
   ]
  },
  {
   "cell_type": "markdown",
   "metadata": {},
   "source": [
    "Lastly we will need to plot the training data which we will test against our testing data."
   ]
  },
  {
   "cell_type": "code",
   "execution_count": 8,
   "metadata": {},
   "outputs": [
    {
     "data": {
      "image/png": "[encoded data removed]",
      "text/plain": [
       "<Figure size 1000x500 with 2 Axes>"
      ]
     },
     "metadata": {},
     "output_type": "display_data"
    }
   ],
   "source": [
    "# Plot the training progress\n",
    "plt.figure(figsize=(10, 5))\n",
    "plt.subplot(1, 2, 1)\n",
    "plt.plot(range(1, epochs + 1), train_accuracy, label='Train')\n",
    "plt.plot(range(1, epochs + 1), test_accuracy, label='Test')\n",
    "plt.xlabel('Epochs')\n",
    "plt.ylabel('Accuracy')\n",
    "plt.title('Training Accuracy')\n",
    "plt.legend()\n",
    "\n",
    "plt.subplot(1, 2, 2)\n",
    "plt.plot(range(1, epochs + 1), train_loss, label='Train')\n",
    "plt.plot(range(1, epochs + 1), test_loss, label='Test')\n",
    "plt.xlabel('Epochs')\n",
    "plt.ylabel('Loss (1 - Accuracy)')\n",
    "plt.title('Training Loss')\n",
    "plt.legend()\n",
    "\n",
    "plt.tight_layout()\n",
    "plt.show()"
   ]
  },
  {
   "cell_type": "markdown",
   "metadata": {},
   "source": [
    "Lastly, we must test our data to see how accurate our model is at predicitng new data. "
   ]
  },
  {
   "cell_type": "code",
   "execution_count": 9,
   "metadata": {},
   "outputs": [
    {
     "name": "stdout",
     "output_type": "stream",
     "text": [
      "Training Accuracy: 1.00\n",
      "Testing Accuracy: 1.00\n"
     ]
    }
   ],
   "source": [
    "# Make predictions on the training and testing data\n",
    "y_train_pred = dt_classifier.predict(X_train)\n",
    "y_test_pred = dt_classifier.predict(X_test)\n",
    "\n",
    "# Calculate training and testing accuracy\n",
    "train_accuracy = accuracy_score(y_train, y_train_pred)\n",
    "test_accuracy = accuracy_score(y_test, y_test_pred)\n",
    "\n",
    "print(f\"Training Accuracy: {train_accuracy:.2f}\")\n",
    "print(f\"Testing Accuracy: {test_accuracy:.2f}\")"
   ]
  },
  {
   "cell_type": "markdown",
   "metadata": {},
   "source": [
    "From this result we can tell that our testing data is performing just as well as our training data meaning our model is successful at prediciting new data with the data we currently have. This test has proven that our model works but there is one major flaw, the model will have a much lower rate of success if there is an entirely new species of plant it needs to classify as it will come across the issue of overfitting as we had mentioned earlier."
   ]
  }
 ],
 "metadata": {
  "kernelspec": {
   "display_name": "base",
   "language": "python",
   "name": "python3"
  },
  "language_info": {
   "codemirror_mode": {
    "name": "ipython",
    "version": 3
   },
   "file_extension": ".py",
   "mimetype": "text/x-python",
   "name": "python",
   "nbconvert_exporter": "python",
   "pygments_lexer": "ipython3",
   "version": "3.10.9"
  },
  "orig_nbformat": 4
 },
 "nbformat": 4,
 "nbformat_minor": 2
}
