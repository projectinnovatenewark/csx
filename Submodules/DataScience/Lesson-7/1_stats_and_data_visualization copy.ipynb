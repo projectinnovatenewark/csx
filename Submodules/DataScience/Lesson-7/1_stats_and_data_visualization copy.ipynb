{
 "cells": [
  {
   "attachments": {},
   "cell_type": "markdown",
   "metadata": {},
   "source": [
    "You can install the following packages by changing directories to this folder then running `pip3 install -r requirements.txt`\n",
    "\n",
    "If you have any issues with installation or imports, make sure you are using the correct python kernel. Worst case, install Anaconda w/ Python."
   ]
  },
  {
   "cell_type": "code",
   "execution_count": 7,
   "metadata": {},
   "outputs": [],
   "source": [
    "%matplotlib inline\n",
    "import matplotlib.pyplot as plt\n",
    "import seaborn as sns\n",
    "import pandas as pd\n",
    "import numpy as np"
   ]
  },
  {
   "attachments": {},
   "cell_type": "markdown",
   "metadata": {},
   "source": [
    "# <b> Pandas and Dataframes </b>\n",
    "\n"
   ]
  },
  {
   "attachments": {},
   "cell_type": "markdown",
   "metadata": {},
   "source": [
    "query data from a csv"
   ]
  },
  {
   "cell_type": "code",
   "execution_count": 8,
   "metadata": {},
   "outputs": [
    {
     "name": "stdout",
     "output_type": "stream",
     "text": [
      "     gender race/ethnicity parental level of education         lunch  \\\n",
      "0    female        group B           bachelor's degree      standard   \n",
      "1    female        group C                some college      standard   \n",
      "2    female        group B             master's degree      standard   \n",
      "3      male        group A          associate's degree  free/reduced   \n",
      "4      male        group C                some college      standard   \n",
      "..      ...            ...                         ...           ...   \n",
      "995  female        group E             master's degree      standard   \n",
      "996    male        group C                 high school  free/reduced   \n",
      "997  female        group C                 high school  free/reduced   \n",
      "998  female        group D                some college      standard   \n",
      "999  female        group D                some college  free/reduced   \n",
      "\n",
      "    test preparation course  math score  reading score  writing score  \n",
      "0                      none          72             72             74  \n",
      "1                 completed          69             90             88  \n",
      "2                      none          90             95             93  \n",
      "3                      none          47             57             44  \n",
      "4                      none          76             78             75  \n",
      "..                      ...         ...            ...            ...  \n",
      "995               completed          88             99             95  \n",
      "996                    none          62             55             55  \n",
      "997               completed          59             71             65  \n",
      "998               completed          68             78             77  \n",
      "999                    none          77             86             86  \n",
      "\n",
      "[1000 rows x 8 columns]\n"
     ]
    }
   ],
   "source": [
    "# link to get this data on GH\n",
    "# https://raw.githubusercontent.com/kshedden/statswpy/master/NHANES/merged/nhanes_2015_2016.csv\n",
    "\n",
    "df_students = pd.read_csv(\"StudentsPerformance.csv\")\n",
    "df_pokemon = pd.read_csv('pokemon_data.csv')\n",
    "print(df_students)\n"
   ]
  },
  {
   "cell_type": "code",
   "execution_count": 9,
   "metadata": {},
   "outputs": [
    {
     "name": "stdout",
     "output_type": "stream",
     "text": [
      "     SurveyYr     ID  Gender  Age AgeDecade  AgeMonths    Race1    Race3  \\\n",
      "0     2009_10  55829  female   28     20-29      343.0    White      NaN   \n",
      "1     2009_10  57112    male   14     10-19      170.0    White      NaN   \n",
      "2     2009_10  60232    male   80       NaN        NaN    White      NaN   \n",
      "3     2009_10  59919    male   22     20-29      268.0    White      NaN   \n",
      "4     2009_10  56351    male    1       0-9       16.0    White      NaN   \n",
      "...       ...    ...     ...  ...       ...        ...      ...      ...   \n",
      "9995  2011_12  64065    male   46     40-49        NaN    White    White   \n",
      "9996  2011_12  66189    male   47     40-49        NaN  Mexican  Mexican   \n",
      "9997  2011_12  63714    male   48     40-49        NaN    White    White   \n",
      "9998  2011_12  68501    male   52     50-59        NaN    White    White   \n",
      "9999  2011_12  62881  female   57     50-59        NaN    White    White   \n",
      "\n",
      "        Education MaritalStatus  ... AgeFirstMarij  RegularMarij  AgeRegMarij  \\\n",
      "0     CollegeGrad       Married  ...          15.0            No          NaN   \n",
      "1             NaN           NaN  ...           NaN           NaN          NaN   \n",
      "2        8thGrade       Married  ...           NaN           NaN          NaN   \n",
      "3      HighSchool  NeverMarried  ...          10.0           Yes         10.0   \n",
      "4             NaN           NaN  ...           NaN           NaN          NaN   \n",
      "...           ...           ...  ...           ...           ...          ...   \n",
      "9995  SomeCollege       Married  ...           NaN            No          NaN   \n",
      "9996  9_11thGrade       Married  ...          15.0           Yes         20.0   \n",
      "9997  SomeCollege       Married  ...          16.0            No          NaN   \n",
      "9998  SomeCollege       Married  ...          16.0           Yes         16.0   \n",
      "9999  CollegeGrad       Married  ...           NaN           NaN          NaN   \n",
      "\n",
      "      HardDrugs SexEver SexAge  SexNumPartnLife  SexNumPartYear  SameSex  \\\n",
      "0           Yes     Yes   13.0             20.0             1.0       No   \n",
      "1           NaN     NaN    NaN              NaN             NaN      NaN   \n",
      "2           NaN     NaN    NaN              NaN             NaN      NaN   \n",
      "3           Yes     Yes   18.0              3.0             1.0       No   \n",
      "4           NaN     NaN    NaN              NaN             NaN      NaN   \n",
      "...         ...     ...    ...              ...             ...      ...   \n",
      "9995         No     Yes   17.0              7.0             1.0       No   \n",
      "9996         No     Yes   18.0              7.0             1.0       No   \n",
      "9997         No     Yes   17.0              4.0             1.0       No   \n",
      "9998        Yes     Yes   16.0             50.0             1.0       No   \n",
      "9999        NaN     NaN    NaN              NaN             NaN      NaN   \n",
      "\n",
      "      SexOrientation  \n",
      "0       Heterosexual  \n",
      "1                NaN  \n",
      "2                NaN  \n",
      "3       Heterosexual  \n",
      "4                NaN  \n",
      "...              ...  \n",
      "9995    Heterosexual  \n",
      "9996    Heterosexual  \n",
      "9997    Heterosexual  \n",
      "9998    Heterosexual  \n",
      "9999             NaN  \n",
      "\n",
      "[10000 rows x 75 columns]\n"
     ]
    }
   ],
   "source": [
    "df_hanes = pd.read_csv(\"nhanes.csv\")\n",
    "\n",
    "print(df_hanes)"
   ]
  },
  {
   "attachments": {},
   "cell_type": "markdown",
   "metadata": {},
   "source": [
    "# <b> Dataframe Deepdive </b>"
   ]
  },
  {
   "cell_type": "code",
   "execution_count": 10,
   "metadata": {},
   "outputs": [
    {
     "data": {
      "text/html": [
       "<div>\n",
       "<style scoped>\n",
       "    .dataframe tbody tr th:only-of-type {\n",
       "        vertical-align: middle;\n",
       "    }\n",
       "\n",
       "    .dataframe tbody tr th {\n",
       "        vertical-align: top;\n",
       "    }\n",
       "\n",
       "    .dataframe thead th {\n",
       "        text-align: right;\n",
       "    }\n",
       "</style>\n",
       "<table border=\"1\" class=\"dataframe\">\n",
       "  <thead>\n",
       "    <tr style=\"text-align: right;\">\n",
       "      <th></th>\n",
       "      <th>SurveyYr</th>\n",
       "      <th>ID</th>\n",
       "      <th>Gender</th>\n",
       "      <th>Age</th>\n",
       "      <th>AgeDecade</th>\n",
       "      <th>AgeMonths</th>\n",
       "      <th>Race1</th>\n",
       "      <th>Race3</th>\n",
       "      <th>Education</th>\n",
       "      <th>MaritalStatus</th>\n",
       "      <th>...</th>\n",
       "      <th>AgeFirstMarij</th>\n",
       "      <th>RegularMarij</th>\n",
       "      <th>AgeRegMarij</th>\n",
       "      <th>HardDrugs</th>\n",
       "      <th>SexEver</th>\n",
       "      <th>SexAge</th>\n",
       "      <th>SexNumPartnLife</th>\n",
       "      <th>SexNumPartYear</th>\n",
       "      <th>SameSex</th>\n",
       "      <th>SexOrientation</th>\n",
       "    </tr>\n",
       "  </thead>\n",
       "  <tbody>\n",
       "    <tr>\n",
       "      <th>0</th>\n",
       "      <td>2009_10</td>\n",
       "      <td>55829</td>\n",
       "      <td>female</td>\n",
       "      <td>28</td>\n",
       "      <td>20-29</td>\n",
       "      <td>343.0</td>\n",
       "      <td>White</td>\n",
       "      <td>NaN</td>\n",
       "      <td>CollegeGrad</td>\n",
       "      <td>Married</td>\n",
       "      <td>...</td>\n",
       "      <td>15.0</td>\n",
       "      <td>No</td>\n",
       "      <td>NaN</td>\n",
       "      <td>Yes</td>\n",
       "      <td>Yes</td>\n",
       "      <td>13.0</td>\n",
       "      <td>20.0</td>\n",
       "      <td>1.0</td>\n",
       "      <td>No</td>\n",
       "      <td>Heterosexual</td>\n",
       "    </tr>\n",
       "    <tr>\n",
       "      <th>1</th>\n",
       "      <td>2009_10</td>\n",
       "      <td>57112</td>\n",
       "      <td>male</td>\n",
       "      <td>14</td>\n",
       "      <td>10-19</td>\n",
       "      <td>170.0</td>\n",
       "      <td>White</td>\n",
       "      <td>NaN</td>\n",
       "      <td>NaN</td>\n",
       "      <td>NaN</td>\n",
       "      <td>...</td>\n",
       "      <td>NaN</td>\n",
       "      <td>NaN</td>\n",
       "      <td>NaN</td>\n",
       "      <td>NaN</td>\n",
       "      <td>NaN</td>\n",
       "      <td>NaN</td>\n",
       "      <td>NaN</td>\n",
       "      <td>NaN</td>\n",
       "      <td>NaN</td>\n",
       "      <td>NaN</td>\n",
       "    </tr>\n",
       "    <tr>\n",
       "      <th>2</th>\n",
       "      <td>2009_10</td>\n",
       "      <td>60232</td>\n",
       "      <td>male</td>\n",
       "      <td>80</td>\n",
       "      <td>NaN</td>\n",
       "      <td>NaN</td>\n",
       "      <td>White</td>\n",
       "      <td>NaN</td>\n",
       "      <td>8thGrade</td>\n",
       "      <td>Married</td>\n",
       "      <td>...</td>\n",
       "      <td>NaN</td>\n",
       "      <td>NaN</td>\n",
       "      <td>NaN</td>\n",
       "      <td>NaN</td>\n",
       "      <td>NaN</td>\n",
       "      <td>NaN</td>\n",
       "      <td>NaN</td>\n",
       "      <td>NaN</td>\n",
       "      <td>NaN</td>\n",
       "      <td>NaN</td>\n",
       "    </tr>\n",
       "    <tr>\n",
       "      <th>3</th>\n",
       "      <td>2009_10</td>\n",
       "      <td>59919</td>\n",
       "      <td>male</td>\n",
       "      <td>22</td>\n",
       "      <td>20-29</td>\n",
       "      <td>268.0</td>\n",
       "      <td>White</td>\n",
       "      <td>NaN</td>\n",
       "      <td>HighSchool</td>\n",
       "      <td>NeverMarried</td>\n",
       "      <td>...</td>\n",
       "      <td>10.0</td>\n",
       "      <td>Yes</td>\n",
       "      <td>10.0</td>\n",
       "      <td>Yes</td>\n",
       "      <td>Yes</td>\n",
       "      <td>18.0</td>\n",
       "      <td>3.0</td>\n",
       "      <td>1.0</td>\n",
       "      <td>No</td>\n",
       "      <td>Heterosexual</td>\n",
       "    </tr>\n",
       "    <tr>\n",
       "      <th>4</th>\n",
       "      <td>2009_10</td>\n",
       "      <td>56351</td>\n",
       "      <td>male</td>\n",
       "      <td>1</td>\n",
       "      <td>0-9</td>\n",
       "      <td>16.0</td>\n",
       "      <td>White</td>\n",
       "      <td>NaN</td>\n",
       "      <td>NaN</td>\n",
       "      <td>NaN</td>\n",
       "      <td>...</td>\n",
       "      <td>NaN</td>\n",
       "      <td>NaN</td>\n",
       "      <td>NaN</td>\n",
       "      <td>NaN</td>\n",
       "      <td>NaN</td>\n",
       "      <td>NaN</td>\n",
       "      <td>NaN</td>\n",
       "      <td>NaN</td>\n",
       "      <td>NaN</td>\n",
       "      <td>NaN</td>\n",
       "    </tr>\n",
       "  </tbody>\n",
       "</table>\n",
       "<p>5 rows × 75 columns</p>\n",
       "</div>"
      ],
      "text/plain": [
       "  SurveyYr     ID  Gender  Age AgeDecade  AgeMonths  Race1 Race3    Education  \\\n",
       "0  2009_10  55829  female   28     20-29      343.0  White   NaN  CollegeGrad   \n",
       "1  2009_10  57112    male   14     10-19      170.0  White   NaN          NaN   \n",
       "2  2009_10  60232    male   80       NaN        NaN  White   NaN     8thGrade   \n",
       "3  2009_10  59919    male   22     20-29      268.0  White   NaN   HighSchool   \n",
       "4  2009_10  56351    male    1       0-9       16.0  White   NaN          NaN   \n",
       "\n",
       "  MaritalStatus  ... AgeFirstMarij  RegularMarij  AgeRegMarij  HardDrugs  \\\n",
       "0       Married  ...          15.0            No          NaN        Yes   \n",
       "1           NaN  ...           NaN           NaN          NaN        NaN   \n",
       "2       Married  ...           NaN           NaN          NaN        NaN   \n",
       "3  NeverMarried  ...          10.0           Yes         10.0        Yes   \n",
       "4           NaN  ...           NaN           NaN          NaN        NaN   \n",
       "\n",
       "  SexEver SexAge  SexNumPartnLife  SexNumPartYear  SameSex  SexOrientation  \n",
       "0     Yes   13.0             20.0             1.0       No    Heterosexual  \n",
       "1     NaN    NaN              NaN             NaN      NaN             NaN  \n",
       "2     NaN    NaN              NaN             NaN      NaN             NaN  \n",
       "3     Yes   18.0              3.0             1.0       No    Heterosexual  \n",
       "4     NaN    NaN              NaN             NaN      NaN             NaN  \n",
       "\n",
       "[5 rows x 75 columns]"
      ]
     },
     "execution_count": 10,
     "metadata": {},
     "output_type": "execute_result"
    }
   ],
   "source": [
    "num_rows = int(input(\"How many rows do you want to see?\"))\n",
    "\n",
    "df_hanes.head(num_rows)"
   ]
  },
  {
   "cell_type": "code",
   "execution_count": 11,
   "metadata": {},
   "outputs": [
    {
     "data": {
      "text/plain": [
       "gender                               female\n",
       "race/ethnicity                      group B\n",
       "parental level of education    some college\n",
       "lunch                              standard\n",
       "test preparation course           completed\n",
       "math score                               88\n",
       "reading score                            95\n",
       "writing score                            92\n",
       "Name: 6, dtype: object"
      ]
     },
     "execution_count": 11,
     "metadata": {},
     "output_type": "execute_result"
    }
   ],
   "source": [
    "#TIP: Use `.loc(rows)` to display the row you want to see from the dataset.\n",
    "\n",
    "row = int(input(\"Which row do you want to see?\"))\n",
    "\n",
    "df_students.loc[row]"
   ]
  },
  {
   "cell_type": "code",
   "execution_count": 12,
   "metadata": {},
   "outputs": [
    {
     "data": {
      "text/plain": [
       "standard        645\n",
       "free/reduced    355\n",
       "Name: lunch, dtype: int64"
      ]
     },
     "execution_count": 12,
     "metadata": {},
     "output_type": "execute_result"
    }
   ],
   "source": [
    "df_students.lunch.value_counts()"
   ]
  },
  {
   "cell_type": "code",
   "execution_count": 13,
   "metadata": {},
   "outputs": [
    {
     "name": "stdout",
     "output_type": "stream",
     "text": [
      "SomeCollege    2267\n",
      "CollegeGrad    2098\n",
      "HighSchool     1517\n",
      "9_11thGrade     888\n",
      "8thGrade        451\n",
      "Name: Education, dtype: int64\n",
      "Respondents that answered if they have an education: 7221\n"
     ]
    }
   ],
   "source": [
    "# Respondants' education levels\n",
    "print(df_hanes.Education.value_counts())\n",
    "\n",
    "# Total number of respondents that said they had an education\n",
    "print(f\"Respondents that answered if they have an education: {df_hanes.Education.value_counts().sum()}\")\n",
    "# TIP: You can stack various function on your query in a DF.\n",
    "\n"
   ]
  },
  {
   "cell_type": "code",
   "execution_count": 14,
   "metadata": {},
   "outputs": [
    {
     "name": "stdout",
     "output_type": "stream",
     "text": [
      "Respondents that answered: 10000\n"
     ]
    }
   ],
   "source": [
    "# Total number of respondents that answered at all, given that every respondent has an ID\n",
    "print(f\"Respondents that answered: {df_hanes.ID.count()}\")"
   ]
  },
  {
   "cell_type": "code",
   "execution_count": 15,
   "metadata": {},
   "outputs": [
    {
     "data": {
      "text/plain": [
       "gender  math score\n",
       "female  65            28\n",
       "        59            21\n",
       "        62            16\n",
       "        67            16\n",
       "        69            16\n",
       "                      ..\n",
       "male    42             1\n",
       "        43             1\n",
       "        95             1\n",
       "        96             1\n",
       "        99             1\n",
       "Name: math score, Length: 147, dtype: int64"
      ]
     },
     "execution_count": 15,
     "metadata": {},
     "output_type": "execute_result"
    }
   ],
   "source": [
    "df_students.groupby(\"gender\")[\"math score\"].value_counts()\n",
    "#TIP: ...\n",
    "# https://pandas.pydata.org/docs/reference/api/pandas.DataFrame.groupby.html\n",
    "# Pandas groupby is used for grouping the data according to the categories and apply a function to the categories. It also helps to aggregate data efficiently.\n",
    "\n",
    "# Pandas dataframe.groupby() function is used to split the data into groups based on some criteria. pandas objects can be split on any of their axes. \n",
    "# The abstract definition of grouping is to provide a mapping of labels to group names."
   ]
  },
  {
   "cell_type": "code",
   "execution_count": 16,
   "metadata": {},
   "outputs": [
    {
     "name": "stdout",
     "output_type": "stream",
     "text": [
      "     SurveyYr     ID  Gender  Age AgeDecade  AgeMonths    Race1    Race3  \\\n",
      "0     2009_10  55829  female   28     20-29      343.0    White      NaN   \n",
      "1     2009_10  57112    male   14     10-19      170.0    White      NaN   \n",
      "2     2009_10  60232    male   80       NaN        NaN    White      NaN   \n",
      "3     2009_10  59919    male   22     20-29      268.0    White      NaN   \n",
      "4     2009_10  56351    male    1       0-9       16.0    White      NaN   \n",
      "...       ...    ...     ...  ...       ...        ...      ...      ...   \n",
      "9995  2011_12  64065    male   46     40-49        NaN    White    White   \n",
      "9996  2011_12  66189    male   47     40-49        NaN  Mexican  Mexican   \n",
      "9997  2011_12  63714    male   48     40-49        NaN    White    White   \n",
      "9998  2011_12  68501    male   52     50-59        NaN    White    White   \n",
      "9999  2011_12  62881  female   57     50-59        NaN    White    White   \n",
      "\n",
      "        Education MaritalStatus  ... AgeFirstMarij  RegularMarij  AgeRegMarij  \\\n",
      "0     CollegeGrad       Married  ...          15.0            No          NaN   \n",
      "1             NaN           NaN  ...           NaN           NaN          NaN   \n",
      "2        8thGrade       Married  ...           NaN           NaN          NaN   \n",
      "3      HighSchool  NeverMarried  ...          10.0           Yes         10.0   \n",
      "4             NaN           NaN  ...           NaN           NaN          NaN   \n",
      "...           ...           ...  ...           ...           ...          ...   \n",
      "9995  SomeCollege       Married  ...           NaN            No          NaN   \n",
      "9996  9_11thGrade       Married  ...          15.0           Yes         20.0   \n",
      "9997  SomeCollege       Married  ...          16.0            No          NaN   \n",
      "9998  SomeCollege       Married  ...          16.0           Yes         16.0   \n",
      "9999  CollegeGrad       Married  ...           NaN           NaN          NaN   \n",
      "\n",
      "      HardDrugs SexEver SexAge  SexNumPartnLife  SexNumPartYear  SameSex  \\\n",
      "0           Yes     Yes   13.0             20.0             1.0       No   \n",
      "1           NaN     NaN    NaN              NaN             NaN      NaN   \n",
      "2           NaN     NaN    NaN              NaN             NaN      NaN   \n",
      "3           Yes     Yes   18.0              3.0             1.0       No   \n",
      "4           NaN     NaN    NaN              NaN             NaN      NaN   \n",
      "...         ...     ...    ...              ...             ...      ...   \n",
      "9995         No     Yes   17.0              7.0             1.0       No   \n",
      "9996         No     Yes   18.0              7.0             1.0       No   \n",
      "9997         No     Yes   17.0              4.0             1.0       No   \n",
      "9998        Yes     Yes   16.0             50.0             1.0       No   \n",
      "9999        NaN     NaN    NaN              NaN             NaN      NaN   \n",
      "\n",
      "      SexOrientation  \n",
      "0       Heterosexual  \n",
      "1                NaN  \n",
      "2                NaN  \n",
      "3       Heterosexual  \n",
      "4                NaN  \n",
      "...              ...  \n",
      "9995    Heterosexual  \n",
      "9996    Heterosexual  \n",
      "9997    Heterosexual  \n",
      "9998    Heterosexual  \n",
      "9999             NaN  \n",
      "\n",
      "[10000 rows x 75 columns]\n",
      "AgeDecade  Gender  Education  \n",
      " 20-29     female  SomeCollege    271\n",
      "                   CollegeGrad    163\n",
      "                   HighSchool     156\n",
      "                   9_11thGrade     72\n",
      "                   8thGrade        19\n",
      "           male    SomeCollege    266\n",
      "                   HighSchool     157\n",
      "                   CollegeGrad    130\n",
      "                   9_11thGrade    100\n",
      "                   8thGrade        18\n",
      " 30-39     female  SomeCollege    239\n",
      "                   CollegeGrad    233\n",
      "                   HighSchool     105\n",
      "                   9_11thGrade     61\n",
      "                   8thGrade        39\n",
      "           male    CollegeGrad    214\n",
      "                   SomeCollege    213\n",
      "                   HighSchool     117\n",
      "                   9_11thGrade     81\n",
      "                   8thGrade        34\n",
      " 40-49     female  CollegeGrad    282\n",
      "                   SomeCollege    167\n",
      "                   HighSchool     135\n",
      "                   9_11thGrade     60\n",
      "                   8thGrade        34\n",
      "           male    CollegeGrad    199\n",
      "                   SomeCollege    188\n",
      "                   HighSchool     168\n",
      "                   9_11thGrade    108\n",
      "                   8thGrade        54\n",
      " 50-59     female  CollegeGrad    217\n",
      "                   SomeCollege    183\n",
      "                   HighSchool     116\n",
      "                   9_11thGrade     75\n",
      "                   8thGrade        32\n",
      "           male    SomeCollege    203\n",
      "                   CollegeGrad    200\n",
      "                   HighSchool     155\n",
      "                   9_11thGrade     89\n",
      "                   8thGrade        34\n",
      " 60-69     female  SomeCollege    177\n",
      "                   CollegeGrad    120\n",
      "                   HighSchool     106\n",
      "                   9_11thGrade     50\n",
      "                   8thGrade        26\n",
      "           male    CollegeGrad    160\n",
      "                   SomeCollege    116\n",
      "                   HighSchool      75\n",
      "                   9_11thGrade     47\n",
      "                   8thGrade        41\n",
      " 70+       female  SomeCollege    104\n",
      "                   HighSchool      96\n",
      "                   CollegeGrad     57\n",
      "                   9_11thGrade     52\n",
      "                   8thGrade        37\n",
      "           male    CollegeGrad     64\n",
      "                   SomeCollege     62\n",
      "                   9_11thGrade     44\n",
      "                   HighSchool      44\n",
      "                   8thGrade        25\n",
      "Name: Education, dtype: int64\n"
     ]
    }
   ],
   "source": [
    "dx = df_hanes.loc[~df_hanes.Education.isin([\"Some value you want to remove.\"]), :]  # Eliminate specific values\n",
    "print(dx)\n",
    "\n",
    "dx = dx.groupby([\"AgeDecade\", \"Gender\"])[\"Education\"]\n",
    "dx = dx.value_counts()\n",
    "print(dx)\n"
   ]
  },
  {
   "cell_type": "code",
   "execution_count": 17,
   "metadata": {},
   "outputs": [
    {
     "name": "stdout",
     "output_type": "stream",
     "text": [
      "Education         8thGrade  9_11thGrade  CollegeGrad  HighSchool  SomeCollege\n",
      "AgeDecade Gender                                                             \n",
      " 20-29    female        19           72          163         156          271\n",
      "          male          18          100          130         157          266\n",
      " 30-39    female        39           61          233         105          239\n",
      "          male          34           81          214         117          213\n",
      " 40-49    female        34           60          282         135          167\n",
      "          male          54          108          199         168          188\n",
      " 50-59    female        32           75          217         116          183\n",
      "          male          34           89          200         155          203\n",
      " 60-69    female        26           50          120         106          177\n",
      "          male          41           47          160          75          116\n",
      " 70+      female        37           52           57          96          104\n",
      "          male          25           44           64          44           62\n"
     ]
    }
   ],
   "source": [
    "\n",
    "dx = dx.unstack() # Restructure the results from 'long' to 'wide'\n",
    "print(dx)\n"
   ]
  },
  {
   "cell_type": "code",
   "execution_count": 18,
   "metadata": {},
   "outputs": [
    {
     "name": "stdout",
     "output_type": "stream",
     "text": [
      "Education         8thGrade  9_11thGrade  CollegeGrad  HighSchool  SomeCollege\n",
      "AgeDecade Gender                                                             \n",
      " 20-29    female  0.027900     0.105727     0.239354    0.229075     0.397944\n",
      "          male    0.026826     0.149031     0.193741    0.233979     0.396423\n",
      " 30-39    female  0.057607     0.090103     0.344165    0.155096     0.353028\n",
      "          male    0.051593     0.122914     0.324734    0.177542     0.323217\n",
      " 40-49    female  0.050147     0.088496     0.415929    0.199115     0.246313\n",
      "          male    0.075314     0.150628     0.277545    0.234310     0.262204\n",
      " 50-59    female  0.051364     0.120385     0.348315    0.186196     0.293740\n",
      "          male    0.049927     0.130690     0.293686    0.227606     0.298091\n",
      " 60-69    female  0.054280     0.104384     0.250522    0.221294     0.369520\n",
      "          male    0.093394     0.107062     0.364465    0.170843     0.264237\n",
      " 70+      female  0.106936     0.150289     0.164740    0.277457     0.300578\n",
      "          male    0.104603     0.184100     0.267782    0.184100     0.259414\n"
     ]
    }
   ],
   "source": [
    "\n",
    "dx = dx.apply(lambda x: x/x.sum(), axis=1) # Normalize within each stratum to get proportions\n",
    "print(dx)"
   ]
  },
  {
   "cell_type": "code",
   "execution_count": 19,
   "metadata": {},
   "outputs": [
    {
     "name": "stdout",
     "output_type": "stream",
     "text": [
      "Education         8thGrade  9_11thGrade  CollegeGrad  HighSchool  SomeCollege\n",
      "AgeDecade Gender                                                             \n",
      " 20-29    female     0.028        0.106        0.239       0.229        0.398\n",
      "          male       0.027        0.149        0.194       0.234        0.396\n",
      " 30-39    female     0.058        0.090        0.344       0.155        0.353\n",
      "          male       0.052        0.123        0.325       0.178        0.323\n",
      " 40-49    female     0.050        0.088        0.416       0.199        0.246\n",
      "          male       0.075        0.151        0.278       0.234        0.262\n",
      " 50-59    female     0.051        0.120        0.348       0.186        0.294\n",
      "          male       0.050        0.131        0.294       0.228        0.298\n",
      " 60-69    female     0.054        0.104        0.251       0.221        0.370\n",
      "          male       0.093        0.107        0.364       0.171        0.264\n",
      " 70+      female     0.107        0.150        0.165       0.277        0.301\n",
      "          male       0.105        0.184        0.268       0.184        0.259\n"
     ]
    }
   ],
   "source": [
    "print(dx.to_string(float_format=\"%.3f\"))  # Limit display to 3 decimal places"
   ]
  },
  {
   "attachments": {},
   "cell_type": "markdown",
   "metadata": {},
   "source": [
    "# <b> Creating new columns in the data frame for derivative values </b>"
   ]
  },
  {
   "cell_type": "code",
   "execution_count": 20,
   "metadata": {},
   "outputs": [
    {
     "ename": "NameError",
     "evalue": "name 'df_likes_aggregate' is not defined",
     "output_type": "error",
     "traceback": [
      "\u001b[1;31m---------------------------------------------------------------------------\u001b[0m",
      "\u001b[1;31mNameError\u001b[0m                                 Traceback (most recent call last)",
      "Cell \u001b[1;32mIn[20], line 2\u001b[0m\n\u001b[0;32m      1\u001b[0m \u001b[39m#inner join\u001b[39;00m\n\u001b[1;32m----> 2\u001b[0m merged_inner \u001b[39m=\u001b[39m pd\u001b[39m.\u001b[39mmerge(left\u001b[39m=\u001b[39mdf_likes_aggregate, right\u001b[39m=\u001b[39mdf_tweets, left_on\u001b[39m=\u001b[39m\u001b[39m'\u001b[39m\u001b[39mtweetID\u001b[39m\u001b[39m'\u001b[39m, right_on\u001b[39m=\u001b[39m\u001b[39m'\u001b[39m\u001b[39mtweetID\u001b[39m\u001b[39m'\u001b[39m)\n\u001b[0;32m      4\u001b[0m merged_inner\n",
      "\u001b[1;31mNameError\u001b[0m: name 'df_likes_aggregate' is not defined"
     ]
    }
   ],
   "source": [
    "#inner join\n",
    "merged_inner = pd.merge(left=df_likes_aggregate, right=df_tweets, left_on='tweetID', right_on='tweetID')\n",
    "\n",
    "merged_inner"
   ]
  },
  {
   "cell_type": "code",
   "execution_count": null,
   "metadata": {},
   "outputs": [],
   "source": [
    "df = merged_inner.groupby(\"length\")[\"counts\"].value_counts()\n",
    "\n",
    "print(df)"
   ]
  },
  {
   "attachments": {},
   "cell_type": "markdown",
   "metadata": {},
   "source": [
    "# <b> Visualization Introduction </b>\n",
    "- #### demonstrate most common graph types\n",
    "- #### finish with scatterplot between tweet length and like count\n"
   ]
  },
  {
   "cell_type": "code",
   "execution_count": null,
   "metadata": {},
   "outputs": [],
   "source": [
    "g = sns.barplot(x=\"lunch\", y=\"math score\", data=df_students)"
   ]
  },
  {
   "cell_type": "code",
   "execution_count": null,
   "metadata": {},
   "outputs": [],
   "source": [
    "g = sns.FacetGrid(df_students, row = \"lunch\")\n",
    "g = g.map(plt.hist, \"math score\")\n",
    "plt.show()"
   ]
  },
  {
   "cell_type": "code",
   "execution_count": null,
   "metadata": {},
   "outputs": [],
   "source": [
    "# Create a boxplot and histogram of the tips grouped by the day\n",
    "sns.boxplot(x = df_hanes[\"Age\"], y = df_hanes[\"HHIncome\"])"
   ]
  },
  {
   "cell_type": "code",
   "execution_count": null,
   "metadata": {},
   "outputs": [],
   "source": [
    "# Create a boxplot and histogram of the tips grouped by the day\n",
    "sns.boxplot(x = df_hanes[\"Age\"], y = df_hanes[\"HealthGen\"])"
   ]
  },
  {
   "cell_type": "code",
   "execution_count": null,
   "metadata": {},
   "outputs": [],
   "source": [
    "sns.scatterplot(data = df_hanes, x = \"Age\", y = \"HealthGen\")\n",
    "\n",
    "plt.show()"
   ]
  },
  {
   "cell_type": "code",
   "execution_count": null,
   "metadata": {},
   "outputs": [],
   "source": [
    "sns.scatterplot(data = df_hanes, x = \"Age\", y = \"HHIncome\")\n",
    "\n",
    "plt.show()"
   ]
  },
  {
   "cell_type": "code",
   "execution_count": null,
   "metadata": {},
   "outputs": [],
   "source": [
    "grid = sns.FacetGrid(df_hanes, col = \"HealthGen\", hue = \"HealthGen\", col_wrap=1)\n",
    "grid.map(sns.scatterplot, \"HHIncome\", \"Age\")\n",
    "\n",
    "grid.add_legend()\n",
    "\n",
    "plt.show()\n"
   ]
  },
  {
   "attachments": {},
   "cell_type": "markdown",
   "metadata": {},
   "source": [
    "### fitter correlation"
   ]
  },
  {
   "cell_type": "code",
   "execution_count": null,
   "metadata": {},
   "outputs": [],
   "source": [
    "sns.scatterplot(data = merged_inner, x = \"counts\", y = \"length\")\n",
    "\n",
    "plt.show()\n",
    "\n",
    "#scatterplot between counts and length "
   ]
  },
  {
   "cell_type": "code",
   "execution_count": null,
   "metadata": {},
   "outputs": [],
   "source": [
    "print(merged_inner['counts'].corr(merged_inner['length']))\n",
    "\n",
    "#correlation on the mergred_inner df between counts (likes on a tweet) and tweet length"
   ]
  },
  {
   "attachments": {},
   "cell_type": "markdown",
   "metadata": {},
   "source": [
    "### Let's do some basic data visualization\n",
    "\n",
    "If you want a quick refresher on different types of charts/graphs and when to use them, read [this](https://www.tableau.com/learn/whitepapers/which-type-chart-or-graph-right-for-you-ungated)"
   ]
  },
  {
   "cell_type": "code",
   "execution_count": null,
   "metadata": {},
   "outputs": [],
   "source": [
    "import matplotlib.pyplot as plt\n",
    "import numpy as np"
   ]
  },
  {
   "attachments": {},
   "cell_type": "markdown",
   "metadata": {},
   "source": [
    "### Line Chart\n",
    "\n",
    "Lets demonstrate trends in stats like HP or Attack with different classifiers such as the Pokemon's Generation."
   ]
  },
  {
   "cell_type": "code",
   "execution_count": null,
   "metadata": {},
   "outputs": [
    {
     "ename": "NameError",
     "evalue": "name 'df_pokemon' is not defined",
     "output_type": "error",
     "traceback": [
      "\u001b[1;31m---------------------------------------------------------------------------\u001b[0m",
      "\u001b[1;31mNameError\u001b[0m                                 Traceback (most recent call last)",
      "Cell \u001b[1;32mIn[6], line 7\u001b[0m\n\u001b[0;32m      5\u001b[0m data \u001b[39m=\u001b[39m []\n\u001b[0;32m      6\u001b[0m stats_names \u001b[39m=\u001b[39m [\u001b[39m'\u001b[39m\u001b[39mHP\u001b[39m\u001b[39m'\u001b[39m, \u001b[39m'\u001b[39m\u001b[39mAttack\u001b[39m\u001b[39m'\u001b[39m, \u001b[39m'\u001b[39m\u001b[39mDefense\u001b[39m\u001b[39m'\u001b[39m]\n\u001b[1;32m----> 7\u001b[0m stats \u001b[39m=\u001b[39m df_pokemon\u001b[39m.\u001b[39mgroupby(\u001b[39m\"\u001b[39m\u001b[39mGeneration\u001b[39m\u001b[39m\"\u001b[39m)[stats_names]\u001b[39m.\u001b[39mmean()\u001b[39m.\u001b[39mreset_index()\n\u001b[0;32m      8\u001b[0m \u001b[39mfor\u001b[39;00m stat \u001b[39min\u001b[39;00m stats_names:\n\u001b[0;32m      9\u001b[0m   stat_line \u001b[39m=\u001b[39m go\u001b[39m.\u001b[39mScatter(\n\u001b[0;32m     10\u001b[0m     x\u001b[39m=\u001b[39mstats[\u001b[39m\"\u001b[39m\u001b[39mGeneration\u001b[39m\u001b[39m\"\u001b[39m],\n\u001b[0;32m     11\u001b[0m     y\u001b[39m=\u001b[39mstats[stat],\n\u001b[1;32m   (...)\u001b[0m\n\u001b[0;32m     15\u001b[0m     ),\n\u001b[0;32m     16\u001b[0m   )\n",
      "\u001b[1;31mNameError\u001b[0m: name 'df_pokemon' is not defined"
     ]
    }
   ],
   "source": [
    "import plotly.graph_objs as go\n",
    "from plotly.offline import init_notebook_mode, iplot\n",
    "\n",
    "# Visualizing the trend of stats grouped by generation.\n",
    "data = []\n",
    "stats_names = ['HP', 'Attack', 'Defense']\n",
    "stats = df_pokemon.groupby(\"Generation\")[stats_names].mean().reset_index()\n",
    "for stat in stats_names:\n",
    "  stat_line = go.Scatter(\n",
    "    x=stats[\"Generation\"],\n",
    "    y=stats[stat],\n",
    "    name=stat,\n",
    "    line=dict(\n",
    "      width=3,\n",
    "    ),\n",
    "  )\n",
    "\n",
    "  data.append(stat_line)\n",
    "\n",
    "layout = go.Layout(\n",
    "  title='Trend of stats by {}'.format(\"Generation\"),\n",
    "  xaxis=dict(title=\"Generation\"),\n",
    "  yaxis=dict(title='Values')\n",
    ")\n",
    "\n",
    "trend = go.Figure(data=data, layout=layout)\n",
    "iplot(trend, filename='trend')\n",
    "\n",
    "\n",
    "# stats_by('Generation')\n",
    "# stats_by('Type 1')"
   ]
  },
  {
   "cell_type": "code",
   "execution_count": null,
   "metadata": {},
   "outputs": [],
   "source": [
    "# We can turn that code into a neat function that allows us to pass\n",
    "# the classifier and stat names in dynamically.\n",
    "\n",
    "def stats_by(classifier, stats_names):\n",
    "  data = []\n",
    "  stats = df.groupby(classifier)[stats_names].mean().reset_index()\n",
    "  for stat in stats_names:\n",
    "    stat_line = go.Scatter(\n",
    "      x=stats[classifier],\n",
    "      y=stats[stat],\n",
    "      name=stat,\n",
    "      line=dict(\n",
    "        width=3,\n",
    "      ),\n",
    "    )\n",
    "\n",
    "    data.append(stat_line)\n",
    "\n",
    "  layout = go.Layout(\n",
    "    title='Trend of stats by {}'.format(classifier),\n",
    "    xaxis=dict(title=classifier),\n",
    "    yaxis=dict(title='Values')\n",
    "  )\n",
    "\n",
    "  trend = go.Figure(data=data, layout=layout)\n",
    "  iplot(trend, filename='trend')\n",
    "\n",
    "stats_by('Type 1', ['Sp. Atk', 'Sp. Def', 'Speed'])"
   ]
  },
  {
   "attachments": {},
   "cell_type": "markdown",
   "metadata": {},
   "source": [
    "### Bar Chart\n",
    "\n",
    "Now let's inspect the number of Pokemon in each type (i.e. Water or Fire)."
   ]
  },
  {
   "cell_type": "code",
   "execution_count": null,
   "metadata": {},
   "outputs": [],
   "source": [
    "# Lets assign each Pokemon type a color for visualization in\n",
    "# the bar chart.\n",
    "# Defining colors for graphs \n",
    "colors = {\n",
    "    \"Bug\": \"#A6B91A\",\n",
    "    \"Dark\": \"#705746\",\n",
    "    \"Dragon\": \"#6F35FC\",\n",
    "    \"Electric\": \"#F7D02C\",\n",
    "    \"Fairy\": \"#D685AD\",\n",
    "    \"Fighting\": \"#C22E28\",\n",
    "    \"Fire\": \"#EE8130\",\n",
    "    \"Flying\": \"#A98FF3\",\n",
    "    \"Ghost\": \"#735797\",\n",
    "    \"Grass\": \"#7AC74C\",\n",
    "    \"Ground\": \"#E2BF65\",\n",
    "    \"Ice\": \"#96D9D6\",\n",
    "    \"Normal\": \"#A8A77A\",\n",
    "    \"Poison\": \"#A33EA1\",\n",
    "    \"Psychic\": \"#F95587\",\n",
    "    \"Rock\": \"#B6A136\",\n",
    "    \"Steel\": \"#B7B7CE\",\n",
    "    \"Water\": \"#6390F0\",\n",
    "}"
   ]
  },
  {
   "cell_type": "code",
   "execution_count": null,
   "metadata": {},
   "outputs": [],
   "source": [
    "# Visualizing number of pokemon per type across all generation.\n",
    "types = (df.groupby(['Type 1'])['#'].count())\n",
    "types_name = list(types.keys())\n",
    "\n",
    "data = go.Bar(\n",
    "    x=types_name,\n",
    "    y=types.values,\n",
    "    marker=dict(\n",
    "        color=list(colors.values())\n",
    "    ),\n",
    "    name=\"{}\".format(types_name)\n",
    ")\n",
    "\n",
    "layout = go.Layout(\n",
    "    title='Types',\n",
    "    xaxis=dict(\n",
    "        title='Type'\n",
    "    ),\n",
    "    yaxis=dict(\n",
    "        title='Number of Pokemon'\n",
    "    )\n",
    ")\n",
    "\n",
    "fig = go.Figure(data=[data], layout=layout)\n",
    "iplot(fig, filename='Types')"
   ]
  },
  {
   "attachments": {},
   "cell_type": "markdown",
   "metadata": {},
   "source": [
    "### Box plot"
   ]
  },
  {
   "cell_type": "code",
   "execution_count": null,
   "metadata": {},
   "outputs": [],
   "source": [
    "# data preparation\n",
    "trace1 = go.Box(\n",
    "    y=df.Speed,\n",
    "    name = 'Speed',\n",
    "    marker = dict(\n",
    "        color = 'rgb(12, 12, 140)',\n",
    "    )\n",
    ")\n",
    "trace2 = go.Box(\n",
    "    y=df.HP,\n",
    "    name = 'HP',\n",
    "    marker = dict(\n",
    "        color = 'rgb(12, 128, 128)',\n",
    "    )\n",
    ")\n",
    "data = [trace1, trace2]\n",
    "iplot(data)"
   ]
  },
  {
   "attachments": {},
   "cell_type": "markdown",
   "metadata": {},
   "source": [
    "### Scatter plot"
   ]
  },
  {
   "cell_type": "code",
   "execution_count": null,
   "metadata": {},
   "outputs": [],
   "source": [
    "# Read csv data\n",
    "df = pd.read_csv('pokemon_data.csv')\n",
    "\n",
    "# Create a new column (again) to represent \"Total\" strength.\n",
    "df['Total'] = df['HP'] + df['Attack'] + df['Defense'] + df['Sp. Atk'] + df['Sp. Def'] + df['Speed']\n",
    "df.head()\n",
    "\n",
    "pk1 = df[df.Generation == 1]\n",
    "pk2 = df[df.Generation == 2]\n",
    "pk3 = df[df.Generation == 3]\n",
    "pk4 = df[df.Generation == 4]\n",
    "pk5 = df[df.Generation == 5]\n",
    "\n",
    "# creating trace1\n",
    "trace1 =go.Scatter(\n",
    "                    x = pk1.HP,\n",
    "                    y = pk1.Total,\n",
    "                    mode = \"markers\",\n",
    "                    name = \"Generation 1\",\n",
    "                    marker = dict(color = 'rgba(83, 37, 85, 1)'),\n",
    "                    text= pk1.Name)\n",
    "# creating trace2\n",
    "trace2 =go.Scatter(\n",
    "                    x = pk2.HP,\n",
    "                    y = pk2.Total,\n",
    "                    mode = \"markers\",\n",
    "                    name = \"Generation 2\",\n",
    "                    marker = dict(color = 'rgba(168, 0, 0, 1)'),\n",
    "                    text= pk2.Name)\n",
    "# creating trace3\n",
    "trace3 =go.Scatter(\n",
    "                    x = pk3.HP,\n",
    "                    y = pk3.Total,\n",
    "                    mode = \"markers\",\n",
    "                    name = \"Generation 3\",\n",
    "                    marker = dict(color = 'rgba(35, 117, 0, 1)'),\n",
    "                    text= pk3.Name)\n",
    "# creating trace4\n",
    "trace4 =go.Scatter(\n",
    "                    x = pk4.HP,\n",
    "                    y = pk4.Total,\n",
    "                    mode = \"markers\",\n",
    "                    name = \"Generation 4\",\n",
    "                    marker = dict(color = 'rgba(5, 84, 133, 1)'),\n",
    "                    text= pk4.Name)\n",
    "# creating trace5\n",
    "trace5 =go.Scatter(\n",
    "                    x = pk5.HP,\n",
    "                    y = pk5.Total,\n",
    "                    mode = \"markers\",\n",
    "                    name = \"Generation 5\",\n",
    "                    marker = dict(color = 'rgba(7, 181, 187, 1)'),\n",
    "                    text= pk5.Name)\n",
    "data = [trace1, trace2, trace3, trace4, trace5]\n",
    "layout = dict(title = 'Total Power vs Generation of top 100 Pokemons with gen1,gen2,gen3,gen4 and gen5',\n",
    "              xaxis= dict(title= 'Pokemon Number',ticklen= 5,zeroline= False),\n",
    "              yaxis= dict(title= 'Total_Power',ticklen= 5,zeroline= False)\n",
    "             )\n",
    "fig = dict(data = data, layout = layout)\n",
    "iplot(fig)"
   ]
  },
  {
   "cell_type": "code",
   "execution_count": null,
   "metadata": {},
   "outputs": [],
   "source": [
    "# prepare data\n",
    "pk1 = df.Total[df.Generation == 1]\n",
    "pk2 = df.Total[df.Generation == 2]\n",
    "\n",
    "trace1 = go.Histogram(\n",
    "    x=pk1,\n",
    "    opacity=0.75,\n",
    "    name = \"Pokemon Total Power(Generation=1)\",\n",
    "    marker=dict(color='rgba(171, 50, 96, 0.6)'))\n",
    "trace2 = go.Histogram(\n",
    "    x=pk2,\n",
    "    opacity=0.75,\n",
    "    name = \"Pokemon Total Power(Generation=2)\",\n",
    "    marker=dict(color='rgba(12, 50, 196, 0.6)'))\n",
    "\n",
    "layout = go.Layout(barmode='overlay',\n",
    "                   title='Pokemon Total Power by Generation 1',\n",
    "                   xaxis=dict(title='Pokemon Total Power'),\n",
    "                   yaxis=dict(title='Count'),\n",
    ")\n",
    "\n",
    "# Single histogram\n",
    "fig = go.Figure(data=[trace1], layout=layout)\n",
    "iplot(fig)"
   ]
  },
  {
   "cell_type": "code",
   "execution_count": null,
   "metadata": {},
   "outputs": [],
   "source": [
    "layout = go.Layout(barmode='overlay',\n",
    "                   title='Pokemon Total Power by Generation 1 and Generation 2',\n",
    "                   xaxis=dict(title='Pokemon Total Power'),\n",
    "                   yaxis=dict(title='Count'),\n",
    ")\n",
    "\n",
    "# Double histogram\n",
    "fig = go.Figure(data=[trace1, trace2], layout=layout)\n",
    "iplot(fig)"
   ]
  },
  {
   "cell_type": "code",
   "execution_count": null,
   "metadata": {},
   "outputs": [],
   "source": [
    "import plotly.figure_factory as ff\n",
    "\n",
    "# Displot is a histogram fitted with a KDE\n",
    "hp_distplot = ff.create_distplot([df.HP], ['HP'], bin_size=5)\n",
    "iplot(hp_distplot, filename='HP Distplot')"
   ]
  },
  {
   "cell_type": "code",
   "execution_count": null,
   "metadata": {},
   "outputs": [],
   "source": [
    "# Visualizing with a radar chart.\n",
    "def polar_pokemon_stats(pk_name):\n",
    "  pkmn = df[df.Name == pk_name]\n",
    "  obj = go.Scatterpolar(\n",
    "    r=[\n",
    "      pkmn['HP'].values[0],\n",
    "      pkmn['Attack'].values[0],\n",
    "      pkmn['Defense'].values[0],\n",
    "      pkmn['Sp. Atk'].values[0],\n",
    "      pkmn['Sp. Def'].values[0],\n",
    "      pkmn['Speed'].values[0],\n",
    "      pkmn['HP'].values[0]\n",
    "    ],\n",
    "    theta=[\n",
    "      'HP', 'Attack', 'Defense', 'Sp. Atk', 'Sp. Def', 'Speed', 'HP'\n",
    "    ],\n",
    "    fill='toself',\n",
    "    marker=dict(\n",
    "      color=colors[pkmn['Type 1'].values[0]]\n",
    "    ),\n",
    "    name=pkmn['Name'].values[0]\n",
    "  )\n",
    "\n",
    "  return obj\n",
    "\n",
    "# Comparing stats of 2 different pokemons\n",
    "pkmn_1_name = 'Kyogre'\n",
    "pkmn_2_name = 'Entei'\n",
    "\n",
    "layout = go.Layout(\n",
    "    polar=dict(\n",
    "        radialaxis=dict(\n",
    "            visible=True,\n",
    "            range=[0, 250]\n",
    "        )\n",
    "    ),\n",
    "    showlegend=True,\n",
    "    title=\"{} vs. {}\".format(pkmn_1_name, pkmn_2_name)\n",
    ")\n",
    "\n",
    "pkmn_1 = polar_pokemon_stats(pkmn_1_name)\n",
    "pkmn_2 = polar_pokemon_stats(pkmn_2_name)\n",
    "\n",
    "compare_2_pokemon = go.Figure(data=[pkmn_1, pkmn_2], layout=layout)\n",
    "iplot(compare_2_pokemon, filename='Compare 2 Pokemon')"
   ]
  }
 ],
 "metadata": {
  "kernelspec": {
   "display_name": "base",
   "language": "python",
   "name": "python3"
  },
  "language_info": {
   "codemirror_mode": {
    "name": "ipython",
    "version": 3
   },
   "file_extension": ".py",
   "mimetype": "text/x-python",
   "name": "python",
   "nbconvert_exporter": "python",
   "pygments_lexer": "ipython3",
   "version": "3.10.10"
  },
  "orig_nbformat": 4
 },
 "nbformat": 4,
 "nbformat_minor": 2
}
