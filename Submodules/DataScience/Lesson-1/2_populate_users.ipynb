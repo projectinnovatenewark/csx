{
 "cells": [
  {
   "cell_type": "markdown",
   "metadata": {},
   "source": [
    "# Dummy Data\n",
    "\n",
    "In the previous section, we created data manually. Let's use an external \"API\", or Application Programming Interface, to get a bunch of data to put into our database."
   ]
  },
  {
   "attachments": {},
   "cell_type": "markdown",
   "metadata": {},
   "source": [
    "Define a new file called `2_users.py`. Copy/paste the contents of this file into that file."
   ]
  },
  {
   "cell_type": "code",
   "execution_count": 1,
   "metadata": {},
   "outputs": [
    {
     "ename": "ModuleNotFoundError",
     "evalue": "No module named 'requests'",
     "output_type": "error",
     "traceback": [
      "\u001b[0;31m---------------------------------------------------------------------------\u001b[0m",
      "\u001b[0;31mModuleNotFoundError\u001b[0m                       Traceback (most recent call last)",
      "Cell \u001b[0;32mIn[1], line 1\u001b[0m\n\u001b[0;32m----> 1\u001b[0m \u001b[39mimport\u001b[39;00m \u001b[39mrequests\u001b[39;00m\n\u001b[1;32m      2\u001b[0m \u001b[39mimport\u001b[39;00m \u001b[39mdatetime\u001b[39;00m\n\u001b[1;32m      3\u001b[0m \u001b[39mfrom\u001b[39;00m \u001b[39mexec\u001b[39;00m \u001b[39mimport\u001b[39;00m execute_query\n",
      "\u001b[0;31mModuleNotFoundError\u001b[0m: No module named 'requests'"
     ]
    }
   ],
   "source": [
    "import requests\n",
    "import datetime\n",
    "from exec import execute_query"
   ]
  },
  {
   "cell_type": "markdown",
   "metadata": {},
   "source": [
    "API's allow us to talk to other servers on the web. In this case, we can use the randomuser API to get randomized, mock user data. Run this command to get 50 users from the API."
   ]
  },
  {
   "cell_type": "code",
   "execution_count": null,
   "metadata": {},
   "outputs": [],
   "source": [
    "results_number = int(input(\"How many users do you want?\"))\n",
    "response = requests.get(f\"https://randomuser.me/api/?results={results_number}\")\n",
    "res = response.json()"
   ]
  },
  {
   "cell_type": "markdown",
   "metadata": {},
   "source": [
    "Let's iterate over the random user data and store them in an array."
   ]
  },
  {
   "cell_type": "code",
   "execution_count": null,
   "metadata": {},
   "outputs": [],
   "source": [
    "users = res[\"results\"]\n",
    "\n",
    "user_list = []\n",
    "\n",
    "for u in users:\n",
    "    user = {}\n",
    "    user['username'] = u[\"login\"][\"username\"]\n",
    "    user['first_name'] = u[\"name\"][\"first\"]\n",
    "    user['last_name'] = u[\"name\"][\"last\"]\n",
    "    user['phone'] = u[\"phone\"]\n",
    "    user['birthday'] = u[\"dob\"][\"date\"]\n",
    "    user['age'] = u[\"dob\"][\"age\"]\n",
    "    user['created_at'] = datetime.datetime.now()\n",
    "\n",
    "    # Add each dictionary to our array.\n",
    "    user_list.append(user)"
   ]
  },
  {
   "cell_type": "markdown",
   "metadata": {},
   "source": [
    "Let's add these users to the database by looping over them and adding them to the database one by one."
   ]
  },
  {
   "cell_type": "code",
   "execution_count": null,
   "metadata": {},
   "outputs": [],
   "source": [
    "for user in user_list:\n",
    "    # construct query string to create a user\n",
    "    user_query_string = f\"\"\"INSERT INTO users (\n",
    "                            username, \n",
    "                            first_name, \n",
    "                            last_name, \n",
    "                            phone, \n",
    "                            birthday, \n",
    "                            age, \n",
    "                            created_at\n",
    "                        ) VALUES (\n",
    "                            '{user['username']}', \n",
    "                            '{user['first_name']}', \n",
    "                            '{user['last_name']}', \n",
    "                            '{user['phone']}', \n",
    "                            '{user['birthday']}', \n",
    "                            {int(user['age'])}, \n",
    "                            CURRENT_TIMESTAMP\n",
    "                        );\"\"\"\n",
    "\n",
    "    # Run query to create each user\n",
    "    execute_query(user_query_string)"
   ]
  },
  {
   "cell_type": "markdown",
   "metadata": {},
   "source": [
    "#### That created a number of new users and stored them in our database. We can test this by executing a SELECT query."
   ]
  },
  {
   "cell_type": "code",
   "execution_count": null,
   "metadata": {},
   "outputs": [],
   "source": [
    "users_query = \"SELECT * FROM users;\"\n",
    "\n",
    "users = execute_query(users_query)\n",
    "user_count = 0\n",
    "for user in users:\n",
    "    user_count += 1\n",
    "\n",
    "print(\"Number of users in database: \", user_count)"
   ]
  }
 ],
 "metadata": {
  "kernelspec": {
   "display_name": "Python 3.11.0 64-bit",
   "language": "python",
   "name": "python3"
  },
  "language_info": {
   "codemirror_mode": {
    "name": "ipython",
    "version": 3
   },
   "file_extension": ".py",
   "mimetype": "text/x-python",
   "name": "python",
   "nbconvert_exporter": "python",
   "pygments_lexer": "ipython3",
   "version": "3.11.3"
  },
  "orig_nbformat": 4,
  "vscode": {
   "interpreter": {
    "hash": "1a1af0ee75eeea9e2e1ee996c87e7a2b11a0bebd85af04bb136d915cefc0abce"
   }
  }
 },
 "nbformat": 4,
 "nbformat_minor": 2
}
