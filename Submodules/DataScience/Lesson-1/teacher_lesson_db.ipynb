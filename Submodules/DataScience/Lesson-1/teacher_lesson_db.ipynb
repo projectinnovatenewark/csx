{
 "cells": [
  {
   "cell_type": "markdown",
   "metadata": {},
   "source": [
    "- You can install the necessary packages by changing directories to this folder then running: `pip3 install -r requirements.txt` \n",
    "- You will also have to run ``` pip3 install psycopg2-binary --no-cache-dir ``` manually in the terminal."
   ]
  },
  {
   "cell_type": "code",
   "execution_count": null,
   "metadata": {},
   "outputs": [],
   "source": [
    "from sqlalchemy import create_engine, text\n",
    "from config import get_connection"
   ]
  },
  {
   "cell_type": "markdown",
   "metadata": {},
   "source": [
    "Let's create our database before executing the following cell. We will create a SQL database and perform create, read, update, and delete operations in this database throughout our curriculum. We use a tool called Docker which will run postgres inside a \"container\" and create a database for us in the following command:\n",
    "\n",
    "```\n",
    "docker run -d --name fitter_db -p 5432:5432 -e POSTGRES_USER=postgres -e POSTGRES_PASSWORD=abcde12345 -e POSTGRES_DB=fitter -e POSTGRES_HOST=localhost -e POSTGRES_PORT=5432 -v db_volume:/var/lib/postgresql postgres:latest\n",
    "```"
   ]
  },
  {
   "cell_type": "markdown",
   "metadata": {},
   "source": [
    "Now that the database is running, we will need to provide some instructions for our code to connect to the database. Let's create a .env file (spoken as \"dot E-N-V\"). We will put the username, password, the port our database is running on, and other details in here. It will use these variables that we included in the command from the previous step. Copy/paste the following into your .env file:\n",
    "\n",
    "```\n",
    "POSTGRES_USER=postgres\n",
    "POSTGRES_PASSWORD=abcde12345\n",
    "POSTGRES_DB=fitter\n",
    "POSTGRES_HOST=localhost\n",
    "POSTGRES_PORT=5432\n",
    "```"
   ]
  },
  {
   "cell_type": "code",
   "execution_count": null,
   "metadata": {},
   "outputs": [],
   "source": [
    "DB_CONNECTION_STRING = get_connection()\n",
    "\n",
    "print(DB_CONNECTION_STRING)"
   ]
  },
  {
   "cell_type": "markdown",
   "metadata": {},
   "source": [
    "We will put this code in a normal Python file (the extension is .py instead of .ipynb) as opposed to our Jupyter Notebook files. This will allow us to reuse the \"execute_query\" function for our other programs, as Jupyter Notebook files don't export as neatly as Python files do."
   ]
  },
  {
   "cell_type": "code",
   "execution_count": null,
   "metadata": {},
   "outputs": [],
   "source": [
    "def execute_query(statement):\n",
    "    \"\"\"\n",
    "    It takes a SQL statement as a string, connects to the database, and returns the results of the query\n",
    "    \n",
    "    :param statement: The SQL statement to execute\n",
    "    :return: The result of the query.\n",
    "    \"\"\"\n",
    "    DB_CONNECTION_STRING = get_connection()\n",
    "    engine = create_engine(DB_CONNECTION_STRING)\n",
    "\n",
    "    with engine.connect() as con:\n",
    "        print(\"running command: \", statement)\n",
    "        return con.execute(text(statement))"
   ]
  }
 ],
 "metadata": {
  "kernelspec": {
   "display_name": "Python 3.10.6 64-bit",
   "language": "python",
   "name": "python3"
  },
  "language_info": {
   "codemirror_mode": {
    "name": "ipython",
    "version": 3
   },
   "file_extension": ".py",
   "mimetype": "text/x-python",
   "name": "python",
   "nbconvert_exporter": "python",
   "pygments_lexer": "ipython3",
   "version": "3.10.6"
  },
  "orig_nbformat": 4,
  "vscode": {
   "interpreter": {
    "hash": "aee8b7b246df8f9039afb4144a1f6fd8d2ca17a180786b69acc140d282b71a49"
   }
  }
 },
 "nbformat": 4,
 "nbformat_minor": 2
}
