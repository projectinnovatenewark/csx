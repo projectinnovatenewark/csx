{
 "cells": [
  {
   "cell_type": "markdown",
   "metadata": {},
   "source": [
    "# SQL\n",
    "\n",
    "Before creating a database schema and interfacing with that data, check out this [video](https://www.youtube.com/watch?v=27axs9dO7AE) for a very simple intro to SQL."
   ]
  },
  {
   "cell_type": "markdown",
   "metadata": {},
   "source": [
    "The \"execute_query\" function is a function that is prewritten that will execute a given SQL query to your database. Before running code in the lesson, first substitute your database's credentials into the `config.py` file. Without doing this, your code will not work as it will not be able to connect to your database.\n",
    "\n",
    "# FIXME: @Pranav update this with steps on where to put your credentials."
   ]
  },
  {
   "cell_type": "code",
   "execution_count": null,
   "metadata": {},
   "outputs": [],
   "source": [
    "from exec import execute_query"
   ]
  },
  {
   "cell_type": "markdown",
   "metadata": {},
   "source": [
    "Create the schema for your users table. Here is an [overview](https://www.postgresqltutorial.com/postgresql-tutorial/postgresql-create-table/) on this operation - feel free to look it over for a couple of minutes. The only takeaway you'll need for now is that the columns for your table have types and other types of constraints that you could apply."
   ]
  },
  {
   "cell_type": "code",
   "execution_count": null,
   "metadata": {},
   "outputs": [],
   "source": [
    "create_users_table = \"\"\"CREATE TABLE IF NOT EXISTS users (\n",
    "                            username varchar(100) primary key, \n",
    "                            first_name varchar(100), \n",
    "                            last_name varchar(100), \n",
    "                            phone varchar(100), \n",
    "                            birthday date, \n",
    "                            age int, \n",
    "                            created_at timestamp)\"\"\"\n",
    "\n",
    "execute_query(create_users_table)"
   ]
  },
  {
   "cell_type": "markdown",
   "metadata": {},
   "source": [
    "Enter some details to create a user in your users table."
   ]
  },
  {
   "cell_type": "code",
   "execution_count": null,
   "metadata": {},
   "outputs": [],
   "source": [
    "username = input(\"Enter a username: \")\n",
    "first_name = input(\"Enter a first name: \")\n",
    "last_name = input(\"Please enter a last name: \")\n",
    "phone = input(\"Please enter a phone number: \")\n",
    "birthday = input(\"Please enter a birthday in the following format: YYYY-MM-DD\")\n",
    "age = int(input(\"Please enter the age of the user in years: \"))\n",
    "\n",
    "created_at = \"CURRENT_TIMESTAMP\" \n",
    "\n",
    "# Here we insert your inputs into a SQL query, which is then written to the database.\n",
    "user_query_string = f\"\"\"INSERT INTO users (username, first_name, last_name, phone, birthday, age, created_at) VALUES\n",
    "                        ('{username}', \n",
    "                        '{first_name}', \n",
    "                        '{last_name}', \n",
    "                        '{phone}', \n",
    "                        '{birthday}', \n",
    "                         {age}, \n",
    "                         {created_at});\"\"\"\n",
    "\n",
    "execute_query(user_query_string)"
   ]
  },
  {
   "cell_type": "markdown",
   "metadata": {},
   "source": [
    "<!-- TODO: lets tightly couple our SQL concepts to the code it pertains to for each of the following queries -->\n",
    "\n",
    "<!-- TODO: let's use __mapping to turn these results into dictionaries? might help with visibility? -->\n",
    "\n",
    "<!-- TODO: additionally, we should explain the output and why it is what it is -->"
   ]
  },
  {
   "cell_type": "code",
   "execution_count": null,
   "metadata": {},
   "outputs": [],
   "source": [
    "users_query = \"SELECT * FROM users;\"\n",
    "\n",
    "users = execute_query(users_query)\n",
    "for user in users:\n",
    "    print(user)"
   ]
  },
  {
   "cell_type": "code",
   "execution_count": null,
   "metadata": {},
   "outputs": [],
   "source": [
    "users_query = \"\"\"UPDATE users \n",
    "                 SET username = 'username_test' \n",
    "                 WHERE username = 'username_test_two';\"\"\"\n",
    "                 \n",
    "execute_query(users_query)\n",
    "\n",
    "#FIXME"
   ]
  },
  {
   "cell_type": "code",
   "execution_count": null,
   "metadata": {},
   "outputs": [],
   "source": [
    "users_query = \"DELETE FROM users WHERE 'username' = 'username_test';\"\n",
    "\n",
    "execute_query(users_query)\n",
    "\n",
    "#FIXME"
   ]
  }
 ],
 "metadata": {
  "kernelspec": {
   "display_name": "Python 3.11.0 64-bit",
   "language": "python",
   "name": "python3"
  },
  "language_info": {
   "codemirror_mode": {
    "name": "ipython",
    "version": 3
   },
   "file_extension": ".py",
   "mimetype": "text/x-python",
   "name": "python",
   "nbconvert_exporter": "python",
   "pygments_lexer": "ipython3",
   "version": "3.11.0"
  },
  "orig_nbformat": 4,
  "vscode": {
   "interpreter": {
    "hash": "1a1af0ee75eeea9e2e1ee996c87e7a2b11a0bebd85af04bb136d915cefc0abce"
   }
  }
 },
 "nbformat": 4,
 "nbformat_minor": 2
}
