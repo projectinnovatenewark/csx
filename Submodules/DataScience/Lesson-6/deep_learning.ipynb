{
 "cells": [
  {
   "cell_type": "markdown",
   "metadata": {},
   "source": [
    "# Intro to Deep Learning"
   ]
  },
  {
   "cell_type": "markdown",
   "metadata": {},
   "source": [
    "## What is Deep Learning?\n",
    "\n",
    "__Deep learning__ is a subfield of __artificial intelligence__ (AI) and __machine learning__ that focuses on building and training artificial __neural networks__ to perform complex tasks. It is inspired by the structure and function of the human brain, where multiple layers of interconnected __neurons__ work together to process information and make decisions.\n",
    "\n",
    "The term *deep* in deep learning refers to the architecture of these neural networks, which typically consist of multiple hidden layers between the input and output layers. Each hidden layer processes and transforms the data in a hierarchical manner, allowing the network to learn increasingly abstract representations of the input data.\n",
    "\n",
    "The process of training a *deep learning model* involves feeding it a large dataset with *input-output* pairs and adjusting the weights and biases (refer back to Lessons 6 and 7 for what weights and biases are) of the neural network through an optimization algorithm to minimize the difference between predicted outputs and actual outputs. This iterative optimization process helps the network learn to recognize patterns, make predictions, classify objects, or perform other complex tasks."
   ]
  },
  {
   "cell_type": "markdown",
   "metadata": {},
   "source": [
    "### Why is Deep Learning Used?\n",
    "\n",
    "Deep Learning is essentially a more optimized version of classical Machine Learning. With *classical* Machine Learning, you typically  select, design, and transform relevant features from raw data to make it suitable for the learning algorithm in a process known as __Feature Engineering__. This process requires domain expertise and can be time-consuming.\n",
    "\n",
    "In contrast, deep learning models, particularly deep neural networks, learn to automatically extract relevant features and representations directly from raw data during the training process. This is achieved through the use of multiple layers of interconnected neurons, which learn to transform the input data at each layer into more abstract representations.\n",
    "\n",
    "Deep Learning has other benefits such as the model being able to handle large datasets, the model being able to be trained end-to-end without complex intermediate steps, and more. It is crucial to note that there are specific use cases for both Deep Learning and classical Machine Learning."
   ]
  },
  {
   "cell_type": "markdown",
   "metadata": {},
   "source": [
    "<span style = \"background-color: yellow\">\n",
    "TODO: Take a few minutes to research different applications of Deep Learning. This could be use cases in medicine, gaming, finance, etc. Note the underlying similarities in the rationale for these applications and explain to your peer(s) why Deep Learning was used in each of those applications.\n",
    "</span>"
   ]
  },
  {
   "cell_type": "markdown",
   "metadata": {},
   "source": [
    "### What is a Neural Network?\n",
    "\n",
    "Imagine a neural network as a simplified model of how the human brain works to process information. In this analogy, a neural network is like a bunch of interconnected brain cells (neurons) that work together to solve a specific problem.\n",
    "\n",
    "Visually, a neural network looks like a series of connected circles (neurons) arranged in layers. The first layer is the input layer, where the network receives the raw data (e.g., an image, a sentence, or some numerical values). The last layer is the output layer, which gives the final result or prediction (e.g., a classification label or a numerical value).\n",
    "\n",
    "Here's a simple example of a neural network with three layers:"
   ]
  },
  {
   "cell_type": "code",
   "execution_count": null,
   "metadata": {},
   "outputs": [],
   "source": [
    "# Visual representation of a simple neural network\n",
    "#\n",
    "#  Input Layer         Hidden Layer         Output Layer\n",
    "#   (2 nodes)           (2 nodes)            (1 node)\n",
    "#\n",
    "#  o   o               o   o                 o\n",
    "#   \\ /                 \\ /                   \\\n",
    "#    X    ------>       X    ------>         X\n",
    "#   / \\                 / \\                   /\n",
    "#  o   o               o   o                 o\n",
    "#\n",
    "#  Each circle (o) represents a neuron/node.\n",
    "#  The lines connecting the nodes represent the connections (synapses) between neurons.\n",
    "#  The lines have associated weights that control the flow of information in the network.\n",
    "#  In this example, we have:\n",
    "#  - 2 input nodes that receive the input data\n",
    "#  - 2 hidden nodes that process the input data and learn features\n",
    "#  - 1 output node that gives the final result/prediction\n",
    "#  - The X indicates the calculations (weighted sum) performed at each neuron during feedforward.\n",
    "#  - The direction of flow is from left to right, which is the feedforward process of the network.\n",
    "#  - During training, the weights of the connections are adjusted to make better predictions."
   ]
  },
  {
   "cell_type": "markdown",
   "metadata": {},
   "source": [
    "Please note that this visual representation is just a basic illustration of the neural network architecture and the flow of information during feedforward. In practice, neural networks can have many layers, hundreds or thousands of neurons, and complex connections, depending on the specific problem and network architecture."
   ]
  },
  {
   "cell_type": "markdown",
   "metadata": {},
   "source": [
    "### Using PyTorch"
   ]
  },
  {
   "cell_type": "markdown",
   "metadata": {},
   "source": [
    "PyTorch is an open-source deep learning framework used for building and training neural networks. It provides a set of tools and functions that make it easier to work with large datasets and complex models. In simple terms, you can think of PyTorch as a powerful tool that helps you create neural networks and teach them how to perform specific tasks.\n",
    "\n",
    "We will be using PyTorch for our Deep Learning work today."
   ]
  },
  {
   "cell_type": "markdown",
   "metadata": {},
   "source": [
    "### Convolutionary Neural Networks\n",
    "\n",
    "As mentioned before, there are many Deep Learning architectures. A Deep Learning architecture refers to the overall structure or design of a neural network used for solving complex tasks using deep learning techniques. It represents the arrangement and combination of various layers, units, and connections that make up the neural network. Today we will be using the Convolutionary Neural Network architecture(CNN).\n",
    "\n",
    "A CNN is a type of deep learning architecture that is primarily used for image-related tasks, such as image classification, object detection, and image segmentation. It is inspired by the human visual system and is designed to automatically and adaptively learn hierarchical patterns and features from images."
   ]
  }
 ],
 "metadata": {
  "language_info": {
   "name": "python"
  },
  "orig_nbformat": 4
 },
 "nbformat": 4,
 "nbformat_minor": 2
}
