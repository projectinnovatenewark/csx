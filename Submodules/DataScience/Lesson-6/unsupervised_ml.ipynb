{
 "cells": [
  {
   "cell_type": "markdown",
   "metadata": {},
   "source": [
    "# Unsupervised Machine Learning"
   ]
  },
  {
   "cell_type": "markdown",
   "metadata": {},
   "source": [
    "In the previous lesson we went over some important vocabulary for Machine Learning. We learned that for supervised learning your model will be trained on labeled data. In today's lesson we will be going over how to train a model with data that is not labeled, which we call Unsupervised Machine Learning."
   ]
  },
  {
   "cell_type": "markdown",
   "metadata": {},
   "source": [
    "## What is Unsupervised Machine Learning?"
   ]
  },
  {
   "cell_type": "markdown",
   "metadata": {},
   "source": [
    "Unsupervised Machine Learning utilizes data to label and categorize unlabeled datasets. It finds patterns or relationships within the data independently. There are several types of machine learning 3 important ideas specific to Unsupervised ML. \n",
    "\n",
    "- Anomaly Detection\n",
    "- Dimentionality Reduction\n",
    "- Clustering\n",
    "\n",
    "To further understand how these are incorperated into our data preprocessing steps let us use an example by loading in the iris dataset..."
   ]
  },
  {
   "cell_type": "code",
   "execution_count": null,
   "metadata": {},
   "outputs": [],
   "source": [
    "from sklearn.datasets import load_iris\n",
    "\n",
    "# Load Iris Data\n",
    "iris_data = load_iris()\n",
    "\n",
    "# This step is important to setting the dataset\n",
    "import pandas as pd\n",
    "iris_df = pd.DataFrame(data=iris_data.data, columns=iris_data.feature_names)\n",
    "iris_df.head()\n",
    "\n"
   ]
  },
  {
   "cell_type": "markdown",
   "metadata": {},
   "source": [
    "You may notice this is the same dataset we used last time so you will have some familiarity working with it."
   ]
  },
  {
   "cell_type": "markdown",
   "metadata": {},
   "source": [
    "Now before we input our data into any model it is best to examine it and get a better understanding of what we are working with...\n",
    "\n",
    "But before we can do that we will need to import some important packages that will allow for basic data analysis..."
   ]
  },
  {
   "cell_type": "code",
   "execution_count": null,
   "metadata": {},
   "outputs": [],
   "source": [
    "import matplotlib.pyplot as plt\n",
    "import seaborn as sns\n",
    "import numpy as np\n",
    "import pandas as pd"
   ]
  },
  {
   "cell_type": "markdown",
   "metadata": {},
   "source": [
    "## Data Exploration\n",
    "\n",
    "Now let's move on to some basic EDA that we learned in our Time Series Analysis lesson."
   ]
  },
  {
   "cell_type": "code",
   "execution_count": null,
   "metadata": {},
   "outputs": [],
   "source": [
    "#Use the `.info` and `.describe` methods\n",
    "iris_df.info()\n",
    "iris_df.describe"
   ]
  },
  {
   "cell_type": "markdown",
   "metadata": {},
   "source": [
    "Using the information gathered using the `.dropna` function we can drop any examples that have missing values."
   ]
  },
  {
   "cell_type": "code",
   "execution_count": null,
   "metadata": {},
   "outputs": [],
   "source": [
    "iris_df = iris_df.dropna(inplace = True)"
   ]
  },
  {
   "cell_type": "markdown",
   "metadata": {},
   "source": [
    "### Data Visualization"
   ]
  },
  {
   "cell_type": "markdown",
   "metadata": {},
   "source": [
    "Now that our data has no missing values, we can move on to looking at potential features. Let's visualize how each potential input plots relative to every other input. Basically we are plotting every column to every other column. This can show us a visual representation of what type of natural clusters are formed. Later this useful when deciding what features to use. For this visual representation we will use a pairplot. "
   ]
  },
  {
   "cell_type": "code",
   "execution_count": null,
   "metadata": {},
   "outputs": [],
   "source": [
    "sns.pairplot(iris_df)\n",
    "plt.show()"
   ]
  },
  {
   "cell_type": "markdown",
   "metadata": {},
   "source": [
    "<span style = \"background-color: yellow\">\n",
    "TODO: Examining the graph what patterns, trends or anything interesting happening. Think about what this may mean for identifying what species of iris flower it is. USe 2 minutes to write down any thoughts and then compare with a partner about your findings.\n",
    "<span\\>"
   ]
  },
  {
   "cell_type": "markdown",
   "metadata": {},
   "source": [
    "Examining these pairplots above can provide us a lot of valuable information. Now we can take a pairplot and view them as a scatterplot and examine any trends and patterns that may arise from plotting the selected inputs."
   ]
  },
  {
   "cell_type": "code",
   "execution_count": null,
   "metadata": {},
   "outputs": [],
   "source": [
    "plt.scatter(iris_df['petal length (cm)'],iris_df['petal width (cm)'])"
   ]
  },
  {
   "cell_type": "markdown",
   "metadata": {},
   "source": [
    "Using this new found insight the next step would be to develope some hypothesis. This is important as it will set us up for tuning our hyperparamaters for our unsupervised Ml model. The first thing we can hypothesize is how many potential groups or **clusters** can be made."
   ]
  },
  {
   "cell_type": "markdown",
   "metadata": {},
   "source": [
    "### What is Clustering and Why is it important?"
   ]
  },
  {
   "cell_type": "markdown",
   "metadata": {},
   "source": [
    "Clustering is an important aspect of Unsupervised Machine Learning. This is because clusters indicate potential labels and groupings for your unlabeled data. The better and more defined these groups are the more sound your predictions will be. This is why data preprocessing and filtering data is so important, it allows us to find the features that work and won't."
   ]
  },
  {
   "cell_type": "markdown",
   "metadata": {},
   "source": [
    "### How clustering works in Unsupervised Machine Learning"
   ]
  },
  {
   "cell_type": "markdown",
   "metadata": {},
   "source": [
    "Looking at the scatterplot again we can identify 3 distinct clusters. Now we can use this as a base for our model. First, we must split our data into training and testing data such as in the Intro to Machine Learning lesson. This is for when we test the viability of the model and its predictive capabilities."
   ]
  },
  {
   "cell_type": "code",
   "execution_count": null,
   "metadata": {},
   "outputs": [],
   "source": [
    "from sklearn.model_selection import train_test_split\n",
    "\n",
    "X, y = iris_df.drop('class'), ['class']\n",
    "\n",
    "X_train, X_test, y_train, y_test = train_test_split(X, y, test_size=0.33, random_state=42)\n"
   ]
  },
  {
   "cell_type": "markdown",
   "metadata": {},
   "source": [
    "Now we must import the Kmeans clustering method from the sklearn library"
   ]
  },
  {
   "cell_type": "code",
   "execution_count": null,
   "metadata": {},
   "outputs": [],
   "source": [
    "from sklearn.cluster import KMeans\n",
    "from sklearn.datasets import load_iris\n",
    "import pandas as pd\n",
    "\n",
    "x = 'petal length (cm)'\n",
    "y = 'petal width (cm)'\n",
    "X = iris_df.data[:, [iris_df.feature_names.index(x), iris_df.feature_names.index(y)]]\n",
    "\n",
    "kmeans = KMeans(n_clusters=3).fit(X)\n"
   ]
  },
  {
   "cell_type": "markdown",
   "metadata": {},
   "source": [
    "### What is Kmeans"
   ]
  },
  {
   "cell_type": "markdown",
   "metadata": {},
   "source": [
    "Kmeans is a popular unsupervised learning model. The idea behind Kmeans is to emphasize clustering of objects that have like qualities. This technique uses centroids as a way of centering clusters.\n",
    "\n",
    "**Centroids** - Data points at the center of a cluster which are intially randomly generated\n",
    "\n",
    "![Centroid Diagram](\"Centroids.png\")\n",
    "\n",
    "Centroids are calculated repeatadly until the process reaches a no change point where recalculating it again would yield the same result. These centroids can be used to categorize unlabeled data in a relatively effective manor."
   ]
  },
  {
   "cell_type": "code",
   "execution_count": null,
   "metadata": {},
   "outputs": [],
   "source": [
    "clusters = kmeans.labels_\n",
    "cluster_df = pd.DataFrame(np.hstack((X, clusters.reshape(-1,1))), columns = [x,y,\"class\"])"
   ]
  },
  {
   "cell_type": "markdown",
   "metadata": {},
   "source": [
    "### Plotting your predictions"
   ]
  },
  {
   "cell_type": "markdown",
   "metadata": {},
   "source": [
    "Below is the orginial scatterplot using the selected features"
   ]
  },
  {
   "cell_type": "code",
   "execution_count": null,
   "metadata": {},
   "outputs": [],
   "source": [
    "sns.scatterplot(x=x, y=y, data = iris_df, hue = 'class')"
   ]
  },
  {
   "cell_type": "markdown",
   "metadata": {},
   "source": [
    "These are our predicted values"
   ]
  },
  {
   "cell_type": "code",
   "execution_count": null,
   "metadata": {},
   "outputs": [],
   "source": [
    "sns.scatterplot(x=x, y=y, data = cluster_df, hue = 'class')"
   ]
  },
  {
   "cell_type": "markdown",
   "metadata": {},
   "source": [
    "### Model Performance"
   ]
  },
  {
   "cell_type": "markdown",
   "metadata": {},
   "source": [
    "Testing your model's performance is the last step in the loop and can provide some very important information regarding what further tuning may be required to optimize your model. For unsupervised models there a mutlide of ways to measure model performance but for our sake we will be using silhouette score. \n",
    "\n",
    "### Silhouette Score\n",
    "\n",
    "Silhouette score measures the compactness and relevant distance of points in a cluster to other points in that same cluster. It also measures the distance between points in the orginal cluster to points in another cluster. Essentially it measures how good the clusters are at grouping data."
   ]
  },
  {
   "cell_type": "code",
   "execution_count": null,
   "metadata": {},
   "outputs": [],
   "source": [
    "# Compute the silhouette score\n",
    "silhouette_avg = silhouette_score(cluster_df, clusters)\n",
    "print(\"The average silhouette score is:\", silhouette_avg)"
   ]
  }
 ],
 "metadata": {
  "kernelspec": {
   "display_name": "Pandas",
   "language": "python",
   "name": "python3"
  },
  "language_info": {
   "codemirror_mode": {
    "name": "ipython",
    "version": 3
   },
   "file_extension": ".py",
   "mimetype": "text/x-python",
   "name": "python",
   "nbconvert_exporter": "python",
   "pygments_lexer": "ipython3",
   "version": "3.11.3"
  },
  "orig_nbformat": 4
 },
 "nbformat": 4,
 "nbformat_minor": 2
}
