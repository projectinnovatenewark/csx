{
 "cells": [
  {
   "cell_type": "markdown",
   "metadata": {},
   "source": [
    "## Create tweets and likes tables in our database."
   ]
  },
  {
   "cell_type": "markdown",
   "metadata": {},
   "source": [
    "We use some predefined functions throughout this lesson. Feel free to reference the `exec.py`, `config.py`, `exec.py`, and `query_rows.py` to see these functions."
   ]
  },
  {
   "cell_type": "code",
   "execution_count": null,
   "metadata": {},
   "outputs": [],
   "source": [
    "from exec import execute_query\n",
    "\n",
    "create_tweets_table = \"\"\"CREATE TABLE IF NOT EXISTS tweets(\n",
    "                            id serial not null primary key,\n",
    "                            username varchar(100),\n",
    "                            content varchar(280),\n",
    "                            created_at timestamp,\n",
    "                            FOREIGN KEY (username) REFERENCES users(username))\"\"\"\n",
    "\n",
    "execute_query(create_tweets_table)\n",
    "\n",
    "create_likes_table = \"\"\"CREATE TABLE IF NOT EXISTS likes(\n",
    "                            username varchar(100),\n",
    "                            tweet_id serial not null,\n",
    "                            FOREIGN KEY (username) REFERENCES users(username),\n",
    "                            FOREIGN KEY (tweet_id) REFERENCES tweets(id),\n",
    "                            PRIMARY KEY (tweet_id, username))\"\"\"  \n",
    "\n",
    "execute_query(create_likes_table)\n"
   ]
  }
 ],
 "metadata": {
  "kernelspec": {
   "display_name": "Python 3.11.0 64-bit",
   "language": "python",
   "name": "python3"
  },
  "language_info": {
   "codemirror_mode": {
    "name": "ipython",
    "version": 3
   },
   "file_extension": ".py",
   "mimetype": "text/x-python",
   "name": "python",
   "nbconvert_exporter": "python",
   "pygments_lexer": "ipython3",
   "version": "3.11.0"
  },
  "orig_nbformat": 4,
  "vscode": {
   "interpreter": {
    "hash": "1a1af0ee75eeea9e2e1ee996c87e7a2b11a0bebd85af04bb136d915cefc0abce"
   }
  }
 },
 "nbformat": 4,
 "nbformat_minor": 2
}
