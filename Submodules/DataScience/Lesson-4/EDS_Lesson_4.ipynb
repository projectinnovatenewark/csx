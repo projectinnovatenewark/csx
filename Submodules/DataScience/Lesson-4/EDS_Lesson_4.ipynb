{
 "cells": [
  {
   "cell_type": "markdown",
   "metadata": {},
   "source": [
    "# Time Series Analysis"
   ]
  },
  {
   "cell_type": "markdown",
   "metadata": {},
   "source": [
    "## Section 1"
   ]
  },
  {
   "cell_type": "markdown",
   "metadata": {},
   "source": [
    "### Introduction to Time Series Analysis"
   ]
  },
  {
   "cell_type": "markdown",
   "metadata": {},
   "source": [
    "Time series analysis is a statistical technique to analyze data collected over a period of time. Involves studying patterns, trends and relationships within the data to make predictions or draw insights about future behvaior."
   ]
  },
  {
   "cell_type": "markdown",
   "metadata": {},
   "source": [
    "TODO: Spend 2 minutes thinking about real world applications that time-series analysis could help with. Turn to another student and discuss why you think time-series analysis would be helpful. Try to find as many applications."
   ]
  },
  {
   "cell_type": "markdown",
   "metadata": {},
   "source": [
    "## Section 2"
   ]
  },
  {
   "cell_type": "markdown",
   "metadata": {},
   "source": [
    "### Import packages and load data into python"
   ]
  },
  {
   "cell_type": "code",
   "execution_count": null,
   "metadata": {},
   "outputs": [],
   "source": [
    "import pandas as pd\n",
    "import matplotlib.pyplot as plt\n",
    "\n",
    "df = pd.read_csv('holidays_events.csv')"
   ]
  },
  {
   "cell_type": "markdown",
   "metadata": {},
   "source": [
    "## Section 3"
   ]
  },
  {
   "cell_type": "markdown",
   "metadata": {},
   "source": [
    "### Plotting a graph from time-series data"
   ]
  },
  {
   "cell_type": "markdown",
   "metadata": {},
   "source": [
    "`data = pd.read_csv('time_series_data.csv', parse_dates=['date'], index_col='date'):` This line reads the time series data from a CSV file named `'time_series_data.csv'`. It uses the `read_csv()` function from pandas to load the data into a DataFrame. The `parse_dates` parameter is set to `'date'` to ensure that the `'date'` column is interpreted as datetime objects. The `index_col` parameter is set to `'date'` to use the `'date'` column as the index of the DataFrame.\n",
    "\n",
    "`plt.plot(data), plt.xlabel('Date'), plt.ylabel('Value'), plt.title('Time Series Data'),` and `plt.show()`: These lines create a simple line plot of the time series data using matplotlib. The `plot()` function is called with the DataFrame `'data'` as the input to plot the values over time. The `xlabel(), ylabel(), and title()` functions set the labels and title for the plot. Finally, `show()``` is called to display the plot."
   ]
  },
  {
   "cell_type": "code",
   "execution_count": null,
   "metadata": {},
   "outputs": [],
   "source": [
    "# Load time series data\n",
    "data = pd.read_csv('holidays_events.csv', parse_dates=['date'], index_col='date')\n",
    "\n",
    "# Plotting time series data\n",
    "plt.plot(data)\n",
    "plt.xlabel('Date')\n",
    "plt.ylabel('Value')\n",
    "plt.title('Time Series Data')\n",
    "plt.show()"
   ]
  },
  {
   "cell_type": "markdown",
   "metadata": {},
   "source": [
    "`pd.plotting.autocorrelation_plot(data), plt.xlabel('Lag'), plt.ylabel('Autocorrelation'), plt.title('Autocorrelation Plot')`, and `plt.show()`: These lines create an autocorrelation plot of the time series data using the `autocorrelation_plot()` function from `pandas.plotting`. The `autocorrelation_plot()` function computes the autocorrelation at different lags and plots it. The `xlabel(), ylabel()`, and `title()` functions set the labels and title for the plot. Finally, `show()` is called to display the plot.\n",
    "\n",
    "`from statsmodels.tsa.stattools import adfuller`: This line imports the `adfuller()` function from the `statsmodels.tsa.stattools` module. The `adfuller()` function is used to perform the Augmented Dickey-Fuller (ADF) test, which is a statistical test for stationarity of a time series.\n",
    "\n",
    "`result = adfuller(data)`: This line calls the `adfuller()` function with the 'data' DataFrame as the input to perform the ADF test. The result is stored in the 'result' variable.\n",
    "\n",
    "`print('ADF Statistic:', result[0]), print('p-value:', result[1]), and print('Critical Values:')`: These lines print out the results of the ADF test. The ADF statistic, p-value, and critical values are accessed from the `'result'` variable.\n",
    "\n",
    "`for key, value in result[4].items(): print(f'{key}: {value}')`: This line iterates over the critical values stored in the `'result'` variable and prints each key-value pair. The critical values represent different levels of significance for the ADF test and are used to determine the stationarity of the time series.\n",
    "\n",
    "Overall, this code loads time series data, plots the time series data, creates an autocorrelation plot, and performs the ADF test to check for stationarity."
   ]
  },
  {
   "cell_type": "code",
   "execution_count": null,
   "metadata": {},
   "outputs": [],
   "source": [
    "# Autocorrelation plot\n",
    "pd.plotting.autocorrelation_plot(data)\n",
    "plt.xlabel('Lag')\n",
    "plt.ylabel('Autocorrelation')\n",
    "plt.title('Autocorrelation Plot')\n",
    "plt.show()\n",
    "\n",
    "# Check stationarity using Augmented Dickey-Fuller test\n",
    "from statsmodels.tsa.stattools import adfuller\n",
    "\n",
    "result = adfuller(data)\n",
    "print('ADF Statistic:', result[0])\n",
    "print('p-value:', result[1])\n",
    "print('Critical Values:')\n",
    "for key, value in result[4].items():\n",
    "    print(f'{key}: {value}')"
   ]
  },
  {
   "cell_type": "markdown",
   "metadata": {},
   "source": []
  }
 ],
 "metadata": {
  "kernelspec": {
   "display_name": "base",
   "language": "python",
   "name": "python3"
  },
  "language_info": {
   "codemirror_mode": {
    "name": "ipython",
    "version": 3
   },
   "file_extension": ".py",
   "mimetype": "text/x-python",
   "name": "python",
   "nbconvert_exporter": "python",
   "pygments_lexer": "ipython3",
   "version": "3.11.3"
  },
  "orig_nbformat": 4
 },
 "nbformat": 4,
 "nbformat_minor": 2
}
