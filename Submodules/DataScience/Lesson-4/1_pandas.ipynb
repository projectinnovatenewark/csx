{
 "cells": [
  {
   "attachments": {},
   "cell_type": "markdown",
   "id": "0182df47",
   "metadata": {},
   "source": [
    "You can install the following packages by changing directories to this folder then running `pip3 install -r requirements.txt`\n",
    "\n",
    "If you have any issues with installation or imports, make sure you are using the correct python kernel. Worst case, install Anaconda w/ Python."
   ]
  },
  {
   "cell_type": "code",
   "execution_count": null,
   "id": "eda8f102",
   "metadata": {},
   "outputs": [],
   "source": [
    "%matplotlib inline\n",
    "import matplotlib.pyplot as plt\n",
    "import seaborn as sns\n",
    "import pandas as pd\n",
    "import numpy as np\n",
    "from exec import *\n",
    "from config import *"
   ]
  },
  {
   "attachments": {},
   "cell_type": "markdown",
   "id": "d027c1b1",
   "metadata": {},
   "source": [
    "# <b> Pandas and Dataframes </b>\n",
    "\n",
    "query data from our database\n"
   ]
  },
  {
   "cell_type": "code",
   "execution_count": null,
   "id": "40b859a4",
   "metadata": {},
   "outputs": [],
   "source": [
    "def get_all_users():\n",
    "    users_query =   \"\"\"\n",
    "                    SELECT username FROM users;\n",
    "                    \"\"\"\n",
    "\n",
    "    users_set = execute_query(users_query)\n",
    "\n",
    "    username_list = []\n",
    "\n",
    "    for user in users_set:\n",
    "        username_list.append(user['username'])\n",
    "    return(username_list)\n",
    "\n",
    "\n",
    "users = get_all_users()\n",
    "\n",
    "df_users = pd.DataFrame(users, columns=[\"usernames\"])\n",
    "\n",
    "print(df_users)"
   ]
  },
  {
   "attachments": {},
   "cell_type": "markdown",
   "id": "5b3532d4",
   "metadata": {},
   "source": [
    "query data from a csv"
   ]
  },
  {
   "cell_type": "code",
   "execution_count": null,
   "id": "e0bee83a",
   "metadata": {},
   "outputs": [],
   "source": [
    "# link to get this data on GH\n",
    "# https://raw.githubusercontent.com/kshedden/statswpy/master/NHANES/merged/nhanes_2015_2016.csv\n",
    "\n",
    "df_students = pd.read_csv(\"StudentsPerformance.csv\")\n",
    "\n",
    "print(df_students)"
   ]
  },
  {
   "cell_type": "code",
   "execution_count": null,
   "id": "00bcc749",
   "metadata": {},
   "outputs": [],
   "source": [
    "df_hanes = pd.read_csv(\"nhanes.csv\")\n",
    "\n",
    "print(df_hanes)"
   ]
  },
  {
   "attachments": {},
   "cell_type": "markdown",
   "id": "cbb21c8b",
   "metadata": {},
   "source": [
    "# <b> Dataframe Deepdive </b>"
   ]
  },
  {
   "cell_type": "code",
   "execution_count": null,
   "id": "e9e9e4fa",
   "metadata": {},
   "outputs": [],
   "source": [
    "num_rows = int(input(\"How many rows do you want to see?\"))\n",
    "\n",
    "df_users.head(num_rows)"
   ]
  },
  {
   "cell_type": "code",
   "execution_count": null,
   "id": "bc546845",
   "metadata": {},
   "outputs": [],
   "source": [
    "#TIP: Use `.loc(rows)` to display the row you want to see from the dataset.\n",
    "\n",
    "row = int(input(\"Which row do you want to see?\"))\n",
    "\n",
    "df_users.loc[row]"
   ]
  },
  {
   "cell_type": "code",
   "execution_count": null,
   "id": "8aef57da",
   "metadata": {},
   "outputs": [],
   "source": [
    "df_students.lunch.value_counts()"
   ]
  },
  {
   "cell_type": "code",
   "execution_count": null,
   "id": "99e01aed",
   "metadata": {},
   "outputs": [],
   "source": [
    "# Respondants' education levels\n",
    "print(df_hanes.Education.value_counts())\n",
    "\n",
    "# Total number of respondents that said they had an education\n",
    "print(f\"Respondents that answered if they have an education: {df_hanes.Education.value_counts().sum()}\")\n",
    "# TIP: You can stack various function on your query in a DF.\n",
    "\n"
   ]
  },
  {
   "cell_type": "code",
   "execution_count": null,
   "id": "ede2d908",
   "metadata": {},
   "outputs": [],
   "source": [
    "# Total number of respondents that answered at all, given that every respondent has an ID\n",
    "print(f\"Respondents that answered: {df_hanes.ID.count()}\")"
   ]
  },
  {
   "cell_type": "code",
   "execution_count": null,
   "id": "de3c50cf",
   "metadata": {},
   "outputs": [],
   "source": [
    "df_students.groupby(\"gender\")[\"math score\"].value_counts()\n",
    "#TIP: ...\n",
    "# https://pandas.pydata.org/docs/reference/api/pandas.DataFrame.groupby.html\n",
    "# Pandas groupby is used for grouping the data according to the categories and apply a function to the categories. It also helps to aggregate data efficiently.\n",
    "\n",
    "# Pandas dataframe.groupby() function is used to split the data into groups based on some criteria. pandas objects can be split on any of their axes. \n",
    "# The abstract definition of grouping is to provide a mapping of labels to group names."
   ]
  },
  {
   "cell_type": "code",
   "execution_count": null,
   "id": "a9a2f798",
   "metadata": {},
   "outputs": [],
   "source": [
    "dx = df_hanes.loc[~df_hanes.Education.isin([\"Some value you want to remove.\"]), :]  # Eliminate specific values\n",
    "print(dx)\n",
    "\n",
    "dx = dx.groupby([\"AgeDecade\", \"Gender\"])[\"Education\"]\n",
    "dx = dx.value_counts()\n",
    "print(dx)\n"
   ]
  },
  {
   "cell_type": "code",
   "execution_count": null,
   "id": "3e25e17e",
   "metadata": {},
   "outputs": [],
   "source": [
    "\n",
    "dx = dx.unstack() # Restructure the results from 'long' to 'wide'\n",
    "print(dx)\n"
   ]
  },
  {
   "cell_type": "code",
   "execution_count": null,
   "id": "3337d3dd",
   "metadata": {},
   "outputs": [],
   "source": [
    "\n",
    "dx = dx.apply(lambda x: x/x.sum(), axis=1) # Normalize within each stratum to get proportions\n",
    "print(dx)"
   ]
  },
  {
   "cell_type": "code",
   "execution_count": null,
   "id": "467f11ca",
   "metadata": {},
   "outputs": [],
   "source": [
    "print(dx.to_string(float_format=\"%.3f\"))  # Limit display to 3 decimal places"
   ]
  },
  {
   "attachments": {},
   "cell_type": "markdown",
   "id": "4e21c1ae",
   "metadata": {},
   "source": [
    "# <b> Creating new columns in the data frame for derivative values </b>"
   ]
  },
  {
   "cell_type": "code",
   "execution_count": null,
   "id": "20c4a4a6",
   "metadata": {},
   "outputs": [],
   "source": [
    "#TODO: \n",
    "\n",
    "# likes_per_tweet / len_of_tweet:\n",
    "#   get all tweets\n",
    "#       put the length of a tweet in a new table sorted by tweetID\n",
    "#   get all likes\n",
    "#       aggregate likes per tweet and put in new variable by tweetID\n",
    "#       df_fitter.tweetID.value_counts()\n",
    "#   make a new table of columns: tweetID, tweet likes, length of tweets\n",
    "#       df_fitter.groupby(\"likes\")[\"length\"].value_counts()\n",
    "#       analyze correlation"
   ]
  },
  {
   "cell_type": "code",
   "execution_count": null,
   "id": "4f89457a",
   "metadata": {},
   "outputs": [],
   "source": [
    "def get_all_likes():\n",
    "    likes_query =   \"\"\"\n",
    "                    SELECT * FROM likes;\n",
    "                    \"\"\"\n",
    "\n",
    "    likes_set = execute_query(likes_query)\n",
    "\n",
    "    like_list = []\n",
    "\n",
    "    for like in likes_set:\n",
    "        like_list.append(like[1])\n",
    "    return(like_list)\n",
    "\n",
    "\n",
    "likes = get_all_likes()\n",
    "\n",
    "df_likes = pd.DataFrame(likes, columns=[\"tweetID\"])\n",
    "\n",
    "print(df_likes)\n",
    "\n",
    "print(df_likes.value_counts())"
   ]
  },
  {
   "cell_type": "code",
   "execution_count": null,
   "id": "f3351602",
   "metadata": {},
   "outputs": [],
   "source": [
    "def get_all_tweets():\n",
    "    tweets_query =   \"\"\"\n",
    "                    SELECT * FROM tweets;\n",
    "                    \"\"\"\n",
    "\n",
    "    tweets_set = execute_query(tweets_query)\n",
    "\n",
    "    # print(tweets_set)\n",
    "\n",
    "    tweet_list = []\n",
    "\n",
    "    for tweet in tweets_set:\n",
    "        # print(tweet)\n",
    "        tweet_list.append([tweet[0],len(tweet[2])])\n",
    "    return(tweet_list)\n",
    "\n",
    "\n",
    "tweets = get_all_tweets()\n",
    "\n",
    "df_tweets = pd.DataFrame(tweets, columns=[\"tweetID\", \"length\"])\n",
    "\n",
    "print(df_tweets)\n"
   ]
  },
  {
   "cell_type": "code",
   "execution_count": null,
   "id": "9d87c93c",
   "metadata": {},
   "outputs": [],
   "source": [
    "df_likes_aggregate = df_likes.value_counts().rename_axis('tweetID').reset_index(name='counts')\n",
    "print (df_likes_aggregate)"
   ]
  },
  {
   "cell_type": "code",
   "execution_count": null,
   "id": "a23d7142",
   "metadata": {},
   "outputs": [],
   "source": [
    "#inner join\n",
    "merged_inner = pd.merge(left=df_likes_aggregate, right=df_tweets, left_on='tweetID', right_on='tweetID')\n",
    "\n",
    "merged_inner"
   ]
  },
  {
   "cell_type": "code",
   "execution_count": null,
   "id": "da15a8a7",
   "metadata": {},
   "outputs": [],
   "source": [
    "df = merged_inner.groupby(\"length\")[\"counts\"].value_counts()\n",
    "\n",
    "print(df)"
   ]
  },
  {
   "attachments": {},
   "cell_type": "markdown",
   "id": "29cabe4b",
   "metadata": {},
   "source": [
    "# <b> Visualization Introduction </b>\n",
    "- #### demonstrate most common graph types\n",
    "- #### finish with scatterplot between tweet length and like count\n"
   ]
  },
  {
   "cell_type": "code",
   "execution_count": null,
   "id": "11f34db6",
   "metadata": {},
   "outputs": [],
   "source": [
    "g = sns.barplot(x=\"lunch\", y=\"math score\", data=df_students)"
   ]
  },
  {
   "cell_type": "code",
   "execution_count": null,
   "id": "13a25b84",
   "metadata": {},
   "outputs": [],
   "source": [
    "g = sns.FacetGrid(df_students, row = \"lunch\")\n",
    "g = g.map(plt.hist, \"math score\")\n",
    "plt.show()"
   ]
  },
  {
   "cell_type": "code",
   "execution_count": null,
   "id": "f6fb0713",
   "metadata": {},
   "outputs": [],
   "source": [
    "# Create a boxplot and histogram of the tips grouped by the day\n",
    "sns.boxplot(x = df_hanes[\"Age\"], y = df_hanes[\"HHIncome\"])"
   ]
  },
  {
   "cell_type": "code",
   "execution_count": null,
   "id": "b23f1d1f",
   "metadata": {},
   "outputs": [],
   "source": [
    "# Create a boxplot and histogram of the tips grouped by the day\n",
    "sns.boxplot(x = df_hanes[\"Age\"], y = df_hanes[\"HealthGen\"])"
   ]
  },
  {
   "cell_type": "code",
   "execution_count": null,
   "id": "2f0536b6",
   "metadata": {},
   "outputs": [],
   "source": [
    "sns.scatterplot(data = df_hanes, x = \"Age\", y = \"HealthGen\")\n",
    "\n",
    "plt.show()"
   ]
  },
  {
   "cell_type": "code",
   "execution_count": null,
   "id": "c6349fe3",
   "metadata": {},
   "outputs": [],
   "source": [
    "sns.scatterplot(data = df_hanes, x = \"Age\", y = \"HHIncome\")\n",
    "\n",
    "plt.show()"
   ]
  },
  {
   "cell_type": "code",
   "execution_count": null,
   "id": "08e22a14",
   "metadata": {},
   "outputs": [],
   "source": [
    "grid = sns.FacetGrid(df_hanes, col = \"HealthGen\", hue = \"HealthGen\", col_wrap=1)\n",
    "grid.map(sns.scatterplot, \"HHIncome\", \"Age\")\n",
    "\n",
    "grid.add_legend()\n",
    "\n",
    "plt.show()\n"
   ]
  },
  {
   "attachments": {},
   "cell_type": "markdown",
   "id": "60d0dab2",
   "metadata": {},
   "source": [
    "### fitter correlation"
   ]
  },
  {
   "cell_type": "code",
   "execution_count": null,
   "id": "463a8d86",
   "metadata": {},
   "outputs": [],
   "source": [
    "sns.scatterplot(data = merged_inner, x = \"counts\", y = \"length\")\n",
    "\n",
    "plt.show()\n",
    "\n",
    "#scatterplot between counts and length "
   ]
  },
  {
   "cell_type": "code",
   "execution_count": null,
   "id": "469afcca",
   "metadata": {},
   "outputs": [],
   "source": [
    "print(merged_inner['counts'].corr(merged_inner['length']))\n",
    "\n",
    "#correlation on the mergred_inner df between counts (likes on a tweet) and tweet length"
   ]
  },
  {
   "cell_type": "code",
   "execution_count": null,
   "id": "5d56950e",
   "metadata": {},
   "outputs": [],
   "source": [
    "#TODO: "
   ]
  }
 ],
 "metadata": {
  "interpreter": {
   "hash": "1fc498d6039974c203fd666ccd77857e0208a43cba16f4681d52b858100ce542"
  },
  "kernelspec": {
   "display_name": "Python 3.9.12 ('base')",
   "language": "python",
   "name": "python3"
  },
  "language_info": {
   "codemirror_mode": {
    "name": "ipython",
    "version": 3
   },
   "file_extension": ".py",
   "mimetype": "text/x-python",
   "name": "python",
   "nbconvert_exporter": "python",
   "pygments_lexer": "ipython3",
   "version": "3.9.12"
  },
  "vscode": {
   "interpreter": {
    "hash": "9d2f90ce7fcadaec65a6333d4817be2d19c4bb6b0d388840cd47906046a63f59"
   }
  }
 },
 "nbformat": 4,
 "nbformat_minor": 5
}
