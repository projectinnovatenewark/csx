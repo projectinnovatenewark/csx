{
 "cells": [
  {
   "cell_type": "markdown",
   "metadata": {},
   "source": [
    "# Quick review of CRUD in SQL"
   ]
  },
  {
   "cell_type": "markdown",
   "metadata": {},
   "source": [
    "### Create"
   ]
  },
  {
   "cell_type": "code",
   "execution_count": null,
   "metadata": {},
   "outputs": [],
   "source": [
    "from exec import execute_query\n",
    "\n",
    "# Here is some existing code to read from tweets - run this to get some values. Then, take\n",
    "# those values to \"create\" some likes.\n",
    "tweet_query = \"SELECT * FROM tweets;\"\n",
    "\n",
    "tweets = execute_query(tweet_query)\n",
    "for t in tweets:\n",
    "    print(t)\n",
    "\n",
    "user_query = \"SELECT * FROM users;\"\n",
    "\n",
    "users = execute_query(user_query)\n",
    "for u in users:\n",
    "    print(u)\n",
    "\n",
    "# Update the below code to write likes into your table.\n",
    "\n",
    "# Fix the query\n",
    "likes_query = \"\"\"\n",
    "INSERT INTO likes(username, tweet_id)\n",
    "VALUES \n",
    "('userX', 1), \n",
    "('userY', 1), \n",
    "('userZ', 2), \n",
    "\"\"\"\n",
    "\n",
    "# Call the execute_query function to run the above query.\n",
    "\n"
   ]
  },
  {
   "cell_type": "markdown",
   "metadata": {},
   "source": [
    "### Read"
   ]
  },
  {
   "cell_type": "code",
   "execution_count": null,
   "metadata": {},
   "outputs": [],
   "source": [
    "# If your previous code worked, you should see the new likes you created above.\n",
    "users_query = \"SELECT * FROM likes;\"\n",
    "\n",
    "users = execute_query(users_query)\n",
    "for user in users:\n",
    "    print(user)"
   ]
  },
  {
   "cell_type": "markdown",
   "metadata": {},
   "source": [
    "### Update"
   ]
  },
  {
   "cell_type": "code",
   "execution_count": null,
   "metadata": {},
   "outputs": [],
   "source": [
    "users_query = \"\"\"UPDATE tweets \n",
    "                 SET content = 'test1' \n",
    "                 WHERE content = 'test0';\"\"\"\n",
    "                 \n",
    "execute_query(users_query)"
   ]
  },
  {
   "cell_type": "code",
   "execution_count": null,
   "metadata": {},
   "outputs": [],
   "source": [
    "users_query = \"\"\"UPDATE likes \n",
    "                 SET likes.tweetID = '1' \n",
    "                 WHERE likes.tweetID = '0';\"\"\"\n",
    "                 \n",
    "execute_query(users_query)"
   ]
  },
  {
   "cell_type": "markdown",
   "metadata": {},
   "source": [
    "### Delete"
   ]
  },
  {
   "cell_type": "code",
   "execution_count": null,
   "metadata": {},
   "outputs": [],
   "source": [
    "users_query = \"DELETE FROM tweets WHERE 'content' = 'test1';\"\n",
    "\n",
    "execute_query(users_query)"
   ]
  },
  {
   "cell_type": "code",
   "execution_count": null,
   "metadata": {},
   "outputs": [],
   "source": [
    "users_query = \"DELETE FROM likes WHERE 'tweetID' = '1';\"\n",
    "\n",
    "execute_query(users_query)"
   ]
  }
 ],
 "metadata": {
  "kernelspec": {
   "display_name": "Python 3.11.0 64-bit",
   "language": "python",
   "name": "python3"
  },
  "language_info": {
   "codemirror_mode": {
    "name": "ipython",
    "version": 3
   },
   "file_extension": ".py",
   "mimetype": "text/x-python",
   "name": "python",
   "nbconvert_exporter": "python",
   "pygments_lexer": "ipython3",
   "version": "3.11.0"
  },
  "orig_nbformat": 4,
  "vscode": {
   "interpreter": {
    "hash": "1a1af0ee75eeea9e2e1ee996c87e7a2b11a0bebd85af04bb136d915cefc0abce"
   }
  }
 },
 "nbformat": 4,
 "nbformat_minor": 2
}
