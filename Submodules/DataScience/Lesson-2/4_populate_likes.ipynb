{
 "cells": [
  {
   "cell_type": "code",
   "execution_count": null,
   "metadata": {},
   "outputs": [],
   "source": [
    "\"\"\"\n",
    "Here we programmatically creates likes and creates MORE likes for tweets of longer length.\n",
    "This is so we can demo the linear relationship between tweet length and likes per tweet.\n",
    "\"\"\"\n",
    "\n",
    "#TIP: FOR DAY 2 - REMEMBER TO CREATE A LINEAR RELATIONSHIP BETWEEN THE LIKES AND NUMBER OF TWEETS\n",
    "\n",
    "#TODO: Rename files to be snake case and variable names.\n",
    "\n",
    "from exec import *\n",
    "from query_rows import get_all_users\n",
    "import random\n"
   ]
  },
  {
   "cell_type": "code",
   "execution_count": null,
   "metadata": {},
   "outputs": [],
   "source": [
    "\n",
    "tweet_query = \"SELECT * FROM tweets;\"\n",
    "\n",
    "tweets = execute_query(tweet_query)\n",
    "MAX_TWEET_LENGTH = 280\n",
    "\n",
    "users = get_all_users()\n",
    "\n",
    "print(users)"
   ]
  },
  {
   "cell_type": "code",
   "execution_count": null,
   "metadata": {},
   "outputs": [],
   "source": [
    "for tweet in tweets:\n",
    "    tweet_obj = tweet._mapping\n",
    "    # print(tweet_obj)\n",
    "    tweet_length = len(tweet_obj['content'])\n",
    "    existing_likes = set()\n",
    "    existing_likes.add(tweet_obj['username'])\n",
    "    for _ in range(20):\n",
    "        # part over whole as tweet_length is somewhere between 0 and 280\n",
    "        probability = tweet_length / MAX_TWEET_LENGTH\n",
    "        #if tweet is 28 characters long, we want a 10% chance that it is liked per iteration\n",
    "        like_or_not = random.random() < probability\n",
    "        if like_or_not:\n",
    "            id = tweet_obj['id']\n",
    "            username = \"\"\n",
    "            num_tries = 3\n",
    "            while not username and num_tries:\n",
    "                likee = users[random.randint(0, len(users) - 1)]['username']\n",
    "                if likee not in existing_likes:\n",
    "                    username = likee\n",
    "                print(likee)\n",
    "                num_tries -= 1\n",
    "            #if we could not find a unique username to like this tweet, don't create a new like\n",
    "            if not username:\n",
    "                continue\n",
    "            like_query_string = f\"\"\"INSERT INTO likes(username, tweet_id) VALUES\n",
    "                                    ('{username}', \n",
    "                                    '{id}');\"\"\"\n",
    "            existing_likes.add(username)\n",
    "            execute_query(like_query_string)"
   ]
  }
 ],
 "metadata": {
  "kernelspec": {
   "display_name": "Python 3.11.0 64-bit",
   "language": "python",
   "name": "python3"
  },
  "language_info": {
   "codemirror_mode": {
    "name": "ipython",
    "version": 3
   },
   "file_extension": ".py",
   "mimetype": "text/x-python",
   "name": "python",
   "nbconvert_exporter": "python",
   "pygments_lexer": "ipython3",
   "version": "3.11.0"
  },
  "orig_nbformat": 4,
  "vscode": {
   "interpreter": {
    "hash": "1a1af0ee75eeea9e2e1ee996c87e7a2b11a0bebd85af04bb136d915cefc0abce"
   }
  }
 },
 "nbformat": 4,
 "nbformat_minor": 2
}
