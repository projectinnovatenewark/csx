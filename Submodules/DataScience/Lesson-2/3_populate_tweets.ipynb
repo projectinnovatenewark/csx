{
 "cells": [
  {
   "cell_type": "markdown",
   "metadata": {},
   "source": [
    "## Put some tweets in our tweets table."
   ]
  },
  {
   "attachments": {},
   "cell_type": "markdown",
   "metadata": {},
   "source": [
    "Define a new file called `5_populate_tweets.py`. Copy/paste the contents of this file into that file."
   ]
  },
  {
   "cell_type": "markdown",
   "metadata": {},
   "source": [
    "Here we want to put some dummy data into our tweets table. We can do this by inserting some amount of sentences from the famous \"Lorem Ipsum\" text that is used as placeholder content."
   ]
  },
  {
   "cell_type": "code",
   "execution_count": 1,
   "metadata": {},
   "outputs": [],
   "source": [
    "from exec import execute_query\n",
    "from config import *\n",
    "import random"
   ]
  },
  {
   "cell_type": "code",
   "execution_count": 3,
   "metadata": {},
   "outputs": [
    {
     "ename": "ValueError",
     "evalue": "invalid literal for int() with base 10: ''",
     "output_type": "error",
     "traceback": [
      "\u001b[0;31m---------------------------------------------------------------------------\u001b[0m",
      "\u001b[0;31mValueError\u001b[0m                                Traceback (most recent call last)",
      "Cell \u001b[0;32mIn[3], line 6\u001b[0m\n\u001b[1;32m      1\u001b[0m lorem_ipsum \u001b[39m=\u001b[39m   [\u001b[39m\"\u001b[39m\u001b[39mLorem ipsum dolor sit amet, consectetur adipiscing elit.\u001b[39m\u001b[39m\"\u001b[39m, \n\u001b[1;32m      2\u001b[0m                 \u001b[39m\"\u001b[39m\u001b[39mAenean rutrum dui sit amet tortor luctus, in congue felis auctor.\u001b[39m\u001b[39m\"\u001b[39m, \n\u001b[1;32m      3\u001b[0m                 \u001b[39m\"\u001b[39m\u001b[39mCurabitur congue velit nec commodo consequat.\u001b[39m\u001b[39m\"\u001b[39m,\n\u001b[1;32m      4\u001b[0m                 \u001b[39m\"\u001b[39m\u001b[39mQuisque sit amet mauris vitae ligula condimentum laoreet.\u001b[39m\u001b[39m\"\u001b[39m]\n\u001b[0;32m----> 6\u001b[0m results_number \u001b[39m=\u001b[39m \u001b[39mint\u001b[39;49m(\u001b[39minput\u001b[39;49m(\u001b[39m\"\u001b[39;49m\u001b[39mEnter desired number of new tweets: \u001b[39;49m\u001b[39m\"\u001b[39;49m))\n",
      "\u001b[0;31mValueError\u001b[0m: invalid literal for int() with base 10: ''"
     ]
    }
   ],
   "source": [
    "lorem_ipsum =   [\"Lorem ipsum dolor sit amet, consectetur adipiscing elit.\", \n",
    "                \"Aenean rutrum dui sit amet tortor luctus, in congue felis auctor.\", \n",
    "                \"Curabitur congue velit nec commodo consequat.\",\n",
    "                \"Quisque sit amet mauris vitae ligula condimentum laoreet.\"]\n",
    "\n",
    "results_number = int(input(\"Enter desired number of new tweets: \"))"
   ]
  },
  {
   "cell_type": "code",
   "execution_count": null,
   "metadata": {},
   "outputs": [],
   "source": [
    "for i in range(results_number):\n",
    "\n",
    "    random_tweet_length = random.randint(1, 3)\n",
    "\n",
    "    users_query =   \"\"\"\n",
    "                    SELECT username FROM users;\n",
    "                    \"\"\"\n",
    "\n",
    "    users = execute_query(users_query)\n",
    "\n",
    "    users_list = []\n",
    "\n",
    "    for user in users:\n",
    "        users_list.append(str(user)[2:-3])\n",
    "\n",
    "    random_user_index = random.randint(0, len(users_list) - 1)\n",
    "\n",
    "    lucky_user = users_list[random_user_index]\n",
    "\n",
    "    username = lucky_user\n",
    "    content = \" \".join(lorem_ipsum[:random_tweet_length])\n",
    "    created_at = \"CURRENT_TIMESTAMP\"\n",
    "\n",
    "    tweet_query_string = f\"\"\"INSERT INTO tweets(username, content, created_at) VALUES\n",
    "                        ('{username}', \n",
    "                        '{content}', \n",
    "                         {created_at});\"\"\"\n",
    "\n",
    "    execute_query(tweet_query_string)\n"
   ]
  }
 ],
 "metadata": {
  "kernelspec": {
   "display_name": "Python 3.11.0 64-bit",
   "language": "python",
   "name": "python3"
  },
  "language_info": {
   "codemirror_mode": {
    "name": "ipython",
    "version": 3
   },
   "file_extension": ".py",
   "mimetype": "text/x-python",
   "name": "python",
   "nbconvert_exporter": "python",
   "pygments_lexer": "ipython3",
   "version": "3.10.9"
  },
  "orig_nbformat": 4,
  "vscode": {
   "interpreter": {
    "hash": "1a1af0ee75eeea9e2e1ee996c87e7a2b11a0bebd85af04bb136d915cefc0abce"
   }
  }
 },
 "nbformat": 4,
 "nbformat_minor": 2
}
