{
 "cells": [
  {
   "cell_type": "markdown",
   "metadata": {},
   "source": [
    "## Put some tweets in our tweets table."
   ]
  },
  {
   "cell_type": "markdown",
   "metadata": {},
   "source": [
    "Here we want to put some dummy data into our tweets table. We can do this by inserting some amount of sentences from the famous \"Lorem Ipsum\" text that is used as placeholder content."
   ]
  },
  {
   "cell_type": "code",
   "execution_count": null,
   "metadata": {},
   "outputs": [],
   "source": [
    "from exec import execute_query\n",
    "from config import *\n",
    "import random"
   ]
  },
  {
   "cell_type": "code",
   "execution_count": null,
   "metadata": {},
   "outputs": [],
   "source": [
    "lorem_ipsum =   [\"Lorem ipsum dolor sit amet, consectetur adipiscing elit.\", \n",
    "                \"Aenean rutrum dui sit amet tortor luctus, in congue felis auctor.\", \n",
    "                \"Curabitur congue velit nec commodo consequat.\",\n",
    "                \"Quisque sit amet mauris vitae ligula condimentum laoreet.\"]\n",
    "\n",
    "results_number = int(input(\"Enter desired number of new tweets: \"))"
   ]
  },
  {
   "cell_type": "code",
   "execution_count": null,
   "metadata": {},
   "outputs": [],
   "source": [
    "for i in range(results_number):\n",
    "\n",
    "    random_tweet_length = random.randint(1, 3)\n",
    "\n",
    "    users_query =   \"\"\"\n",
    "                    SELECT username FROM users;\n",
    "                    \"\"\"\n",
    "\n",
    "    users = execute_query(users_query)\n",
    "\n",
    "    users_list = []\n",
    "\n",
    "    for user in users:\n",
    "        users_list.append(str(user)[2:-3])\n",
    "\n",
    "    random_user_index = random.randint(0, len(users_list) - 1)\n",
    "\n",
    "    lucky_user = users_list[random_user_index]\n",
    "\n",
    "    username = lucky_user\n",
    "    content = \" \".join(lorem_ipsum[:random_tweet_length])\n",
    "    created_at = \"CURRENT_TIMESTAMP\"\n",
    "\n",
    "    tweet_query_string = f\"\"\"INSERT INTO tweets(username, content, created_at) VALUES\n",
    "                        ('{username}', \n",
    "                        '{content}', \n",
    "                         {created_at});\"\"\"\n",
    "\n",
    "    execute_query(tweet_query_string)\n"
   ]
  }
 ],
 "metadata": {
  "kernelspec": {
   "display_name": "Python 3.11.0 64-bit",
   "language": "python",
   "name": "python3"
  },
  "language_info": {
   "codemirror_mode": {
    "name": "ipython",
    "version": 3
   },
   "file_extension": ".py",
   "mimetype": "text/x-python",
   "name": "python",
   "nbconvert_exporter": "python",
   "pygments_lexer": "ipython3",
   "version": "3.11.0"
  },
  "orig_nbformat": 4,
  "vscode": {
   "interpreter": {
    "hash": "1a1af0ee75eeea9e2e1ee996c87e7a2b11a0bebd85af04bb136d915cefc0abce"
   }
  }
 },
 "nbformat": 4,
 "nbformat_minor": 2
}
