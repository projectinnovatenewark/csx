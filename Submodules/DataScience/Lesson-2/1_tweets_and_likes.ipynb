{
 "cells": [
  {
   "cell_type": "markdown",
   "metadata": {},
   "source": [
    "## Create tweets and likes tables in our database."
   ]
  },
  {
   "cell_type": "markdown",
   "metadata": {},
   "source": [
    "We use some predefined functions throughout this lesson. Feel free to reference the `exec.py`, `config.py`, `exec.py`, and `query_rows.py` to see these functions."
   ]
  },
  {
   "attachments": {},
   "cell_type": "markdown",
   "metadata": {},
   "source": [
    "Define a new file called `3_Tweets.py`. Copy/paste the contents from this file into that file."
   ]
  },
  {
   "cell_type": "code",
   "execution_count": 4,
   "metadata": {},
   "outputs": [
    {
     "name": "stdout",
     "output_type": "stream",
     "text": [
      "running query:  CREATE TABLE IF NOT EXISTS tweets(\n",
      "                            id serial not null primary key,\n",
      "                            username varchar(100),\n",
      "                            content varchar(280),\n",
      "                            created_at timestamp,\n",
      "                            FOREIGN KEY (username) REFERENCES users(username))\n"
     ]
    },
    {
     "data": {
      "text/plain": [
       "<sqlalchemy.engine.cursor.CursorResult at 0x107a09b70>"
      ]
     },
     "execution_count": 4,
     "metadata": {},
     "output_type": "execute_result"
    }
   ],
   "source": [
    "from exec import execute_query\n",
    "\n",
    "create_tweets_table = \"\"\"CREATE TABLE IF NOT EXISTS tweets(\n",
    "                            id serial not null primary key,\n",
    "                            username varchar(100),\n",
    "                            content varchar(280),\n",
    "                            created_at timestamp,\n",
    "                            FOREIGN KEY (username) REFERENCES users(username))\"\"\"\n",
    "\n",
    "execute_query(create_tweets_table)\n"
   ]
  },
  {
   "cell_type": "code",
   "execution_count": 5,
   "metadata": {},
   "outputs": [
    {
     "name": "stdout",
     "output_type": "stream",
     "text": [
      "running query:  CREATE TABLE IF NOT EXISTS likes(\n",
      "                            username varchar(100),\n",
      "                            tweet_id serial not null,\n",
      "                            FOREIGN KEY (username) REFERENCES users(username),\n",
      "                            FOREIGN KEY (tweet_id) REFERENCES tweets(id),\n",
      "                            PRIMARY KEY (tweet_id, username))\n"
     ]
    },
    {
     "data": {
      "text/plain": [
       "<sqlalchemy.engine.cursor.CursorResult at 0x107a09e10>"
      ]
     },
     "execution_count": 5,
     "metadata": {},
     "output_type": "execute_result"
    }
   ],
   "source": [
    "create_likes_table = \"\"\"CREATE TABLE IF NOT EXISTS likes(\n",
    "                            username varchar(100),\n",
    "                            tweet_id serial not null,\n",
    "                            FOREIGN KEY (username) REFERENCES users(username),\n",
    "                            FOREIGN KEY (tweet_id) REFERENCES tweets(id),\n",
    "                            PRIMARY KEY (tweet_id, username))\"\"\"  \n",
    "\n",
    "execute_query(create_likes_table)"
   ]
  }
 ],
 "metadata": {
  "kernelspec": {
   "display_name": "Python 3.11.0 64-bit",
   "language": "python",
   "name": "python3"
  },
  "language_info": {
   "codemirror_mode": {
    "name": "ipython",
    "version": 3
   },
   "file_extension": ".py",
   "mimetype": "text/x-python",
   "name": "python",
   "nbconvert_exporter": "python",
   "pygments_lexer": "ipython3",
   "version": "3.10.9"
  },
  "orig_nbformat": 4,
  "vscode": {
   "interpreter": {
    "hash": "1a1af0ee75eeea9e2e1ee996c87e7a2b11a0bebd85af04bb136d915cefc0abce"
   }
  }
 },
 "nbformat": 4,
 "nbformat_minor": 2
}
