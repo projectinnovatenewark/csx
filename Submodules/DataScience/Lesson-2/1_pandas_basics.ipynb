{
 "cells": [
  {
   "attachments": {},
   "cell_type": "markdown",
   "metadata": {},
   "source": [
    "# Dataframes and data visualization"
   ]
  },
  {
   "attachments": {},
   "cell_type": "markdown",
   "metadata": {},
   "source": [
    "## Setup Steps\n",
    "\n",
    "This assumes you have a working Jupyter setup on your local machine. If you don't have these packages installed, go ahead and open the \"Anaconda Navigator\" application and install these packages: plotly, pandas, numpy, matplotlib. You may need to reload your VS Code window after installation for those packages to work.\n",
    "\n",
    "This is a huge help and a number of our cells come from it! https://www.kaggle.com/code/orhansertkaya/visualizing-pok-mon-stats-with-plotly/notebook\n",
    "\n"
   ]
  },
  {
   "attachments": {},
   "cell_type": "markdown",
   "metadata": {},
   "source": [
    "## Loading data into Pandas"
   ]
  },
  {
   "attachments": {},
   "cell_type": "markdown",
   "metadata": {},
   "source": [
    "If you are using repl, copy the contents of the csv into your repl and give it the same name of `pokemon_data.csv`"
   ]
  },
  {
   "cell_type": "code",
   "execution_count": null,
   "metadata": {},
   "outputs": [],
   "source": [
    "import pandas as pd\n",
    "\n",
    "# Read csv data\n",
    "df = pd.read_csv('pokemon_data.csv')"
   ]
  },
  {
   "attachments": {},
   "cell_type": "markdown",
   "metadata": {},
   "source": [
    "Pandas can easily read from different file formats. Here are some examples of what it looks like to read from other files. Don't run this code as the files are not defined - it will throw you an error."
   ]
  },
  {
   "cell_type": "code",
   "execution_count": null,
   "metadata": {},
   "outputs": [],
   "source": [
    "# Example of reading excel data\n",
    "# df_xlsx = pd.read_excel('pokemon_data.xlsx')\n",
    "# df_xlsx.head()\n",
    "\n",
    "# Example of reading txt data\n",
    "# df_txt = pd.read_csv('pokemon_data.txt', delimiter='\\t')\n",
    "# df_txt.head()"
   ]
  },
  {
   "attachments": {},
   "cell_type": "markdown",
   "metadata": {},
   "source": [
    "## Understanding Data in Pandas"
   ]
  },
  {
   "cell_type": "code",
   "execution_count": null,
   "metadata": {},
   "outputs": [],
   "source": [
    "# Read headers\n",
    "df.columns\n",
    "\n",
    "# Read these columns from all rows\n",
    "# print(df[['Name', 'Type 1', 'HP']])\n",
    "\n",
    "# Read every row\n",
    "# print(df.iloc[0:4])\n",
    "# for index, row in df.iterrows():\n",
    "#     print(\"\\nNew Row\")\n",
    "#     print(index, row)\n",
    "\n",
    "# # Read a specific row's column (row 10 column 2 value)\n",
    "# print(df.iloc[10, 2])\n",
    "\n",
    "# # Read a range of rows\n",
    "# print(df.iloc[1:5])\n",
    "\n",
    "# # Read specific column from a range of rows\n",
    "# print(df.iloc[1:5, 1])\n",
    "\n",
    "# # Read range of columns from a range of rows\n",
    "# print(df.iloc[1:5, 1:3])"
   ]
  },
  {
   "attachments": {},
   "cell_type": "markdown",
   "metadata": {},
   "source": [
    "## Sampling Data\n"
   ]
  },
  {
   "cell_type": "code",
   "execution_count": null,
   "metadata": {},
   "outputs": [],
   "source": [
    "# Get a count for each unique value in the 'Generation' column\n",
    "df.Generation.value_counts()"
   ]
  },
  {
   "cell_type": "code",
   "execution_count": null,
   "metadata": {},
   "outputs": [],
   "source": [
    "# Calculate the total number of pokemon that are considered legendary.\n",
    "Legendary = df['Legendary'].sum()\n",
    "print(f\"Pokemon that are considered legendary: {Legendary}\")\n",
    "\n",
    "# Calculate total number of respondents using the count of 'ID' column (assuming each ID is unique).\n",
    "total_pokemon = df['#'].count()\n",
    "print(f\"Total pokemon: {total_pokemon}\")"
   ]
  },
  {
   "attachments": {},
   "cell_type": "markdown",
   "metadata": {},
   "source": [
    "## Sorting/Describing Data"
   ]
  },
  {
   "cell_type": "code",
   "execution_count": null,
   "metadata": {},
   "outputs": [],
   "source": [
    "# # Sort by type and health points (HP) so type is alphabetical ascending and hp is numberic ascending\n",
    "df.sort_values(['Type 1', 'HP'], ascending=[1,0])\n",
    "\n",
    "df.head(100)"
   ]
  },
  {
   "cell_type": "code",
   "execution_count": null,
   "metadata": {},
   "outputs": [],
   "source": [
    "# Group the data by 'Type 1' and count the values of 'Type 2' in each group.\n",
    "df.groupby('Type 1')['Type 2'].value_counts()"
   ]
  },
  {
   "attachments": {},
   "cell_type": "markdown",
   "metadata": {},
   "source": [
    "## Making changes to the data"
   ]
  },
  {
   "cell_type": "code",
   "execution_count": null,
   "metadata": {},
   "outputs": [],
   "source": [
    "# Create a new column in each row based on a calculation that would be performed on every row\n",
    "df['Total'] = df['HP'] + df['Attack'] + df['Defense'] + df['Sp. Atk'] + df['Sp. Def'] + df['Speed']\n",
    "\n",
    "# Checkout the new column\n",
    "df.head()\n",
    "\n",
    "# Create a new column again\n",
    "df['Sp. Power'] = df['Sp. Atk'] + df['Sp. Def']\n",
    "\n",
    "# Drop the newly created column\n",
    "df = df.drop(columns=['Sp. Power'])\n",
    "\n",
    "# The column should be gone now\n",
    "df.head()"
   ]
  },
  {
   "attachments": {},
   "cell_type": "markdown",
   "metadata": {},
   "source": [
    "## Saving our Data (Exporting into Desired Format)"
   ]
  },
  {
   "attachments": {},
   "cell_type": "markdown",
   "metadata": {},
   "source": [
    "As we described the earlier in the lesson, pandas can easily read from other file formats and read data. However, it can also __export__ to these different formats just as easily."
   ]
  },
  {
   "cell_type": "code",
   "execution_count": null,
   "metadata": {},
   "outputs": [],
   "source": [
    "# df.to_csv('modified.csv', index=False)\n",
    "\n",
    "# df.to_excel('modified.xlsx', index=False)\n",
    "\n",
    "# df.to_csv('modified.txt', index=False, sep='\\t')"
   ]
  },
  {
   "attachments": {},
   "cell_type": "markdown",
   "metadata": {},
   "source": [
    "## Filtering Data"
   ]
  },
  {
   "cell_type": "code",
   "execution_count": null,
   "metadata": {},
   "outputs": [],
   "source": [
    "# Note that in dataframes there is no \"and\", only &. Lets filter for some data.\n",
    "new_df = df.loc[(df['Type 1'] == 'Grass') & (df['Type 2'] == 'Poison') & (df['HP'] > 70)]\n",
    "\n",
    "# Reassign the row numbers\n",
    "new_df.reset_index(drop=True, inplace=True)\n",
    "\n",
    "new_df.head()\n",
    "\n",
    "# Save this filtered data to a new csv\n",
    "new_df.to_csv('filtered.csv')\n"
   ]
  },
  {
   "attachments": {},
   "cell_type": "markdown",
   "metadata": {},
   "source": [
    "\n",
    "## Conditional Changes"
   ]
  },
  {
   "cell_type": "code",
   "execution_count": null,
   "metadata": {},
   "outputs": [],
   "source": [
    "\n",
    "# Conditionally change a column\n",
    "df.loc[df['Total'] > 500, ['Generation','Legendary']] = ['Test 1', 'Test 2']\n",
    "\n",
    "# Display the column\n",
    "df['HP']"
   ]
  },
  {
   "attachments": {},
   "cell_type": "markdown",
   "metadata": {},
   "source": [
    "## Aggregate Statistics (Groupby)\n"
   ]
  },
  {
   "cell_type": "code",
   "execution_count": null,
   "metadata": {},
   "outputs": [],
   "source": [
    "# Create new column with every value initialized to 1\n",
    "df['count'] = 1\n",
    "\n",
    "# Group and display a column's count based on number of Type 1 and Type 2 pokemon\n",
    "df.groupby(['Type 1', 'Type 2']).count()['count']\n",
    "\n",
    "\n",
    "\n",
    "\n"
   ]
  },
  {
   "attachments": {},
   "cell_type": "markdown",
   "metadata": {},
   "source": [
    "## Working with large amounts of data\n",
    "\n"
   ]
  },
  {
   "cell_type": "code",
   "execution_count": null,
   "metadata": {},
   "outputs": [],
   "source": [
    "new_df = pd.DataFrame(columns=df.columns)\n",
    "\n",
    "# Chunk a dataframe from a csv\n",
    "for dfr in pd.read_csv('pokemon_data.csv', chunksize=5):\n",
    "    results = dfr.groupby(['Type 1']).count()\n",
    "    new_df = pd.concat([new_df, results])\n"
   ]
  },
  {
   "attachments": {},
   "cell_type": "markdown",
   "metadata": {},
   "source": [
    "### Let's do some basic data visualization\n",
    "\n",
    "If you want a quick refresher on different types of charts/graphs and when to use them, read [this](https://www.tableau.com/learn/whitepapers/which-type-chart-or-graph-right-for-you-ungated)"
   ]
  },
  {
   "cell_type": "code",
   "execution_count": null,
   "metadata": {},
   "outputs": [],
   "source": [
    "import matplotlib.pyplot as plt\n",
    "import numpy as np"
   ]
  },
  {
   "attachments": {},
   "cell_type": "markdown",
   "metadata": {},
   "source": [
    "### Line Chart\n",
    "\n",
    "Lets demonstrate trends in stats like HP or Attack with different classifiers such as the Pokemon's Generation."
   ]
  },
  {
   "cell_type": "code",
   "execution_count": null,
   "metadata": {},
   "outputs": [],
   "source": [
    "import plotly.graph_objs as go\n",
    "from plotly.offline import init_notebook_mode, iplot\n",
    "\n",
    "# Visualizing the trend of stats grouped by generation.\n",
    "data = []\n",
    "stats_names = ['HP', 'Attack', 'Defense']\n",
    "stats = df.groupby(\"Generation\")[stats_names].mean().reset_index()\n",
    "for stat in stats_names:\n",
    "  stat_line = go.Scatter(\n",
    "    x=stats[\"Generation\"],\n",
    "    y=stats[stat],\n",
    "    name=stat,\n",
    "    line=dict(\n",
    "      width=3,\n",
    "    ),\n",
    "  )\n",
    "\n",
    "  data.append(stat_line)\n",
    "\n",
    "layout = go.Layout(\n",
    "  title='Trend of stats by {}'.format(\"Generation\"),\n",
    "  xaxis=dict(title=\"Generation\"),\n",
    "  yaxis=dict(title='Values')\n",
    ")\n",
    "\n",
    "trend = go.Figure(data=data, layout=layout)\n",
    "iplot(trend, filename='trend')\n",
    "\n",
    "\n",
    "# stats_by('Generation')\n",
    "# stats_by('Type 1')"
   ]
  },
  {
   "cell_type": "code",
   "execution_count": null,
   "metadata": {},
   "outputs": [],
   "source": [
    "# We can turn that code into a neat function that allows us to pass\n",
    "# the classifier and stat names in dynamically.\n",
    "\n",
    "def stats_by(classifier, stats_names):\n",
    "  data = []\n",
    "  stats = df.groupby(classifier)[stats_names].mean().reset_index()\n",
    "  for stat in stats_names:\n",
    "    stat_line = go.Scatter(\n",
    "      x=stats[classifier],\n",
    "      y=stats[stat],\n",
    "      name=stat,\n",
    "      line=dict(\n",
    "        width=3,\n",
    "      ),\n",
    "    )\n",
    "\n",
    "    data.append(stat_line)\n",
    "\n",
    "  layout = go.Layout(\n",
    "    title='Trend of stats by {}'.format(classifier),\n",
    "    xaxis=dict(title=classifier),\n",
    "    yaxis=dict(title='Values')\n",
    "  )\n",
    "\n",
    "  trend = go.Figure(data=data, layout=layout)\n",
    "  iplot(trend, filename='trend')\n",
    "\n",
    "stats_by('Type 1', ['Sp. Atk', 'Sp. Def', 'Speed'])"
   ]
  },
  {
   "attachments": {},
   "cell_type": "markdown",
   "metadata": {},
   "source": [
    "### Bar Chart\n",
    "\n",
    "Now let's inspect the number of Pokemon in each type (i.e. Water or Fire)."
   ]
  },
  {
   "cell_type": "code",
   "execution_count": null,
   "metadata": {},
   "outputs": [],
   "source": [
    "# Lets assign each Pokemon type a color for visualization in\n",
    "# the bar chart.\n",
    "# Defining colors for graphs \n",
    "colors = {\n",
    "    \"Bug\": \"#A6B91A\",\n",
    "    \"Dark\": \"#705746\",\n",
    "    \"Dragon\": \"#6F35FC\",\n",
    "    \"Electric\": \"#F7D02C\",\n",
    "    \"Fairy\": \"#D685AD\",\n",
    "    \"Fighting\": \"#C22E28\",\n",
    "    \"Fire\": \"#EE8130\",\n",
    "    \"Flying\": \"#A98FF3\",\n",
    "    \"Ghost\": \"#735797\",\n",
    "    \"Grass\": \"#7AC74C\",\n",
    "    \"Ground\": \"#E2BF65\",\n",
    "    \"Ice\": \"#96D9D6\",\n",
    "    \"Normal\": \"#A8A77A\",\n",
    "    \"Poison\": \"#A33EA1\",\n",
    "    \"Psychic\": \"#F95587\",\n",
    "    \"Rock\": \"#B6A136\",\n",
    "    \"Steel\": \"#B7B7CE\",\n",
    "    \"Water\": \"#6390F0\",\n",
    "}"
   ]
  },
  {
   "cell_type": "code",
   "execution_count": null,
   "metadata": {},
   "outputs": [],
   "source": [
    "# Visualizing number of pokemon per type across all generation.\n",
    "types = (df.groupby(['Type 1'])['#'].count())\n",
    "types_name = list(types.keys())\n",
    "\n",
    "data = go.Bar(\n",
    "    x=types_name,\n",
    "    y=types.values,\n",
    "    marker=dict(\n",
    "        color=list(colors.values())\n",
    "    ),\n",
    "    name=\"{}\".format(types_name)\n",
    ")\n",
    "\n",
    "layout = go.Layout(\n",
    "    title='Types',\n",
    "    xaxis=dict(\n",
    "        title='Type'\n",
    "    ),\n",
    "    yaxis=dict(\n",
    "        title='Number of Pokemon'\n",
    "    )\n",
    ")\n",
    "\n",
    "fig = go.Figure(data=[data], layout=layout)\n",
    "iplot(fig, filename='Types')"
   ]
  },
  {
   "attachments": {},
   "cell_type": "markdown",
   "metadata": {},
   "source": [
    "### Box plot"
   ]
  },
  {
   "cell_type": "code",
   "execution_count": null,
   "metadata": {},
   "outputs": [],
   "source": [
    "# data preparation\n",
    "trace1 = go.Box(\n",
    "    y=df.Speed,\n",
    "    name = 'Speed',\n",
    "    marker = dict(\n",
    "        color = 'rgb(12, 12, 140)',\n",
    "    )\n",
    ")\n",
    "trace2 = go.Box(\n",
    "    y=df.HP,\n",
    "    name = 'HP',\n",
    "    marker = dict(\n",
    "        color = 'rgb(12, 128, 128)',\n",
    "    )\n",
    ")\n",
    "data = [trace1, trace2]\n",
    "iplot(data)"
   ]
  },
  {
   "attachments": {},
   "cell_type": "markdown",
   "metadata": {},
   "source": [
    "### Scatter plot"
   ]
  },
  {
   "cell_type": "code",
   "execution_count": null,
   "metadata": {},
   "outputs": [],
   "source": [
    "# Read csv data\n",
    "df = pd.read_csv('pokemon_data.csv')\n",
    "\n",
    "# Create a new column (again) to represent \"Total\" strength.\n",
    "df['Total'] = df['HP'] + df['Attack'] + df['Defense'] + df['Sp. Atk'] + df['Sp. Def'] + df['Speed']\n",
    "df.head()\n",
    "\n",
    "pk1 = df[df.Generation == 1]\n",
    "pk2 = df[df.Generation == 2]\n",
    "pk3 = df[df.Generation == 3]\n",
    "pk4 = df[df.Generation == 4]\n",
    "pk5 = df[df.Generation == 5]\n",
    "\n",
    "# creating trace1\n",
    "trace1 =go.Scatter(\n",
    "                    x = pk1.HP,\n",
    "                    y = pk1.Total,\n",
    "                    mode = \"markers\",\n",
    "                    name = \"Generation 1\",\n",
    "                    marker = dict(color = 'rgba(83, 37, 85, 1)'),\n",
    "                    text= pk1.Name)\n",
    "# creating trace2\n",
    "trace2 =go.Scatter(\n",
    "                    x = pk2.HP,\n",
    "                    y = pk2.Total,\n",
    "                    mode = \"markers\",\n",
    "                    name = \"Generation 2\",\n",
    "                    marker = dict(color = 'rgba(168, 0, 0, 1)'),\n",
    "                    text= pk2.Name)\n",
    "# creating trace3\n",
    "trace3 =go.Scatter(\n",
    "                    x = pk3.HP,\n",
    "                    y = pk3.Total,\n",
    "                    mode = \"markers\",\n",
    "                    name = \"Generation 3\",\n",
    "                    marker = dict(color = 'rgba(35, 117, 0, 1)'),\n",
    "                    text= pk3.Name)\n",
    "# creating trace4\n",
    "trace4 =go.Scatter(\n",
    "                    x = pk4.HP,\n",
    "                    y = pk4.Total,\n",
    "                    mode = \"markers\",\n",
    "                    name = \"Generation 4\",\n",
    "                    marker = dict(color = 'rgba(5, 84, 133, 1)'),\n",
    "                    text= pk4.Name)\n",
    "# creating trace5\n",
    "trace5 =go.Scatter(\n",
    "                    x = pk5.HP,\n",
    "                    y = pk5.Total,\n",
    "                    mode = \"markers\",\n",
    "                    name = \"Generation 5\",\n",
    "                    marker = dict(color = 'rgba(7, 181, 187, 1)'),\n",
    "                    text= pk5.Name)\n",
    "data = [trace1, trace2, trace3, trace4, trace5]\n",
    "layout = dict(title = 'Total Power vs Generation of top 100 Pokemons with gen1,gen2,gen3,gen4 and gen5',\n",
    "              xaxis= dict(title= 'Pokemon Number',ticklen= 5,zeroline= False),\n",
    "              yaxis= dict(title= 'Total_Power',ticklen= 5,zeroline= False)\n",
    "             )\n",
    "fig = dict(data = data, layout = layout)\n",
    "iplot(fig)"
   ]
  },
  {
   "cell_type": "code",
   "execution_count": null,
   "metadata": {},
   "outputs": [],
   "source": [
    "# prepare data\n",
    "pk1 = df.Total[df.Generation == 1]\n",
    "pk2 = df.Total[df.Generation == 2]\n",
    "\n",
    "trace1 = go.Histogram(\n",
    "    x=pk1,\n",
    "    opacity=0.75,\n",
    "    name = \"Pokemon Total Power(Generation=1)\",\n",
    "    marker=dict(color='rgba(171, 50, 96, 0.6)'))\n",
    "trace2 = go.Histogram(\n",
    "    x=pk2,\n",
    "    opacity=0.75,\n",
    "    name = \"Pokemon Total Power(Generation=2)\",\n",
    "    marker=dict(color='rgba(12, 50, 196, 0.6)'))\n",
    "\n",
    "layout = go.Layout(barmode='overlay',\n",
    "                   title='Pokemon Total Power by Generation 1',\n",
    "                   xaxis=dict(title='Pokemon Total Power'),\n",
    "                   yaxis=dict(title='Count'),\n",
    ")\n",
    "\n",
    "# Single histogram\n",
    "fig = go.Figure(data=[trace1], layout=layout)\n",
    "iplot(fig)"
   ]
  },
  {
   "cell_type": "code",
   "execution_count": null,
   "metadata": {},
   "outputs": [],
   "source": [
    "layout = go.Layout(barmode='overlay',\n",
    "                   title='Pokemon Total Power by Generation 1 and Generation 2',\n",
    "                   xaxis=dict(title='Pokemon Total Power'),\n",
    "                   yaxis=dict(title='Count'),\n",
    ")\n",
    "\n",
    "# Double histogram\n",
    "fig = go.Figure(data=[trace1, trace2], layout=layout)\n",
    "iplot(fig)"
   ]
  },
  {
   "cell_type": "code",
   "execution_count": null,
   "metadata": {},
   "outputs": [],
   "source": [
    "import plotly.figure_factory as ff\n",
    "\n",
    "# Displot is a histogram fitted with a KDE\n",
    "hp_distplot = ff.create_distplot([df.HP], ['HP'], bin_size=5)\n",
    "iplot(hp_distplot, filename='HP Distplot')"
   ]
  },
  {
   "cell_type": "code",
   "execution_count": null,
   "metadata": {},
   "outputs": [],
   "source": [
    "# Visualizing with a radar chart.\n",
    "def polar_pokemon_stats(pk_name):\n",
    "  pkmn = df[df.Name == pk_name]\n",
    "  obj = go.Scatterpolar(\n",
    "    r=[\n",
    "      pkmn['HP'].values[0],\n",
    "      pkmn['Attack'].values[0],\n",
    "      pkmn['Defense'].values[0],\n",
    "      pkmn['Sp. Atk'].values[0],\n",
    "      pkmn['Sp. Def'].values[0],\n",
    "      pkmn['Speed'].values[0],\n",
    "      pkmn['HP'].values[0]\n",
    "    ],\n",
    "    theta=[\n",
    "      'HP', 'Attack', 'Defense', 'Sp. Atk', 'Sp. Def', 'Speed', 'HP'\n",
    "    ],\n",
    "    fill='toself',\n",
    "    marker=dict(\n",
    "      color=colors[pkmn['Type 1'].values[0]]\n",
    "    ),\n",
    "    name=pkmn['Name'].values[0]\n",
    "  )\n",
    "\n",
    "  return obj\n",
    "\n",
    "# Comparing stats of 2 different pokemons\n",
    "pkmn_1_name = 'Kyogre'\n",
    "pkmn_2_name = 'Entei'\n",
    "\n",
    "layout = go.Layout(\n",
    "    polar=dict(\n",
    "        radialaxis=dict(\n",
    "            visible=True,\n",
    "            range=[0, 250]\n",
    "        )\n",
    "    ),\n",
    "    showlegend=True,\n",
    "    title=\"{} vs. {}\".format(pkmn_1_name, pkmn_2_name)\n",
    ")\n",
    "\n",
    "pkmn_1 = polar_pokemon_stats(pkmn_1_name)\n",
    "pkmn_2 = polar_pokemon_stats(pkmn_2_name)\n",
    "\n",
    "compare_2_pokemon = go.Figure(data=[pkmn_1, pkmn_2], layout=layout)\n",
    "iplot(compare_2_pokemon, filename='Compare 2 Pokemon')"
   ]
  }
 ],
 "metadata": {
  "kernelspec": {
   "display_name": "Python 3.8.8 ('base')",
   "language": "python",
   "name": "python3"
  },
  "language_info": {
   "codemirror_mode": {
    "name": "ipython",
    "version": 3
   },
   "file_extension": ".py",
   "mimetype": "text/x-python",
   "name": "python",
   "nbconvert_exporter": "python",
   "pygments_lexer": "ipython3",
   "version": "3.10.10"
  },
  "vscode": {
   "interpreter": {
    "hash": "3c0a86e4f8890231894208390584190121cc22b291bf83a826b39466a0a94c90"
   }
  }
 },
 "nbformat": 4,
 "nbformat_minor": 2
}
