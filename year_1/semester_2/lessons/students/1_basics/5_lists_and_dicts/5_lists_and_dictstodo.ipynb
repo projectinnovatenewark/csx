{
 "cells": [
  {
   "cell_type": "code",
   "execution_count": null,
   "metadata": {},
   "outputs": [],
   "source": [
    "\"\"\"\n",
    "Working with lists, dictionaries, and nested data\n",
    "\"\"\"\n",
    "\n",
    "# TODO: Section 1.1:\n",
    "# Identifying index values[]\n",
    "\n",
    "greek_letters = [\"Alpha\", \"Beta\", \"Gamma\"]\n",
    "# Save the item in the list, \"greek_letters\" that is equal to index value \"0\" as a variable, then\n",
    "# print the variable.\n"
   ]
  },
  {
   "cell_type": "code",
   "execution_count": null,
   "metadata": {},
   "outputs": [],
   "source": []
  },
  {
   "cell_type": "code",
   "execution_count": null,
   "metadata": {},
   "outputs": [],
   "source": [
    "# TODO: Section 1.2:\n",
    "# In a variable called \"last_item\", store the last item of \"greek_letters\" using the index value of\n",
    "# -1. Then print \"last_item\"."
   ]
  },
  {
   "cell_type": "code",
   "execution_count": null,
   "metadata": {},
   "outputs": [],
   "source": []
  },
  {
   "cell_type": "code",
   "execution_count": null,
   "metadata": {},
   "outputs": [],
   "source": [
    "# TODO: Section 1.3:\n",
    "# Add the word \"Delta\" to the list \"greek_letters\". Using the index value of -1 again, store the\n",
    "# last item of \"greek_letters\" in a variable called \"last_item\" and print it.\n",
    "# IMPORTANT: Remember you can reassign values to variables.\n"
   ]
  },
  {
   "cell_type": "code",
   "execution_count": null,
   "metadata": {},
   "outputs": [],
   "source": []
  },
  {
   "cell_type": "code",
   "execution_count": null,
   "metadata": {},
   "outputs": [],
   "source": [
    "# TODO: Section 2:\n",
    "# Combining concepts of lists and dictionaries\n",
    "DAYS_OF_WEEK = [\"Sunday\", \"Monday\", \"Tuesday\", \"Wednesday\", \"Thursday\", \"Friday\", \"Saturday\"]\n",
    "\n",
    "# In the following dictionary, the keys are associated with days of the week (i.e. Sunday = 0) and\n",
    "# the values represent temperatures. Dictionaries have indexes just like lists do.\n",
    "temperature_forecast = {\"0\": 85, \"1\": 70, \"2\": 80, \"3\": 72, \"4\": 67, \"5\": 95, \"6\": 100}\n",
    "\n",
    "# Print out \"Wednesday\" with it's index value from the list \"DAYS_OF_WEEK\". Set that value equal\n",
    "# to a variable called \"weds\".\n",
    "\n",
    "# Print Wednesday's temperature by using the forecast dictionary.\n",
    "\n",
    "# Use the variable \"weds\" directly in the print statement below, but for the temperature\n",
    "# access the value directly in the print statement.\n",
    "# Your output should read \"The temperature on Wednesday will be 72 degrees.\" Be sure to use\n",
    "# f shorthand!"
   ]
  },
  {
   "cell_type": "code",
   "execution_count": null,
   "metadata": {},
   "outputs": [],
   "source": []
  },
  {
   "cell_type": "code",
   "execution_count": null,
   "metadata": {},
   "outputs": [],
   "source": [
    "# TODO: Section 3:\n",
    "# To begin, set the first student of the math class to a variable called \"first_student\".\n",
    "# Next, set the english class' starting time to a variable called \"english_start\".\n",
    "# Lastly, print each in separate print statements.\n",
    "classes = [\n",
    "    {\n",
    "        'subject': 'math',\n",
    "        'level': 'linear algebra',\n",
    "        'students': ['billy', 'beatrice', 'bronny', 'bart'],\n",
    "        'teacher_description': {\n",
    "            'name': 'Betty',\n",
    "            'education': ['Masters of Math', 'Bachelors of Science']\n",
    "        },\n",
    "        'classTime': ['11:00 AM', '12:30 PM']\n",
    "    },\n",
    "    {\n",
    "        'subject': 'english',\n",
    "        'level': 'composition',\n",
    "        'students': ['chris', 'callie', 'crysta', 'calista'],\n",
    "        'teacher_description': {\n",
    "            'name': 'Joanny',\n",
    "            'education': ['PHD of English', 'Masters of Literacy', 'Bachelors of Biology']\n",
    "        },\n",
    "        'classTime': ['1:00 PM', '2:45 PM']\n",
    "    }\n",
    "]"
   ]
  }
 ],
 "metadata": {
  "language_info": {
   "name": "python"
  },
  "orig_nbformat": 4
 },
 "nbformat": 4,
 "nbformat_minor": 2
}
