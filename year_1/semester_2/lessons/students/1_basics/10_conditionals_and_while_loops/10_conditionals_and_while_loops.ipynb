{
 "cells": [
  {
   "cell_type": "markdown",
   "metadata": {},
   "source": [
    "\n",
    "## Section 1: Intro to Conditionals\n",
    "\n",
    "In programming, conditional statements are used to perform different actions depending on whether\n",
    "a specific boolean constraint evaluates to true or false. An \"if statement\" is a common\n",
    "conditional statement. The syntax for an \"if statement\" is, \"if (some_condition):\" where\n",
    "\"some_condition\" is the condition to be evaluated."
   ]
  },
  {
   "cell_type": "code",
   "execution_count": null,
   "metadata": {},
   "outputs": [],
   "source": [
    "rectangle_area = 100\n",
    "if rectangle_area > 50: # if \"rectangle_area\" is > 50, the print statement will run.\n",
    "  print(\"This is a large rectangle\")\n",
    "\n",
    "# Another type of conditional statement is an \"else statement\". An \"else statement\" will only\n",
    "# run if a paired \"if statement\" is false.\n",
    "\n",
    "rectangle_area = 43\n",
    "if rectangle_area > 50:\n",
    "  print(\"This is a large rectangle.\")\n",
    "else:\n",
    "  print(\"This is a small rectangle.\")\n",
    "\n",
    "# TODO: Section 1 of TODO 10 (3 minutes for students, 2 minutes for demo)\n"
   ]
  },
  {
   "cell_type": "markdown",
   "metadata": {},
   "source": [
    "## Section 2: While loops\n",
    "\n",
    "In the previous lesson we learned how to iterate over an object using a for loop. Another type of\n",
    "loop in Python a \"while loop\", which is used to iterate over a block of code until a given condtion\n",
    "is no longer true. "
   ]
  },
  {
   "cell_type": "code",
   "execution_count": null,
   "metadata": {},
   "outputs": [],
   "source": [
    "#The syntax of a \"while loop\" is \"while something_is_true:\", where\n",
    "# \"something_is_true\" acts as the condition. Below is a simple example of this concept:\n",
    "\n",
    "num = 0\n",
    "while num < 10: # This condition will continue to run as long as \"num\" is less than 10.\n",
    "  print(num)\n",
    "  num += 1 # This will increment \"num\" by 1 in every iteration.\n",
    "\n",
    "# Since a while loop breaks when a condition is no longer true, all false values would cause the\n",
    "# loop to terminate. In the loop below, \"num\" will decrement in each iteration until reaching 0.\n",
    "# When num is equal to 0, the loop terminates because 0 is evaluated as a false value. This concept\n",
    "# holds true for all data types. For example, a list or dictionary would return a false value if\n",
    "# they are empty.\n",
    "\n",
    "num = 10\n",
    "while num:\n",
    "  print(num)\n",
    "  num -= 1\n",
    "\n",
    "# The following \"while loop\" will continue to run until all the items have been removed by the\n",
    "# .pop() method and \"grocery_list\" is empty.\n",
    "grocery_list = [\"Bread\", \"Butter\", \"Frozen Pizza\", \"Mozz Sticks\", \"Ice Cream\"]\n",
    "while grocery_list:\n",
    "  purchased_item = grocery_list.pop()\n",
    "  print(f\"You purchased {purchased_item} and removed it from your list.\")\n",
    "  print(f\"Your remaining items are: {grocery_list}\")\n",
    "\n",
    "# TODO: Section 2 of TODO 10 (15 minutes for students, 8 minutes for demo)"
   ]
  }
 ],
 "metadata": {
  "language_info": {
   "name": "python"
  },
  "orig_nbformat": 4
 },
 "nbformat": 4,
 "nbformat_minor": 2
}
