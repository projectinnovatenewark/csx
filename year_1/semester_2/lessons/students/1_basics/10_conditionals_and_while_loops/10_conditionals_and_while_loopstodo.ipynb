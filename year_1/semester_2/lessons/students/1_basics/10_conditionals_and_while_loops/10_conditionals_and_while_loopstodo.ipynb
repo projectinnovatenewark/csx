{
 "cells": [
  {
   "cell_type": "markdown",
   "metadata": {},
   "source": [
    "### TODO: Section 1.1:"
   ]
  },
  {
   "cell_type": "code",
   "execution_count": null,
   "metadata": {},
   "outputs": [],
   "source": [
    "# Write a program that takes a user input of an integer and store it in a variable called\n",
    "# \"user_int\". If the integer is even, print the statement \"[user_int] is even.\". Otherwise, print\n",
    "# the statement \"[user_int] is odd.\"\n",
    "# TIP: Remember modulo from the Basic Math lesson?\n",
    "# TIP: Consider how that can help us identify odd/even numbers."
   ]
  },
  {
   "cell_type": "code",
   "execution_count": null,
   "metadata": {},
   "outputs": [],
   "source": []
  },
  {
   "cell_type": "markdown",
   "metadata": {},
   "source": [
    "### TODO: Section 2.1\n"
   ]
  },
  {
   "cell_type": "code",
   "execution_count": null,
   "metadata": {},
   "outputs": [],
   "source": [
    "# Write a while loop that iterates through the list \"todos\". For each iteration, remove an item\n",
    "# using the \".pop()\" method and append it to the list \"finsihed_todos\". Keep track of all of your\n",
    "# finished todos by printing \"finished_todos\" in each iteration.\n",
    "\n",
    "todos = [\"exercise for fun\", \"eat food\", \"go to school\", \"write some code\"]\n",
    "finished_todos = []"
   ]
  },
  {
   "cell_type": "code",
   "execution_count": null,
   "metadata": {},
   "outputs": [],
   "source": []
  },
  {
   "cell_type": "markdown",
   "metadata": {},
   "source": [
    "### TODO: Section 2.2\n"
   ]
  },
  {
   "cell_type": "code",
   "execution_count": null,
   "metadata": {},
   "outputs": [],
   "source": [
    "# Write a while loop that increases \"var\" by increments of 2 until \"var\" is greater than or equal to\n",
    "# 21. Note the wording of this question and set the condition appropriately. Print \"var\" in each\n",
    "# iteration.\n",
    "\n",
    "var = 7\n"
   ]
  },
  {
   "cell_type": "code",
   "execution_count": null,
   "metadata": {},
   "outputs": [],
   "source": []
  },
  {
   "cell_type": "markdown",
   "metadata": {},
   "source": [
    "### TODO: Section 2.3\n"
   ]
  },
  {
   "cell_type": "code",
   "execution_count": null,
   "metadata": {},
   "outputs": [],
   "source": [
    "# Write a program that takes a user input of an integer and store it in a variable called\n",
    "# \"user_int\". Write a loop with this integer as the condition and test if \"user_int\" is even.\n",
    "# If \"user_int\" is even, increment \"user_int\" by 1. Otherwise, decrement \"user_int\" by 3.\n",
    "# Then print \"user_int\" for each iteration.\n",
    "\n",
    "# Important:\n",
    "# For the purpose of this exercise please input only POSITIVE integers.\n"
   ]
  }
 ],
 "metadata": {
  "kernelspec": {
   "display_name": "Python 3.8.9 64-bit",
   "language": "python",
   "name": "python3"
  },
  "language_info": {
   "name": "python",
   "version": "3.8.9"
  },
  "orig_nbformat": 4,
  "vscode": {
   "interpreter": {
    "hash": "31f2aee4e71d21fbe5cf8b01ff0e069b9275f58929596ceb00d14d90e3e16cd6"
   }
  }
 },
 "nbformat": 4,
 "nbformat_minor": 2
}
