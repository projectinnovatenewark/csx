{
 "cells": [
  {
   "cell_type": "code",
   "execution_count": null,
   "metadata": {},
   "outputs": [],
   "source": [
    "\"\"\"\n",
    "Lets clean up some errors\n",
    "\"\"\"\n",
    "\n",
    "\n",
    "# TODO: Section 1.1:\n",
    "\n",
    "# Run the code below to find what type of error you are encountering. Then comment out the code and\n",
    "# rewrite it with a new denominator to fix the error. Then print the type of error you got from the\n",
    "# original problem.\n",
    "\n",
    "number = 10 * (1/0) # FIXME\n",
    "\n",
    "# TODO: Section 1.2:\n",
    "# Again, run the code below to find what type of error you are encountering. Then define 'spam' on\n",
    "# the correct line and print the error type you originally received.\n",
    "\n",
    "equation = 4 + spam * 3 # FIXME\n",
    "\n",
    "# TODO: Section 1.3:\n",
    "# Finally, run the code below to find what type of error you are encountering. Change the code so that\n",
    "# our '2 + 2' addition works and print the error type you originally received.\n",
    "\n",
    "twotwo = '2' + 2 # FIXME\n"
   ]
  }
 ],
 "metadata": {
  "kernelspec": {
   "display_name": "Python 3.8.9 64-bit",
   "language": "python",
   "name": "python3"
  },
  "language_info": {
   "name": "python",
   "version": "3.8.9"
  },
  "orig_nbformat": 4,
  "vscode": {
   "interpreter": {
    "hash": "31f2aee4e71d21fbe5cf8b01ff0e069b9275f58929596ceb00d14d90e3e16cd6"
   }
  }
 },
 "nbformat": 4,
 "nbformat_minor": 2
}
