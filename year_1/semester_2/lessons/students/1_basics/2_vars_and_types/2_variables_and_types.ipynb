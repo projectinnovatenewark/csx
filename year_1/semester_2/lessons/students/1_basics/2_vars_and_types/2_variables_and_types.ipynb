{
 "cells": [
  {
   "cell_type": "markdown",
   "metadata": {},
   "source": [
    "## Section 1: Intro to Variables & Types (6 minutes)\n",
    " The lines that start with a pound sign are comments. They do nothing to the program except provide instructions, personal notes, or anything that you want really!\n",
    " Variables can be thought of as \"pointers\" to a value. These values have types. Types include things like integers, strings, floats, booleans, lists, and dictionaries. The name of the variable is on the left of the \"=\" sign and on the right is the content of the variable.\n"
   ]
  },
  {
   "cell_type": "code",
   "execution_count": null,
   "metadata": {},
   "outputs": [],
   "source": [
    "# A number without a decimal point is of the type integer.\n",
    "number1 = 5\n",
    "\n",
    "# A number with a decimal point is a float.\n",
    "float1 = 6.3 # Floating point number\n",
    "float2 = 7. # This is also a floating point number.\n",
    "\n",
    "# Anything wrapped in quotation marks is a string.\n",
    "string1 = \"Hello\" # String over here!\n",
    "string2 = \"my name is robot\" # Literally, anything wrapped in quotes is a string.\n",
    "string3 = \"369\" # Yes this is a string too.\n",
    "\n",
    "# Naming variables is important! This has a capital \"S\" in string, so it's different\n",
    "# than the previous variable of 'string1'.\n",
    "String1 = \"Wonderful!\"\n",
    "\n",
    "# You can even combine variables into one variable. We use the \"print()\" function to produce\n",
    "# an output to your terminal.\n",
    "big_string = string1 + string2\n",
    "print(big_string)\n",
    "\n",
    "# Let's make the output look a little cleaner. You can add in a string of an empty space\n",
    "# directly between these variables. Also, variables can have their values changed!\n",
    "# IMPORTANT: Variable's with changing values is an important concept! More on this topic on line 42.\n",
    "big_string = string1 + \" \" + string2\n",
    "print(big_string)\n",
    "\n",
    "# Python reads from the top of the file to the bottom. Therefore, when \"big_string\" is first\n",
    "# printed on line 40, it's value is \"Hellomy name is robot\", but since we changed the variable's\n",
    "# value on line 48, it prints out that new value on line 39, which adds a space.\n",
    "\n",
    "# You don't have to create a variable to print an output. You can put strings directly into print\n",
    "# statements!!\n",
    "print(\"Hello my name is robot\")\n",
    "\n",
    "# When you see, TODO: Section x of TODO y, you should stop where you are and head over to\n",
    "# the corresponding assignment for this section of the lesson. The line below instructs\n",
    "# you to visit section 1 of the 2nd TODO and complete it before moving on to the next section."
   ]
  },
  {
   "cell_type": "markdown",
   "metadata": {},
   "source": [
    "## Section 2 - Setting Multiple Variables in One Line and Additional Types (2 minutes)\n",
    "\n",
    " Setting multiple variables in one line of code? Yep. This is possible only when you use\n",
    " commas to separate each variable. The positions of the varibale names correspond with the values."
   ]
  },
  {
   "cell_type": "code",
   "execution_count": null,
   "metadata": {},
   "outputs": [],
   "source": [
    "var1, var2, var3 = 1, 2, 3\n",
    "print(var1, var2, var3)\n",
    "\n",
    "# Booleans are true or false values. Python knows it is a boolean when you capitalize the first\n",
    "# letter in your value just like below!\n",
    "boolean = False\n",
    "boolean2 = True\n",
    "\n",
    "# if you want to set a variable to an empty value, use the None type.\n",
    "variable_for_later = None\n",
    "print(\"variable for later will equal\", variable_for_later)\n",
    "\n",
    "# TODO: Section 2 of TODO 2 (2 minutes for students, 1 minute demo)"
   ]
  },
  {
   "cell_type": "markdown",
   "metadata": {},
   "source": [
    "## Section 3 - \"print()\" Function Elaboration and Concatenation (5 minutes) \n",
    "Print is an example of a function. A function is a block of code that runs when it is called upon. The items you place in the parentheses are called arguments. Lets call the print function and pass arguments to print them."
   ]
  },
  {
   "cell_type": "code",
   "execution_count": null,
   "metadata": {},
   "outputs": [],
   "source": [
    "string1 = \"Hello\"\n",
    "num3 = 45\n",
    "\n",
    "print(\"printing things, woohoo!!\")\n",
    "print(2387938457)\n",
    "print(num3)\n",
    "print(string1)\n",
    "\n",
    "# FIXME: The code right here is broken, let's run it for fun to show that strings cannot be\n",
    "# FIXME: concatenated directly with non-strings. Uncomment and run the code.\n",
    "# print(string1 + \"I am python number \" + num3 + \", hear me roar!!\") # TIP: Be sure to comment it out\n",
    "                                                                    # TIP: before moving on.\n",
    "\n",
    "# You can print any type by separating them with commas, as Python will automatically pass\n",
    "# them into the print statement as separate \"arguments\", then convert them all into strings\n",
    "# separated by one blank space. However, commas have one pitfall- they ALWAYS add in a space!\n",
    "print(string1, \"I am python number\", num3, \", hear me roar!!\")\n",
    "\n",
    "# TAKEAWAY:\n",
    "# Concatentation can only combine strings with other strings, and it does so using the plus\n",
    "# sign. Concatentation does NOT place a space between your strings, but using a comma automatically\n",
    "# places a space between your different values.\n",
    "\n",
    "# TODO: Section 3 of TODO 2 (4 minutes for students, 2 minute demo)"
   ]
  },
  {
   "cell_type": "markdown",
   "metadata": {},
   "source": [
    "## Section 4: Using the \"type()\" Function (2 minutes)\n",
    "\n",
    " Sometimes when you are dealing with variables, you are going to want to check the type of the variable to make sure you are correctly using it. Python has a built in function for this! To check the type of a variable, simply use type([some_variable_here]). \n"
   ]
  },
  {
   "cell_type": "code",
   "execution_count": null,
   "metadata": {},
   "outputs": [],
   "source": [
    "#Here's a bunch of different variables that we can test this with:\n",
    "\n",
    "num1, string1, bool1, flt1 = 2, \"Any string\", True, 12.903\n",
    "\n",
    "# Now we use type(variable) to check.. Don't forget we need to use print() also to see an output.\n",
    "\n",
    "print(\"num1:\", type(num1))\n",
    "print(\"string1:\", type(string1))\n",
    "print(\"bool1:\", type(bool1))\n",
    "print(\"flt1:\", type(flt1))\n",
    "\n",
    "# TODO: Section 4 of TODO 2 (2 minutes for students, 2 minute demo)"
   ]
  },
  {
   "cell_type": "markdown",
   "metadata": {},
   "source": [
    "## Section 5: Type Conversions (4 minutes)"
   ]
  },
  {
   "cell_type": "code",
   "execution_count": null,
   "metadata": {},
   "outputs": [],
   "source": [
    "# Python also makes it pretty easy to convert types into other types. For example,\n",
    "# you can convert integers to strings by wrapping the variable in the string\n",
    "# function to make concatenation possible as seen below:\n",
    "\n",
    "player_name = \"Lebron James\"\n",
    "player_weight = 250\n",
    "\n",
    "print(player_name + \" weighs \" + str(player_weight) + \" pounds.\")\n",
    "\n",
    "# Similarly, you can convert a variable that has an integer as its value into a float:\n",
    "\n",
    "num = 18\n",
    "floated_num = float(num)\n",
    "print(floated_num)\n",
    "\n",
    "# See below on how to convert the different data types\n",
    "\n",
    "# String: str()\n",
    "# Float: float()\n",
    "# Integer: integer()\n",
    "# Boolean: bool()\n",
    "\n",
    "# TODO: Section 5 of TODO 2 (5 minutes for students, 3 minute demo)"
   ]
  }
 ],
 "metadata": {
  "kernelspec": {
   "display_name": "Python 3.8.9 64-bit",
   "language": "python",
   "name": "python3"
  },
  "language_info": {
   "name": "python",
   "version": "3.8.9"
  },
  "orig_nbformat": 4,
  "vscode": {
   "interpreter": {
    "hash": "31f2aee4e71d21fbe5cf8b01ff0e069b9275f58929596ceb00d14d90e3e16cd6"
   }
  }
 },
 "nbformat": 4,
 "nbformat_minor": 2
}
