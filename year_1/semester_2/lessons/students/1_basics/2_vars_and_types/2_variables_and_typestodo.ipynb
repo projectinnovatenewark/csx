{
 "cells": [
  {
   "cell_type": "code",
   "execution_count": null,
   "metadata": {},
   "outputs": [],
   "source": [
    "\"\"\"\n",
    "Using variables and types\n",
    "\"\"\"\n",
    "\n",
    "# TODO: Section 1:\n",
    "# Set a variable 'phrase1' euqal to \"Hi everyone! \" and another variable 'phrase2'\n",
    "# equal to \"My name is [name here]\". Then use what you learned so\n",
    "# far in the lesson to set these varibles to a new variable called \"complete\"\n",
    "# and print it."
   ]
  },
  {
   "cell_type": "code",
   "execution_count": 1,
   "metadata": {},
   "outputs": [
    {
     "name": "stdout",
     "output_type": "stream",
     "text": [
      "Hi Everyone! My name is Tony\n"
     ]
    }
   ],
   "source": [
    "phase1, phase2 = \"Hi Everyone!\", \"My name is Tony\"\n",
    "complete = phase1 + \" \" + phase2\n",
    "print(complete)"
   ]
  },
  {
   "cell_type": "code",
   "execution_count": null,
   "metadata": {},
   "outputs": [],
   "source": [
    "# TODO: Section 2:\n",
    "# Set two variable in the same line, \"flt1\" and \"flt2\", equal to 3.5 and 14.0, respectively.\n",
    "# Then print each variable to check the output."
   ]
  },
  {
   "cell_type": "code",
   "execution_count": 2,
   "metadata": {},
   "outputs": [
    {
     "name": "stdout",
     "output_type": "stream",
     "text": [
      "3.5\n",
      "14.0\n"
     ]
    }
   ],
   "source": [
    "flt1, flt2 = 3.5, 14.0\n",
    "print(3.5)\n",
    "print(14.0)\n"
   ]
  },
  {
   "cell_type": "code",
   "execution_count": 6,
   "metadata": {},
   "outputs": [
    {
     "name": "stdout",
     "output_type": "stream",
     "text": [
      "My name is Tony and I am 18 years old\n"
     ]
    }
   ],
   "source": [
    "# TODO: Section 3:\n",
    "# Set a variable called name equal to your name, then set a variable of age\n",
    "# equal to your age as an integer. Print a statement with an output of\n",
    "# \"My name is [name here] and I am [age here] years old.\" using the above\n",
    "# variables in your print statement.\n",
    "name = \"Tony\"\n",
    "age = 18\n",
    "print(\"My name is \" + name + \" and I am\", age, \"years old\" )\n",
    "\n",
    "# Takeaway:\n",
    "# Concatenation (+) can only be done with strings, not strings and integers/floats. Commas, however,\n",
    "# simply print different elements rather than attempting to concatenate strings.\n"
   ]
  },
  {
   "cell_type": "code",
   "execution_count": 7,
   "metadata": {},
   "outputs": [
    {
     "name": "stdout",
     "output_type": "stream",
     "text": [
      "My name is Tony and I am 18 years old\n"
     ]
    }
   ],
   "source": [
    "name = \"Tony\"\n",
    "age = 18\n",
    "print(\"My name is \" + name + \" and I am\", age, \"years old\" )"
   ]
  },
  {
   "cell_type": "code",
   "execution_count": null,
   "metadata": {},
   "outputs": [],
   "source": [
    "# TODO: Section 4:\n",
    "# Set a variable equal to each of the types we have learned so far. That includes\n",
    "# integers, floats, booleans, None, and strings. So, have one variable per each\n",
    "# of those types (i.e. exampleInt = 0, exampleBool = False, etc.).\n",
    "# To check the type of something in python, you use the type() function.\n",
    "# For example, type(\"Hello\") would yield string, and type(6) would yield int.\n",
    "# So, create on print statement that would print the type of each variable you've set.\n",
    "\n",
    "# Takeaway:\n",
    "# Types are important in Python and you can check different elements' types using type().\n",
    "# The type() function is an example of a polymorphic function, meaning that the same\n",
    "# function name can be used for different types."
   ]
  },
  {
   "cell_type": "code",
   "execution_count": 8,
   "metadata": {},
   "outputs": [
    {
     "name": "stdout",
     "output_type": "stream",
     "text": [
      "integ: <class 'int'>\n",
      "float: <class 'float'>\n",
      "boo: <class 'bool'>\n",
      "str: <class 'str'>\n",
      "never: <class 'NoneType'>\n"
     ]
    }
   ],
   "source": [
    "integ = 10 \n",
    "float = 12.5\n",
    "boo = True\n",
    "#str = \"Fire\"\n",
    "never = None\n",
    "\n",
    "print(\"integ:\", type(integ))\n",
    "print(\"float:\", type(float))\n",
    "print(\"boo:\", type(boo))\n",
    "print(\"str:\", type(str))\n",
    "print(\"never:\", type(never) )\n",
    "\n"
   ]
  },
  {
   "cell_type": "code",
   "execution_count": null,
   "metadata": {},
   "outputs": [],
   "source": [
    "# TODO: Section 5:\n",
    "\n",
    "# Lastly, we will introduce type conversion. There are functions you can use to\n",
    "# convert things in Python. The first type conversion function we will use is str().\n",
    "# Try the problem from Section 3, but use plus signs to concatenate strings and\n",
    "# print \"My name is [name here] and I am [age here] years old.\" using the name and age\n",
    "# variables. However, this time when you're concatenating the age variable, wrap it in the\n",
    "# str() function as such: str(age). The print statement will no longer throw an\n",
    "# error 🎯 since age was converted to a string.\n",
    "\n",
    "\n",
    "# Takeaway:\n",
    "# We can change types in Python when appropriate, and we learned one way to do so with str()\n",
    "\n",
    "# Good job, everyone! First todo down 💪🏾"
   ]
  },
  {
   "cell_type": "code",
   "execution_count": 44,
   "metadata": {},
   "outputs": [
    {
     "name": "stdout",
     "output_type": "stream",
     "text": [
      "Tony Bissoon\n",
      "<class 'str'>\n",
      "Tony Bissoon\n",
      "<class 'int'>\n"
     ]
    },
    {
     "ename": "TypeError",
     "evalue": "'str' object is not callable",
     "output_type": "error",
     "traceback": [
      "\u001b[0;31m---------------------------------------------------------------------------\u001b[0m",
      "\u001b[0;31mTypeError\u001b[0m                                 Traceback (most recent call last)",
      "\u001b[1;32m/Users/tonyb/Desktop/tonyb-Programming/csx/lessons/students/1_basics/2_vars_and_types/2_variables_and_typestodo.ipynb Cell 10\u001b[0m in \u001b[0;36m<cell line: 7>\u001b[0;34m()\u001b[0m\n\u001b[1;32m      <a href='vscode-notebook-cell:/Users/tonyb/Desktop/tonyb-Programming/csx/lessons/students/1_basics/2_vars_and_types/2_variables_and_typestodo.ipynb#ch0000009?line=4'>5</a>\u001b[0m \u001b[39mprint\u001b[39m(name)\n\u001b[1;32m      <a href='vscode-notebook-cell:/Users/tonyb/Desktop/tonyb-Programming/csx/lessons/students/1_basics/2_vars_and_types/2_variables_and_typestodo.ipynb#ch0000009?line=5'>6</a>\u001b[0m \u001b[39mprint\u001b[39m(\u001b[39mtype\u001b[39m(myAGE))\n\u001b[0;32m----> <a href='vscode-notebook-cell:/Users/tonyb/Desktop/tonyb-Programming/csx/lessons/students/1_basics/2_vars_and_types/2_variables_and_typestodo.ipynb#ch0000009?line=6'>7</a>\u001b[0m \u001b[39mprint\u001b[39m(\u001b[39m\"\u001b[39m\u001b[39mMy name is \u001b[39m\u001b[39m\"\u001b[39m , name , \u001b[39m\"\u001b[39m\u001b[39mand I am \u001b[39m\u001b[39m\"\u001b[39m , \u001b[39mstr\u001b[39;49m(myAGE), \u001b[39m\"\u001b[39m\u001b[39m years old\u001b[39m\u001b[39m\"\u001b[39m)\n",
      "\u001b[0;31mTypeError\u001b[0m: 'str' object is not callable"
     ]
    }
   ],
   "source": [
    "name = \"Tony Bissoon\"\n",
    "print(name)\n",
    "print(type(name))\n",
    "myAGE = 18\n",
    "print(name)\n",
    "print(type(myAGE))\n",
    "print(\"My name is \" , name , \"and I am \" , str(myAGE), \" years old\")"
   ]
  },
  {
   "cell_type": "markdown",
   "metadata": {},
   "source": [
    "NOTE: STR() FUNCTION DOES NOT WORK IN THE EXAMPLE ABOVE. @TONY @MYKO WORK TOGETHER TO FIX"
   ]
  }
 ],
 "metadata": {
  "interpreter": {
   "hash": "31f2aee4e71d21fbe5cf8b01ff0e069b9275f58929596ceb00d14d90e3e16cd6"
  },
  "kernelspec": {
   "display_name": "Python 3.8.9 64-bit",
   "language": "python",
   "name": "python3"
  },
  "language_info": {
   "codemirror_mode": {
    "name": "ipython",
    "version": 3
   },
   "file_extension": ".py",
   "mimetype": "text/x-python",
   "name": "python",
   "nbconvert_exporter": "python",
   "pygments_lexer": "ipython3",
   "version": "3.8.9"
  },
  "orig_nbformat": 4
 },
 "nbformat": 4,
 "nbformat_minor": 2
}
