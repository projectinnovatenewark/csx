{
 "cells": [
  {
   "cell_type": "markdown",
   "metadata": {},
   "source": [
    "## Section 1: Variables and Types"
   ]
  },
  {
   "cell_type": "markdown",
   "metadata": {},
   "source": [
    "### TODO: Section 1.1\n"
   ]
  },
  {
   "cell_type": "code",
   "execution_count": null,
   "metadata": {},
   "outputs": [],
   "source": [
    "# Assign an integer to the variable \"bakers_dozen\", then print it.\n",
    "# bakers_dozen = # FIXME: Uncomment to complete\n",
    "# print() # FIXME: Uncomment to complete"
   ]
  },
  {
   "cell_type": "markdown",
   "metadata": {},
   "source": [
    "### TODO: Section 1.2\n"
   ]
  },
  {
   "cell_type": "code",
   "execution_count": null,
   "metadata": {},
   "outputs": [],
   "source": [
    "# Assign an string to the variable \"mary_had_a_little_lamb\", then print it.\n",
    "# mary_had_a_little_lamb = # FIXME: Uncomment to complete\n",
    "# print() # FIXME: Uncomment to complete"
   ]
  },
  {
   "cell_type": "markdown",
   "metadata": {},
   "source": [
    "### TODO: Section 1.3\n"
   ]
  },
  {
   "cell_type": "code",
   "execution_count": null,
   "metadata": {},
   "outputs": [],
   "source": [
    "# Assign a float with 2 decimals to the variable \"pi\", then print it..\n",
    "# pi = # FIXME: Uncomment to complete\n",
    "# print() # FIXME: Uncomment to complete"
   ]
  },
  {
   "cell_type": "code",
   "execution_count": null,
   "metadata": {},
   "outputs": [],
   "source": []
  },
  {
   "cell_type": "code",
   "execution_count": null,
   "metadata": {},
   "outputs": [],
   "source": [
    "# TODO: Section 1.4\n",
    "# Set 4 variables using only one line. The 4 variables should be made up of 1 integer, 1 string, 1\n",
    "# float, and 1 boolean. Print each variable in its own print statement."
   ]
  },
  {
   "cell_type": "markdown",
   "metadata": {},
   "source": [
    "## Section 2: Type Function and Type Conversion\n",
    "\n",
    "### TODO: Section 2.1"
   ]
  },
  {
   "cell_type": "code",
   "execution_count": null,
   "metadata": {},
   "outputs": [],
   "source": [
    "# Convert var2 to an integer so that we can print the sum of the two values.\n",
    "var1 = 100\n",
    "var2 = '200'\n",
    "var3 = var1 + var2 # FIXME: Convert var2 on this line.\n",
    "\n",
    "print(var3)"
   ]
  },
  {
   "cell_type": "markdown",
   "metadata": {},
   "source": [
    "### TODO: Section 2.2"
   ]
  },
  {
   "cell_type": "code",
   "execution_count": null,
   "metadata": {},
   "outputs": [],
   "source": [
    "# Now try to convert var2 to a float and print the sum. What is the type of the sum?\n",
    "var1 = 100\n",
    "var2 = '200'\n",
    "var3 = var1 + var2  # FIXME: Convert var2 on this line.\n",
    "\n",
    "print(var3)\n"
   ]
  }
 ],
 "metadata": {
  "kernelspec": {
   "display_name": "Python 3.8.9 64-bit",
   "language": "python",
   "name": "python3"
  },
  "language_info": {
   "name": "python",
   "version": "3.8.9"
  },
  "orig_nbformat": 4,
  "vscode": {
   "interpreter": {
    "hash": "31f2aee4e71d21fbe5cf8b01ff0e069b9275f58929596ceb00d14d90e3e16cd6"
   }
  }
 },
 "nbformat": 4,
 "nbformat_minor": 2
}
