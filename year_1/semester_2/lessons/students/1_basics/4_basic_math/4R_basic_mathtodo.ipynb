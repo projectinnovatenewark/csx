{
 "cells": [
  {
   "cell_type": "code",
   "execution_count": null,
   "metadata": {},
   "outputs": [],
   "source": [
    "\"\"\"\n",
    "Lets calculate a company's taxes, profit, and then divide the profit amongst shareholders.\n",
    "\"\"\"\n",
    "\n",
    "# TODO: Section 1:\n",
    "# TIP: Use print statements to test your code along the way.\n",
    "\n",
    "# Set the following variables and constants:\n",
    "# Set a constant of \"TAX_RATE\" equal to .20 (we will use this as twenty percent).\n",
    "\n",
    "# Receive a user input for the question \"What was your revenue for this year?\". Set\n",
    "# the input equal to a variable called \"revenue\".\n",
    "# HINT: What varible type do you want \"revenue\" to be?\n",
    "\n",
    "# Set a variable equal to \"taxes_paid\". Calculate the taxes by multipling the rate (20%)\n",
    "# from your previous variable by the revenue input from the user.\n",
    "\n",
    "# Set a new variable called \"profit\". Calculate the revenue minus the taxes paid and set it\n",
    "# equal to this variable.\n",
    "\n",
    "# In this lesson we went over changing the value of a variable. In this example, your company\n",
    "# is taking a one time charge of 50%. This is done by executing the following:\n",
    "# profit = profit / 2 #IMPORTANT: Uncomment this line before moving on.\n",
    "\n",
    "# TODO: Section 1.1:\n",
    "# Print an output indicating \"Company ____ recorded $______  in revenue this year,\n",
    "# paid $______ in taxes, recorded a profit of $______, and paid $______ to their five\n",
    "# shareholders, evenly\". Be sure to format to look like normal dollar amounts - \"$xx.xx\"\n",
    "\n",
    "# TAKEAWAY:\n",
    "# 1) Variables that have input functions stored in them will be of the string type. To use them in\n",
    "#    math operations, you must convert them to an integer or float.\n",
    "# 2) You can alter the value of a variable by setting it equal to an operation on itself.\n",
    "#    example: x = x * 2."
   ]
  },
  {
   "cell_type": "code",
   "execution_count": null,
   "metadata": {},
   "outputs": [],
   "source": []
  },
  {
   "cell_type": "code",
   "execution_count": null,
   "metadata": {},
   "outputs": [],
   "source": [
    "# TODO: Section 2:\n",
    "num_list = [35, 4, 20, 100, 96]\n",
    "# Set the minimum, maximum, and sum of num_list to the variables \"min_num\", \"max_num\", and\n",
    "# \"sum_list\" respectively. Then print each in their own print statement in the format\n",
    "# \"The ___ of num_list is ___.\" using f shorthand."
   ]
  },
  {
   "cell_type": "code",
   "execution_count": null,
   "metadata": {},
   "outputs": [],
   "source": []
  },
  {
   "cell_type": "code",
   "execution_count": null,
   "metadata": {},
   "outputs": [],
   "source": [
    "# TODO: Section 2.1:\n",
    "num_list2 = [-20, 15, -27, -11]\n",
    "# Find the sum of num_list2 and store it in the variable \"sum2\". Then print the sum in the format,\n",
    "# \"The sum is ___\". Then using f shorthand, return the value of the absolute value of \"sum2\" and\n",
    "# print in the format, \"The absolute value of sum2 is ___\".\n"
   ]
  }
 ],
 "metadata": {
  "kernelspec": {
   "display_name": "Python 3.8.9 64-bit",
   "language": "python",
   "name": "python3"
  },
  "language_info": {
   "name": "python",
   "version": "3.8.9"
  },
  "orig_nbformat": 4,
  "vscode": {
   "interpreter": {
    "hash": "31f2aee4e71d21fbe5cf8b01ff0e069b9275f58929596ceb00d14d90e3e16cd6"
   }
  }
 },
 "nbformat": 4,
 "nbformat_minor": 2
}
