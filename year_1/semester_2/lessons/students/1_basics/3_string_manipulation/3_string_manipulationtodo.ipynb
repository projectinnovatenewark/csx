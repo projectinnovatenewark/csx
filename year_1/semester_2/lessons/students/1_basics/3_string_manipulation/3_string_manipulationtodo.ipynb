{
 "cells": [
  {
   "cell_type": "markdown",
   "metadata": {},
   "source": [
    "## Section 1: The \"input()\" Function\n",
    "\n",
    "TODO: Section 1.1:"
   ]
  },
  {
   "cell_type": "code",
   "execution_count": 1,
   "metadata": {},
   "outputs": [
    {
     "name": "stdout",
     "output_type": "stream",
     "text": [
      "Hello Tony BIssoon, welcome to your personality quiz! \n"
     ]
    }
   ],
   "source": [
    "# Ask a user to input their full name and set it equal to a variable called \"full_name\". Greet the\n",
    "# user by printing \"Hello [full_name], welcome to your personality quiz!\" Make sure the comma comes\n",
    "# directly after the \"full_name\" variable.\n",
    "\n",
    "fullName = input(\"What is your name? \")\n",
    "print(\"Hello \" + fullName + \", welcome to your personality quiz! \")"
   ]
  },
  {
   "cell_type": "markdown",
   "metadata": {},
   "source": [
    "## Section 2: Modifying the Casing of Strings\n",
    "\n",
    "TODO: Section 2:"
   ]
  },
  {
   "cell_type": "code",
   "execution_count": 2,
   "metadata": {},
   "outputs": [
    {
     "name": "stdout",
     "output_type": "stream",
     "text": [
      "The Great Gatsby\n",
      "the great gatsby\n",
      "THE GREAT GATSBY\n"
     ]
    }
   ],
   "source": [
    "# Manipulate the variable \"classic\" using the 3 functions learned in this lesson and store each in\n",
    "# new variables called \"classic_title\", \"classic_upper\", \"classic_lower\". Then print each of the new\n",
    "# variables on a different line by using \"\\n\".\n",
    "# HINT: You should only have one print statement.\n",
    "\n",
    "classic = \"thE GREat GatSBy\"\n",
    "print(classic.title() + \"\\n\" + classic.lower() + \"\\n\" + classic.upper() )"
   ]
  },
  {
   "cell_type": "markdown",
   "metadata": {},
   "source": [
    "## TITLE: Section 4 - String-related Functions\n",
    "\n",
    "TODO: Section 4:"
   ]
  },
  {
   "cell_type": "code",
   "execution_count": 10,
   "metadata": {},
   "outputs": [
    {
     "name": "stdout",
     "output_type": "stream",
     "text": [
      "This shouldn't be a list.\n",
      "This is the phase's updated value: This shouldn't be a list.\n"
     ]
    }
   ],
   "source": [
    "# It looks like the below list was meant to be one long string. Use what you learned in this section\n",
    "#  to join the items together and separate each item with a space. Set this to a new variable called\n",
    "# \"phrase\" and print it to check your output.\n",
    "\n",
    "listy = [\"This\", \"shouldn't be\", \"a list.\"]\n",
    "\n",
    "phase = \" \".join(listy)\n",
    "print(phase)\n",
    "\n",
    "print(f\"This is the phase's updated value: {phase}\")\n",
    "\n"
   ]
  }
 ],
 "metadata": {
  "kernelspec": {
   "display_name": "Python 3.8.9 64-bit",
   "language": "python",
   "name": "python3"
  },
  "language_info": {
   "codemirror_mode": {
    "name": "ipython",
    "version": 3
   },
   "file_extension": ".py",
   "mimetype": "text/x-python",
   "name": "python",
   "nbconvert_exporter": "python",
   "pygments_lexer": "ipython3",
   "version": "3.8.9"
  },
  "orig_nbformat": 4,
  "vscode": {
   "interpreter": {
    "hash": "31f2aee4e71d21fbe5cf8b01ff0e069b9275f58929596ceb00d14d90e3e16cd6"
   }
  }
 },
 "nbformat": 4,
 "nbformat_minor": 2
}
