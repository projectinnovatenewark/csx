{
 "cells": [
  {
   "cell_type": "code",
   "execution_count": null,
   "metadata": {},
   "outputs": [],
   "source": [
    "\n",
    "\n",
    "# TODO: Hey Teacher, have the students create their own \"interest.py\" within the same folder as this\n",
    "# TODO: file. Then have them copy and paste the file from Github.\n",
    "\n",
    "# INSERT IMPORT STATEMENT HERE # FIXME"
   ]
  },
  {
   "cell_type": "code",
   "execution_count": null,
   "metadata": {},
   "outputs": [],
   "source": []
  },
  {
   "cell_type": "markdown",
   "metadata": {},
   "source": [
    "### TODO: Section 1.1\n"
   ]
  },
  {
   "cell_type": "code",
   "execution_count": null,
   "metadata": {},
   "outputs": [],
   "source": [
    "# Import the \"annual_interest\" variable and the \"TAX_RATE\" constant from the file \"interest.py\".\n",
    "\n",
    "# Ask the end user how much they would like to invest using the input function. Set it equal to a\n",
    "# variable named \"investment\".\n",
    "# HINT: What data type is \"investment\"? Can you perform mathematical operations on this data type?\n",
    "\n",
    "# Calculate how much their investment would appreciate in one year by multiplying the investment\n",
    "# variable by \"annual_interest\". Set the appreciation amount equal to a variable\n",
    "# named \"appreciation\".\n"
   ]
  },
  {
   "cell_type": "code",
   "execution_count": null,
   "metadata": {},
   "outputs": [],
   "source": []
  },
  {
   "cell_type": "markdown",
   "metadata": {},
   "source": [
    "### TODO: Section 1.2\n"
   ]
  },
  {
   "cell_type": "code",
   "execution_count": null,
   "metadata": {},
   "outputs": [],
   "source": [
    "# Create a new variable named \"new_value\" set to the sum of \"appreciation\" and \"investment\".\n",
    "# Find the sum of \"appreciation\" and \"investment\".\n",
    "\n",
    "# Calculate the taxes you have to pay by setting a variable of \"taxes\" equal to the \"appreciation\"\n",
    "# variable multiplied by the \"TAX_RATE\".\n",
    "\n",
    "# Finally, print the following output using f shorthand: \"Your investment of [investment] is now worth\n",
    "# [new_value] and you owe [taxes] in taxes.\"\n"
   ]
  }
 ],
 "metadata": {
  "language_info": {
   "name": "python"
  },
  "orig_nbformat": 4
 },
 "nbformat": 4,
 "nbformat_minor": 2
}
