{
 "cells": [
  {
   "cell_type": "markdown",
   "metadata": {},
   "source": [
    "### TODO: Section 1"
   ]
  },
  {
   "cell_type": "code",
   "execution_count": null,
   "metadata": {},
   "outputs": [],
   "source": [
    "# INSERT IMPORT STATEMENT HERE # FIXME\n",
    "\n",
    "# Import the annual_interest and TAX_RATE constants from the file \"interest.py\" in\n",
    "# studentrepository/todos/1_basics\n",
    "\n",
    "# Ask a user how much they would like to invest with an input. Set it equal to a variable\n",
    "# named \"investment\".\n",
    "# TIP: Don't forget to convert the input to an integer!\n",
    "\n",
    "# Calculate how much their investment would appreciate in one year by multiplying\n",
    "# the investment variable by the annual_interest. Set the appreciation amount\n",
    "# equal to a variable named \"appreciation\".\n"
   ]
  },
  {
   "cell_type": "markdown",
   "metadata": {},
   "source": [
    "### TODO: Section 1.1\n"
   ]
  },
  {
   "cell_type": "code",
   "execution_count": null,
   "metadata": {},
   "outputs": [],
   "source": [
    "# Create a new variable named \"new_value\" by adding the \"appreciation\" variable to the\n",
    "# \"investment\" variable.\n",
    "\n",
    "# Calculate the taxes you have to pay by setting a variable of \"taxes\" equal to\n",
    "# the \"appreciation\" variable times the TAX_RATE.\n",
    "\n",
    "# Print to the user the following output using f shorthand: \"Your investment of {investment} is now worth\n",
    "# {new_value} and you owe {taxes} in taxes.\""
   ]
  }
 ],
 "metadata": {
  "kernelspec": {
   "display_name": "Python 3.8.9 64-bit",
   "language": "python",
   "name": "python3"
  },
  "language_info": {
   "name": "python",
   "version": "3.8.9"
  },
  "orig_nbformat": 4,
  "vscode": {
   "interpreter": {
    "hash": "31f2aee4e71d21fbe5cf8b01ff0e069b9275f58929596ceb00d14d90e3e16cd6"
   }
  }
 },
 "nbformat": 4,
 "nbformat_minor": 2
}
