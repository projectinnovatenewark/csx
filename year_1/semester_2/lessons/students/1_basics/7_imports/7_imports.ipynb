{
 "cells": [
  {
   "cell_type": "markdown",
   "metadata": {},
   "source": [
    "### Section 1: Importing Modules (4 min)"
   ]
  },
  {
   "cell_type": "code",
   "execution_count": null,
   "metadata": {},
   "outputs": [],
   "source": [
    "# Take a trip down memory lane and visit Lesson 4 Section 5. There we were introduced to importing\n",
    "# the \"math\" module which has some useful functions like hypot(), an easier way to find the length\n",
    "# of a right triangle's hypotenuse. There is a vast amount of modules that can be used that are even\n",
    "# just built in to Python. Lets import a built in Python module used to generate random numbers\n",
    "# called \"random\".\n",
    "\n",
    "# As we mentioned in Lesson 4, imports should generally be at the top of the file. For the sake of\n",
    "# this lesson though they will be placed throughout the file.\n",
    "import random\n",
    "\n",
    "# Let's use the \"random()\" function. This will generate a random float between 0.0 and 1.0.\n",
    "# We use dot (.) notation to reference the imported module and then the function from that module.\n",
    "# You can expect the format of importing to be similar to the following layout: module.function()\n",
    "rand_float = random.random()\n",
    "print(rand_float)"
   ]
  },
  {
   "cell_type": "markdown",
   "metadata": {},
   "source": [
    "### Section 1.1: Importing Specific Funcitons from Modules (5 min)"
   ]
  },
  {
   "cell_type": "code",
   "execution_count": null,
   "metadata": {},
   "outputs": [],
   "source": [
    "# In Python, if we only wanted to import a specific function from the \"random\" module, we can do the\n",
    "# following:\n",
    "\n",
    "from random import randrange # This imports the randrange function from the \"random\" module.\n",
    "\n",
    "# We do not need to use dot notation anymore to reference our randrange function. The program can\n",
    "# now recognize it originates from the \"random\" module. Let's store a random number between 1 and 10\n",
    "# in a variable called \"rand\". \n",
    "\n",
    "rand = randrange(1,11) # The lower bound is included, but the upper bound is excluded.\n",
    "rand_plus_two = rand + 2 \n",
    "print(f\"Randomly generted number: {rand}. Here is rand + 2: {rand_plus_two}.\")"
   ]
  },
  {
   "cell_type": "markdown",
   "metadata": {},
   "source": [
    "### Section 2: Importing from Files in your directory (6 min)\n"
   ]
  },
  {
   "cell_type": "code",
   "execution_count": null,
   "metadata": {},
   "outputs": [],
   "source": [
    "# You can import data or functions from files that you yourself defined. In this folder theres a\n",
    "# file called importable_stuff.py . Let's import the file and use things from it. As you learned in\n",
    "# Section 1, below is the most straight forward way to import a file.\n",
    "import importable_stuff\n",
    "\n",
    "# Then, to access the constant `DAYS_OF_WEEK` from that file,\n",
    "# you would do so with \"dot notation\" just like in section 1. In this import case,\n",
    "# we can find the constant by using:\n",
    "print(f\"Normal dot notation: {importable_stuff.DAYS_OF_WEEK}\")\n",
    "\n",
    "# You could also rename imports such as:\n",
    "import importable_stuff as stuff # Now this import can be referred to going forward as \"stuff\".\n",
    "print(f\"Renaming as stuff: {stuff.DAYS_OF_WEEK}\")\n",
    "\n",
    "# Similar to Section 1, we can import specific objects from importable_stuff.py. If we wanted to\n",
    "# specifically import DAYS_OF_WEEK, then we use the following:\n",
    "from importable_stuff import DAYS_OF_WEEK\n",
    "print(f\"Importing the constant: {DAYS_OF_WEEK}\")\n",
    "\n",
    "# You could also combine the last two concepts and rename the object you are importing by doing the\n",
    "# below:\n",
    "from importable_stuff import DAYS_OF_WEEK as week\n",
    "print(f\"Importing and renaming the constant: {week}\")\n",
    "\n",
    "# Lastly, if you want to import multiple objects from another file, there's\n",
    "# an easier way to do that than writing multiple import lines. This would look like the following:\n",
    "from importable_stuff import DAYS_OF_WEEK, MONTHS\n",
    "print(DAYS_OF_WEEK,\"\\n\", MONTHS) # \"\\n\" prints whatever follows on a new line.\n",
    "\n",
    "# TODO: Complete TODO 7 (6 min for students, 2 min for dem0)\n"
   ]
  }
 ],
 "metadata": {
  "kernelspec": {
   "display_name": "Python 3.8.9 64-bit",
   "language": "python",
   "name": "python3"
  },
  "language_info": {
   "name": "python",
   "version": "3.8.9"
  },
  "orig_nbformat": 4,
  "vscode": {
   "interpreter": {
    "hash": "31f2aee4e71d21fbe5cf8b01ff0e069b9275f58929596ceb00d14d90e3e16cd6"
   }
  }
 },
 "nbformat": 4,
 "nbformat_minor": 2
}
