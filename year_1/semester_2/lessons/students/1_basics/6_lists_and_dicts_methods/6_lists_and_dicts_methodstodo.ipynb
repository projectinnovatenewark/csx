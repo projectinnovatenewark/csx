{
 "cells": [
  {
   "cell_type": "markdown",
   "metadata": {},
   "source": [
    "### TODO: Section 1.1:"
   ]
  },
  {
   "cell_type": "code",
   "execution_count": null,
   "metadata": {},
   "outputs": [],
   "source": [
    "sweet_foods = [\"ice cream\", \"skittles\", \"broccoli\", \"strawberries\", \"oreos\", \"asparagus\"]\n",
    "\n",
    "# Remove \"broccoli\" from the sweet_foods list using the .remove() function."
   ]
  },
  {
   "cell_type": "markdown",
   "metadata": {},
   "source": [
    "### TODO: Section 1.2:\n"
   ]
  },
  {
   "cell_type": "code",
   "execution_count": null,
   "metadata": {},
   "outputs": [],
   "source": [
    "# Remove the last item in the list using the .pop() method. Do not set it equal to a variable."
   ]
  },
  {
   "cell_type": "markdown",
   "metadata": {},
   "source": [
    "### TODO: Section 1.3:\n"
   ]
  },
  {
   "cell_type": "code",
   "execution_count": null,
   "metadata": {},
   "outputs": [],
   "source": [
    "# Use the .pop() method again on the list. This time, use it to remove the first item in the list.\n",
    "# Set it equal to a variable called \"first_item\", then print that variable."
   ]
  },
  {
   "cell_type": "markdown",
   "metadata": {},
   "source": [
    "### TODO: Section 1.4:\n"
   ]
  },
  {
   "cell_type": "code",
   "execution_count": null,
   "metadata": {},
   "outputs": [],
   "source": [
    "# Append the \"first_item\" to the \"sweet_foods\" list."
   ]
  },
  {
   "cell_type": "markdown",
   "metadata": {},
   "source": [
    "### TODO: Section 1.5:\n"
   ]
  },
  {
   "cell_type": "code",
   "execution_count": null,
   "metadata": {},
   "outputs": [],
   "source": [
    "# Print the sweet_foods list. Your output should be:\n",
    "# ['skittles', 'strawberries', 'oreos', 'ice cream']"
   ]
  },
  {
   "cell_type": "markdown",
   "metadata": {},
   "source": [
    "### TODO: Section 2:\n"
   ]
  },
  {
   "cell_type": "code",
   "execution_count": null,
   "metadata": {},
   "outputs": [],
   "source": [
    "values = [1, 2, 3, 4, 5, 6]\n",
    "\n",
    "# Segment the items in the list \"values\" to include only the even numbers.\n",
    "# Save this slice as the variable \"even\". Then, print the \"even\" variable.\n",
    "# HINT: What argument can be passed in a slice to skip every other item in a list?"
   ]
  },
  {
   "cell_type": "markdown",
   "metadata": {},
   "source": [
    "### TODO: Section 3.1:\n"
   ]
  },
  {
   "cell_type": "code",
   "execution_count": null,
   "metadata": {},
   "outputs": [],
   "source": [
    "my_car = {\"make\": \"Tesla\", \"model\": \"Cybertruck\", \"year\": \"2022\"}\n",
    "\n",
    "# Use the .get() method on the \"my_car\" dictionary to search for the \"car_type\" key. Set it equal\n",
    "# to a variable called \"c_type\". If that key doesn't exist, have the .get() method return\n",
    "# \"type doesn't exist\". Finally, print c_type's value."
   ]
  },
  {
   "cell_type": "markdown",
   "metadata": {},
   "source": [
    "### TODO: Section 3.2:\n"
   ]
  },
  {
   "cell_type": "code",
   "execution_count": null,
   "metadata": {},
   "outputs": [],
   "source": [
    "# Next add a key/value pair of \"car_type\": \"Electric\" to the above \"my_car\" dictionary\n"
   ]
  },
  {
   "cell_type": "markdown",
   "metadata": {},
   "source": [
    "### TODO: Section 3.3:\n"
   ]
  },
  {
   "cell_type": "code",
   "execution_count": null,
   "metadata": {},
   "outputs": [],
   "source": [
    "# Use the .pop() method to remove the \"year\" key/value pair from the \"my_car\" dict and set it equal\n",
    "# to a variable called \"year\". Print the \"year\" variable and print the \"my_car\" dictionary."
   ]
  },
  {
   "cell_type": "markdown",
   "metadata": {},
   "source": [
    "### TODO: Section 3.4:\n"
   ]
  },
  {
   "cell_type": "code",
   "execution_count": null,
   "metadata": {},
   "outputs": [],
   "source": [
    "automobile_attributes = ['color', 'engine', 'door count']\n",
    "\n",
    "# First, append the string \"make\" to the \"automobile_attributes\" list. Then set a variable called\n",
    "# \"car_make\" equal to the last item in the newly updated list.\n",
    "\n",
    "# Next use \"car_make\" to find the value of the key/value pair in the \"my_car\" dictionary using the\n",
    "# format \"dict[key]\".\n",
    "\n",
    "# Finally, print the output of \"car_make\" to access that value. (Ex: print(dict_name[var_with_key]))"
   ]
  }
 ],
 "metadata": {
  "language_info": {
   "name": "python"
  },
  "orig_nbformat": 4
 },
 "nbformat": 4,
 "nbformat_minor": 2
}
