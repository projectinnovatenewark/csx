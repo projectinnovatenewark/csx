{
 "cells": [
  {
   "cell_type": "markdown",
   "metadata": {},
   "source": [
    "### TODO: Section 1"
   ]
  },
  {
   "cell_type": "code",
   "execution_count": null,
   "metadata": {},
   "outputs": [],
   "source": [
    "# Generate a user input asking for an integer and store it in a variable called \"num\". Then write a\n",
    "# function called \"evaluate()\" that tells the user whether \"num\" is an odd or even number.\n",
    "\n",
    "# The defined function should set a parameter called \"user_input\" and print the statement \"The user\n",
    "# input is even.\" if the input is even, or \"The user input is odd.\" if the input is odd. Lastly, use\n",
    "# \"num\" as the argument to call \"evaluate()\"."
   ]
  },
  {
   "cell_type": "code",
   "execution_count": null,
   "metadata": {},
   "outputs": [],
   "source": []
  },
  {
   "cell_type": "markdown",
   "metadata": {},
   "source": [
    "### TODO: Section 2\n"
   ]
  },
  {
   "cell_type": "code",
   "execution_count": null,
   "metadata": {},
   "outputs": [],
   "source": [
    "# Define a function called \"charLength()\" with a parameter called \"string\". Store the length of\n",
    "# \"string\" in a variable called \"string_len\".\n",
    " \n",
    "# TIP: The \"len()\" function learned for finding the length of lists can be used for strings as well.\n",
    "\n",
    "# If the length of \"string\" is greater than 10, the function should print \"The string [string] has\n",
    "# more than 10 characters.\" If the previous condition is false, but the length of the string is\n",
    "# greater than 5, print the statement \"The string [string] has more than 5 characters.\" If both\n",
    "# conditions are false, print \"The string [string] only has [string_len] characters.\" Call the\n",
    "# function for each of the 3 variables defined below.\n",
    "\n",
    "stringy1 = \"racecar\"\n",
    "stringy2 = \"supercalifragilisticexpialidocious\"\n",
    "stringy3 = \"\"\n"
   ]
  },
  {
   "cell_type": "code",
   "execution_count": null,
   "metadata": {},
   "outputs": [],
   "source": []
  },
  {
   "cell_type": "markdown",
   "metadata": {},
   "source": [
    "### TODO: Section 3"
   ]
  },
  {
   "cell_type": "code",
   "execution_count": null,
   "metadata": {},
   "outputs": [],
   "source": [
    "# Write a \"while loop\" that increments the variable \"i\" by 3 and prints \"i\" in each iteration. The\n",
    "# \"while loop\" should run as long as \"i\" is less than 30. If \"i\" is an even number, print the\n",
    "# statement \"Skipping number [i].\" and execute a continue statement to move the control back to the\n",
    "# top of the loop.\n",
    "\n",
    "i = 0\n"
   ]
  },
  {
   "cell_type": "code",
   "execution_count": null,
   "metadata": {},
   "outputs": [],
   "source": []
  },
  {
   "cell_type": "markdown",
   "metadata": {},
   "source": [
    "### TODO: Section 4\n"
   ]
  },
  {
   "cell_type": "code",
   "execution_count": null,
   "metadata": {},
   "outputs": [],
   "source": [
    "# Write a \"while loop\" that incements the variable \"i\" by 4 in each iteration. The \"while loop\"\n",
    "# should run as long as \"i\" is less than 200 and print \"i\" in each iteration. If \"i\" is a greater\n",
    "# than 42, print the statement \"Breaking the loop now.\" and implement a break statement to stop the\n",
    "# loop from running. \n",
    "\n",
    "i = 1"
   ]
  },
  {
   "cell_type": "code",
   "execution_count": null,
   "metadata": {},
   "outputs": [],
   "source": []
  }
 ],
 "metadata": {
  "language_info": {
   "name": "python"
  },
  "orig_nbformat": 4
 },
 "nbformat": 4,
 "nbformat_minor": 2
}
