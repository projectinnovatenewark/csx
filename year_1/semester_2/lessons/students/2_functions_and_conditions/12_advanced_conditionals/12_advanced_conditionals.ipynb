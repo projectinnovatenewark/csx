{
 "cells": [
  {
   "cell_type": "markdown",
   "metadata": {},
   "source": [
    "## Section 1: Review\n",
    "\n",
    "As a reminder, conditional statements are used to perform different actions depending on whether\n",
    "a specific boolean constraint evaluates to true or false. A common conditional statement is an\n",
    "\"if statement\". The syntax for an \"if statement\" is: \"if some_condition is True:\" Below is an\n",
    "example of an \"if statement\":"
   ]
  },
  {
   "cell_type": "code",
   "execution_count": null,
   "metadata": {},
   "outputs": [],
   "source": [
    "booly = True\n",
    "if booly:\n",
    "  print(\"This runs if booly is true.\")\n",
    "\n",
    "# Another conditional statement we have learned previously is an \"else statement\". An \"else\n",
    "# statement\" will run only if a given condition in an \"if statement\" does not return true. \n",
    "\n",
    "num = 10\n",
    "if num > 11:\n",
    "  print(f\"The number {num} is greater than 11.\")\n",
    "else:\n",
    "  print(f\"The number {num} is less than 11.\")\n",
    "\n",
    "# IMPORTANT:\n",
    "# An \"else statement\" must follow an \"if statement\". There cannot be a standalone \"else statement\"v"
   ]
  },
  {
   "cell_type": "code",
   "execution_count": null,
   "metadata": {},
   "outputs": [],
   "source": [
    "# TODO: Hey Teacher: Demonstrate how this doesn't work, then comment it out and move on.\n",
    "else:\n",
    "  print(\"This doesn't work\")"
   ]
  },
  {
   "cell_type": "code",
   "execution_count": null,
   "metadata": {},
   "outputs": [],
   "source": [
    "# TODO: Section 1 of TODO 12 (5 min for students, 2 min for demo)"
   ]
  },
  {
   "cell_type": "markdown",
   "metadata": {},
   "source": [
    "## Section 2: The elif statement\n",
    "\n",
    "An \"elif statement\" can be read in plain english as \"else if\", meaning if the previous conditions\n",
    "were not true, then try this condition. The syntax for an \"elif statement\" is:\n",
    "\"elif some_condition is True:\". "
   ]
  },
  {
   "cell_type": "code",
   "execution_count": null,
   "metadata": {},
   "outputs": [],
   "source": [
    "#Below is an example of the syntax for an \"elif statement\":\n",
    "\n",
    "num = 57\n",
    "if num <= 50:\n",
    "  print(\"The number is less than or equal to 50.\")\n",
    "elif num > 55: #This conditional statement will only run if the above if statement is false.\n",
    "  print(\"the number is greater than 55.\")\n",
    "\n",
    "# The difference between an \"else statement\" and an \"elif statement\" is that an \"else statement\"\n",
    "# does not test its own condition, whereas an \"elif statement\" does.\n",
    "\n",
    "# Below is an example using each condtional statement we have learned so far.\n",
    "num = 3 # TODO: Teacher, try changing this number up to satisfy the different conditions.\n",
    "\n",
    "if num > 0:\n",
    "  print(num, \"is a positive number.\")\n",
    "elif num < 0: # The \"elif statement\" will only be triggered if the \"if statement\" is true.\n",
    "  print(num, \"is a negative number.\")\n",
    "else: # the \"else statement\" will only run if none of the conditions above are true.\n",
    "  print(num, \"is a zero value.\")\n",
    "\n",
    "# Below is a similar example to above, except multiple \"if\" statements are used.\n",
    "num = 2 # TODO: Teacher, try changing this number up again to satisfy the different conditions.\n",
    "\n",
    "if num > 0:\n",
    "  print(num, \"is a positive number.\")\n",
    "if num > 2: # Any number of \"if statements\" can be evaluated when executing the file.\n",
    "  print(num, \"is greater than 2.\")\n",
    "elif num < 0: # When \"num\" is equal to 2, the most recent \"if statement\" will return false. Each\n",
    "                # \"if statement\" is the beginning of a new conditional chain, so even though the\n",
    "                # first \"if statement\" is evaluated to be true, the \"elif statement\" will still\n",
    "                # be evaluated.\n",
    "  print(num, \"is a negative number.\")\n",
    "else: # Since both the most recent \"if statement\" and above \"elif statement\" are false, the \"else\n",
    "      # statement\" is executed.\n",
    "  print(num, \"is a zero value.\")\n",
    "\n",
    "# TODO: Section 2 of TODO 12 (7 min for students, 4 min for demo)\n"
   ]
  },
  {
   "cell_type": "markdown",
   "metadata": {},
   "source": [
    "## Section 3: Continue Statements\n",
    "\n",
    "The \"continue\" statement rejects all the remaining statements in the current iteration of a loop\n",
    "and moves the control back to the top of the loop."
   ]
  },
  {
   "cell_type": "code",
   "execution_count": null,
   "metadata": {},
   "outputs": [],
   "source": [
    "# Below are examples of how to use a continue statement within a \"for loop\" and a \"while loop\".\n",
    "for letter in 'Python':\n",
    "  if letter == 'h':\n",
    "    continue # When the \"for loop\" observes the character 'h', the program will skip the print\n",
    "             # statement and begin the next iteration.\n",
    "  print(f\"Current Letter: {letter}\")\n",
    "\n",
    "i = 10\n",
    "while i > 0:\n",
    "  i -= 1 # TIP: Remember the \"-=\" is used as a decrementor and will subtract 1 from \"i\" during\n",
    "         # TIP: each iteration.\n",
    "  if i == 5:\n",
    "    print(\"\\nThe continue statement will be triggered.\\n\")\n",
    "    continue\n",
    "  print(f\"Current variable value: {i}\")\n",
    "\n",
    "# TODO: Section 3 of TODO 12 (4 min for students, 2 min for demo)\n"
   ]
  },
  {
   "cell_type": "code",
   "execution_count": null,
   "metadata": {},
   "outputs": [],
   "source": [
    "# In Python, you can use a \"break statement\" to forcefully end a \"for loop\" or \"while loop\". A \n",
    "# \"break statement\" is often used within the scope of a conditional statement so that when a\n",
    "# condition is met, the loop will stop.\n",
    "\n",
    "for letter in 'Python':\n",
    "  if letter == 'o':\n",
    "    break # When the variable \"letter\" is equal to \"o\", the loop will break.\n",
    "  print(f\"Current Letter: {letter}\")\n",
    "\n",
    "var = 10\n",
    "while var > 2:\n",
    "  var -= 1\n",
    "  if var == 5:\n",
    "    print(\"The break statement will be triggered.\\n\")\n",
    "    break # When the variable \"var\" is equal to 5, the loop will break.\n",
    "  print(f\"Current variable value: {var}\")\n",
    "\n",
    "# TODO: Section 4 of TODO 12 (4 min for students, 2 min for demo)"
   ]
  }
 ],
 "metadata": {
  "language_info": {
   "name": "python"
  },
  "orig_nbformat": 4
 },
 "nbformat": 4,
 "nbformat_minor": 2
}
