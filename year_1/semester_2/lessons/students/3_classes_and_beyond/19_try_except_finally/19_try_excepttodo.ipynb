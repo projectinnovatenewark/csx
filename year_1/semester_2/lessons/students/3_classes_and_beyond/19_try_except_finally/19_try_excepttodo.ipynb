{
 "cells": [
  {
   "cell_type": "code",
   "execution_count": null,
   "metadata": {},
   "outputs": [],
   "source": [
    "# This example is from a previous lesson. We want it to ask a user how many times they want\n",
    "# to play the game, play the game that many times, and tell them when they guess correctly\n",
    "# along the way. One thing though- the example from the lessons doesn't account for if a user\n",
    "# inputs something thats NaN (not a number). Implement a try-except to address if the user\n",
    "# gets a ValueError from entering a non-number. This should probably happen in the inquireUserGames\n",
    "# function as well as the playTheGame function to ensure that any time a user input is made,\n",
    "# your function can account for non-number entries. You may use either a try-except-finally\n",
    "# or a try-except-else to work through the solution.\n",
    "\n",
    "# Original Lesson Solution:\n",
    "from random import randint\n",
    "\n",
    "def inquireUserGames():\n",
    "    \"\"\"ask a user how many times they want to play\"\"\"\n",
    "    timesToPlay = input(\"How many times would you like to play the 'Guess the Number' game?: \")\n",
    "    numTimesToPlay = int(timesToPlay)\n",
    "    userStartedGameString = \"You've signed on to play {} games!\".format(timesToPlay)\n",
    "\n",
    "    return numTimesToPlay, userStartedGameString"
   ]
  },
  {
   "cell_type": "code",
   "execution_count": null,
   "metadata": {},
   "outputs": [],
   "source": [
    "def playTheGame():\n",
    "    \"\"\"ask user for a number between 1 and 10, generate a random number between 1 and 10, then see\n",
    "    if those numbers match. If they do, congratulate the user! If not, tell 'em they guess wrong\"\"\"\n",
    "\n",
    "    randomNumber = randint(1, 10)\n",
    "    promptUserForNumber = input(\"Guess a number between 1 and 10: \")\n",
    "    userNumber = int(promptUserForNumber)\n",
    "\n",
    "    if randomNumber == userNumber:\n",
    "        print(\"You guessed correctly! Number\", userNumber, \"was the correct guess.\", \"\\n\")\n",
    "    else:\n",
    "        print(\"Wrong Answer!!! Number\", randomNumber, \"doesnt equal\", userNumber, \"\\n\")"
   ]
  },
  {
   "cell_type": "code",
   "execution_count": null,
   "metadata": {},
   "outputs": [],
   "source": [
    "def initializeGame():\n",
    "    \"\"\"Lets initialize our game and call the inquireUserGames function.\"\"\"\n",
    "\n",
    "    userGameCount, userWelcomeString = inquireUserGames()\n",
    "    print(\"\\n\", userWelcomeString, \"\\n\")\n",
    "\n",
    "    while userGameCount:\n",
    "        playTheGame()\n",
    "        userGameCount -= 1"
   ]
  },
  {
   "cell_type": "code",
   "execution_count": null,
   "metadata": {},
   "outputs": [],
   "source": [
    "initializeGame()"
   ]
  }
 ],
 "metadata": {
  "kernelspec": {
   "display_name": "Python 3.8.9 64-bit",
   "language": "python",
   "name": "python3"
  },
  "language_info": {
   "name": "python",
   "version": "3.8.9"
  },
  "orig_nbformat": 4,
  "vscode": {
   "interpreter": {
    "hash": "31f2aee4e71d21fbe5cf8b01ff0e069b9275f58929596ceb00d14d90e3e16cd6"
   }
  }
 },
 "nbformat": 4,
 "nbformat_minor": 2
}
