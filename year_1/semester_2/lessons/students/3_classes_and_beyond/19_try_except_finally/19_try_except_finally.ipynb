{
 "cells": [
  {
   "cell_type": "code",
   "execution_count": null,
   "metadata": {},
   "outputs": [],
   "source": [
    "\"\"\"\n",
    "try/except/finally with error handling\n",
    "\"\"\"\n",
    "\n",
    "# here, we will try to open a test.txt file. Since there is no test.txt file,\n",
    "# we will raise an exception using \"except\". Since our try creates an error then the\n",
    "# exception will be raised, and the finally code block executes thereafter.\n",
    "\n",
    "try:\n",
    "    f = open(\"test.txt\", 'r')\n",
    "    data = f.read()\n",
    "    print(\"Trying\")\n",
    "except:\n",
    "    print(\"Fiddlesticks! Failed\")\n",
    "finally:\n",
    "    print(\"Finally!\")\n",
    "    print(\"All Done\")"
   ]
  },
  {
   "cell_type": "code",
   "execution_count": null,
   "metadata": {},
   "outputs": [],
   "source": [
    "# This is the same code as above, except that the \"else\" block will ONLY happen if there is no error.\n",
    "# Finally will happen whether there is an error or not. Else will only happen if there is no error.\n",
    "\n",
    "try:\n",
    "    f = open(\"test.txt\", 'r')\n",
    "    data = f.read()\n",
    "    print(\"Trying\")\n",
    "except:\n",
    "    print(\"Fiddlesticks! Failed\")\n",
    "else:\n",
    "    print(\"Finally!\")\n",
    "    print(\"All Done\")"
   ]
  },
  {
   "cell_type": "code",
   "execution_count": null,
   "metadata": {},
   "outputs": [],
   "source": [
    "# when using explicit error handling, its important to handle errors efficiently.\n",
    "# With try/except/finally's, an IOError is the most common type to be served.\n",
    "# So, let's try it this way\n",
    "\n",
    "try:\n",
    "    f = open(\"test.txt\", \"r\")\n",
    "    try:\n",
    "        data = f.read()\n",
    "        print(data)\n",
    "    except IOError as e:\n",
    "        print(\"IO Error\", e)\n",
    "    except:\n",
    "        print(\"unknown error\")\n",
    "    finally:\n",
    "        f.close()\n",
    "except:\n",
    "    print(\"Fiddlesticks! Failed\")\n",
    "finally:\n",
    "    print(\"All Done\")"
   ]
  },
  {
   "cell_type": "code",
   "execution_count": null,
   "metadata": {},
   "outputs": [],
   "source": [
    "# this is a cleaner way to do the same thing as above.\n",
    "# When we use the \"with-as\" tags, it automatically executes the\n",
    "# open and subsequent \"close\" tag. Now the above function looks\n",
    "# a lot cleaner and can be done in less lines of code\n",
    "\n",
    "try:\n",
    "    with open(\"test.txt\", \"r\") as f:\n",
    "        data = f.read()\n",
    "        print(data)\n",
    "except IOError as e:\n",
    "    print(e)\n",
    "except:\n",
    "    print(\"Fiddlesticks! Failed\")\n",
    "finally:\n",
    "    print(\"Finally! We iz done!\")\n",
    "\n",
    "print(\"All Done\")"
   ]
  },
  {
   "cell_type": "code",
   "execution_count": null,
   "metadata": {},
   "outputs": [],
   "source": [
    "# this function does something similar to a try/except\n",
    "# In the code above, you can see we created a class called BadNumbrersError.\n",
    "# Then in our function, we added a check. If x==3, then raise a BadNumbersError\n",
    "# exception and pass in the text “We don’t like the number 3”.\n",
    "# This is a simple way to raise a custom exception using a python class.\n",
    "# 'pass' is used for no particular reason. It is there purely for syntax reasons.\n",
    "class BadNumbersError(Exception):\n",
    "    pass\n",
    "\n",
    "def addnumbers(x, y):\n",
    "    if x == 3:\n",
    "        raise BadNumbersError(\"We don't like the number 3\")\n",
    "    return x+y\n",
    "\n",
    "print(addnumbers(3, 2))"
   ]
  }
 ],
 "metadata": {
  "language_info": {
   "name": "python"
  },
  "orig_nbformat": 4
 },
 "nbformat": 4,
 "nbformat_minor": 2
}
