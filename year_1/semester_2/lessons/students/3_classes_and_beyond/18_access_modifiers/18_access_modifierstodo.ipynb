{
 "cells": [
  {
   "cell_type": "markdown",
   "metadata": {},
   "source": [
    "### TODO: Section 4\n"
   ]
  },
  {
   "cell_type": "code",
   "execution_count": null,
   "metadata": {},
   "outputs": [],
   "source": [
    "# Define a class called \"User\" that has the public instance attribute \"username\" and the private\n",
    "# instance attribute \"password\". Then define a method within the \"User\" class called\n",
    "# \"check_password()\" that will take an input with the question reading \"What is the password?: \".\n",
    "# The method should compare the input to the password defined in the instantiation of the \"User\"\n",
    "# class. If the passwords match, then the method should print \"The password entered is correct.\"\n",
    "# If the passwords do not match, the method should print the statement \"The password entered is\n",
    "# incorrect.\"\n"
   ]
  },
  {
   "cell_type": "code",
   "execution_count": null,
   "metadata": {},
   "outputs": [],
   "source": []
  },
  {
   "cell_type": "code",
   "execution_count": null,
   "metadata": {},
   "outputs": [],
   "source": [
    "# Next define an instantiation of the \"User\" class with \"username\" equal to \"cool_coder\" and\n",
    "# password equal to \"abcd1234!\" and store it in the variable \"user_1\". Then call the\n",
    "# \"check_password()\" method.\n"
   ]
  },
  {
   "cell_type": "code",
   "execution_count": null,
   "metadata": {},
   "outputs": [],
   "source": []
  },
  {
   "cell_type": "code",
   "execution_count": null,
   "metadata": {},
   "outputs": [],
   "source": [
    "# Lastly, try to print the \"password\" variable directly. If you receive an error, consider the\n",
    "# reasoning behind this output."
   ]
  },
  {
   "cell_type": "code",
   "execution_count": null,
   "metadata": {},
   "outputs": [],
   "source": []
  }
 ],
 "metadata": {
  "kernelspec": {
   "display_name": "Python 3.8.9 64-bit",
   "language": "python",
   "name": "python3"
  },
  "language_info": {
   "name": "python",
   "version": "3.8.9"
  },
  "orig_nbformat": 4,
  "vscode": {
   "interpreter": {
    "hash": "31f2aee4e71d21fbe5cf8b01ff0e069b9275f58929596ceb00d14d90e3e16cd6"
   }
  }
 },
 "nbformat": 4,
 "nbformat_minor": 2
}
