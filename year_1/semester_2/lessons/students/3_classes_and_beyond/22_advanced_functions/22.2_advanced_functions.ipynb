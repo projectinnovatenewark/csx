{
 "cells": [
  {
   "cell_type": "code",
   "execution_count": null,
   "metadata": {},
   "outputs": [],
   "source": [
    "# review optional arguments and advanced functions including\n",
    "# nested for loops, conditionals, and possibly use packages\n",
    "\n",
    "# link on optional args: https://stackoverflow.com/questions/9539921/how-do-i-create-a-python-function-with-optional-arguments\n",
    "\n",
    "# include lambdas, map, filter, reduce, higher order functions\n",
    "\n",
    "# Lambdas/Anonymous functions\n",
    "def raiseToTheFourth(n):\n",
    "    return n*n*n*n\n",
    "\n",
    "# This is an anonymous function that will take an argument of \"x\" and perform the operations after the colon.\n",
    "# It can accept multiple arguments but only return one expression.\n",
    "fourth = lambda x: x*x*x\n",
    "\n",
    "print(fourth(7))\n",
    "print(raiseToTheFourth(5))"
   ]
  },
  {
   "cell_type": "code",
   "execution_count": null,
   "metadata": {},
   "outputs": [],
   "source": [
    "\n",
    "# A higher order function is a function that contains either functions as an argument or returns a\n",
    "# function as an output\n",
    "def shout(text):\n",
    "    return text.upper() # here we are returning a function being called on a string,\n",
    "                        # making this a higher order function\n",
    "\n",
    "def whisper(text):\n",
    "    return text.lower()\n",
    "\n",
    "def proper(text):\n",
    "    return text.title()\n",
    "\n",
    "def greet(func):\n",
    "    # here you can see the argument being passed is used as a function call- we can assume\n",
    "    # that this function is meant to be passed a function as an argument. It also shows how\n",
    "    # function calls can be stored in variables- something we've seen prior to this lesson.\n",
    "    greeting = func(\"should i YELL or whisper?\")\n",
    "    print(greeting)\n",
    "\n",
    "# in the three following function calls, we are passing previously defined functions as arguments\n",
    "greet(shout)\n",
    "greet(whisper)\n",
    "greet(proper)"
   ]
  },
  {
   "cell_type": "code",
   "execution_count": null,
   "metadata": {},
   "outputs": [],
   "source": [
    "\n",
    "# Your higher order functions can also return function calls. Here is an example including\n",
    "# a \"partial\" function call. While the adder function is defined within the scope of create_adder,\n",
    "# our next example will display using a function from the global scope.\n",
    "def create_adder(x):\n",
    "    print('x', x)\n",
    "    def adder(y):\n",
    "        print('x, y: ', x, 'and', y)\n",
    "        return x + y\n",
    "    # the create_adder function returns a different function call\n",
    "    return adder\n",
    "\n",
    "# This variable is being set equal to a partial function call. However, even though we passed \"x\" to\n",
    "# \"create_adder\", we need to pass add_8 another argument so that the inner \"adder\" funtion that's\n",
    "# returned is passed a \"y\" argument.\n",
    "add_8 = create_adder(8)\n",
    "\n",
    "# Since the above variable returns a function- we will need to pass an argument to that return\n",
    "# function to call it.\n",
    "add_second_num = add_8(6)\n",
    "\n",
    "print(add_second_num)"
   ]
  }
 ],
 "metadata": {
  "kernelspec": {
   "display_name": "Python 3.8.9 64-bit",
   "language": "python",
   "name": "python3"
  },
  "language_info": {
   "name": "python",
   "version": "3.8.9"
  },
  "orig_nbformat": 4,
  "vscode": {
   "interpreter": {
    "hash": "31f2aee4e71d21fbe5cf8b01ff0e069b9275f58929596ceb00d14d90e3e16cd6"
   }
  }
 },
 "nbformat": 4,
 "nbformat_minor": 2
}
