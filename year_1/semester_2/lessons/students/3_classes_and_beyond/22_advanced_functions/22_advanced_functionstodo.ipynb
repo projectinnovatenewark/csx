{
 "cells": [
  {
   "cell_type": "code",
   "execution_count": 2,
   "metadata": {},
   "outputs": [],
   "source": [
    "#  Imagine it's 3 games into the NFL season. Theres two conferences, each with four divisions.\n",
    "#  Each division has four teams. Each team has played three games.\n",
    "#  The first score will always be the listed team's score.\n",
    "\n",
    "week_three_nfl_standings = {\n",
    "    \"AFC\": {\n",
    "        \"East\": {\n",
    "            \"Buffalo Bills\": [[12, 20], [23, 30], [30, 10]],\n",
    "            \"Miami Dolphins\": [[40, 42], [40, 30], [15, 19]],\n",
    "            \"New England Patriots\": [[10, 10], [50, 10], [42, 30]],\n",
    "            \"New York Jets\": [[10, 30], [20, 40], [15, 50]]\n",
    "        },\n",
    "        \"South\": {\n",
    "            \"Houston Texans\": [[32, 45], [25, 6], [30, 40]],\n",
    "            \"Indianapolis Colts\": [[40, 20], [11, 18], [15, 19]],\n",
    "            \"Jacksonville Jaguars\": [[20, 3], [25, 20], [27, 45]],\n",
    "            \"Tennessee Titans\": [[34, 6], [3, 10], [29, 34]]\n",
    "        },\n",
    "        \"North\": {\n",
    "            \"Baltimore Ravens\": [[33, 10], [40, 20], [15, 12]],\n",
    "            \"Cincinnati Bengals\": [[25, 28], [25, 20], [40, 20]],\n",
    "            \"Cleveland Browns\": [[29, 34], [30, 22], [25, 34]],\n",
    "            \"Pittsburgh Steelers\": [[15, 19], [10, 3], [25, 28]]\n",
    "        },\n",
    "        \"West\": {\n",
    "            \"Denver Broncos\": [[15, 19], [10, 6], [40, 20]],\n",
    "            \"Kansas City Chiefs\": [[40, 20], [11, 18], [15, 19]],\n",
    "            \"Oakland Raiders\": [[25, 28], [6, 18], [10, 18]],\n",
    "            \"San Diego Chargers\": [[29, 34], [30, 22], [25, 34]]\n",
    "        }\n",
    "    },\n",
    "    \"NFC\": {\n",
    "        \"East\": {\n",
    "            \"Dallas Cowboys\": [[15, 19], [10, 3], [25, 28]],\n",
    "            \"New York Giants\": [[32, 45], [25, 6], [30, 40]],\n",
    "            \"Philadelphia Eagles\": [[40, 20], [11, 18], [15, 19]],\n",
    "            \"Washington Redskins\": [[20, 3], [25, 20], [27, 45]]\n",
    "        },\n",
    "        \"South\": {\n",
    "            \"Atlanta Falcons\": [[29, 34], [30, 42], [40, 53]],\n",
    "            \"Carolina Panthers\": [[20, 3], [25, 20], [27, 45]],\n",
    "            \"New Orleans Saints\": [[32, 45], [25, 6], [30, 40]],\n",
    "            \"Tampa Bay Buccaneers\": [[15, 19], [10, 3], [25, 28]]\n",
    "        },\n",
    "        \"North\": {\n",
    "            \"Chicago Bears\": [[29, 34], [30, 42], [40, 53]],\n",
    "            \"Detroit Lions\": [[40, 20], [11, 18], [15, 19]],\n",
    "            \"Green Bay Packers\": [[25, 28], [25, 20], [40, 20]],\n",
    "            \"Minnesota Vikings\": [[29, 34], [30, 22], [25, 34]]\n",
    "        },\n",
    "        \"West\": {\n",
    "            \"Arizona Cardinals\": [[20, 3], [25, 20], [27, 45]],\n",
    "            \"St. Louis Rams\": [[25, 28], [25, 20], [40, 20]],\n",
    "            \"San Francisco 49ers\": [[10, 3], [21, 28], [29, 34]],\n",
    "            \"Seattle Seahawks\": [[29, 34], [30, 42], [40, 53]]\n",
    "        },\n",
    "    }\n",
    "}\n",
    "\n",
    "# note: you are welcome to create 'helper functions' or smaller functions that make solving these\n",
    "# problems easier."
   ]
  },
  {
   "cell_type": "code",
   "execution_count": 1,
   "metadata": {},
   "outputs": [
    {
     "ename": "SyntaxError",
     "evalue": "incomplete input (733554296.py, line 2)",
     "output_type": "error",
     "traceback": [
      "\u001b[0;36m  Input \u001b[0;32mIn [1]\u001b[0;36m\u001b[0m\n\u001b[0;31m    # TODO: print out each team's name followed by their average score, lowest and highest score\u001b[0m\n\u001b[0m                                                                                                ^\u001b[0m\n\u001b[0;31mSyntaxError\u001b[0m\u001b[0;31m:\u001b[0m incomplete input\n"
     ]
    }
   ],
   "source": [
    "def team_statistics():\n",
    "    # TODO: print out each team's name followed by their average score, lowest and highest score"
   ]
  },
  {
   "cell_type": "code",
   "execution_count": null,
   "metadata": {},
   "outputs": [],
   "source": [
    "def first_place_teams():\n",
    "    # TODO: find the first place team in each division and print out their record in a readable way"
   ]
  },
  {
   "cell_type": "code",
   "execution_count": null,
   "metadata": {},
   "outputs": [],
   "source": [
    "def highest_scoring_team():\n",
    "    # TODO: find the highest score of a team in each conference\n",
    "    # TODO: i.e. AFC highest scoring team is the Baltimore Ravens and NFC highest scoring team is the New York Giants"
   ]
  },
  {
   "cell_type": "code",
   "execution_count": null,
   "metadata": {},
   "outputs": [],
   "source": [
    "def tied_a_game():\n",
    "    # TODO: there was a tie in one game. find the team and print the score"
   ]
  },
  {
   "cell_type": "code",
   "execution_count": null,
   "metadata": {},
   "outputs": [],
   "source": [
    "def division_leader(division):\n",
    "    # TODO: find the team in the lead of the division provided (AFC or NFC)"
   ]
  }
 ],
 "metadata": {
  "interpreter": {
   "hash": "66f6eda6f9ef4b485810994d53a352854a5c7125b923083521f0441a797662ef"
  },
  "kernelspec": {
   "display_name": "Python 3.10.4 64-bit ('3.10.4')",
   "language": "python",
   "name": "python3"
  },
  "language_info": {
   "codemirror_mode": {
    "name": "ipython",
    "version": 3
   },
   "file_extension": ".py",
   "mimetype": "text/x-python",
   "name": "python",
   "nbconvert_exporter": "python",
   "pygments_lexer": "ipython3",
   "version": "3.10.4"
  },
  "orig_nbformat": 4
 },
 "nbformat": 4,
 "nbformat_minor": 2
}
