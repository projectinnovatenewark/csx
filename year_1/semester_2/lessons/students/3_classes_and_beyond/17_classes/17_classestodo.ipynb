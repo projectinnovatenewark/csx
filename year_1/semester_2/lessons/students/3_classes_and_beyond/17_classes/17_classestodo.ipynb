{
 "cells": [
  {
   "cell_type": "markdown",
   "metadata": {},
   "source": [
    "### TODO: Section 1"
   ]
  },
  {
   "cell_type": "code",
   "execution_count": null,
   "metadata": {},
   "outputs": [],
   "source": [
    "# Create a class for an \"Employee\" that includes the instance attributes: \"first_name\", \"last_name\",\n",
    "# \"salary\", and \"title\"."
   ]
  },
  {
   "cell_type": "code",
   "execution_count": null,
   "metadata": {},
   "outputs": [],
   "source": []
  },
  {
   "cell_type": "code",
   "execution_count": null,
   "metadata": {},
   "outputs": [],
   "source": [
    "\n",
    "# Next, within the \"Employee\" class, create a method called \"printer()\" that prints the statement,\n",
    "# \"[first_name] [last_name] works as a [title] and makes $[salary] per year.\"\n",
    "# IMPORTANT: Use f shorthand to fosrmat your print statement."
   ]
  },
  {
   "cell_type": "code",
   "execution_count": null,
   "metadata": {},
   "outputs": [],
   "source": []
  },
  {
   "cell_type": "code",
   "execution_count": null,
   "metadata": {},
   "outputs": [],
   "source": [
    "# Then, define a new instantion of \"Employee\" with \"first_name\" equal to \"Spongebob\", \"last_name\"\n",
    "# equal to \"Squarepants\", \"salary\" equal to \"50000\" and \"title\" equal to \"Fry Cook\""
   ]
  },
  {
   "cell_type": "code",
   "execution_count": null,
   "metadata": {},
   "outputs": [],
   "source": []
  },
  {
   "cell_type": "code",
   "execution_count": null,
   "metadata": {},
   "outputs": [],
   "source": [
    "\n",
    "# Lastly, call the \"printer()\" method to print your formatted statement."
   ]
  },
  {
   "cell_type": "code",
   "execution_count": null,
   "metadata": {},
   "outputs": [],
   "source": []
  },
  {
   "cell_type": "markdown",
   "metadata": {},
   "source": [
    "### TODO: Section 2"
   ]
  },
  {
   "cell_type": "code",
   "execution_count": null,
   "metadata": {},
   "outputs": [],
   "source": [
    "# Below is the class \"SuperHero\" with the instance attributes \"name\" and \"powers\". Within the class,\n",
    "# write a method called \"add_power()\" that adds a new superpower to the \"powers\" list.\n",
    "\n",
    "class SuperHero:\n",
    "  def __init__(self, name):\n",
    "    self.name = name\n",
    "    self.powers = []\n",
    "\n",
    "  # FIXME: Write your method here."
   ]
  },
  {
   "cell_type": "code",
   "execution_count": null,
   "metadata": {},
   "outputs": [],
   "source": [
    "# Then, define a new instantiation of \"SuperHero\" with the \"name\" equal to \"Superman\" and store it\n",
    "# in a variable called \"super\"."
   ]
  },
  {
   "cell_type": "code",
   "execution_count": null,
   "metadata": {},
   "outputs": [],
   "source": []
  },
  {
   "cell_type": "code",
   "execution_count": null,
   "metadata": {},
   "outputs": [],
   "source": [
    "# Next, call the \"add_power()\" method three times to add the superpowers: \"heat vision\",\n",
    "# \"super strength\", and \"invincibility\"."
   ]
  },
  {
   "cell_type": "code",
   "execution_count": null,
   "metadata": {},
   "outputs": [],
   "source": []
  },
  {
   "cell_type": "code",
   "execution_count": null,
   "metadata": {},
   "outputs": [],
   "source": [
    "# Lastly, print the list of Superman's superpowers."
   ]
  },
  {
   "cell_type": "code",
   "execution_count": null,
   "metadata": {},
   "outputs": [],
   "source": []
  },
  {
   "cell_type": "markdown",
   "metadata": {},
   "source": [
    "### TODO: Section 3"
   ]
  },
  {
   "cell_type": "code",
   "execution_count": null,
   "metadata": {},
   "outputs": [],
   "source": [
    "# Create a class named \"Animal\" with the instnace attributes \"num_legs\" and \"weight\"."
   ]
  },
  {
   "cell_type": "code",
   "execution_count": null,
   "metadata": {},
   "outputs": [],
   "source": []
  },
  {
   "cell_type": "code",
   "execution_count": null,
   "metadata": {},
   "outputs": [],
   "source": [
    "# Then create a child class derived from \"Animal\" named \"Mammal\". Define the class attribute\n",
    "# \"habitat\" equal to \"land\" for \"Mammal\". Define \"species\" and \"color\" as new instance attributes in\n",
    "# the \"Mammal\" class.\n",
    "# HINT: Use the \"super()\" function.\n"
   ]
  },
  {
   "cell_type": "code",
   "execution_count": null,
   "metadata": {},
   "outputs": [],
   "source": []
  },
  {
   "cell_type": "code",
   "execution_count": null,
   "metadata": {},
   "outputs": [],
   "source": [
    "# Define a method in the \"Mammal\" class called \"printer()\" that prints the statement \"The [species]\n",
    "# is [weight] pounds and lives on [habitat]\".\n"
   ]
  },
  {
   "cell_type": "code",
   "execution_count": null,
   "metadata": {},
   "outputs": [],
   "source": []
  },
  {
   "cell_type": "code",
   "execution_count": null,
   "metadata": {},
   "outputs": [],
   "source": [
    "# Define an instantion of the \"Mammal\" class with \"num_legs\" eqaul to 4, \"weight\" equal to\n",
    "# \"700\", \"species\" equal to \"black bear\", and \"color\" equal to \"black\" stored in the variable\n",
    "# \"bear\"."
   ]
  },
  {
   "cell_type": "code",
   "execution_count": null,
   "metadata": {},
   "outputs": [],
   "source": []
  },
  {
   "cell_type": "code",
   "execution_count": null,
   "metadata": {},
   "outputs": [],
   "source": [
    "# Lastly, call the \"printer()\" method."
   ]
  },
  {
   "cell_type": "code",
   "execution_count": null,
   "metadata": {},
   "outputs": [],
   "source": []
  }
 ],
 "metadata": {
  "kernelspec": {
   "display_name": "Python 3.8.9 64-bit",
   "language": "python",
   "name": "python3"
  },
  "language_info": {
   "name": "python",
   "version": "3.8.9"
  },
  "orig_nbformat": 4,
  "vscode": {
   "interpreter": {
    "hash": "31f2aee4e71d21fbe5cf8b01ff0e069b9275f58929596ceb00d14d90e3e16cd6"
   }
  }
 },
 "nbformat": 4,
 "nbformat_minor": 2
}
