{
 "cells": [
  {
   "cell_type": "markdown",
   "metadata": {},
   "source": [
    "# Create"
   ]
  },
  {
   "cell_type": "code",
   "execution_count": 4,
   "metadata": {},
   "outputs": [
    {
     "name": "stdout",
     "output_type": "stream",
     "text": [
      "running command:  CREATE TABLE IF NOT EXISTS tweets(\n",
      "                            id serial not null primary key,\n",
      "                            username varchar(100),\n",
      "                            content varchar(280),\n",
      "                            created_at timestamp,\n",
      "                            FOREIGN KEY (username) REFERENCES users(username))\n",
      "running command:  CREATE TABLE IF NOT EXISTS likes(\n",
      "                            username varchar(100),\n",
      "                            tweet_id serial not null,\n",
      "                            FOREIGN KEY (username) REFERENCES users(username),\n",
      "                            FOREIGN KEY (tweet_id) REFERENCES tweets(id),\n",
      "                            PRIMARY KEY (tweet_id, username))\n"
     ]
    },
    {
     "data": {
      "text/plain": [
       "<sqlalchemy.engine.cursor.LegacyCursorResult at 0x7fa171f9b6d0>"
      ]
     },
     "execution_count": 4,
     "metadata": {},
     "output_type": "execute_result"
    }
   ],
   "source": [
    "from exec import execute_query\n",
    "\n",
    "create_tweets_table = \"\"\"CREATE TABLE IF NOT EXISTS tweets(\n",
    "                            id serial not null primary key,\n",
    "                            username varchar(100),\n",
    "                            content varchar(280),\n",
    "                            created_at timestamp,\n",
    "                            FOREIGN KEY (username) REFERENCES users(username))\"\"\"\n",
    "\n",
    "execute_query(create_tweets_table)\n",
    "\n",
    "create_likes_table = \"\"\"CREATE TABLE IF NOT EXISTS likes(\n",
    "                            username varchar(100),\n",
    "                            tweet_id serial not null,\n",
    "                            FOREIGN KEY (username) REFERENCES users(username),\n",
    "                            FOREIGN KEY (tweet_id) REFERENCES tweets(id),\n",
    "                            PRIMARY KEY (tweet_id, username))\"\"\"  \n",
    "\n",
    "execute_query(create_likes_table)\n"
   ]
  }
 ],
 "metadata": {
  "interpreter": {
   "hash": "1fc498d6039974c203fd666ccd77857e0208a43cba16f4681d52b858100ce542"
  },
  "kernelspec": {
   "display_name": "Python 3.9.12 ('base')",
   "language": "python",
   "name": "python3"
  },
  "language_info": {
   "codemirror_mode": {
    "name": "ipython",
    "version": 3
   },
   "file_extension": ".py",
   "mimetype": "text/x-python",
   "name": "python",
   "nbconvert_exporter": "python",
   "pygments_lexer": "ipython3",
   "version": "3.9.12"
  },
  "orig_nbformat": 4
 },
 "nbformat": 4,
 "nbformat_minor": 2
}
