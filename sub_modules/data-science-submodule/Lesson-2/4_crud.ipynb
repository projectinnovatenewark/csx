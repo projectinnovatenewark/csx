{
 "cells": [
  {
   "cell_type": "markdown",
   "metadata": {},
   "source": [
    "#### Create"
   ]
  },
  {
   "cell_type": "code",
   "execution_count": 11,
   "metadata": {},
   "outputs": [
    {
     "name": "stdout",
     "output_type": "stream",
     "text": [
      "running command:  SELECT * FROM tweets;\n",
      "<sqlalchemy.engine.cursor.LegacyCursorResult object at 0x7fcac0dc1490>\n",
      "<sqlalchemy.engine.cursor.LegacyCursorResult object at 0x7fcac0dc1490>\n",
      "<sqlalchemy.engine.cursor.LegacyCursorResult object at 0x7fcac0dc1490>\n",
      "<sqlalchemy.engine.cursor.LegacyCursorResult object at 0x7fcac0dc1490>\n",
      "<sqlalchemy.engine.cursor.LegacyCursorResult object at 0x7fcac0dc1490>\n",
      "<sqlalchemy.engine.cursor.LegacyCursorResult object at 0x7fcac0dc1490>\n",
      "<sqlalchemy.engine.cursor.LegacyCursorResult object at 0x7fcac0dc1490>\n",
      "<sqlalchemy.engine.cursor.LegacyCursorResult object at 0x7fcac0dc1490>\n",
      "<sqlalchemy.engine.cursor.LegacyCursorResult object at 0x7fcac0dc1490>\n",
      "<sqlalchemy.engine.cursor.LegacyCursorResult object at 0x7fcac0dc1490>\n",
      "<sqlalchemy.engine.cursor.LegacyCursorResult object at 0x7fcac0dc1490>\n",
      "<sqlalchemy.engine.cursor.LegacyCursorResult object at 0x7fcac0dc1490>\n",
      "<sqlalchemy.engine.cursor.LegacyCursorResult object at 0x7fcac0dc1490>\n",
      "<sqlalchemy.engine.cursor.LegacyCursorResult object at 0x7fcac0dc1490>\n",
      "<sqlalchemy.engine.cursor.LegacyCursorResult object at 0x7fcac0dc1490>\n"
     ]
    }
   ],
   "source": [
    "from exec import execute_query\n",
    "\n",
    "tweet_query = \"SELECT * FROM tweets;\"\n",
    "\n",
    "#FIXME: RENAME QURIES\n",
    "\n",
    "tweet = execute_query(tweet_query)\n",
    "for t in tweet:\n",
    "    print(tweet)"
   ]
  },
  {
   "cell_type": "code",
   "execution_count": 10,
   "metadata": {},
   "outputs": [
    {
     "name": "stdout",
     "output_type": "stream",
     "text": [
      "running command:  SELECT * FROM likes;\n",
      "('tinybear422', 1)\n",
      "('goldenladybug871', 1)\n",
      "('purplepeacock914', 1)\n",
      "('happyfrog120', 1)\n",
      "('purplemouse241', 1)\n",
      "('blackdog278', 1)\n",
      "('happygorilla396', 1)\n",
      "('sadwolf260', 1)\n",
      "('redbear419', 1)\n",
      "('lazyswan870', 1)\n",
      "('yellowrabbit178', 1)\n",
      "('orangepeacock294', 1)\n",
      "('heavyzebra100', 1)\n",
      "('beautifulwolf840', 1)\n",
      "('purplemeercat163', 2)\n",
      "('happygorilla396', 2)\n",
      "('happydog653', 2)\n",
      "('tinybear422', 2)\n",
      "('tinybutterfly576', 2)\n",
      "('heavyzebra100', 2)\n",
      "('yellowrabbit178', 2)\n",
      "('happyfrog120', 2)\n",
      "('bluegoose765', 2)\n",
      "('tinysnake663', 2)\n",
      "('lazyswan870', 2)\n",
      "('happylion378', 3)\n",
      "('whitefish997', 3)\n",
      "('beautifulpanda452', 3)\n",
      "('ticklishbear607', 3)\n",
      "('yellowrabbit178', 3)\n",
      "('blackdog278', 3)\n",
      "('heavyzebra100', 3)\n",
      "('organicleopard517', 3)\n",
      "('organiccat420', 3)\n",
      "('blackdog278', 4)\n",
      "('beautifulwolf840', 4)\n",
      "('sadwolf260', 4)\n",
      "('happyfrog120', 4)\n",
      "('tinymouse675', 4)\n",
      "('happydog653', 4)\n",
      "('organicrabbit818', 4)\n",
      "('whitegoose249', 4)\n",
      "('silverpeacock131', 4)\n",
      "('yellowrabbit178', 4)\n",
      "('happybird899', 5)\n",
      "('organiccat420', 5)\n",
      "('happygorilla396', 5)\n",
      "('ticklishbear607', 5)\n",
      "('tinybutterfly576', 5)\n",
      "('lazypanda169', 5)\n",
      "('saddog418', 5)\n",
      "('tinysnake663', 5)\n",
      "('greenswan153', 5)\n",
      "('whitemeercat398', 5)\n",
      "('happygorilla396', 6)\n",
      "('saddog418', 6)\n",
      "('heavyzebra100', 6)\n",
      "('happyostrich490', 6)\n",
      "('bluecat537', 6)\n",
      "('whitemeercat398', 6)\n",
      "('tinysnake663', 6)\n",
      "('tinymouse675', 6)\n",
      "('ticklishrabbit580', 6)\n",
      "('beautifulpanda452', 6)\n",
      "('sadwolf260', 6)\n",
      "('organicrabbit818', 7)\n",
      "('tinymouse675', 7)\n",
      "('username_test', 7)\n",
      "('organiccat420', 8)\n",
      "('username_test', 8)\n",
      "('purplepeacock914', 8)\n",
      "('organicleopard517', 8)\n",
      "('purplemeercat163', 8)\n",
      "('sadpanda903', 8)\n",
      "('yellowrabbit178', 8)\n",
      "('organicgoose845', 8)\n",
      "('sadwolf260', 8)\n",
      "('ticklishbear607', 9)\n",
      "('sadwolf260', 9)\n",
      "('beautifulpanda452', 9)\n",
      "('blackdog278', 9)\n",
      "('tinymouse675', 9)\n",
      "('happyfrog120', 9)\n",
      "('tinybear422', 9)\n",
      "('crazyfrog202', 9)\n",
      "('bluecat537', 9)\n",
      "('tinymouse675', 10)\n",
      "('yellowsnake682', 10)\n",
      "('happylion378', 10)\n",
      "('beautifulfrog812', 10)\n",
      "('purplepeacock914', 10)\n",
      "('sadwolf260', 10)\n",
      "('organicrabbit818', 10)\n",
      "('lazyswan870', 10)\n",
      "('purplemouse241', 10)\n",
      "('happydog653', 10)\n",
      "('sadfish431', 10)\n",
      "('whitegoose249', 10)\n",
      "('happygorilla396', 10)\n",
      "('blackdog278', 11)\n",
      "('yellowsnake682', 11)\n",
      "('tinyostrich498', 11)\n",
      "('organiccat420', 11)\n",
      "('purplemouse241', 11)\n",
      "('happydog653', 11)\n",
      "('tinybear422', 12)\n",
      "('bluewolf248', 12)\n",
      "('happylion378', 12)\n",
      "('purplemeercat163', 12)\n",
      "('purplemouse241', 12)\n",
      "('lazyswan870', 12)\n",
      "('orangepeacock294', 12)\n",
      "('orangeduck345', 12)\n",
      "('silverladybug592', 13)\n",
      "('happygorilla396', 13)\n",
      "('happyfrog120', 13)\n",
      "('username_test', 13)\n",
      "('bluegoose765', 13)\n",
      "('yellowsnake682', 13)\n",
      "('tinyostrich498', 13)\n",
      "('tinybear422', 13)\n",
      "('blackleopard612', 13)\n",
      "('silverpeacock131', 14)\n",
      "('lazyswan870', 14)\n",
      "('happylion378', 14)\n",
      "('beautifulfrog812', 14)\n",
      "('lazypanda169', 14)\n",
      "('purplepeacock914', 14)\n",
      "('beautifulwolf840', 14)\n",
      "('organiccat420', 15)\n",
      "('bluecat537', 15)\n",
      "('heavyzebra100', 15)\n",
      "('tinysnake663', 15)\n",
      "('tinymouse675', 15)\n",
      "('sadpanda903', 15)\n",
      "('sadwolf260', 15)\n",
      "('happylion378', 15)\n"
     ]
    }
   ],
   "source": [
    "users_query = \"SELECT * FROM likes;\"\n",
    "\n",
    "users = execute_query(users_query)\n",
    "for user in users:\n",
    "    print(user)"
   ]
  },
  {
   "cell_type": "markdown",
   "metadata": {},
   "source": [
    "# Update"
   ]
  },
  {
   "cell_type": "code",
   "execution_count": 9,
   "metadata": {},
   "outputs": [
    {
     "name": "stdout",
     "output_type": "stream",
     "text": [
      "running command:  UPDATE tweets \n",
      "                 SET content = 'test1' \n",
      "                 WHERE content = 'test0';\n"
     ]
    },
    {
     "data": {
      "text/plain": [
       "<sqlalchemy.engine.cursor.LegacyCursorResult at 0x7fcad281ae20>"
      ]
     },
     "execution_count": 9,
     "metadata": {},
     "output_type": "execute_result"
    }
   ],
   "source": [
    "users_query = \"\"\"UPDATE tweets \n",
    "                 SET content = 'test1' \n",
    "                 WHERE content = 'test0';\"\"\"\n",
    "                 \n",
    "execute_query(users_query)"
   ]
  },
  {
   "cell_type": "code",
   "execution_count": 8,
   "metadata": {},
   "outputs": [
    {
     "name": "stdout",
     "output_type": "stream",
     "text": [
      "running command:  UPDATE likes \n",
      "                 SET likes.tweetID = '1' \n",
      "                 WHERE likes.tweetID = '0';\n"
     ]
    },
    {
     "ename": "ProgrammingError",
     "evalue": "(psycopg2.errors.UndefinedColumn) column likes.tweetid does not exist\nLINE 3:                  WHERE likes.tweetID = '0';\n                               ^\nHINT:  Perhaps you meant to reference the column \"likes.tweet_id\".\n\n[SQL: UPDATE likes \n                 SET likes.tweetID = '1' \n                 WHERE likes.tweetID = '0';]\n(Background on this error at: https://sqlalche.me/e/14/f405)",
     "output_type": "error",
     "traceback": [
      "\u001b[0;31m---------------------------------------------------------------------------\u001b[0m",
      "\u001b[0;31mUndefinedColumn\u001b[0m                           Traceback (most recent call last)",
      "File \u001b[0;32m~/opt/anaconda3/lib/python3.9/site-packages/sqlalchemy/engine/base.py:1808\u001b[0m, in \u001b[0;36mConnection._execute_context\u001b[0;34m(self, dialect, constructor, statement, parameters, execution_options, *args, **kw)\u001b[0m\n\u001b[1;32m   <a href='file:///Users/mykolasperevicius/opt/anaconda3/lib/python3.9/site-packages/sqlalchemy/engine/base.py?line=1806'>1807</a>\u001b[0m     \u001b[39mif\u001b[39;00m \u001b[39mnot\u001b[39;00m evt_handled:\n\u001b[0;32m-> <a href='file:///Users/mykolasperevicius/opt/anaconda3/lib/python3.9/site-packages/sqlalchemy/engine/base.py?line=1807'>1808</a>\u001b[0m         \u001b[39mself\u001b[39;49m\u001b[39m.\u001b[39;49mdialect\u001b[39m.\u001b[39;49mdo_execute(\n\u001b[1;32m   <a href='file:///Users/mykolasperevicius/opt/anaconda3/lib/python3.9/site-packages/sqlalchemy/engine/base.py?line=1808'>1809</a>\u001b[0m             cursor, statement, parameters, context\n\u001b[1;32m   <a href='file:///Users/mykolasperevicius/opt/anaconda3/lib/python3.9/site-packages/sqlalchemy/engine/base.py?line=1809'>1810</a>\u001b[0m         )\n\u001b[1;32m   <a href='file:///Users/mykolasperevicius/opt/anaconda3/lib/python3.9/site-packages/sqlalchemy/engine/base.py?line=1811'>1812</a>\u001b[0m \u001b[39mif\u001b[39;00m \u001b[39mself\u001b[39m\u001b[39m.\u001b[39m_has_events \u001b[39mor\u001b[39;00m \u001b[39mself\u001b[39m\u001b[39m.\u001b[39mengine\u001b[39m.\u001b[39m_has_events:\n",
      "File \u001b[0;32m~/opt/anaconda3/lib/python3.9/site-packages/sqlalchemy/engine/default.py:732\u001b[0m, in \u001b[0;36mDefaultDialect.do_execute\u001b[0;34m(self, cursor, statement, parameters, context)\u001b[0m\n\u001b[1;32m    <a href='file:///Users/mykolasperevicius/opt/anaconda3/lib/python3.9/site-packages/sqlalchemy/engine/default.py?line=730'>731</a>\u001b[0m \u001b[39mdef\u001b[39;00m \u001b[39mdo_execute\u001b[39m(\u001b[39mself\u001b[39m, cursor, statement, parameters, context\u001b[39m=\u001b[39m\u001b[39mNone\u001b[39;00m):\n\u001b[0;32m--> <a href='file:///Users/mykolasperevicius/opt/anaconda3/lib/python3.9/site-packages/sqlalchemy/engine/default.py?line=731'>732</a>\u001b[0m     cursor\u001b[39m.\u001b[39;49mexecute(statement, parameters)\n",
      "\u001b[0;31mUndefinedColumn\u001b[0m: column likes.tweetid does not exist\nLINE 3:                  WHERE likes.tweetID = '0';\n                               ^\nHINT:  Perhaps you meant to reference the column \"likes.tweet_id\".\n",
      "\nThe above exception was the direct cause of the following exception:\n",
      "\u001b[0;31mProgrammingError\u001b[0m                          Traceback (most recent call last)",
      "\u001b[1;32m/Users/mykolasperevicius/Desktop/programming/data-science-module/Lesson-2/4_CRUD.ipynb Cell 6'\u001b[0m in \u001b[0;36m<cell line: 5>\u001b[0;34m()\u001b[0m\n\u001b[1;32m      <a href='vscode-notebook-cell:/Users/mykolasperevicius/Desktop/programming/data-science-module/Lesson-2/4_CRUD.ipynb#ch0000005?line=0'>1</a>\u001b[0m users_query \u001b[39m=\u001b[39m \u001b[39m\"\"\"\u001b[39m\u001b[39mUPDATE likes \u001b[39m\n\u001b[1;32m      <a href='vscode-notebook-cell:/Users/mykolasperevicius/Desktop/programming/data-science-module/Lesson-2/4_CRUD.ipynb#ch0000005?line=1'>2</a>\u001b[0m \u001b[39m                 SET likes.tweetID = \u001b[39m\u001b[39m'\u001b[39m\u001b[39m1\u001b[39m\u001b[39m'\u001b[39m\u001b[39m \u001b[39m\n\u001b[1;32m      <a href='vscode-notebook-cell:/Users/mykolasperevicius/Desktop/programming/data-science-module/Lesson-2/4_CRUD.ipynb#ch0000005?line=2'>3</a>\u001b[0m \u001b[39m                 WHERE likes.tweetID = \u001b[39m\u001b[39m'\u001b[39m\u001b[39m0\u001b[39m\u001b[39m'\u001b[39m\u001b[39m;\u001b[39m\u001b[39m\"\"\"\u001b[39m\n\u001b[0;32m----> <a href='vscode-notebook-cell:/Users/mykolasperevicius/Desktop/programming/data-science-module/Lesson-2/4_CRUD.ipynb#ch0000005?line=4'>5</a>\u001b[0m execute_query(users_query)\n",
      "File \u001b[0;32m~/Desktop/programming/data-science-module/Lesson-2/exec.py:20\u001b[0m, in \u001b[0;36mexecute_query\u001b[0;34m(statement)\u001b[0m\n\u001b[1;32m     <a href='file:///Users/mykolasperevicius/Desktop/programming/data-science-module/Lesson-2/exec.py?line=17'>18</a>\u001b[0m \u001b[39mwith\u001b[39;00m engine\u001b[39m.\u001b[39mconnect() \u001b[39mas\u001b[39;00m con:\n\u001b[1;32m     <a href='file:///Users/mykolasperevicius/Desktop/programming/data-science-module/Lesson-2/exec.py?line=18'>19</a>\u001b[0m     \u001b[39mprint\u001b[39m(\u001b[39m\"\u001b[39m\u001b[39mrunning command: \u001b[39m\u001b[39m\"\u001b[39m, statement)\n\u001b[0;32m---> <a href='file:///Users/mykolasperevicius/Desktop/programming/data-science-module/Lesson-2/exec.py?line=19'>20</a>\u001b[0m     \u001b[39mreturn\u001b[39;00m con\u001b[39m.\u001b[39;49mexecute(statement)\n",
      "File \u001b[0;32m~/opt/anaconda3/lib/python3.9/site-packages/sqlalchemy/engine/base.py:1280\u001b[0m, in \u001b[0;36mConnection.execute\u001b[0;34m(self, statement, *multiparams, **params)\u001b[0m\n\u001b[1;32m   <a href='file:///Users/mykolasperevicius/opt/anaconda3/lib/python3.9/site-packages/sqlalchemy/engine/base.py?line=1270'>1271</a>\u001b[0m \u001b[39mif\u001b[39;00m \u001b[39misinstance\u001b[39m(statement, util\u001b[39m.\u001b[39mstring_types):\n\u001b[1;32m   <a href='file:///Users/mykolasperevicius/opt/anaconda3/lib/python3.9/site-packages/sqlalchemy/engine/base.py?line=1271'>1272</a>\u001b[0m     util\u001b[39m.\u001b[39mwarn_deprecated_20(\n\u001b[1;32m   <a href='file:///Users/mykolasperevicius/opt/anaconda3/lib/python3.9/site-packages/sqlalchemy/engine/base.py?line=1272'>1273</a>\u001b[0m         \u001b[39m\"\u001b[39m\u001b[39mPassing a string to Connection.execute() is \u001b[39m\u001b[39m\"\u001b[39m\n\u001b[1;32m   <a href='file:///Users/mykolasperevicius/opt/anaconda3/lib/python3.9/site-packages/sqlalchemy/engine/base.py?line=1273'>1274</a>\u001b[0m         \u001b[39m\"\u001b[39m\u001b[39mdeprecated and will be removed in version 2.0.  Use the \u001b[39m\u001b[39m\"\u001b[39m\n\u001b[0;32m   (...)\u001b[0m\n\u001b[1;32m   <a href='file:///Users/mykolasperevicius/opt/anaconda3/lib/python3.9/site-packages/sqlalchemy/engine/base.py?line=1276'>1277</a>\u001b[0m         \u001b[39m\"\u001b[39m\u001b[39mdriver-level SQL string.\u001b[39m\u001b[39m\"\u001b[39m\n\u001b[1;32m   <a href='file:///Users/mykolasperevicius/opt/anaconda3/lib/python3.9/site-packages/sqlalchemy/engine/base.py?line=1277'>1278</a>\u001b[0m     )\n\u001b[0;32m-> <a href='file:///Users/mykolasperevicius/opt/anaconda3/lib/python3.9/site-packages/sqlalchemy/engine/base.py?line=1279'>1280</a>\u001b[0m     \u001b[39mreturn\u001b[39;00m \u001b[39mself\u001b[39;49m\u001b[39m.\u001b[39;49m_exec_driver_sql(\n\u001b[1;32m   <a href='file:///Users/mykolasperevicius/opt/anaconda3/lib/python3.9/site-packages/sqlalchemy/engine/base.py?line=1280'>1281</a>\u001b[0m         statement,\n\u001b[1;32m   <a href='file:///Users/mykolasperevicius/opt/anaconda3/lib/python3.9/site-packages/sqlalchemy/engine/base.py?line=1281'>1282</a>\u001b[0m         multiparams,\n\u001b[1;32m   <a href='file:///Users/mykolasperevicius/opt/anaconda3/lib/python3.9/site-packages/sqlalchemy/engine/base.py?line=1282'>1283</a>\u001b[0m         params,\n\u001b[1;32m   <a href='file:///Users/mykolasperevicius/opt/anaconda3/lib/python3.9/site-packages/sqlalchemy/engine/base.py?line=1283'>1284</a>\u001b[0m         _EMPTY_EXECUTION_OPTS,\n\u001b[1;32m   <a href='file:///Users/mykolasperevicius/opt/anaconda3/lib/python3.9/site-packages/sqlalchemy/engine/base.py?line=1284'>1285</a>\u001b[0m         future\u001b[39m=\u001b[39;49m\u001b[39mFalse\u001b[39;49;00m,\n\u001b[1;32m   <a href='file:///Users/mykolasperevicius/opt/anaconda3/lib/python3.9/site-packages/sqlalchemy/engine/base.py?line=1285'>1286</a>\u001b[0m     )\n\u001b[1;32m   <a href='file:///Users/mykolasperevicius/opt/anaconda3/lib/python3.9/site-packages/sqlalchemy/engine/base.py?line=1287'>1288</a>\u001b[0m \u001b[39mtry\u001b[39;00m:\n\u001b[1;32m   <a href='file:///Users/mykolasperevicius/opt/anaconda3/lib/python3.9/site-packages/sqlalchemy/engine/base.py?line=1288'>1289</a>\u001b[0m     meth \u001b[39m=\u001b[39m statement\u001b[39m.\u001b[39m_execute_on_connection\n",
      "File \u001b[0;32m~/opt/anaconda3/lib/python3.9/site-packages/sqlalchemy/engine/base.py:1584\u001b[0m, in \u001b[0;36mConnection._exec_driver_sql\u001b[0;34m(self, statement, multiparams, params, execution_options, future)\u001b[0m\n\u001b[1;32m   <a href='file:///Users/mykolasperevicius/opt/anaconda3/lib/python3.9/site-packages/sqlalchemy/engine/base.py?line=1573'>1574</a>\u001b[0m         (\n\u001b[1;32m   <a href='file:///Users/mykolasperevicius/opt/anaconda3/lib/python3.9/site-packages/sqlalchemy/engine/base.py?line=1574'>1575</a>\u001b[0m             statement,\n\u001b[1;32m   <a href='file:///Users/mykolasperevicius/opt/anaconda3/lib/python3.9/site-packages/sqlalchemy/engine/base.py?line=1575'>1576</a>\u001b[0m             distilled_params,\n\u001b[0;32m   (...)\u001b[0m\n\u001b[1;32m   <a href='file:///Users/mykolasperevicius/opt/anaconda3/lib/python3.9/site-packages/sqlalchemy/engine/base.py?line=1579'>1580</a>\u001b[0m             statement, distilled_parameters, execution_options\n\u001b[1;32m   <a href='file:///Users/mykolasperevicius/opt/anaconda3/lib/python3.9/site-packages/sqlalchemy/engine/base.py?line=1580'>1581</a>\u001b[0m         )\n\u001b[1;32m   <a href='file:///Users/mykolasperevicius/opt/anaconda3/lib/python3.9/site-packages/sqlalchemy/engine/base.py?line=1582'>1583</a>\u001b[0m dialect \u001b[39m=\u001b[39m \u001b[39mself\u001b[39m\u001b[39m.\u001b[39mdialect\n\u001b[0;32m-> <a href='file:///Users/mykolasperevicius/opt/anaconda3/lib/python3.9/site-packages/sqlalchemy/engine/base.py?line=1583'>1584</a>\u001b[0m ret \u001b[39m=\u001b[39m \u001b[39mself\u001b[39;49m\u001b[39m.\u001b[39;49m_execute_context(\n\u001b[1;32m   <a href='file:///Users/mykolasperevicius/opt/anaconda3/lib/python3.9/site-packages/sqlalchemy/engine/base.py?line=1584'>1585</a>\u001b[0m     dialect,\n\u001b[1;32m   <a href='file:///Users/mykolasperevicius/opt/anaconda3/lib/python3.9/site-packages/sqlalchemy/engine/base.py?line=1585'>1586</a>\u001b[0m     dialect\u001b[39m.\u001b[39;49mexecution_ctx_cls\u001b[39m.\u001b[39;49m_init_statement,\n\u001b[1;32m   <a href='file:///Users/mykolasperevicius/opt/anaconda3/lib/python3.9/site-packages/sqlalchemy/engine/base.py?line=1586'>1587</a>\u001b[0m     statement,\n\u001b[1;32m   <a href='file:///Users/mykolasperevicius/opt/anaconda3/lib/python3.9/site-packages/sqlalchemy/engine/base.py?line=1587'>1588</a>\u001b[0m     distilled_parameters,\n\u001b[1;32m   <a href='file:///Users/mykolasperevicius/opt/anaconda3/lib/python3.9/site-packages/sqlalchemy/engine/base.py?line=1588'>1589</a>\u001b[0m     execution_options,\n\u001b[1;32m   <a href='file:///Users/mykolasperevicius/opt/anaconda3/lib/python3.9/site-packages/sqlalchemy/engine/base.py?line=1589'>1590</a>\u001b[0m     statement,\n\u001b[1;32m   <a href='file:///Users/mykolasperevicius/opt/anaconda3/lib/python3.9/site-packages/sqlalchemy/engine/base.py?line=1590'>1591</a>\u001b[0m     distilled_parameters,\n\u001b[1;32m   <a href='file:///Users/mykolasperevicius/opt/anaconda3/lib/python3.9/site-packages/sqlalchemy/engine/base.py?line=1591'>1592</a>\u001b[0m )\n\u001b[1;32m   <a href='file:///Users/mykolasperevicius/opt/anaconda3/lib/python3.9/site-packages/sqlalchemy/engine/base.py?line=1593'>1594</a>\u001b[0m \u001b[39mif\u001b[39;00m \u001b[39mnot\u001b[39;00m future:\n\u001b[1;32m   <a href='file:///Users/mykolasperevicius/opt/anaconda3/lib/python3.9/site-packages/sqlalchemy/engine/base.py?line=1594'>1595</a>\u001b[0m     \u001b[39mif\u001b[39;00m \u001b[39mself\u001b[39m\u001b[39m.\u001b[39m_has_events \u001b[39mor\u001b[39;00m \u001b[39mself\u001b[39m\u001b[39m.\u001b[39mengine\u001b[39m.\u001b[39m_has_events:\n",
      "File \u001b[0;32m~/opt/anaconda3/lib/python3.9/site-packages/sqlalchemy/engine/base.py:1851\u001b[0m, in \u001b[0;36mConnection._execute_context\u001b[0;34m(self, dialect, constructor, statement, parameters, execution_options, *args, **kw)\u001b[0m\n\u001b[1;32m   <a href='file:///Users/mykolasperevicius/opt/anaconda3/lib/python3.9/site-packages/sqlalchemy/engine/base.py?line=1847'>1848</a>\u001b[0m             branched\u001b[39m.\u001b[39mclose()\n\u001b[1;32m   <a href='file:///Users/mykolasperevicius/opt/anaconda3/lib/python3.9/site-packages/sqlalchemy/engine/base.py?line=1849'>1850</a>\u001b[0m \u001b[39mexcept\u001b[39;00m \u001b[39mBaseException\u001b[39;00m \u001b[39mas\u001b[39;00m e:\n\u001b[0;32m-> <a href='file:///Users/mykolasperevicius/opt/anaconda3/lib/python3.9/site-packages/sqlalchemy/engine/base.py?line=1850'>1851</a>\u001b[0m     \u001b[39mself\u001b[39;49m\u001b[39m.\u001b[39;49m_handle_dbapi_exception(\n\u001b[1;32m   <a href='file:///Users/mykolasperevicius/opt/anaconda3/lib/python3.9/site-packages/sqlalchemy/engine/base.py?line=1851'>1852</a>\u001b[0m         e, statement, parameters, cursor, context\n\u001b[1;32m   <a href='file:///Users/mykolasperevicius/opt/anaconda3/lib/python3.9/site-packages/sqlalchemy/engine/base.py?line=1852'>1853</a>\u001b[0m     )\n\u001b[1;32m   <a href='file:///Users/mykolasperevicius/opt/anaconda3/lib/python3.9/site-packages/sqlalchemy/engine/base.py?line=1854'>1855</a>\u001b[0m \u001b[39mreturn\u001b[39;00m result\n",
      "File \u001b[0;32m~/opt/anaconda3/lib/python3.9/site-packages/sqlalchemy/engine/base.py:2032\u001b[0m, in \u001b[0;36mConnection._handle_dbapi_exception\u001b[0;34m(self, e, statement, parameters, cursor, context)\u001b[0m\n\u001b[1;32m   <a href='file:///Users/mykolasperevicius/opt/anaconda3/lib/python3.9/site-packages/sqlalchemy/engine/base.py?line=2029'>2030</a>\u001b[0m     util\u001b[39m.\u001b[39mraise_(newraise, with_traceback\u001b[39m=\u001b[39mexc_info[\u001b[39m2\u001b[39m], from_\u001b[39m=\u001b[39me)\n\u001b[1;32m   <a href='file:///Users/mykolasperevicius/opt/anaconda3/lib/python3.9/site-packages/sqlalchemy/engine/base.py?line=2030'>2031</a>\u001b[0m \u001b[39melif\u001b[39;00m should_wrap:\n\u001b[0;32m-> <a href='file:///Users/mykolasperevicius/opt/anaconda3/lib/python3.9/site-packages/sqlalchemy/engine/base.py?line=2031'>2032</a>\u001b[0m     util\u001b[39m.\u001b[39;49mraise_(\n\u001b[1;32m   <a href='file:///Users/mykolasperevicius/opt/anaconda3/lib/python3.9/site-packages/sqlalchemy/engine/base.py?line=2032'>2033</a>\u001b[0m         sqlalchemy_exception, with_traceback\u001b[39m=\u001b[39;49mexc_info[\u001b[39m2\u001b[39;49m], from_\u001b[39m=\u001b[39;49me\n\u001b[1;32m   <a href='file:///Users/mykolasperevicius/opt/anaconda3/lib/python3.9/site-packages/sqlalchemy/engine/base.py?line=2033'>2034</a>\u001b[0m     )\n\u001b[1;32m   <a href='file:///Users/mykolasperevicius/opt/anaconda3/lib/python3.9/site-packages/sqlalchemy/engine/base.py?line=2034'>2035</a>\u001b[0m \u001b[39melse\u001b[39;00m:\n\u001b[1;32m   <a href='file:///Users/mykolasperevicius/opt/anaconda3/lib/python3.9/site-packages/sqlalchemy/engine/base.py?line=2035'>2036</a>\u001b[0m     util\u001b[39m.\u001b[39mraise_(exc_info[\u001b[39m1\u001b[39m], with_traceback\u001b[39m=\u001b[39mexc_info[\u001b[39m2\u001b[39m])\n",
      "File \u001b[0;32m~/opt/anaconda3/lib/python3.9/site-packages/sqlalchemy/util/compat.py:207\u001b[0m, in \u001b[0;36mraise_\u001b[0;34m(***failed resolving arguments***)\u001b[0m\n\u001b[1;32m    <a href='file:///Users/mykolasperevicius/opt/anaconda3/lib/python3.9/site-packages/sqlalchemy/util/compat.py?line=203'>204</a>\u001b[0m     exception\u001b[39m.\u001b[39m__cause__ \u001b[39m=\u001b[39m replace_context\n\u001b[1;32m    <a href='file:///Users/mykolasperevicius/opt/anaconda3/lib/python3.9/site-packages/sqlalchemy/util/compat.py?line=205'>206</a>\u001b[0m \u001b[39mtry\u001b[39;00m:\n\u001b[0;32m--> <a href='file:///Users/mykolasperevicius/opt/anaconda3/lib/python3.9/site-packages/sqlalchemy/util/compat.py?line=206'>207</a>\u001b[0m     \u001b[39mraise\u001b[39;00m exception\n\u001b[1;32m    <a href='file:///Users/mykolasperevicius/opt/anaconda3/lib/python3.9/site-packages/sqlalchemy/util/compat.py?line=207'>208</a>\u001b[0m \u001b[39mfinally\u001b[39;00m:\n\u001b[1;32m    <a href='file:///Users/mykolasperevicius/opt/anaconda3/lib/python3.9/site-packages/sqlalchemy/util/compat.py?line=208'>209</a>\u001b[0m     \u001b[39m# credit to\u001b[39;00m\n\u001b[1;32m    <a href='file:///Users/mykolasperevicius/opt/anaconda3/lib/python3.9/site-packages/sqlalchemy/util/compat.py?line=209'>210</a>\u001b[0m     \u001b[39m# https://cosmicpercolator.com/2016/01/13/exception-leaks-in-python-2-and-3/\u001b[39;00m\n\u001b[1;32m    <a href='file:///Users/mykolasperevicius/opt/anaconda3/lib/python3.9/site-packages/sqlalchemy/util/compat.py?line=210'>211</a>\u001b[0m     \u001b[39m# as the __traceback__ object creates a cycle\u001b[39;00m\n\u001b[1;32m    <a href='file:///Users/mykolasperevicius/opt/anaconda3/lib/python3.9/site-packages/sqlalchemy/util/compat.py?line=211'>212</a>\u001b[0m     \u001b[39mdel\u001b[39;00m exception, replace_context, from_, with_traceback\n",
      "File \u001b[0;32m~/opt/anaconda3/lib/python3.9/site-packages/sqlalchemy/engine/base.py:1808\u001b[0m, in \u001b[0;36mConnection._execute_context\u001b[0;34m(self, dialect, constructor, statement, parameters, execution_options, *args, **kw)\u001b[0m\n\u001b[1;32m   <a href='file:///Users/mykolasperevicius/opt/anaconda3/lib/python3.9/site-packages/sqlalchemy/engine/base.py?line=1805'>1806</a>\u001b[0m                 \u001b[39mbreak\u001b[39;00m\n\u001b[1;32m   <a href='file:///Users/mykolasperevicius/opt/anaconda3/lib/python3.9/site-packages/sqlalchemy/engine/base.py?line=1806'>1807</a>\u001b[0m     \u001b[39mif\u001b[39;00m \u001b[39mnot\u001b[39;00m evt_handled:\n\u001b[0;32m-> <a href='file:///Users/mykolasperevicius/opt/anaconda3/lib/python3.9/site-packages/sqlalchemy/engine/base.py?line=1807'>1808</a>\u001b[0m         \u001b[39mself\u001b[39;49m\u001b[39m.\u001b[39;49mdialect\u001b[39m.\u001b[39;49mdo_execute(\n\u001b[1;32m   <a href='file:///Users/mykolasperevicius/opt/anaconda3/lib/python3.9/site-packages/sqlalchemy/engine/base.py?line=1808'>1809</a>\u001b[0m             cursor, statement, parameters, context\n\u001b[1;32m   <a href='file:///Users/mykolasperevicius/opt/anaconda3/lib/python3.9/site-packages/sqlalchemy/engine/base.py?line=1809'>1810</a>\u001b[0m         )\n\u001b[1;32m   <a href='file:///Users/mykolasperevicius/opt/anaconda3/lib/python3.9/site-packages/sqlalchemy/engine/base.py?line=1811'>1812</a>\u001b[0m \u001b[39mif\u001b[39;00m \u001b[39mself\u001b[39m\u001b[39m.\u001b[39m_has_events \u001b[39mor\u001b[39;00m \u001b[39mself\u001b[39m\u001b[39m.\u001b[39mengine\u001b[39m.\u001b[39m_has_events:\n\u001b[1;32m   <a href='file:///Users/mykolasperevicius/opt/anaconda3/lib/python3.9/site-packages/sqlalchemy/engine/base.py?line=1812'>1813</a>\u001b[0m     \u001b[39mself\u001b[39m\u001b[39m.\u001b[39mdispatch\u001b[39m.\u001b[39mafter_cursor_execute(\n\u001b[1;32m   <a href='file:///Users/mykolasperevicius/opt/anaconda3/lib/python3.9/site-packages/sqlalchemy/engine/base.py?line=1813'>1814</a>\u001b[0m         \u001b[39mself\u001b[39m,\n\u001b[1;32m   <a href='file:///Users/mykolasperevicius/opt/anaconda3/lib/python3.9/site-packages/sqlalchemy/engine/base.py?line=1814'>1815</a>\u001b[0m         cursor,\n\u001b[0;32m   (...)\u001b[0m\n\u001b[1;32m   <a href='file:///Users/mykolasperevicius/opt/anaconda3/lib/python3.9/site-packages/sqlalchemy/engine/base.py?line=1818'>1819</a>\u001b[0m         context\u001b[39m.\u001b[39mexecutemany,\n\u001b[1;32m   <a href='file:///Users/mykolasperevicius/opt/anaconda3/lib/python3.9/site-packages/sqlalchemy/engine/base.py?line=1819'>1820</a>\u001b[0m     )\n",
      "File \u001b[0;32m~/opt/anaconda3/lib/python3.9/site-packages/sqlalchemy/engine/default.py:732\u001b[0m, in \u001b[0;36mDefaultDialect.do_execute\u001b[0;34m(self, cursor, statement, parameters, context)\u001b[0m\n\u001b[1;32m    <a href='file:///Users/mykolasperevicius/opt/anaconda3/lib/python3.9/site-packages/sqlalchemy/engine/default.py?line=730'>731</a>\u001b[0m \u001b[39mdef\u001b[39;00m \u001b[39mdo_execute\u001b[39m(\u001b[39mself\u001b[39m, cursor, statement, parameters, context\u001b[39m=\u001b[39m\u001b[39mNone\u001b[39;00m):\n\u001b[0;32m--> <a href='file:///Users/mykolasperevicius/opt/anaconda3/lib/python3.9/site-packages/sqlalchemy/engine/default.py?line=731'>732</a>\u001b[0m     cursor\u001b[39m.\u001b[39;49mexecute(statement, parameters)\n",
      "\u001b[0;31mProgrammingError\u001b[0m: (psycopg2.errors.UndefinedColumn) column likes.tweetid does not exist\nLINE 3:                  WHERE likes.tweetID = '0';\n                               ^\nHINT:  Perhaps you meant to reference the column \"likes.tweet_id\".\n\n[SQL: UPDATE likes \n                 SET likes.tweetID = '1' \n                 WHERE likes.tweetID = '0';]\n(Background on this error at: https://sqlalche.me/e/14/f405)"
     ]
    }
   ],
   "source": [
    "users_query = \"\"\"UPDATE likes \n",
    "                 SET likes.tweetID = '1' \n",
    "                 WHERE likes.tweetID = '0';\"\"\"\n",
    "                 \n",
    "execute_query(users_query)\n",
    "\n",
    "#FIXME"
   ]
  },
  {
   "cell_type": "markdown",
   "metadata": {},
   "source": [
    "# Delete"
   ]
  },
  {
   "cell_type": "code",
   "execution_count": 7,
   "metadata": {},
   "outputs": [
    {
     "name": "stdout",
     "output_type": "stream",
     "text": [
      "running command:  DELETE FROM tweets WHERE 'content' = 'test1';\n"
     ]
    },
    {
     "data": {
      "text/plain": [
       "<sqlalchemy.engine.cursor.LegacyCursorResult at 0x7fca88900be0>"
      ]
     },
     "execution_count": 7,
     "metadata": {},
     "output_type": "execute_result"
    }
   ],
   "source": [
    "users_query = \"DELETE FROM tweets WHERE 'content' = 'test1';\"\n",
    "\n",
    "execute_query(users_query)"
   ]
  },
  {
   "cell_type": "code",
   "execution_count": 6,
   "metadata": {},
   "outputs": [
    {
     "name": "stdout",
     "output_type": "stream",
     "text": [
      "running command:  DELETE FROM likes WHERE 'tweetID' = '1';\n"
     ]
    },
    {
     "data": {
      "text/plain": [
       "<sqlalchemy.engine.cursor.LegacyCursorResult at 0x7fcac0613be0>"
      ]
     },
     "execution_count": 6,
     "metadata": {},
     "output_type": "execute_result"
    }
   ],
   "source": [
    "users_query = \"DELETE FROM likes WHERE 'tweetID' = '1';\"\n",
    "\n",
    "execute_query(users_query)"
   ]
  }
 ],
 "metadata": {
  "interpreter": {
   "hash": "1fc498d6039974c203fd666ccd77857e0208a43cba16f4681d52b858100ce542"
  },
  "kernelspec": {
   "display_name": "Python 3.9.12 ('base')",
   "language": "python",
   "name": "python3"
  },
  "language_info": {
   "codemirror_mode": {
    "name": "ipython",
    "version": 3
   },
   "file_extension": ".py",
   "mimetype": "text/x-python",
   "name": "python",
   "nbconvert_exporter": "python",
   "pygments_lexer": "ipython3",
   "version": "3.9.12"
  },
  "orig_nbformat": 4
 },
 "nbformat": 4,
 "nbformat_minor": 2
}
