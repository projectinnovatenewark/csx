{
 "cells": [
  {
   "cell_type": "markdown",
   "id": "0182df47",
   "metadata": {},
   "source": [
    "You can install the following packages by changing directories to this folder then running `pip3 install -r requirements.txt`\n",
    "\n",
    "If you have any issues with installation or imports, make sure you are using the correct python kernel. Worst case, install Anaconda w/ Python."
   ]
  },
  {
   "cell_type": "code",
   "execution_count": null,
   "id": "eda8f102",
   "metadata": {},
   "outputs": [],
   "source": [
    "%matplotlib inline\n",
    "import matplotlib.pyplot as plt\n",
    "import seaborn as sns\n",
    "import pandas as pd\n",
    "import numpy as np\n",
    "from exec import *\n",
    "from config import *"
   ]
  },
  {
   "cell_type": "markdown",
   "id": "d027c1b1",
   "metadata": {},
   "source": [
    "# <b> Pandas and Dataframes </b>\n",
    "\n",
    "query data from our database\n"
   ]
  },
  {
   "cell_type": "code",
   "execution_count": null,
   "id": "40b859a4",
   "metadata": {},
   "outputs": [],
   "source": [
    "def get_all_users():\n",
    "    users_query =   \"\"\"\n",
    "                    SELECT username FROM users;\n",
    "                    \"\"\"\n",
    "\n",
    "    users_set = execute_query(users_query)\n",
    "\n",
    "    username_list = []\n",
    "\n",
    "    for user in users_set:\n",
    "        username_list.append(user['username'])\n",
    "    return(username_list)\n",
    "\n",
    "\n",
    "users = get_all_users()\n",
    "\n",
    "df_users = pd.DataFrame(users, columns=[\"usernames\"])\n",
    "\n",
    "print(df_users)"
   ]
  },
  {
   "cell_type": "markdown",
   "id": "5b3532d4",
   "metadata": {},
   "source": [
    "query data from a csv"
   ]
  },
  {
   "cell_type": "code",
   "execution_count": null,
   "id": "e0bee83a",
   "metadata": {},
   "outputs": [],
   "source": [
    "# link to get this data on GH\n",
    "# https://raw.githubusercontent.com/kshedden/statswpy/master/NHANES/merged/nhanes_2015_2016.csv\n",
    "\n",
    "df_students = pd.read_csv(\"StudentsPerformance.csv\")\n",
    "\n",
    "print(df_students)"
   ]
  },
  {
   "cell_type": "code",
   "execution_count": null,
   "id": "00bcc749",
   "metadata": {},
   "outputs": [],
   "source": [
    "df_hanes = pd.read_csv(\"nhanes.csv\")\n",
    "\n",
    "print(df_hanes)"
   ]
  },
  {
   "cell_type": "markdown",
   "id": "cbb21c8b",
   "metadata": {},
   "source": [
    "# <b> Dataframe Deepdive </b>"
   ]
  },
  {
   "cell_type": "code",
   "execution_count": null,
   "id": "e9e9e4fa",
   "metadata": {},
   "outputs": [],
   "source": [
    "num_rows = int(input(\"How many rows do you want to see?\"))\n",
    "\n",
    "df_users.head(num_rows)"
   ]
  },
  {
   "cell_type": "code",
   "execution_count": null,
   "id": "bc546845",
   "metadata": {},
   "outputs": [],
   "source": [
    "#TIP: Use `.loc(rows)` to display the row you want to see from the dataset.\n",
    "\n",
    "row = int(input(\"Which row do you want to see?\"))\n",
    "\n",
    "df_users.loc[row]"
   ]
  },
  {
   "cell_type": "code",
   "execution_count": null,
   "id": "8aef57da",
   "metadata": {},
   "outputs": [],
   "source": [
    "df_students.lunch.value_counts()"
   ]
  },
  {
   "cell_type": "code",
   "execution_count": null,
   "id": "99e01aed",
   "metadata": {},
   "outputs": [],
   "source": [
    "# Respondants' education levels\n",
    "print(df_hanes.Education.value_counts())\n",
    "\n",
    "# Total number of respondents that said they had an education\n",
    "print(f\"Respondents that answered if they have an education: {df_hanes.Education.value_counts().sum()}\")\n",
    "# TIP: You can stack various function on your query in a DF.\n",
    "\n"
   ]
  },
  {
   "cell_type": "code",
   "execution_count": null,
   "id": "ede2d908",
   "metadata": {},
   "outputs": [],
   "source": [
    "# Total number of respondents that answered at all, given that every respondent has an ID\n",
    "print(f\"Respondents that answered: {df_hanes.ID.count()}\")"
   ]
  },
  {
   "cell_type": "code",
   "execution_count": null,
   "id": "de3c50cf",
   "metadata": {},
   "outputs": [],
   "source": [
    "df_students.groupby(\"gender\")[\"math score\"].value_counts()\n",
    "#TIP: ...\n",
    "# https://pandas.pydata.org/docs/reference/api/pandas.DataFrame.groupby.html\n",
    "# Pandas groupby is used for grouping the data according to the categories and apply a function to the categories. It also helps to aggregate data efficiently.\n",
    "\n",
    "# Pandas dataframe.groupby() function is used to split the data into groups based on some criteria. pandas objects can be split on any of their axes. \n",
    "# The abstract definition of grouping is to provide a mapping of labels to group names."
   ]
  },
  {
   "cell_type": "code",
   "execution_count": null,
   "id": "a9a2f798",
   "metadata": {},
   "outputs": [],
   "source": [
    "dx = df_hanes.loc[~df_hanes.Education.isin([\"Some value you want to remove.\"]), :]  # Eliminate specific values\n",
    "print(dx)\n",
    "\n",
    "dx = dx.groupby([\"AgeDecade\", \"Gender\"])[\"Education\"]\n",
    "dx = dx.value_counts()\n",
    "print(dx)\n"
   ]
  },
  {
   "cell_type": "code",
   "execution_count": null,
   "id": "3e25e17e",
   "metadata": {},
   "outputs": [],
   "source": [
    "\n",
    "dx = dx.unstack() # Restructure the results from 'long' to 'wide'\n",
    "print(dx)\n"
   ]
  },
  {
   "cell_type": "code",
   "execution_count": null,
   "id": "3337d3dd",
   "metadata": {},
   "outputs": [],
   "source": [
    "\n",
    "dx = dx.apply(lambda x: x/x.sum(), axis=1) # Normalize within each stratum to get proportions\n",
    "print(dx)"
   ]
  },
  {
   "cell_type": "code",
   "execution_count": null,
   "id": "467f11ca",
   "metadata": {},
   "outputs": [],
   "source": [
    "print(dx.to_string(float_format=\"%.3f\"))  # Limit display to 3 decimal places"
   ]
  },
  {
   "cell_type": "markdown",
   "id": "4e21c1ae",
   "metadata": {},
   "source": [
    "# <b> Creating new columns in the data frame for derivative values </b>"
   ]
  },
  {
   "cell_type": "code",
   "execution_count": null,
   "id": "20c4a4a6",
   "metadata": {},
   "outputs": [],
   "source": [
    "#TODO: \n",
    "\n",
    "# likes_per_tweet / len_of_tweet:\n",
    "#   get all tweets\n",
    "#       put the length of a tweet in a new table sorted by tweetID\n",
    "#   get all likes\n",
    "#       aggregate likes per tweet and put in new variable by tweetID\n",
    "#       df_fitter.tweetID.value_counts()\n",
    "#   make a new table of columns: tweetID, tweet likes, length of tweets\n",
    "#       df_fitter.groupby(\"likes\")[\"length\"].value_counts()\n",
    "#       analyze correlation"
   ]
  },
  {
   "cell_type": "code",
   "execution_count": 56,
   "id": "4f89457a",
   "metadata": {},
   "outputs": [
    {
     "name": "stdout",
     "output_type": "stream",
     "text": [
      "running command:  \n",
      "                    SELECT * FROM likes;\n",
      "                    \n",
      "     tweetID\n",
      "0          1\n",
      "1          1\n",
      "2          1\n",
      "3          1\n",
      "4          1\n",
      "..       ...\n",
      "134       15\n",
      "135       15\n",
      "136       15\n",
      "137        1\n",
      "138        1\n",
      "\n",
      "[139 rows x 1 columns]\n",
      "tweetID\n",
      "1          16\n",
      "10         13\n",
      "2          11\n",
      "6          11\n",
      "4          10\n",
      "5          10\n",
      "3           9\n",
      "8           9\n",
      "9           9\n",
      "13          9\n",
      "12          8\n",
      "15          8\n",
      "14          7\n",
      "11          6\n",
      "7           3\n",
      "dtype: int64\n"
     ]
    }
   ],
   "source": [
    "def get_all_likes():\n",
    "    likes_query =   \"\"\"\n",
    "                    SELECT * FROM likes;\n",
    "                    \"\"\"\n",
    "\n",
    "    likes_set = execute_query(likes_query)\n",
    "\n",
    "    like_list = []\n",
    "\n",
    "    for like in likes_set:\n",
    "        like_list.append(like[1])\n",
    "    return(like_list)\n",
    "\n",
    "\n",
    "likes = get_all_likes()\n",
    "\n",
    "df_likes = pd.DataFrame(likes, columns=[\"tweetID\"])\n",
    "\n",
    "print(df_likes)\n",
    "\n",
    "print(df_likes.value_counts())"
   ]
  },
  {
   "cell_type": "code",
   "execution_count": 55,
   "id": "f3351602",
   "metadata": {},
   "outputs": [
    {
     "name": "stdout",
     "output_type": "stream",
     "text": [
      "running command:  \n",
      "                    SELECT * FROM tweets;\n",
      "                    \n",
      "     tweetID  length\n",
      "0          1     168\n",
      "1          2     122\n",
      "2          3     122\n",
      "3          4     168\n",
      "4          5     122\n",
      "..       ...     ...\n",
      "110      111     168\n",
      "111      112     122\n",
      "112      113      56\n",
      "113      114      56\n",
      "114      115     122\n",
      "\n",
      "[115 rows x 2 columns]\n"
     ]
    }
   ],
   "source": [
    "def get_all_tweets():\n",
    "    tweets_query =   \"\"\"\n",
    "                    SELECT * FROM tweets;\n",
    "                    \"\"\"\n",
    "\n",
    "    tweets_set = execute_query(tweets_query)\n",
    "\n",
    "    # print(tweets_set)\n",
    "\n",
    "    tweet_list = []\n",
    "\n",
    "    for tweet in tweets_set:\n",
    "        # print(tweet)\n",
    "        tweet_list.append([tweet[0],len(tweet[2])])\n",
    "    return(tweet_list)\n",
    "\n",
    "\n",
    "tweets = get_all_tweets()\n",
    "\n",
    "df_tweets = pd.DataFrame(tweets, columns=[\"tweetID\", \"length\"])\n",
    "\n",
    "print(df_tweets)\n"
   ]
  },
  {
   "cell_type": "code",
   "execution_count": 54,
   "id": "9d87c93c",
   "metadata": {},
   "outputs": [
    {
     "name": "stdout",
     "output_type": "stream",
     "text": [
      "    tweetID  counts\n",
      "0         1      16\n",
      "1        10      13\n",
      "2         2      11\n",
      "3         6      11\n",
      "4         4      10\n",
      "5         5      10\n",
      "6         3       9\n",
      "7         8       9\n",
      "8         9       9\n",
      "9        13       9\n",
      "10       12       8\n",
      "11       15       8\n",
      "12       14       7\n",
      "13       11       6\n",
      "14        7       3\n"
     ]
    }
   ],
   "source": [
    "df_likes_aggregate = df_likes.value_counts().rename_axis('tweetID').reset_index(name='counts')\n",
    "print (df_likes_aggregate)"
   ]
  },
  {
   "cell_type": "code",
   "execution_count": 53,
   "id": "a23d7142",
   "metadata": {},
   "outputs": [
    {
     "data": {
      "text/html": [
       "<div>\n",
       "<style scoped>\n",
       "    .dataframe tbody tr th:only-of-type {\n",
       "        vertical-align: middle;\n",
       "    }\n",
       "\n",
       "    .dataframe tbody tr th {\n",
       "        vertical-align: top;\n",
       "    }\n",
       "\n",
       "    .dataframe thead th {\n",
       "        text-align: right;\n",
       "    }\n",
       "</style>\n",
       "<table border=\"1\" class=\"dataframe\">\n",
       "  <thead>\n",
       "    <tr style=\"text-align: right;\">\n",
       "      <th></th>\n",
       "      <th>tweetID</th>\n",
       "      <th>counts</th>\n",
       "      <th>length</th>\n",
       "    </tr>\n",
       "  </thead>\n",
       "  <tbody>\n",
       "    <tr>\n",
       "      <th>0</th>\n",
       "      <td>1</td>\n",
       "      <td>16</td>\n",
       "      <td>168</td>\n",
       "    </tr>\n",
       "    <tr>\n",
       "      <th>1</th>\n",
       "      <td>10</td>\n",
       "      <td>13</td>\n",
       "      <td>122</td>\n",
       "    </tr>\n",
       "    <tr>\n",
       "      <th>2</th>\n",
       "      <td>2</td>\n",
       "      <td>11</td>\n",
       "      <td>122</td>\n",
       "    </tr>\n",
       "    <tr>\n",
       "      <th>3</th>\n",
       "      <td>6</td>\n",
       "      <td>11</td>\n",
       "      <td>168</td>\n",
       "    </tr>\n",
       "    <tr>\n",
       "      <th>4</th>\n",
       "      <td>4</td>\n",
       "      <td>10</td>\n",
       "      <td>168</td>\n",
       "    </tr>\n",
       "    <tr>\n",
       "      <th>5</th>\n",
       "      <td>5</td>\n",
       "      <td>10</td>\n",
       "      <td>122</td>\n",
       "    </tr>\n",
       "    <tr>\n",
       "      <th>6</th>\n",
       "      <td>3</td>\n",
       "      <td>9</td>\n",
       "      <td>122</td>\n",
       "    </tr>\n",
       "    <tr>\n",
       "      <th>7</th>\n",
       "      <td>8</td>\n",
       "      <td>9</td>\n",
       "      <td>122</td>\n",
       "    </tr>\n",
       "    <tr>\n",
       "      <th>8</th>\n",
       "      <td>9</td>\n",
       "      <td>9</td>\n",
       "      <td>122</td>\n",
       "    </tr>\n",
       "    <tr>\n",
       "      <th>9</th>\n",
       "      <td>13</td>\n",
       "      <td>9</td>\n",
       "      <td>122</td>\n",
       "    </tr>\n",
       "    <tr>\n",
       "      <th>10</th>\n",
       "      <td>12</td>\n",
       "      <td>8</td>\n",
       "      <td>122</td>\n",
       "    </tr>\n",
       "    <tr>\n",
       "      <th>11</th>\n",
       "      <td>15</td>\n",
       "      <td>8</td>\n",
       "      <td>122</td>\n",
       "    </tr>\n",
       "    <tr>\n",
       "      <th>12</th>\n",
       "      <td>14</td>\n",
       "      <td>7</td>\n",
       "      <td>122</td>\n",
       "    </tr>\n",
       "    <tr>\n",
       "      <th>13</th>\n",
       "      <td>11</td>\n",
       "      <td>6</td>\n",
       "      <td>56</td>\n",
       "    </tr>\n",
       "    <tr>\n",
       "      <th>14</th>\n",
       "      <td>7</td>\n",
       "      <td>3</td>\n",
       "      <td>56</td>\n",
       "    </tr>\n",
       "  </tbody>\n",
       "</table>\n",
       "</div>"
      ],
      "text/plain": [
       "    tweetID  counts  length\n",
       "0         1      16     168\n",
       "1        10      13     122\n",
       "2         2      11     122\n",
       "3         6      11     168\n",
       "4         4      10     168\n",
       "5         5      10     122\n",
       "6         3       9     122\n",
       "7         8       9     122\n",
       "8         9       9     122\n",
       "9        13       9     122\n",
       "10       12       8     122\n",
       "11       15       8     122\n",
       "12       14       7     122\n",
       "13       11       6      56\n",
       "14        7       3      56"
      ]
     },
     "execution_count": 53,
     "metadata": {},
     "output_type": "execute_result"
    }
   ],
   "source": [
    "#inner join\n",
    "merged_inner = pd.merge(left=df_likes_aggregate, right=df_tweets, left_on='tweetID', right_on='tweetID')\n",
    "\n",
    "merged_inner"
   ]
  },
  {
   "cell_type": "code",
   "execution_count": 52,
   "id": "da15a8a7",
   "metadata": {},
   "outputs": [
    {
     "name": "stdout",
     "output_type": "stream",
     "text": [
      "length  counts\n",
      "56      3         1\n",
      "        6         1\n",
      "122     9         4\n",
      "        8         2\n",
      "        7         1\n",
      "        10        1\n",
      "        11        1\n",
      "        13        1\n",
      "168     10        1\n",
      "        11        1\n",
      "        16        1\n",
      "Name: counts, dtype: int64\n"
     ]
    }
   ],
   "source": [
    "df = merged_inner.groupby(\"length\")[\"counts\"].value_counts()\n",
    "\n",
    "print(df)"
   ]
  },
  {
   "cell_type": "markdown",
   "id": "29cabe4b",
   "metadata": {},
   "source": [
    "# <b> Visualization Introduction </b>\n",
    "- #### demonstrate most common graph types\n",
    "- #### finish with scatterplot between tweet length and like count\n"
   ]
  },
  {
   "cell_type": "code",
   "execution_count": null,
   "id": "11f34db6",
   "metadata": {},
   "outputs": [],
   "source": [
    "g = sns.barplot(x=\"lunch\", y=\"math score\", data=df_students)"
   ]
  },
  {
   "cell_type": "code",
   "execution_count": null,
   "id": "13a25b84",
   "metadata": {},
   "outputs": [],
   "source": [
    "g = sns.FacetGrid(df_students, row = \"lunch\")\n",
    "g = g.map(plt.hist, \"math score\")\n",
    "plt.show()"
   ]
  },
  {
   "cell_type": "code",
   "execution_count": null,
   "id": "f6fb0713",
   "metadata": {},
   "outputs": [],
   "source": [
    "# Create a boxplot and histogram of the tips grouped by the day\n",
    "sns.boxplot(x = df_hanes[\"Age\"], y = df_hanes[\"HHIncome\"])"
   ]
  },
  {
   "cell_type": "code",
   "execution_count": null,
   "id": "b23f1d1f",
   "metadata": {},
   "outputs": [],
   "source": [
    "# Create a boxplot and histogram of the tips grouped by the day\n",
    "sns.boxplot(x = df_hanes[\"Age\"], y = df_hanes[\"HealthGen\"])"
   ]
  },
  {
   "cell_type": "code",
   "execution_count": null,
   "id": "2f0536b6",
   "metadata": {},
   "outputs": [],
   "source": [
    "sns.scatterplot(data = df_hanes, x = \"Age\", y = \"HealthGen\")\n",
    "\n",
    "plt.show()"
   ]
  },
  {
   "cell_type": "code",
   "execution_count": null,
   "id": "c6349fe3",
   "metadata": {},
   "outputs": [],
   "source": [
    "sns.scatterplot(data = df_hanes, x = \"Age\", y = \"HHIncome\")\n",
    "\n",
    "plt.show()"
   ]
  },
  {
   "cell_type": "code",
   "execution_count": null,
   "id": "08e22a14",
   "metadata": {},
   "outputs": [],
   "source": [
    "grid = sns.FacetGrid(df_hanes, col = \"HealthGen\", hue = \"HealthGen\", col_wrap=1)\n",
    "grid.map(sns.scatterplot, \"HHIncome\", \"Age\")\n",
    "\n",
    "grid.add_legend()\n",
    "\n",
    "plt.show()\n"
   ]
  },
  {
   "cell_type": "markdown",
   "id": "60d0dab2",
   "metadata": {},
   "source": [
    "### fitter correlation"
   ]
  },
  {
   "cell_type": "code",
   "execution_count": 50,
   "id": "463a8d86",
   "metadata": {},
   "outputs": [
    {
     "data": {
      "image/png": "[encoded data removed]",
      "text/plain": [
       "<Figure size 432x288 with 1 Axes>"
      ]
     },
     "metadata": {
      "needs_background": "light"
     },
     "output_type": "display_data"
    }
   ],
   "source": [
    "sns.scatterplot(data = merged_inner, x = \"counts\", y = \"length\")\n",
    "\n",
    "plt.show()\n",
    "\n",
    "#scatterplot between counts and length "
   ]
  },
  {
   "cell_type": "code",
   "execution_count": 51,
   "id": "469afcca",
   "metadata": {},
   "outputs": [
    {
     "name": "stdout",
     "output_type": "stream",
     "text": [
      "0.7672975255108387\n"
     ]
    }
   ],
   "source": [
    "print(merged_inner['counts'].corr(merged_inner['length']))\n",
    "\n",
    "#correlation on the mergred_inner df between counts (likes on a tweet) and tweet length"
   ]
  },
  {
   "cell_type": "code",
   "execution_count": null,
   "id": "5d56950e",
   "metadata": {},
   "outputs": [],
   "source": [
    "#TODO: "
   ]
  }
 ],
 "metadata": {
  "interpreter": {
   "hash": "1fc498d6039974c203fd666ccd77857e0208a43cba16f4681d52b858100ce542"
  },
  "kernelspec": {
   "display_name": "Python 3.9.12 ('base')",
   "language": "python",
   "name": "python3"
  },
  "language_info": {
   "codemirror_mode": {
    "name": "ipython",
    "version": 3
   },
   "file_extension": ".py",
   "mimetype": "text/x-python",
   "name": "python",
   "nbconvert_exporter": "python",
   "pygments_lexer": "ipython3",
   "version": "3.9.12"
  },
  "vscode": {
   "interpreter": {
    "hash": "9d2f90ce7fcadaec65a6333d4817be2d19c4bb6b0d388840cd47906046a63f59"
   }
  }
 },
 "nbformat": 4,
 "nbformat_minor": 5
}
