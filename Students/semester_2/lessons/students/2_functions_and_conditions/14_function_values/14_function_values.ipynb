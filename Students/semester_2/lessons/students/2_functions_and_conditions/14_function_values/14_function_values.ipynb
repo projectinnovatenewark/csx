{
 "cells": [
  {
   "cell_type": "markdown",
   "metadata": {},
   "source": [
    "## Section 1: Reviewing Return Values\n",
    "\n",
    "To begin, let's review a concept from lesson 6: the \".pop()\" method. The \".pop()\" method is a\n",
    "built-in Python method that is used to remove elements from a list and return that element.\n",
    "After returning the element, you can also store it in a variable to be used later.\n",
    "TIP: Remember that the \".pop()\" method will remove the last item in the list by default unless an\n",
    "TIP: index is passed as an argument."
   ]
  },
  {
   "cell_type": "code",
   "execution_count": null,
   "metadata": {},
   "outputs": [],
   "source": [
    "teams = [\"New York Liberty\", \"Chicago Sky\", \"Atlanta Dream\"]\n",
    "popped_team = teams.pop() # This removes the last item in the list and stores it in \"popped_team\".\n",
    "print(popped_team)\n",
    "\n",
    "# Similar to the example above, using a \"return\" statement in custom Python functions allows you to\n",
    "# access the value of the executed function. Below is a simple example to jog your memory from\n",
    "# Lesson 11:\n",
    "\n",
    "def addTwo(num):\n",
    "  num += 2\n",
    "  return num # This is a \"return\" statement.\n",
    "\n",
    "num_plus_two = addTwo(20) # Just as when using the \".pop()\" method, the value of \"addTwo()\" will be\n",
    "                          # stored in the variable \"num_plus_two\".\n",
    "print(num_plus_two)\n"
   ]
  },
  {
   "cell_type": "code",
   "execution_count": null,
   "metadata": {},
   "outputs": [],
   "source": []
  },
  {
   "cell_type": "markdown",
   "metadata": {},
   "source": [
    "## TITLE: Section 2 - Using Custom Functions Together\n",
    "\n",
    "Creating one large function often does not produce the most readable code. Therefore, it is\n",
    "considered best practice to break the function up into smaller, \"helper\" functions. Let's walk\n",
    "through this concept using the control of the functions below."
   ]
  },
  {
   "cell_type": "code",
   "execution_count": null,
   "metadata": {},
   "outputs": [],
   "source": [
    "# TODO: Hey Teacher, walk through the control with the class starting at \"Control 1\" marked by the\n",
    "# TODO: \"TODO\" tag.\n",
    "\n",
    "def inputWidth():\n",
    "  # Control 3: Use the built in \"input()\" function to get the width from the user and return it.\n",
    "  width = float(input(\"Please enter the width of your rectangle (Only input a float or integer): \"))\n",
    "  return width\n",
    "\n",
    "def inputLength():\n",
    "  # Control 5: Use the built in \"input()\" function to get the length from the user and return it.\n",
    "  length = float(input(\"Please enter the length of your rectangle (Only input a float or integer): \"))\n",
    "  return length\n",
    "\n",
    "def findArea():\n",
    "  width = inputWidth() # Control 2: Call \"inputWidth()\" and store its value in the variable \"width\"\n",
    "  length = inputLength() # Control 4: Call \"inputWidth()\" and store its value in the variable\n",
    "                         # \"length\"\n",
    "\n",
    "  area = width * length # Control 6: Calculate the area using the return values stored in \"width\"\n",
    "                        # and \"length\"\n",
    "\n",
    "  return area # Return \"area\" to be used later in the program.\n",
    "\n",
    "# TODO: Start walking through the control on the line below.\n",
    "rectangle_area = findArea() # Control 1: Call \"findArea()\" and store its value in the variable\n",
    "                            # \"rectangle_area\".\n",
    "\n",
    "print(f\"The area of your rectangle is {rectangle_area} feet.\")\n"
   ]
  },
  {
   "cell_type": "code",
   "execution_count": null,
   "metadata": {},
   "outputs": [],
   "source": []
  },
  {
   "cell_type": "markdown",
   "metadata": {},
   "source": [
    "## Section 3: Functions and Loops\n",
    "\n",
    "Let's develop a small program using multiple functions to create a game where a user guesses a\n",
    "number between one and ten. The program should then let the user input how many times they want to\n",
    "play the game and tell them whether they have won or lost after each round."
   ]
  },
  {
   "cell_type": "code",
   "execution_count": null,
   "metadata": {},
   "outputs": [],
   "source": [
    "# The game will use the \"random\" package to produce a random number that the user is trying to\n",
    "# guess, as seen below.\n",
    "\n",
    "from random import randint # Remember import statements generally belong at the top of a file.\n",
    "\n",
    "def inquireUserGames():\n",
    "  \"\"\"Ask a user how many times they want to play.\"\"\"\n",
    "\n",
    "  num_games = int(input(\"How many times would you like to play the 'Guess the Number' game?: \"))\n",
    "  num_games_string = f\"You've signed on to play {num_games} games.\"\n",
    "\n",
    "  return num_games, num_games_string # Just as you can define multiple variables at once, you can\n",
    "                                     # also return multiple values from a single function.\n",
    "\n",
    "def playTheGame():\n",
    "  \"\"\"Ask the user for a number between 1 and 10, generate a random number between 1 and 10, and\n",
    "    check if those numbers match. If they do, congratulate the user! If not, tell them they were\n",
    "    incorrect.\"\"\"\n",
    "\n",
    "  random_number = randint(1, 10) # Generate a random number between 1 and 10.\n",
    "  \n",
    "  user_guess = int(input(\"Guess a number between 1 and 10: \"))\n",
    "\n",
    "  # Check if the random number and user number equal each other.\n",
    "  if random_number == user_guess:\n",
    "    print(f\"You guessed correctly. Number {user_guess} is correct.\\n\")\n",
    "  else:\n",
    "    print(f\"Your guess is incorrect! Number {random_number} doesnt equal {user_guess}.\\n\")\n",
    "\n",
    "def initializeGame():\n",
    "  \"\"\"Lets initialize our game and call the inquireUserGames function.\"\"\"\n",
    "\n",
    "  # Recall that in the function \"inquireUserGames()\" will return 2 values. We use a comma to\n",
    "  # separate the returned values when storing them into variables.\n",
    "  game_count, welcome_string = inquireUserGames()\n",
    "  print(f\"\\n{welcome_string}\\n\")\n",
    "\n",
    "  # The variable \"game_count\" will equal the user's input for their desired number of games to\n",
    "  # play. The variable \"welcome_string\" will equal the output \"You've signed on to play\n",
    "  # {game_count} games!\"\n",
    "  while game_count: # This while loop will continue to run until \"game_count\" equals zero.\n",
    "    playTheGame()\n",
    "    # Every time we run the \"playTheGame()\" function we want to decrement the game_count\n",
    "    # by one until it hits zero, at which point the while loop will stop running.\n",
    "    game_count -= 1\n",
    "\n",
    "initializeGame()\n",
    "\n",
    "# TODO: Complete TODO 14 (10 min for students, 5 min for demo)\n"
   ]
  },
  {
   "cell_type": "code",
   "execution_count": null,
   "metadata": {},
   "outputs": [],
   "source": []
  }
 ],
 "metadata": {
  "language_info": {
   "name": "python"
  },
  "orig_nbformat": 4
 },
 "nbformat": 4,
 "nbformat_minor": 2
}
