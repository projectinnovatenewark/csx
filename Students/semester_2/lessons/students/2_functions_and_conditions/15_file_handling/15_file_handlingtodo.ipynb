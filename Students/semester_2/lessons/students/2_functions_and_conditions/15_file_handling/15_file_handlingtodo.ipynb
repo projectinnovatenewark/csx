{
 "cells": [
  {
   "cell_type": "code",
   "execution_count": null,
   "metadata": {},
   "outputs": [],
   "source": [
    "\n",
    "\n",
    "# SETUP STEPS:\n",
    "# 1) Go to https://github.com/projectinnovatenewark/csx/tree/master/lessons/students/2_functions_and_conditions/15_file_handling\n",
    "# 2) Copy contents of the file employees.txt\n",
    "# 3) Create a new file in your directory that contains the todo for the file handling lesson\n",
    "# 4) Paste in the contents to your newly created employees.txt file\n",
    "# 5) Save the file\n",
    "# 6) Write your Python code\n",
    "# 7) Change directories into your directory with the Python program\n",
    "# 8) Run the program with this command in your terminal, `python3 program_name.py`\n",
    "\n",
    "# IMPORTANT:\n",
    "# Make sure your terminal is using the same working directory is in the same working directory as\n",
    "# \"employees.txt\". Also, the spacing in \"employees.txt\" may look off, but it will not impact your\n",
    "# ability to complete the todos.\n",
    "\n",
    "# TODO: Section 1.1\n",
    "\n",
    "# Use the \"open\" function to read the contents of \"employees.txt\" and print them to the terminal\n",
    "# using the \".read()\" method. Then close the file."
   ]
  },
  {
   "cell_type": "markdown",
   "metadata": {},
   "source": [
    "### TODO: Section 1.1\n"
   ]
  },
  {
   "cell_type": "code",
   "execution_count": null,
   "metadata": {},
   "outputs": [],
   "source": [
    "# Use the \"open\" function to read the contents of \"employees.txt\" and print them to the terminal\n",
    "# using the \".read()\" method. Then close the file."
   ]
  },
  {
   "cell_type": "markdown",
   "metadata": {},
   "source": [
    "### TODO: Section 1.2"
   ]
  },
  {
   "cell_type": "code",
   "execution_count": null,
   "metadata": {},
   "outputs": [],
   "source": [
    "# Reopen \"employees.txt\". Then read each line in the file seperately using the \".readlines()\" method\n",
    "# and print them out to the terminal. Lastly close the file.\n"
   ]
  },
  {
   "cell_type": "code",
   "execution_count": null,
   "metadata": {},
   "outputs": [],
   "source": []
  },
  {
   "cell_type": "markdown",
   "metadata": {},
   "source": [
    "### TODO: Section 2\n"
   ]
  },
  {
   "cell_type": "code",
   "execution_count": null,
   "metadata": {},
   "outputs": [],
   "source": [
    "# Open \"employees.txt\". Then write to the file without overwriting its contents and add a new \n",
    "# employee. The format of the employee information should be:\n",
    "# \"John (tab) Smith (tab) Public Relations (tab) 50000\". Then open the file again to read its\n",
    "# contents and print them to the terminal. Lastly close the file.\n",
    "\n",
    "# HINT: Use \"\\t\" in strings to create a tab."
   ]
  }
 ],
 "metadata": {
  "kernelspec": {
   "display_name": "Python 3.8.9 64-bit",
   "language": "python",
   "name": "python3"
  },
  "language_info": {
   "name": "python",
   "version": "3.8.9"
  },
  "orig_nbformat": 4,
  "vscode": {
   "interpreter": {
    "hash": "31f2aee4e71d21fbe5cf8b01ff0e069b9275f58929596ceb00d14d90e3e16cd6"
   }
  }
 },
 "nbformat": 4,
 "nbformat_minor": 2
}
