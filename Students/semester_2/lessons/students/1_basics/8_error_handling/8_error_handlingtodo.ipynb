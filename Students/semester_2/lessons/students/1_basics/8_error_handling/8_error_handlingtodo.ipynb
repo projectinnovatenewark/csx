{
 "cells": [
  {
   "cell_type": "markdown",
   "metadata": {},
   "source": [
    "### TODO: Section 1.1:"
   ]
  },
  {
   "cell_type": "code",
   "execution_count": null,
   "metadata": {},
   "outputs": [],
   "source": [
    "# Run the code below to find what type of error you are encountering. Then comment out the code and\n",
    "# rewrite it with a new denominator to fix the error. Then print the type of error you got from the\n",
    "# original problem.\n",
    "\n",
    "number = 10 * (1/0) # FIXME"
   ]
  },
  {
   "cell_type": "markdown",
   "metadata": {},
   "source": [
    "### TODO: Section 1.2:"
   ]
  },
  {
   "cell_type": "code",
   "execution_count": null,
   "metadata": {},
   "outputs": [],
   "source": [
    "# Again, run the code below to find what type of error you are encountering. Then define 'spam' on\n",
    "# the correct line and print the error type you originally received.\n",
    "\n",
    "equation = 4 + spam * 3 # FIXME\n"
   ]
  },
  {
   "cell_type": "markdown",
   "metadata": {},
   "source": [
    "### TODO: Section 1.3:"
   ]
  },
  {
   "cell_type": "code",
   "execution_count": null,
   "metadata": {},
   "outputs": [],
   "source": [
    "# Finally, run the code below to find what type of error you are encountering. Change the code so that\n",
    "# our '2 + 2' addition works and print the error type you originally received.\n",
    "\n",
    "twotwo = '2' + 2 # FIXME"
   ]
  }
 ],
 "metadata": {
  "kernelspec": {
   "display_name": "Python 3.8.9 64-bit",
   "language": "python",
   "name": "python3"
  },
  "language_info": {
   "name": "python",
   "version": "3.8.9"
  },
  "orig_nbformat": 4,
  "vscode": {
   "interpreter": {
    "hash": "31f2aee4e71d21fbe5cf8b01ff0e069b9275f58929596ceb00d14d90e3e16cd6"
   }
  }
 },
 "nbformat": 4,
 "nbformat_minor": 2
}
