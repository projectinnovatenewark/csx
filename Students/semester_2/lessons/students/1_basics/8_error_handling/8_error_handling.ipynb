{
 "cells": [
  {
   "cell_type": "markdown",
   "metadata": {},
   "source": [
    "## Section 1: No Dividing by Zero! (3 min)\n",
    "\n",
    "Below are a few examples of errors you will undoubtedly see in your time as a programmer.\n",
    "These errors will show up in your terminal letting you know where the problem is and which\n",
    "type of error it is. \n",
    "\n",
    "Our first error is a ZeroDivisionError. This is pretty self explanatory. As we know from math\n",
    "classes, you can't divide a number by 0. That rule doesn't go away in Python. Pay attention\n",
    "to the message in the terminal, as it tells you where Python thinks there is an error. \n"
   ]
  },
  {
   "cell_type": "code",
   "execution_count": null,
   "metadata": {},
   "outputs": [],
   "source": [
    "# ZeroDivisionError: division by zero\n",
    "number = 10 * (1/0) # FIXME: Comment out this line once this error has been demo'd.\n",
    "print(number)"
   ]
  },
  {
   "cell_type": "markdown",
   "metadata": {},
   "source": [
    "## TITLE: Section 2: NameErrors are Easy (3 min)\n",
    "\n",
    "You'll see below when we run our code again that we get a 'NameError'. This occurs when you try to \n",
    "use a variable in your program that has not been defined yet. The below code uses the variable\n",
    "'spam' when 'spam' hasn't been defined. Again pay attention to your terminal. It lets you know\n",
    "where the problem is and gives hints as to what's wrong.\n"
   ]
  },
  {
   "cell_type": "code",
   "execution_count": null,
   "metadata": {},
   "outputs": [],
   "source": [
    "# NameError: name 'spam' is not defined\n",
    "equation = 4 + spam * 3 # FIXME: Comment out this line once this error has been demo'd.\n",
    "print(equation)"
   ]
  },
  {
   "cell_type": "markdown",
   "metadata": {},
   "source": [
    "## TITLE: Section 3: Know Your Types (3 min)\n",
    "\n",
    "Lastly let's take a look at a 'TypeError'. In this case, there is an error occuring because Python\n",
    "thinks the variable \"twotwo\" is looking to concatenate the string \"2\" and the integer \"2\". As we\n",
    "know from earlier lessons, we can't concatenate strings and integers, so Python throws us\n",
    "this error."
   ]
  },
  {
   "cell_type": "code",
   "execution_count": null,
   "metadata": {},
   "outputs": [],
   "source": [
    "# TypeError: Can't convert 'int' object to str implicitly\n",
    "twotwo = '2' + 2 # FIXME: Comment out this line once this error has been demo'd.\n",
    "print(twotwo)\n",
    "\n",
    "# TODO: Complete TODO 8 (5 minutes for students, 2 minute demo)\n"
   ]
  }
 ],
 "metadata": {
  "kernelspec": {
   "display_name": "Python 3.8.9 64-bit",
   "language": "python",
   "name": "python3"
  },
  "language_info": {
   "name": "python",
   "version": "3.8.9"
  },
  "orig_nbformat": 4,
  "vscode": {
   "interpreter": {
    "hash": "31f2aee4e71d21fbe5cf8b01ff0e069b9275f58929596ceb00d14d90e3e16cd6"
   }
  }
 },
 "nbformat": 4,
 "nbformat_minor": 2
}
