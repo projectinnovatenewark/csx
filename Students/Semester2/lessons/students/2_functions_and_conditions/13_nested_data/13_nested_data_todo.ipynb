{
 "cells": [
  {
   "cell_type": "markdown",
   "metadata": {},
   "source": [
    "### TODO: Section 1:"
   ]
  },
  {
   "cell_type": "code",
   "execution_count": null,
   "metadata": {},
   "outputs": [],
   "source": [
    "# Below is a nested data structure containing a list of lists called \"toppings\". Use a nested\n",
    "# for loop to print each topping.\n",
    "\n",
    "toppings = [\n",
    "  [\"lettuce\", \"tomato\", \"onion\"],\n",
    "  [\"bacon\", \"cheese\", \"avocado\"]\n",
    "]\n"
   ]
  },
  {
   "cell_type": "code",
   "execution_count": null,
   "metadata": {},
   "outputs": [],
   "source": []
  },
  {
   "cell_type": "markdown",
   "metadata": {},
   "source": [
    "### TODO: Section 2:"
   ]
  },
  {
   "cell_type": "code",
   "execution_count": null,
   "metadata": {},
   "outputs": [],
   "source": [
    "movie_series = {\n",
    "  \"Harry Potter\": {\n",
    "    \"first\": \"The Sorcerer's Stone\",\n",
    "    \"second\": \"The Chamber of Secrets\",\n",
    "    \"third\": \"The Prisoner of Azkaban\"\n",
    "  },\n",
    "  \"Lord of the Rings\": {\n",
    "    \"first\": \"The Fellowship of the Ring\",\n",
    "    \"second\": \"The Two Towers\",\n",
    "    \"third\": \"The Return of the King\"\n",
    "  },\n",
    "  \"The Hunger Games\": {\n",
    "    \"first\": \"The Hunger Games\",\n",
    "    \"second\": \"Catching Fire\",\n",
    "    \"third\": \"Mockingjay\"\n",
    "  }\n",
    "}\n",
    "\n",
    "# The nested dictionary, \"movie_series\", contains the first 3 movies in a few popular movie franchises. \n",
    "# Iterate through \"movie_series\" and print the statement: \"The second movie in the\n",
    "# [franchise] franchise is [movie].\" (i.e The second movie in the The Hunger Games franchise is\n",
    "# Catching Fire.)\n",
    "\n",
    "# HINT: Use a nested \"for loop\" to iterate through \"movie_series\"."
   ]
  },
  {
   "cell_type": "markdown",
   "metadata": {},
   "source": [
    "### TODO: Section 3:"
   ]
  },
  {
   "cell_type": "code",
   "execution_count": null,
   "metadata": {},
   "outputs": [],
   "source": [
    "transactions_data = [\n",
    "  {\n",
    "    \"amount\": 2307.21,\n",
    "    \"place\": \"Apple Store\",\n",
    "    \"acct\": \"Chase Checking\",\n",
    "  },\n",
    "  {\n",
    "    \"amount\": 75.20,\n",
    "    \"place\": \"Qdoba\",\n",
    "    \"acct\": \"Wells Savings\",\n",
    "  },\n",
    "  {\n",
    "    \"amount\": 25,\n",
    "    \"place\": \"Food Depot\",\n",
    "    \"acct\": \"Chase Checking\",\n",
    "  },\n",
    "  {\n",
    "    \"amount\": 10000,\n",
    "    \"place\": \"Home Depot\",\n",
    "    \"acct\": \"BofA Savings\",\n",
    "  },\n",
    "  {\n",
    "    \"amount\": \"1500\",\n",
    "    \"place\": \"Chipotle\",\n",
    "    \"acct\": \"Chase Checking\",\n",
    "  },\n",
    "  {\n",
    "    \"amount\": 1700.56565656,\n",
    "    \"place\": \"Lowe's\",\n",
    "    \"acct\": \"Chase Checking\",\n",
    "  },\n",
    "  {\n",
    "    \"amount\": 150,\n",
    "    \"place\": \"AMC Theaters\",\n",
    "    \"acct\": \"Deutsche Bank\",\n",
    "  },\n",
    "]\n",
    "\n",
    "# TODO: Do all of the below todo's inside a function called \"transactify\" and pass it as an argument,\n",
    "# which will be the transactions_data list.\n",
    "\n",
    "# TODO: Create and print a list of all transactions above $100\n",
    "# TODO: Create and print a list of places we made transactions\n",
    "# TODO: Create and print a list of the bank accounts we use\n",
    "# TODO: Print out each transaction in a string indicating:\n",
    "# TODO: \"You spent $ X at X with your X account\"\n",
    "\n",
    "\n",
    "# Inside the function \"transactify\", if the dollar amount was over $100, \n",
    "# write a program that will print the statement: \n",
    "# \"You spent $[amount] at [location] with your [account].\" \n",
    "\n",
    "# IMPORTANT: Use variables to make your code more readable, as noted in the lesson.\n",
    "\n",
    "def transactify(transactions):\n",
    "    \"\"\"This function should complete the above tasks\"\"\"\n",
    "\n",
    "transactify(transactions_data) \n"
   ]
  },
  {
   "cell_type": "code",
   "execution_count": null,
   "metadata": {},
   "outputs": [],
   "source": []
  },
  {
   "cell_type": "code",
   "execution_count": null,
   "metadata": {},
   "outputs": [],
   "source": []
  },
  {
   "cell_type": "code",
   "execution_count": null,
   "metadata": {},
   "outputs": [],
   "source": []
  },
  {
   "cell_type": "code",
   "execution_count": null,
   "metadata": {},
   "outputs": [],
   "source": []
  },
  {
   "cell_type": "code",
   "execution_count": null,
   "metadata": {},
   "outputs": [],
   "source": []
  }
 ],
 "metadata": {
  "kernelspec": {
   "display_name": "Python 3.8.9 64-bit",
   "language": "python",
   "name": "python3"
  },
  "language_info": {
   "name": "python",
   "version": "3.8.9"
  },
  "orig_nbformat": 4,
  "vscode": {
   "interpreter": {
    "hash": "31f2aee4e71d21fbe5cf8b01ff0e069b9275f58929596ceb00d14d90e3e16cd6"
   }
  }
 },
 "nbformat": 4,
 "nbformat_minor": 2
}
