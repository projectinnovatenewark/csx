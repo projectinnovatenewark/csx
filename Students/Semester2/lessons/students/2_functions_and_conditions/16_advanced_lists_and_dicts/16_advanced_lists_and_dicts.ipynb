{
 "cells": [
  {
   "cell_type": "markdown",
   "metadata": {},
   "source": [
    "## Section 1: List and Dictionary Constructors\n",
    "\n",
    "In Python, you can convert iterable objects into lists by using a list constructor. The syntax\n",
    "for using a list contructor is \"list(iterable_object)\". The new list can then be stored in a\n",
    "variable and act just as if the object was originally defined as a list with brackets. Below is an\n",
    "example of using the list contructor.\n"
   ]
  },
  {
   "cell_type": "code",
   "execution_count": null,
   "metadata": {},
   "outputs": [],
   "source": [
    "stringy = 'racecar'\n",
    "print(f\"stringy: '{stringy}', type: {type(stringy)}\")\n",
    "\n",
    "listy = list(stringy) # This converts 'stringy' to a list.\n",
    "print(f\"listy: {listy}, type: {type(listy)}\")\n",
    "\n",
    "# You can create a dictionary using keyword arguments in Python with a dictionary constructor. A\n",
    "# \"keyword arguement\" is a way to define key/value pairs as an argument when executing a function or\n",
    "# method call. The syntax for using \"dict()\" with keyword arguments is:\n",
    "# \"dict(key1=value1, key2=value2)\".\n",
    "\n",
    "# Additionally, the dictionary constructor can take as many arguments as the\n",
    "# user wants. Below is an example:\n",
    "\n",
    "dicty = dict(Apple='iPhone', Samsung='Galaxy', Google='Pixel')\n",
    "print(f\"Dicty printed:\\n{dicty}\")"
   ]
  },
  {
   "cell_type": "markdown",
   "metadata": {},
   "source": [
    "## Section 2.1: List Comprehension\n",
    "\n",
    "List comprehensions are a means to create a new list based on the values of an existing iterable.\n",
    "The syntax for using list comprehensions is \"[expression for x in iterable_object]\" where\n",
    "\"expression\" represents a value and \"x\" is each item in \"iterable_object\". In the example below we\n",
    "are using list comprehensions to iterate through each number between 0 and 9, squaring the number,\n",
    "and then storing it in a list called \"squares\"."
   ]
  },
  {
   "cell_type": "code",
   "execution_count": null,
   "metadata": {},
   "outputs": [],
   "source": [
    "squares = [i**2 for i in range(10)] # IMPORTANT: The \"range()\" function creates a list of numbers.\n",
    "print(f\"Squares list: {squares}\")\n",
    "\n",
    "# Conditions can be added to list comprehensions. The condition is added to the end of a list\n",
    "# comprehension after the \"for loop\". In the example below, \"if statement\" is used to create a\n",
    "# list of the squared odd numbers between 0 and 9.\n",
    "squares_of_odd_numbers = [i**2 for i in range(10) if i % 2 != 0]\n",
    "print(f\"Squares of odd numbers list:\\n{squares_of_odd_numbers}\")"
   ]
  },
  {
   "cell_type": "markdown",
   "metadata": {},
   "source": [
    "## Section 2.2: Dictionary Comprehension\n",
    "\n",
    "Python also allows for dictionary comprehensions. Just as in list comprehensions, dictionary\n",
    "comprehensions are a means to create a new dictionary based on the values of two existing iterables.\n",
    "The syntax for a dictionary comprehension is \"{key: value for vars in iterable}\" where \"key\" is\n",
    "the new key in a given key/value pair, \"value\" is the new value in a given key/value pair, \"vars\"\n",
    "is an iteration in the iterable, and \"iterable\" is the iterable object. In the example below, we\n",
    "are creating a dictionary that has keys of 0-9 and values of the key*2."
   ]
  },
  {
   "cell_type": "code",
   "execution_count": null,
   "metadata": {},
   "outputs": [],
   "source": [
    "new_dictionary = {num: num*2 for num in range(10)}\n",
    "print(f'new_dictionary:\\n{new_dictionary}')\n",
    "\n",
    "# Again, just as in list comprehension, a condition can be added to the end of a dictionary\n",
    "# comprehension. In the example below, we will take the same comprehension from above, but only add\n",
    "# a key/value pair if the key is an even number.\n",
    "new_dictionary = {num: num*2 for num in range(10) if num % 2 == 0}\n",
    "print(f'new_dictionary:\\n{new_dictionary}')\n",
    "\n",
    "# TODO: Section 2 of TODO 16 (5 min for students, 2 min for demo)"
   ]
  },
  {
   "cell_type": "markdown",
   "metadata": {},
   "source": [
    "## Section 3.1: Advanced Loops For Lists"
   ]
  },
  {
   "cell_type": "code",
   "execution_count": null,
   "metadata": {},
   "outputs": [],
   "source": [
    "num_list = [3, 15, 31, 1, 11, 107]\n",
    "\n",
    "# In previous lessons, we have used counters to keep track of which element is being iterated over\n",
    "# in a string or list. Below is an example of this concept through the use of a \"for loop\".\n",
    "\n",
    "i = 0 # This will act as a counter to keep track of the index position of each element in \"num_list\"\n",
    "for num in num_list:\n",
    "  print(f\"{num} is at index {i}\")\n",
    "  i += 1\n",
    "\n",
    "# The \"enumerate()\" function is a built-in Python function that makes the above syntax cleaner and\n",
    "# easier to read. The \"enumerate()\" function adds a counter to an iterable and returns it as a value\n",
    "# called an enumarate object. The counter created by \"enumerate()\" replaces the need to set your own\n",
    "# iterator outside of the for loop.\n",
    "\n",
    "# The syntax for looping through an enumerate object is\n",
    "# \"for index, var in enumerate(iterable_object)\" where \"index\" is a number starting at 0 that is\n",
    "# incremented by one for each iteration, and \"var\" is the variable representing each element in the\n",
    "# iterable. \n",
    "# Below is an example of using a \"for loop\" to loop through an enumerated object of \"number_list\".\n",
    "for idx, num in enumerate(num_list):\n",
    "    print(f\"{num} is at index {idx}\")"
   ]
  },
  {
   "cell_type": "markdown",
   "metadata": {},
   "source": [
    "## Section 3.2: Advanced Loops For Dictionaries\n"
   ]
  },
  {
   "cell_type": "code",
   "execution_count": null,
   "metadata": {},
   "outputs": [],
   "source": [
    "leagues = {'MLB': 'baseball', 'MLG': 'e-sports', 'WNBA': 'basketball'}\n",
    "\n",
    "# In previous lessons we learned that we can use variables to access key/value pairs while\n",
    "# looping through a dictionary. Below is an example of this concept.\n",
    "for league in leagues:\n",
    "  sport = leagues[league] # Using bracket notation to access the key's value.\n",
    "  print(f\"The {league} plays {sport}.\")\n",
    "\n",
    "# Python also has a more readable way to access key/value pairs while iterating over a dictionary.\n",
    "# The \".items()\" method is used to access the key/value pair in a given iteration. The syntax for\n",
    "# the \".items()\" method is \"for key, value in iterable.items():\". \n",
    "# Below is an example of using the \".items()\" method.\n",
    "for league, sport in leagues.items():\n",
    "  print(f\"The {league} plays {sport}.\")\n",
    "\n",
    "# TODO: Section 3 of TODO 16 (5 min for students, 2 min for demo)"
   ]
  },
  {
   "cell_type": "markdown",
   "metadata": {},
   "source": [
    "## Section 4: Using Membership Operators with Lists and Dictionaries\n",
    "\n",
    "A membership operator is used to test if an object is present in an iterable object. For example,\n",
    "the \"in\" operator is used to check \"if\" a given element is \"in\" an iterable object. The syntax for\n",
    "this is, \"if object in iterable_object:\". Below are examples of using the \"in\" operator\n",
    "with a list and dictionary."
   ]
  },
  {
   "cell_type": "code",
   "execution_count": null,
   "metadata": {},
   "outputs": [],
   "source": [
    "listy = [\"Take\", \"me\", \"out\", \"to\", \"the\", \"ballgame\"]\n",
    "\n",
    "var = \"ballgame\"\n",
    "if var in listy: # This checks if the value of \"ballgame\" is in the list \"listy\".\n",
    "  print(f\"The string {var} is in listy.\")\n",
    "\n",
    "if \"CSX\" in listy: # This checks if the value of \"CSX\" is in the list \"listy\".\n",
    "  print(f\"'CSX' is in listy.\")\n",
    "else: # If \"var2\" isn't in listy, the condition will be False, and the \"else\" statement will execute.\n",
    "  print(f\"'CSX' is not in listy.\")\n",
    "\n",
    "languages = {\"italian\": \"Italy\", \"spanish\": \"Spain\", \"french\": \"France\"}\n",
    "\n",
    "if \"italian\" in languages: # This checks if \"italian\" is in the dictionary \"languages\".\n",
    "  print(f\"The string 'italian' is a key in languages.\")\n",
    "\n",
    "if \"mandarin\" in languages: # This checks if \"mandarin\" is in the dictionary \"languages\".\n",
    "  print(f\"The string 'mandarin' is a key in languages.\")\n",
    "else: # If \"mandarin\" isn't in languages, the condition will return False, and the \"else\" statement will execute.\n",
    "  print(f\"The string 'mandarin' is not a key in languages.\")\n",
    "\n",
    "# In Python, we can also check if an object does not exist in an iterable object with the operator,\"not in\". \n",
    "# The syntax for using the \"not in\" operator is, \"if object not in iterable_object:\".\n",
    "# Below are examples of using the \"not in\" operator with a list and dictionary.\n",
    "\n",
    "if \"peanuts\" not in listy:\n",
    "  print(\"The string 'peanuts' is not in listy\")\n",
    "\n",
    "if \"german\" not in languages:\n",
    "  print(\"The string 'german' is not a key in listy\")\n",
    "\n",
    "\n",
    "# TODO: Section 4 of TODO 16 (7 min for students, 4 min for demo)\n"
   ]
  }
 ],
 "metadata": {
  "kernelspec": {
   "display_name": "Python 3.8.9 64-bit",
   "language": "python",
   "name": "python3"
  },
  "language_info": {
   "name": "python",
   "version": "3.8.9"
  },
  "orig_nbformat": 4,
  "vscode": {
   "interpreter": {
    "hash": "31f2aee4e71d21fbe5cf8b01ff0e069b9275f58929596ceb00d14d90e3e16cd6"
   }
  }
 },
 "nbformat": 4,
 "nbformat_minor": 2
}
