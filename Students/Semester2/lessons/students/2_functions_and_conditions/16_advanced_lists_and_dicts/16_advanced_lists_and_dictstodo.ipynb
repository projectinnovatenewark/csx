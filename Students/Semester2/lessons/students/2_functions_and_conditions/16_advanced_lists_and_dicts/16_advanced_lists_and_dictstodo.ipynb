{
 "cells": [
  {
   "cell_type": "markdown",
   "metadata": {},
   "source": [
    "### TODO: Section 2\n"
   ]
  },
  {
   "cell_type": "code",
   "execution_count": 1,
   "metadata": {},
   "outputs": [
    {
     "name": "stdout",
     "output_type": "stream",
     "text": [
      "['u', 'p', 'e', 'r', 'c', 'a', 'l', 'i', 'f', 'r', 'a', 'g', 'i', 'l', 'i', 't', 'i', 'c', 'e', 'x', 'p', 'i', 'a', 'l', 'i', 'd', 'o', 'c', 'i', 'o', 'u']\n"
     ]
    }
   ],
   "source": [
    "stringy = \"supercalifragilisticexpialidocious\"\n",
    "\n",
    "# Given the variable \"stringy\", use list comprehension to create a new list that includes all\n",
    "# characters except for the letter \"s\".\n",
    "# TIP: Conditions can be added to the end of list comprehensions.\n",
    "\n",
    "x = [s for s in stringy if s != \"s\"]\n",
    "\n",
    "print(x)"
   ]
  },
  {
   "cell_type": "markdown",
   "metadata": {},
   "source": [
    "### TODO: Section 3"
   ]
  },
  {
   "cell_type": "code",
   "execution_count": null,
   "metadata": {},
   "outputs": [],
   "source": [
    "nums = [35, 47, 624, 19, 754, 90, 10]\n",
    "\n",
    "# Given the list \"nums\", use a \"for loop\" and the \"enumerate()\" function to iterate through the\n",
    "# list. Print the current iteration's number if the number is even OR if the index is even.\n",
    "# TIP: Use the % operator to check if a number is even."
   ]
  },
  {
   "cell_type": "markdown",
   "metadata": {},
   "source": [
    "### TODO: Section 4.1\n"
   ]
  },
  {
   "cell_type": "code",
   "execution_count": null,
   "metadata": {},
   "outputs": [],
   "source": [
    "cities = {\"Madrid\": \"Spain\", \"Seoul\": \"South Korea\", \"Boston\": \"United States\", \"Toronto\": \"Canada\"}\n",
    "check_cities1 = [\"New York\", \"Boston\", \"Toronto\"]\n",
    "# Given the dictionary \"cities\", use a membership operator to check if the cities in the\n",
    "# \"check_cities1\" list exist as keys in the cities dictionary. \n",
    "# When a key exists, print the statement: \"The city [city] exists in the dictionary.\" \n",
    "# When a key does not exist, print the statement: \"The city [city] does not exist in the dictionary.\"\n",
    "# TIP: Loop through \"check_cities1\" to more easily test your condition.\n",
    "\n",
    "# TODO: Section 4.2\n",
    "check_cities2 = [\"Rome\", \"Paris\"]\n",
    "\n",
    "# Using the same dictionary, use a different membership operator to check if the listed cities in\n",
    "# \"check_cities2\" do not exist in the \"cities\" dictionary. If the city does not exist, print the\n",
    "# statement: \"This city does not exist in the dictionary.\""
   ]
  },
  {
   "cell_type": "code",
   "execution_count": null,
   "metadata": {},
   "outputs": [],
   "source": []
  },
  {
   "cell_type": "code",
   "execution_count": null,
   "metadata": {},
   "outputs": [],
   "source": []
  }
 ],
 "metadata": {
  "kernelspec": {
   "display_name": "Python 3.8.9 64-bit",
   "language": "python",
   "name": "python3"
  },
  "language_info": {
   "codemirror_mode": {
    "name": "ipython",
    "version": 3
   },
   "file_extension": ".py",
   "mimetype": "text/x-python",
   "name": "python",
   "nbconvert_exporter": "python",
   "pygments_lexer": "ipython3",
   "version": "3.8.9"
  },
  "orig_nbformat": 4,
  "vscode": {
   "interpreter": {
    "hash": "31f2aee4e71d21fbe5cf8b01ff0e069b9275f58929596ceb00d14d90e3e16cd6"
   }
  }
 },
 "nbformat": 4,
 "nbformat_minor": 2
}
