{
 "cells": [
  {
   "attachments": {},
   "cell_type": "markdown",
   "metadata": {},
   "source": [
    "### Section 1: Printing Function Outputs (8 minutes)\n",
    "\n",
    "A function is a block of code that executes a task. Functions are defined using the following\n",
    "format: \"def functionName(parameterName):\" The parameter name can be anything you want (just like\n",
    "variables), so whatever you pass as an argument to the function when you \"call\" it will be\n",
    "renamed to the parameter you set when defining the function. To \"call\" a function simply means\n",
    "to run it."
   ]
  },
  {
   "cell_type": "code",
   "execution_count": null,
   "metadata": {},
   "outputs": [],
   "source": [
    "\n",
    "def addTen(n): # \"addTen\" is the name of the function and \"n\" is the parameter name.\n",
    "  newNum = n + 10 # Lines of code indented after the function is defined are considered to be \n",
    "  # in the scope of the function. This is also known as the function body. \n",
    "  # The function body gets executed every time the function is called.\n",
    "  print(\"addTen is called\\n\") \n",
    "  return newNum # A return statement indicates the end of a function, meaning there should be no\n",
    "  # more code in the function after a return statement.\n",
    "\n",
    "# Now that we are at the leftmost indentation of the file, we have exited the scope of the function\n",
    "# above. For this reason, the following line is considered outside the scope of the function.\n",
    "print(\"This is not a part of the function\")"
   ]
  },
  {
   "cell_type": "code",
   "execution_count": null,
   "metadata": {},
   "outputs": [],
   "source": [
    "# # FIXME: The below line will throw an Indent Error\n",
    "# print(\"This is not in the scope of 'addTen()'\") \n",
    "# # FIXME: This will not be in the scope of addTen() because the function ended in line 14. \n",
    "# # FIXME: Comment it out to continue.\n",
    "\n",
    "# The function \"addTen()\" should take an argument of 3, add ten to it, and return the final value.\n",
    "print(\"First call to addTen function: \")\n",
    "addTen(3) # The argument will be assigned to the parameter \"n\" within the function call.\n",
    "\n",
    "# Huh, why didnt this function call create an output? Well, we didn't print it! We could either\n",
    "# 1) change the \"return\" value to be a print statement in the function\n",
    "# ...OR...\n",
    "# 2) we can print the function call itself.\n",
    "\n",
    "# To create an output, you can set the return value equal to a variable and print it as seen below:\n",
    "num = addTen(4)\n",
    "print(f\"Second call to addTen function: {num} \\n\")\n",
    "\n",
    "# Otherwise, you can print a function call like the following:\n",
    "print(f\"Third call to addTen function: {addTen(5)} \\n\")\n",
    "\n",
    "# Parameters aren't mandatory when defining functions, because functions can perform operations that\n",
    "# don't require an argument. \n",
    "\n",
    "num = 12345\n",
    "def giveOutput():\n",
    " print(num)\n",
    "\n",
    "# In the case above we just print the variable \"num\", which is considered to be a global variable.\n",
    "# A global variable is a variable that is accessible to the whole file, including a given function's\n",
    "# body.\n",
    "\n",
    "print(\"Calling our giveOutput function: \")\n",
    "giveOutput() # This would call \"giveOutput()\" which would print out num variable.\n",
    "\n",
    "# TODO: Section 1 of TODO 11 (4 min for students, 1 min for demo)"
   ]
  },
  {
   "attachments": {},
   "cell_type": "markdown",
   "metadata": {},
   "source": [
    "### Section 2: Calling Functions with Other Functions (8 minutes)\n",
    "\n",
    "Functions are useful because you can have them \"return\" a value. These return values can then be\n",
    "used elsewhere in your file. Below is an example of how the \"control\" of a program will navigate\n",
    "the code. "
   ]
  },
  {
   "cell_type": "code",
   "execution_count": 3,
   "metadata": {},
   "outputs": [
    {
     "name": "stdout",
     "output_type": "stream",
     "text": [
      "We called 'addTwo' and set it's return value equal to a variable. That variable equals 5\n",
      "We called 'addFive' and set it's return value equal to a variable.That variable equals 16 \n",
      "16\n"
     ]
    }
   ],
   "source": [
    "# TODO:\n",
    "# Hey Teacher, Use the \"Control #\" flags to bring the students through each control as they are\n",
    "# executed.\n",
    "\n",
    "\n",
    "def addTwo(j):\n",
    "  newNum = j + 2\n",
    "  return newNum # Control 3: \"j\", which is equal to the argument of 9 that was passed, has 2\n",
    " # added to it and 11 is returned.\n",
    "\n",
    "added_two = addTwo(3)\n",
    "print(f\"We called 'addTwo' and set it's return value equal to a variable. That variable equals {added_two}\")\n",
    "\n",
    "def addFive(k):\n",
    "  return k + 5 # Control 6: \"k\", which is equal to the arugment of 11 that was passed, has 5\n",
    "  # added to it and that value of 16 is returned.\n",
    "\n",
    "added_five = addFive(11)\n",
    "print(f\"We called 'addFive' and set it's return value equal to a variable.That variable equals {added_five} \")\n",
    "\n",
    "def addingChain(i):\n",
    "  curr_num = addTwo(i) \n",
    "  # Control 2: The \"addTwo()\" function is called and passed \"i\", which is equal to 9.\n",
    "  # Control 4: The value of 11 that was returned from the addTwo function call is set to a\n",
    "  # variable called curr_num.\n",
    "\n",
    "  new_num = addFive(curr_num) \n",
    "  # Control 5: addFive function is called and passed curr_num, which is equal to 11.\n",
    "  # Control 7: The value of 16 is returned from the addFive function call and is set to a\n",
    "  # variable called new_num.\n",
    "\n",
    "  return new_num \n",
    "  # Control 8: The new_num variable, which equals 16, is returned and the\n",
    "  # \"addingChain()\" function call has ended.\n",
    "\n",
    "print(addingChain(9)) \n",
    "# Control 1: the \"addingChain()\" function gets called and passed 9 as an argument.\n",
    "# Control 9: After the function call is complete, the print statement prints the value of\n",
    "# \"addingChain(9)\".\n",
    "\n",
    "# TODO: Section 2 of TODO 11 (4 min for students, 1 min for demo)\n"
   ]
  },
  {
   "attachments": {},
   "cell_type": "markdown",
   "metadata": {},
   "source": [
    "## Section 3: Using Return Values with Conditionals (7 minutes)\n",
    "\n",
    "Using functions with return values is important when you want to store a value for additional use\n",
    "instead just logging it in that moment. Here is an example of this idea in practice:"
   ]
  },
  {
   "cell_type": "code",
   "execution_count": null,
   "metadata": {},
   "outputs": [],
   "source": [
    "def daysActivities(type_of_day):\n",
    "  \"\"\"Analyze a user's input and return a message for them. Just as a file gets a doc string,\n",
    "  functions get one too!\"\"\"\n",
    "  # The conditionals below check to see if the \"type_of_day\" argument is equal to something.\n",
    "  # In our case we are using a conditional statement to determine if \"type_of_day\" is \"fun\". \n",
    "  # If the conditional is true, then whatever is within the scope of the conditional is executed. \n",
    "  # If the conditional is not true, the \"else\" block's code is executed.\n",
    "\n",
    "  if type_of_day.lower() == \"fun\":\n",
    "    day_string = \"You should enjoy some of your favorite activities.\"\n",
    "  else:\n",
    "    day_string = \"You should try to have some more fun!\"\n",
    "\n",
    "  return day_string # This will return the variable \"day_string\" and end the function. When a return\n",
    "  # statement is run, the function will effectively stop running.\n",
    "\n",
    "def inquireDay():\n",
    "  \"\"\"This function will ask the user what type of day they want to have\"\"\"\n",
    "\n",
    "  # First we will take the user input value and then pass it as an argument to our\n",
    "  # \"daysActivities()\" function.\n",
    "  user_day = input(\"What type of day do you want to have? You can choose 'fun' or a response of your own. Enter your choice: \")\n",
    "\n",
    "  user_message = daysActivities(user_day)\n",
    "  print(user_message) \n",
    "  # The variable \"user_message\" will be equal to the return value of the function call.\n",
    "\n",
    "inquireDay() # This is a standard function call without any parameters.\n",
    "\n",
    "# TODO:\n",
    "# Hey, Teacher, You should have your students walk you through the control of the above\n",
    "# function call. Make sure the class understands the flow of the program.\n",
    "\n",
    "# TODO: Section 3 of TODO 11 (4 min for students, 1 min for demo)"
   ]
  },
  {
   "attachments": {},
   "cell_type": "markdown",
   "metadata": {},
   "source": [
    "## Section 4: Looping in Functions (7 minutes)\n"
   ]
  },
  {
   "cell_type": "code",
   "execution_count": null,
   "metadata": {},
   "outputs": [],
   "source": [
    "# Here are a couple of dictionaries that we will work with for this section.\n",
    "example_dict_1 = {\"Abigail\": 78, \"Brian\": 86, \"Carl\": 95, \"Debbie\": 100, \"Erin\": 88}\n",
    "example_dict_2 = {\"Andy\": 73, \"Benny\": 64, \"Celeste\": 90, \"Danilo\": 84, \"Eric\": 78}\n",
    "\n",
    "# One important concept related to functions is that they can be reused. Therefore, we can execute\n",
    "# the same function to perform operations on BOTH of the above dictionaries.\n",
    "def dictionary_reader(dictionary):\n",
    "  \"\"\"This function will format and print a dictionary.\"\"\"\n",
    "  print(\"Let's output a dictionary \\n\")\n",
    "\n",
    "  for student in dictionary:\n",
    "    print(f\"{student} got a score of {dictionary[student]} on their exam!\")\n",
    "  \n",
    "  print(\"\\n This function has finished running.\")\n",
    "\n",
    "dictionary_reader(example_dict_1) # Here we pass the function an argument for our first dictionary.\n",
    "\n",
    "print(\"\\n\")\n",
    "\n",
    "dictionary_reader(example_dict_2) \n",
    "# Here we see the same function performing operations with our second dictionary.\n",
    "\n",
    "# TODO: Section 4 of TODO 11 (4 min for students, 2 min for demo)"
   ]
  },
  {
   "attachments": {},
   "cell_type": "markdown",
   "metadata": {},
   "source": [
    "## Section 5: Working with Scope (7 minutes)\n"
   ]
  },
  {
   "cell_type": "code",
   "execution_count": 5,
   "metadata": {},
   "outputs": [
    {
     "name": "stdout",
     "output_type": "stream",
     "text": [
      "I love Paris in the summer!\n",
      "I love San Diego in the summer!\n",
      "I love London!\n",
      "I love Malaysia!\n"
     ]
    }
   ],
   "source": [
    "# Below are examples of using variables & the timing of a function call to portray scope.\n",
    "# Here we call \"s\" after the function is called, which will return a NameError.\n",
    "\n",
    "def func():\n",
    "  print(s)\n",
    "func()\n",
    "s = \"I love Paris in the summer!\"\n",
    "\n",
    "# Here, since the variable is declared before the function is called, it will print the \"s2\" value\n",
    "def func2():\n",
    "  print(s2)\n",
    "s2 = \"I love San Diego in the summer!\"\n",
    "func2()\n",
    "\n",
    "# Here, the variable \"s3\" is referenced within the function's scope. Since \"s3\" is not passed as an\n",
    "# argument to the function call of \"func3()\", the global variable \"s3\" defined outside the scope\n",
    "# of the function has no impact on the output. Therefore \"func3()\" will print the statement,\n",
    "# \"I love London.\"\n",
    "def func3():\n",
    "  s3 = \"I love London!\"\n",
    "  print(s3)\n",
    "\n",
    "s3 = \"I love Malaysia!\"\n",
    "func3()\n",
    "\n",
    "# Here, the global variable \"s3\" is printed.\n",
    "print(s3)\n"
   ]
  }
 ],
 "metadata": {
  "kernelspec": {
   "display_name": "Python 3.8.9 64-bit",
   "language": "python",
   "name": "python3"
  },
  "language_info": {
   "codemirror_mode": {
    "name": "ipython",
    "version": 3
   },
   "file_extension": ".py",
   "mimetype": "text/x-python",
   "name": "python",
   "nbconvert_exporter": "python",
   "pygments_lexer": "ipython3",
   "version": "3.8.9"
  },
  "orig_nbformat": 4,
  "vscode": {
   "interpreter": {
    "hash": "31f2aee4e71d21fbe5cf8b01ff0e069b9275f58929596ceb00d14d90e3e16cd6"
   }
  }
 },
 "nbformat": 4,
 "nbformat_minor": 2
}
