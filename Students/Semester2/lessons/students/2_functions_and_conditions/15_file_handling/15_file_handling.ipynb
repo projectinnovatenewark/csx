{
 "cells": [
  {
   "cell_type": "markdown",
   "metadata": {},
   "source": [
    "## Section 1.1: Opening and Reading Text Files\n"
   ]
  },
  {
   "cell_type": "code",
   "execution_count": 1,
   "metadata": {},
   "outputs": [
    {
     "name": "stdout",
     "output_type": "stream",
     "text": [
      "Contents .read() method:\n",
      "Hello World\n",
      "\n"
     ]
    }
   ],
   "source": [
    "# TODO:\n",
    "# Hey Teacher, make sure your working directory of your terminal is in the same working directory\n",
    "# as hello.txt and my_name_is.txt to access the contents of the files.\n",
    "\n",
    "# We have previously learned about using the terminal to create, read, edit, and delete text files.\n",
    "# Python also provides an inbuilt function that allows programmers to perform these same operations\n",
    "# on files.\n",
    "\n",
    "# To open a text file we can use the \"open()\" function. The \"open()\" function opens a file and\n",
    "# returns it as a file object. The syntax for opening a file is \"open(\"file_name.txt\", mode)\",\n",
    "# where the mode is the method used to open the file. The methods available include\n",
    "# read, write, append, or create. Below, the argument \"r\" is used to open the file for reading.\n",
    "fh = open(\"hello.txt\", \"r\") \n",
    "# This is just an example of the syntax for using the \"open()\" function, but will not provide an output.\n",
    "\n",
    "# We can use the \".read()\" method to read a text file using dot (.) notation and store the contents\n",
    "# in a variable.\n",
    "contents = fh.read()\n",
    "print(f\"Contents .read() method:\\n{contents}\\n\") # This prints the contents of \"hello.txt\" to the terminal.\n",
    "\n",
    "# IMPORTANT:\n",
    "# The \"open()\" function must be called on a file before any operations can be performed on it.\n",
    "\n",
    "# The \"close()\" method is used to close open file objects. The \"close()\" method should be used\n",
    "# to close a file that is no longer in use. Doing so will reflect any changes made to the file\n",
    "# after it was opened. The syntax for \"close()\" is \"file_object.close()\" as seen below.\n",
    "fh.close()"
   ]
  },
  {
   "cell_type": "markdown",
   "metadata": {},
   "source": [
    "## Section 1.2: Additional Use Cases for Text Files\n",
    "\n",
    "In Python, you can use the \".readline()\" method to read each line of a text file one at a time.\n",
    "The first call of the \".readline()\" method returns the first line of a file and each subsequent\n",
    "call returns the next line in the file."
   ]
  },
  {
   "cell_type": "code",
   "execution_count": null,
   "metadata": {},
   "outputs": [],
   "source": [
    "fh = open(\"hello.txt\", \"r\")\n",
    "first_line = fh.readline()\n",
    "second_line = fh.readline()\n",
    "print(f\"Contents .readline() method:\\nFirst Line - {first_line}\\nSecond Line - {second_line}\")\n",
    "fh.close()\n",
    "\n",
    "# You can also seperate each line of a file into elements of a list using the \".readlines()\" method.\n",
    "# The newly created list can then be iterated over to view its output.\n",
    "fh = open(\"hello.txt\", \"r\")\n",
    "contents_list = fh.readlines()\n",
    "print(\"Contents .readlines() method: \\n\", contents_list, \"\\n\")\n",
    "for line in contents_list:\n",
    "  print(line)\n",
    "fh.close()\n",
    "\n",
    "# TODO: Section 1 of TODO 15 (6 min for students, 3 min for demo).\n"
   ]
  },
  {
   "cell_type": "markdown",
   "metadata": {},
   "source": [
    "## Section 2: Writing and Appending\n",
    "\n",
    "The \".write()\" method is used to write to a text file. To use \"write()\", the mode in the \"open()\"\n",
    "function needs to be set to \"w\". Writing to a file will overwrite its contents with the argument\n",
    "passed. The syntax for using the \"write()\" method is \"file_object.write(\"string\")\". "
   ]
  },
  {
   "cell_type": "code",
   "execution_count": null,
   "metadata": {},
   "outputs": [],
   "source": [
    "fh = open(\"hello.txt\", \"w\")\n",
    "fh.write(\"Goodbye World\") # This overwrites the contents of hello.txt with \"Goodbye World\"\n",
    "\n",
    "# After overwriting the file we can open it using the \"r\" mode to read the file's contents.\n",
    "fh = open(\"hello.txt\", \"r\") \n",
    "contents = fh.read()\n",
    "print(f\"Contents .read() method:\\n{contents}\\n\")\n",
    "fh.close()\n",
    "\n",
    "# You can also write to multiple lines of a text file by using the \".writelines()\" method. The\n",
    "# syntax of the \".writelines\" method is \"file_object.writelines(text_list)\" where \"text_list\" is\n",
    "# a list made up of strings.\n",
    "fh = open(\"hello.txt\", \"w\")\n",
    "lines_of_text = [\"a line of text \\n\", \"another line of text \\n\", \"a third line \\n\"]\n",
    "fh.writelines(lines_of_text)\n",
    "fh.close()\n",
    "\n",
    "# Lastly, we can write to a file without overwriting its contents by using the \"a\" mode in the\n",
    "# \"open()\" function. The \"write()\" method is then used to append to the file.\n",
    "fh = open(\"hello.txt\", \"a\")\n",
    "# IMPORTANT: Using append mode vs write mode determines whether or not you overwrite the existing file contents.\n",
    "\n",
    "message = \"Hello World, again.\"\n",
    "fh.write(message)\n",
    "fh.close()\n",
    "\n",
    "# TODO: Hey Teacher, run this final code block to return the .txt file to its original state.\n",
    "\n",
    "fh = open(\"hello.txt\", \"w\")\n",
    "fh.write(\"Hello World\") # This overwrites the contents of hello.txt with \"Hello World\".\n",
    "fh.close()\n",
    "\n",
    "# TODO: Section 2 of TODO 15 (6 min for students, 3 min for demo)\n"
   ]
  }
 ],
 "metadata": {
  "kernelspec": {
   "display_name": "Python 3.8.9 64-bit",
   "language": "python",
   "name": "python3"
  },
  "language_info": {
   "codemirror_mode": {
    "name": "ipython",
    "version": 3
   },
   "file_extension": ".py",
   "mimetype": "text/x-python",
   "name": "python",
   "nbconvert_exporter": "python",
   "pygments_lexer": "ipython3",
   "version": "3.8.9"
  },
  "orig_nbformat": 4,
  "vscode": {
   "interpreter": {
    "hash": "31f2aee4e71d21fbe5cf8b01ff0e069b9275f58929596ceb00d14d90e3e16cd6"
   }
  }
 },
 "nbformat": 4,
 "nbformat_minor": 2
}
