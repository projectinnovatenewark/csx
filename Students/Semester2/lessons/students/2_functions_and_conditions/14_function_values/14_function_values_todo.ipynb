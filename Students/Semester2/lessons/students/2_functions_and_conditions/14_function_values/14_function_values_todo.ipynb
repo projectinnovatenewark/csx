{
 "cells": [
  {
   "cell_type": "markdown",
   "metadata": {},
   "source": [
    "### TODO 1:"
   ]
  },
  {
   "cell_type": "code",
   "execution_count": null,
   "metadata": {},
   "outputs": [],
   "source": [
    "# Create a program that takes a list of numbers, determines if each number is prime, and determines\n",
    "# if each number is even or odd.\n",
    "\n",
    "# The function \"isPrime()\" is already defined for you and will return True if the integer passed\n",
    "# as an argument is a prime number or False if the integer is not a prime number."
   ]
  },
  {
   "cell_type": "code",
   "execution_count": null,
   "metadata": {},
   "outputs": [],
   "source": []
  },
  {
   "cell_type": "code",
   "execution_count": null,
   "metadata": {},
   "outputs": [],
   "source": [
    "# IMPORTANT:\n",
    "# A prime number is a whole number greater than 1 whose only factors are 1 and itself. A factor is\n",
    "# a whole number that can be divided evenly into another number."
   ]
  },
  {
   "cell_type": "markdown",
   "metadata": {},
   "source": [
    "### TODO 2:"
   ]
  },
  {
   "cell_type": "code",
   "execution_count": null,
   "metadata": {},
   "outputs": [],
   "source": [
    "# Define a helper function called \"isEven()\" and pass it an argument of \"num\". It should return a\n",
    "# string indicating \"{num} is even\" or \"{num} is odd\".\n"
   ]
  },
  {
   "cell_type": "code",
   "execution_count": null,
   "metadata": {},
   "outputs": [],
   "source": []
  },
  {
   "cell_type": "markdown",
   "metadata": {},
   "source": [
    "### TODO 3:"
   ]
  },
  {
   "cell_type": "code",
   "execution_count": null,
   "metadata": {},
   "outputs": [],
   "source": [
    "# Define a function called \"main()\" that uses a parameter \"listy\". The argument passed will be\n",
    "# \"num_list\" which is defined below. The \"main()\" function should iterate through these numbers and\n",
    "# call both \"isPrime()\" and \"isEven()\" for each iteration. Store the function call of \"isPrime()\" in\n",
    "# a variable called \"is_prime\" and the function call of \"isEven()\" in a variable called \"is_even\".\n",
    "\n",
    "# TIP: The following 4 lines are examples of potential outputs from the \"main()\" function. This is\n",
    "# TIP: the format that should be followed for solving this problem.\n",
    "# \"The number num is odd and prime.\"\n",
    "# \"The number num is odd and not prime.\"\n",
    "# \"The number num is even and prime.\"\n",
    "# \"The number num is even and not prime.\"\n",
    "\n",
    "# TIP: Test your helper functions out along the way. Make sure each helper function works\n",
    "# TIP: individually before trying to solve the whole problem in one shot.\n",
    "\n",
    "num_list = [12, 15, 22, 13, 17, 11]\n",
    "\n",
    "# TODO: Hey Teacher, make sure the students understand how \"isPrime()\" works.\n",
    "def isPrime(num):\n",
    "  is_prime = True\n",
    "\n",
    "  for n in range(2,num):\n",
    "    if num % n == 0:\n",
    "      is_prime = False\n",
    "      break\n",
    "\n",
    "  return is_prime\n"
   ]
  },
  {
   "cell_type": "code",
   "execution_count": null,
   "metadata": {},
   "outputs": [],
   "source": []
  }
 ],
 "metadata": {
  "kernelspec": {
   "display_name": "Python 3.10.6 64-bit",
   "language": "python",
   "name": "python3"
  },
  "language_info": {
   "name": "python",
   "version": "3.10.6"
  },
  "orig_nbformat": 4,
  "vscode": {
   "interpreter": {
    "hash": "aee8b7b246df8f9039afb4144a1f6fd8d2ca17a180786b69acc140d282b71a49"
   }
  }
 },
 "nbformat": 4,
 "nbformat_minor": 2
}
