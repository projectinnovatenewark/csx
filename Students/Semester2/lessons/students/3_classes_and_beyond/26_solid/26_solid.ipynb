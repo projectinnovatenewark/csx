{
 "cells": [
  {
   "cell_type": "markdown",
   "metadata": {},
   "source": [
    "SOLID is an acronym where each letter represents some principles of software development. Let's go through them."
   ]
  },
  {
   "cell_type": "markdown",
   "metadata": {},
   "source": [
    "\"S\" stands for Single Responsibility Principle. It states that classes/functions should have one job. So if a class has more than one responsibility it becomes \"coupled\", meaning a change to one responsibility results in the modification of the other responsibility. Let's highlight an instance where this is not done well."
   ]
  },
  {
   "cell_type": "code",
   "execution_count": null,
   "metadata": {},
   "outputs": [],
   "source": [
    "class User:\n",
    "  def __init__(self, name: str):\n",
    "    self.name = name\n",
    "\n",
    "  def get_name(self) -> str:\n",
    "    pass\n",
    "\n",
    "  def get_user_from_db(self, id) -> User:\n",
    "    pass\n",
    "\n",
    "  def save_to_db(self, user: User):\n",
    "    pass"
   ]
  },
  {
   "cell_type": "markdown",
   "metadata": {},
   "source": [
    "We have a User class which is responsible for both the user properties and user database management. If the database management functions have to change, then the class that makes use of the User properties will have to be changed as well. The solution would be to decouple this into two classes."
   ]
  },
  {
   "cell_type": "code",
   "execution_count": null,
   "metadata": {},
   "outputs": [],
   "source": [
    "class User:\n",
    "  def __init__(self, name: str):\n",
    "    self.name = name\n",
    "  \n",
    "  def get_name(self):\n",
    "    pass\n",
    "\n",
    "\n",
    "class UserDB:\n",
    "  def get_user(self, id) -> User:\n",
    "    pass\n",
    "\n",
    "  def save(self, user: User):\n",
    "    pass"
   ]
  },
  {
   "cell_type": "markdown",
   "metadata": {},
   "source": [
    "Some additional thinking on this can be found in the [Facade pattern](https://kennison.name/files/zopestore/uploads/python/DesignPatternsInPython_ver0.1.pdf)."
   ]
  },
  {
   "cell_type": "markdown",
   "metadata": {},
   "source": [
    "\"O\", or the \"Open-Closed\" principle, states that classes/functions should be open to extension, but closed to modification. When we add new features to our codebase, we prefer to define new objects or extend existing objects, not change existing objects that are closed to modification. Let's start with a sub-optimal example."
   ]
  },
  {
   "cell_type": "code",
   "execution_count": null,
   "metadata": {},
   "outputs": [],
   "source": [
    "class Employee:\n",
    "  def __init__(self, name: str, salary: str):\n",
    "    self.name = name\n",
    "    self.salary = salary\n",
    "  \n",
    "class Recruiter(Employee):\n",
    "  def __init__(self, name: str, salary: str):\n",
    "    super().__init__(name, salary)\n",
    "    \n",
    "  def recruit(self):\n",
    "      print(\"{} is testing\".format(self.name))\n",
    "\n",
    "class Developer(Employee):\n",
    "  def __init__(self, name: str, salary: str):\n",
    "    super().__init__(name, salary)\n",
    "  \n",
    "  def develop(self):\n",
    "    print(\"{} is developing\".format(self.name))\n",
    "\n",
    "class Company:    \n",
    "  def __init__(self, name: str):\n",
    "    self.name = name\n",
    "  \n",
    "  def work(self, employee):\n",
    "    if isinstance(employee, Developer):\n",
    "      employee.develop()\n",
    "    elif isinstance(employee, Recruiter):\n",
    "      employee.recruit()\n",
    "    else:\n",
    "      raise Exception(\"Unknown employee\")"
   ]
  },
  {
   "cell_type": "markdown",
   "metadata": {},
   "source": [
    "This code has shortcomings as it pertains to defining a new kind of Employee. The \"Developer\" class has a method called `develop()`, and the \"Recruiter\" class has a method called `recruit()`. If we chose to add a \"Salesman\", we would have to modify the Company class `work()` method. We can instead define an abstract class (ABC class) with an abstract method called `work()` that would require its child classes to implement a method of that name. Then, we can use that method in the Company class regardless of which type of Employee is doing the work."
   ]
  },
  {
   "cell_type": "code",
   "execution_count": null,
   "metadata": {},
   "outputs": [],
   "source": [
    "from abc import ABC, abstractmethod\n",
    "\n",
    "class Employee(ABC):\n",
    "  def __init__(self, name: str, salary: str):\n",
    "    self.name = name\n",
    "    self.salary = salary\n",
    "\n",
    "  @abstractmethod\n",
    "  def work(self):\n",
    "    pass\n",
    "\n",
    "class Recruiter(Employee):\n",
    "  def __init__(self, name: str, salary: str):\n",
    "    super().__init__(name, salary)\n",
    "\n",
    "  def work(self):\n",
    "    print(\"{} is recruiting\".format(self.name))\n",
    "\n",
    "class Developer(Employee):\n",
    "  def __init__(self, name: str, salary: str):\n",
    "    super().__init__(name, salary)\n",
    "\n",
    "  def work(self):\n",
    "    print(\"{} is developing\".format(self.name))\n",
    "\n",
    "class Company:\n",
    "  def __init__(self, name: str):\n",
    "    self.name = name\n",
    "\n",
    "  def do_work(self, employee: Employee):\n",
    "    employee.work()\n",
    "\n",
    "pin = Company(\"PIN\")\n",
    "developer = Developer(\"Tapia\", \"1000000\")\n",
    "recruiter = Recruiter(\"Shane\", \"1000000\")\n",
    "pin.do_work(developer)\n",
    "pin.do_work(recruiter)"
   ]
  },
  {
   "cell_type": "markdown",
   "metadata": {},
   "source": [
    "The next principle is called the \"Liskov’s Substitution\" principle, or the \"L\" principle. The Liskov Substitution Principle states that objects in a program should be replaceable with instances of their subtypes without altering the correctness of that program.\n",
    "\n",
    "In other words, if a class 'Square' is a subtype of a class 'Rectangle', then in the program a 'Square' object should be able to substitute a 'Rectangle' object without needing to change the program. Here's an example that breaks that rule."
   ]
  },
  {
   "cell_type": "code",
   "execution_count": 4,
   "metadata": {},
   "outputs": [
    {
     "name": "stdout",
     "output_type": "stream",
     "text": [
      "6\n",
      "0\n"
     ]
    }
   ],
   "source": [
    "class Rectangle:\n",
    "  def __init__(self, width=0, height=0):\n",
    "    self.width = width\n",
    "    self.height = height\n",
    "\n",
    "  def area(self):\n",
    "    return self.width * self.height\n",
    "\n",
    "class Square(Rectangle):\n",
    "  def __init__(self, side):\n",
    "    # A Square is always a Rectangle, but a rectangle is not always a square.\n",
    "    # If we wanted our Square to substitue a Rectangle, it should be able to\n",
    "    # implement the area() method. For now, the area() method is broken.\n",
    "    super().__init__()\n",
    "    self.side = side\n",
    "\n",
    "rect = Rectangle(2, 3)\n",
    "print(rect.area()) # 6\n",
    "\n",
    "sq = Square(2)\n",
    "print(sq.area()) # Should be 4"
   ]
  },
  {
   "cell_type": "markdown",
   "metadata": {},
   "source": [
    "Here is an example that satisfies the rule. We now pass in the sides of the Square as the width and height, thus allowing the area() method to run as expected. Now, we can substitute the subtype \"Square\" for the supertype \"Rectangle\" and the program will still work."
   ]
  },
  {
   "cell_type": "code",
   "execution_count": 6,
   "metadata": {},
   "outputs": [
    {
     "name": "stdout",
     "output_type": "stream",
     "text": [
      "6\n",
      "4\n"
     ]
    }
   ],
   "source": [
    "class Rectangle:\n",
    "  def __init__(self, width=0, height=0):\n",
    "    self.width = width\n",
    "    self.height = height\n",
    "\n",
    "  def area(self):\n",
    "    return self.width * self.height\n",
    "\n",
    "class Square(Rectangle):\n",
    "  def __init__(self, side):\n",
    "    super().__init__(side, side)\n",
    "\n",
    "rect = Rectangle(2, 3)\n",
    "print(rect.area()) # 6\n",
    "\n",
    "sq = Square(2)\n",
    "print(sq.area()) # 4"
   ]
  },
  {
   "cell_type": "markdown",
   "metadata": {},
   "source": [
    "Let's look at different example that breaks this principle. Say we have a parent class Car that would store some details about a vehicle. The Car class is inherited by subclass PetrolCar. Similarly, the parent class Car can be inherited by other classes which would extend the features as needed for each implementation of the child class."
   ]
  },
  {
   "cell_type": "code",
   "execution_count": null,
   "metadata": {},
   "outputs": [],
   "source": [
    "class Car():\n",
    "\tdef __init__(self, type):\n",
    "\t\tself.type = type\n",
    "\n",
    "class PetrolCar(Car):\n",
    "\tdef __init__(self, type):\n",
    "\t\tself.type = type\n",
    "\n",
    "car = Car(\"SUV\")\n",
    "car.properties = {\"Color\": \"Red\", \"Gear\": \"Auto\", \"Capacity\": 6}\n",
    "print(car.properties)\n",
    "\n",
    "petrol_car = PetrolCar(\"Sedan\")\n",
    "petrol_car.properties = (\"Blue\", \"Manual\", 4)\n",
    "print(petrol_car.properties)"
   ]
  },
  {
   "cell_type": "markdown",
   "metadata": {},
   "source": [
    "Here there is no method defined to add properties of the Car and custom code is required to implement properties. The very type used to implement the properties (ex. dict vs tuple above) is left to the developer to choose. Let’s say that there is a requirement to find all red cars with a function and see if both the superclass (parent class of \"Car\") and subclass (child class of \"PetrolCar\") work with the given function."
   ]
  },
  {
   "cell_type": "code",
   "execution_count": null,
   "metadata": {},
   "outputs": [],
   "source": [
    "class Car():\n",
    "\tdef __init__(self, car_type):\n",
    "\t\tself.car_type = car_type\n",
    "\n",
    "class PetrolCar(Car):\n",
    "\tdef __init__(self, car_type):\n",
    "\t\tself.car_type = car_type\n",
    "\n",
    "car = Car(\"SUV\")\n",
    "car.properties = {\"Color\": \"Red\", \"Gear\": \"Auto\", \"Capacity\": 6}\n",
    "print(car.properties)\n",
    "\n",
    "petrol_car = PetrolCar(\"Sedan\")\n",
    "petrol_car.properties = (\"Blue\", \"Manual\", 4)\n",
    "print(petrol_car.properties)\n",
    "\n",
    "cars = [car, petrol_car]\n",
    "\n",
    "def find_red_cars(cars):\n",
    "\tred_cars = 0\n",
    "\tfor car in cars:\n",
    "\t\tif car.properties['Color'] == \"Red\":\n",
    "\t\t\tred_cars += 1\n",
    "\tprint(f\"Number of Red cars: {red_cars}\")\n",
    "\n",
    "find_red_cars(cars)"
   ]
  },
  {
   "cell_type": "markdown",
   "metadata": {},
   "source": [
    "As we can see here, we are trying to loop through a list of car objects. But we break the Liskov Substitution principle as we cannot replace super class objects with sub class objects in the function. A simple solution would be to introduce setter and getter methods in the super class Car, thus telling the sub class how to get/set properties and not leaving the implementation details to the developer. We can even add typings to the \"car_properties\" attribute to ensure that it is a Dictionary with keys that are strings and values that are of any type. Do remember that using typings doesn't throw an error if it is not followed, but rather that a type checker can be run on your code and that it will inform you of incorrect typing.\n",
    "\n",
    "Now the code is friendly towards Liskov’s Substitution Principle."
   ]
  },
  {
   "cell_type": "code",
   "execution_count": 7,
   "metadata": {},
   "outputs": [
    {
     "name": "stdout",
     "output_type": "stream",
     "text": [
      "Number of Red cars: 1\n"
     ]
    }
   ],
   "source": [
    "from typing import Any, Dict\n",
    "\n",
    "class Car():\n",
    "\tdef __init__(self, car_type):\n",
    "\t\tself.car_type = car_type\n",
    "\t\tself.car_properties: Dict[str, Any] = {}\n",
    "\t\n",
    "\tdef set_properties(self, color, gear, capacity):\n",
    "\t\tself.car_properties = {\"Color\": color, \"Gear\": gear, \"Capacity\": capacity}\n",
    "\t\n",
    "\tdef get_properties(self):\n",
    "\t\treturn self.car_properties\n",
    "\n",
    "class PetrolCar(Car):\n",
    "\tdef __init__(self, car_type):\n",
    "\t\tself.car_type = car_type\n",
    "\n",
    "car = Car(\"SUV\")\n",
    "car.set_properties(\"Red\", \"Auto\", 6)\n",
    "\n",
    "petrol_car = PetrolCar(\"Sedan\")\n",
    "petrol_car.set_properties(\"Blue\", \"Manual\", 4)\n",
    "\n",
    "cars = [car, petrol_car]\n",
    "\n",
    "def find_red_cars(cars):\n",
    "\tred_cars = 0\n",
    "\tfor car in cars:\n",
    "\t\tif car.get_properties()[\"Color\"] == \"Red\":\n",
    "\t\t\tred_cars += 1\n",
    "\tprint(f\"Number of Red cars: {red_cars}\")\n",
    "\n",
    "find_red_cars(cars)"
   ]
  },
  {
   "cell_type": "markdown",
   "metadata": {},
   "source": [
    "Onto \"I\". The Interface Segregation Principle (ISP) states that no client (or 'class') should be forced to implement interfaces (or 'methods') it does not use."
   ]
  },
  {
   "cell_type": "markdown",
   "metadata": {},
   "source": [
    "This is an example that does not satisfy ISP. It requires the child classes to define methods it does not need. Using the @abstractmethod, any class that inherits an ABC (or 'Abstract Base Class') must implement these methods or it will throw an error. Therefore, PdfDocument and WordDocument would have to define all three methods of `save()`, `print()`, and `email()`. This code block will throw an error like \"TypeError: Can't instantiate abstract class PdfDocument with abstract methods email, print\"."
   ]
  },
  {
   "cell_type": "code",
   "execution_count": 8,
   "metadata": {},
   "outputs": [
    {
     "ename": "TypeError",
     "evalue": "Can't instantiate abstract class PdfDocument with abstract methods email, print",
     "output_type": "error",
     "traceback": [
      "\u001b[0;31m---------------------------------------------------------------------------\u001b[0m",
      "\u001b[0;31mTypeError\u001b[0m                                 Traceback (most recent call last)",
      "\u001b[0;32m/var/folders/5l/sl6p2btd1wz_b0bmxcyj1_4w0000gn/T/ipykernel_42838/4175861249.py\u001b[0m in \u001b[0;36m<module>\u001b[0;34m\u001b[0m\n\u001b[1;32m     31\u001b[0m     \u001b[0mprint\u001b[0m\u001b[0;34m(\u001b[0m\u001b[0;34m\"Emailing Word document\"\u001b[0m\u001b[0;34m)\u001b[0m\u001b[0;34m\u001b[0m\u001b[0;34m\u001b[0m\u001b[0m\n\u001b[1;32m     32\u001b[0m \u001b[0;34m\u001b[0m\u001b[0m\n\u001b[0;32m---> 33\u001b[0;31m \u001b[0mpdf\u001b[0m \u001b[0;34m=\u001b[0m \u001b[0mPdfDocument\u001b[0m\u001b[0;34m(\u001b[0m\u001b[0;34m)\u001b[0m\u001b[0;34m\u001b[0m\u001b[0;34m\u001b[0m\u001b[0m\n\u001b[0m\u001b[1;32m     34\u001b[0m \u001b[0mpdf\u001b[0m\u001b[0;34m.\u001b[0m\u001b[0msave\u001b[0m\u001b[0;34m(\u001b[0m\u001b[0;34m)\u001b[0m \u001b[0;31m# Saving PDF document\u001b[0m\u001b[0;34m\u001b[0m\u001b[0;34m\u001b[0m\u001b[0m\n\u001b[1;32m     35\u001b[0m \u001b[0mpdf\u001b[0m\u001b[0;34m.\u001b[0m\u001b[0memail\u001b[0m\u001b[0;34m(\u001b[0m\u001b[0;34m)\u001b[0m \u001b[0;31m# Saving PDF document\u001b[0m\u001b[0;34m\u001b[0m\u001b[0;34m\u001b[0m\u001b[0m\n",
      "\u001b[0;31mTypeError\u001b[0m: Can't instantiate abstract class PdfDocument with abstract methods email, print"
     ]
    }
   ],
   "source": [
    "from abc import ABC, abstractmethod\n",
    "\n",
    "class Document(ABC):\n",
    "  @abstractmethod\n",
    "  def save(self):\n",
    "    pass\n",
    "\n",
    "  @abstractmethod\n",
    "  def print(self):\n",
    "    pass\n",
    "\n",
    "  @abstractmethod\n",
    "  def email(self):\n",
    "    pass\n",
    "\n",
    "class PdfDocument(Document):\n",
    "  def __init__(self):\n",
    "    super().__init__() # Won't do anything until you want shared logic on subclasses from AbstractBase\n",
    "\n",
    "  def save(self):\n",
    "    print(\"Saving PDF document\")\n",
    "\n",
    "class WordDocument(Document):\n",
    "  def __init__(self):\n",
    "    super().__init__() # Won't do anything until you want shared logic on subclasses from AbstractBase\n",
    "\n",
    "  def save(self):\n",
    "    print(\"Saving Word document\")\n",
    "\n",
    "  def email(self):\n",
    "    print(\"Emailing Word document\")\n",
    "\n",
    "pdf = PdfDocument()\n",
    "pdf.save() # Saving PDF document\n",
    "pdf.email() # Saving PDF document\n",
    "\n",
    "word = WordDocument()\n",
    "word.save() # Saving Word document\n",
    "word.email() # Emailing Word document\n"
   ]
  },
  {
   "cell_type": "markdown",
   "metadata": {},
   "source": [
    "Let's fix this by not making the subclasses implement every method from their parent. Now, the subclasses will only have to implement `save()`."
   ]
  },
  {
   "cell_type": "code",
   "execution_count": null,
   "metadata": {},
   "outputs": [],
   "source": [
    "from abc import ABC, abstractmethod\n",
    "\n",
    "class Document(ABC):\n",
    "  \n",
    "  @abstractmethod\n",
    "  def save(self):\n",
    "    pass\n",
    "\n",
    "  def print(self):\n",
    "    pass\n",
    "\n",
    "  def email(self):\n",
    "    pass\n",
    "\n",
    "class PdfDocument(Document):\n",
    "  def __init__(self):\n",
    "    super().__init__() # Won't do anything until you want shared logic on subclasses from AbstractBase\n",
    "\n",
    "  def save(self):\n",
    "    print(\"Saving PDF document\")\n",
    "\n",
    "class WordDocument(Document):\n",
    "  def __init__(self):\n",
    "    super().__init__() # Won't do anything until you want shared logic on subclasses from AbstractBase\n",
    "\n",
    "  def save(self):\n",
    "    print(\"Saving Word document\")\n",
    "\n",
    "  def email(self):\n",
    "    print(\"Emailing Word document\")\n",
    "\n",
    "pdf = PdfDocument()\n",
    "pdf.save() # Saving PDF document\n",
    "pdf.email() # Saving PDF document\n",
    "\n",
    "word = WordDocument()\n",
    "word.save() # Saving Word document\n",
    "word.email() # Emailing Word document"
   ]
  },
  {
   "cell_type": "markdown",
   "metadata": {},
   "source": [
    "Here is another example of code that doesn't follow ISP. You can see that it is trying to define an object that would parse data from different formats - XML and JSON."
   ]
  },
  {
   "cell_type": "code",
   "execution_count": null,
   "metadata": {},
   "outputs": [],
   "source": [
    "from abc import ABC, abstractmethod\n",
    "\n",
    "class EventParser(ABC):\n",
    "\t\n",
    "\t@abstractmethod\n",
    "\tdef from_xml(xml_data: str):\n",
    "\t\t\"Parse an event from XML\"\n",
    "\t\n",
    "\t@abstractmethod\n",
    "\tdef from_json(json_data: str):\n",
    "\t\t\"Parse an event from JSON\""
   ]
  },
  {
   "cell_type": "markdown",
   "metadata": {},
   "source": [
    "Why isn't this code correct? Well, what if an object that uses this interface doesn’t **need** to use the from_json method? Here, we force this class to implement an functional interface (which in this case is a funcion) they don’t want to use. The better approach is to create different class interfaces to support different functions, and therefore use-cases."
   ]
  },
  {
   "cell_type": "code",
   "execution_count": null,
   "metadata": {},
   "outputs": [],
   "source": [
    "from abc import ABC, abstractmethod\n",
    "\n",
    "class XMLEventParser(ABC):\n",
    "\t\n",
    "\t@abstractmethod\n",
    "\tdef from_xml(xml_data: str):\n",
    "\t\t\"Parse an event from XML\"\n",
    "\t\n",
    "class JSONEventParser(ABC):\n",
    "\t\n",
    "\t@abstractmethod\n",
    "\tdef from_json(json_data: str):\n",
    "\t\t\"Parse an event from JSON\"\n",
    "\n",
    "# RestClients often consume JSON events\n",
    "class RestClient(JSONEventParser):\n",
    "\tpass\n",
    "\n",
    "# SoapClients often consume XML events\n",
    "class SoapClient(XMLEventParser):\n",
    "\tpass"
   ]
  },
  {
   "cell_type": "markdown",
   "metadata": {},
   "source": [
    "Last but certainly not least: Dependency Inversion, or \"DIP\".\n",
    "\n",
    "The Dependency Inversion Principle states that:\n",
    "a) High level module should not depend on low level modules. Both should depend on abstractions. (recall that a \"module\" could be a function, a class, a file, really any unit of logic)\n",
    "b) Abstractions should not depend on details. Details should depend on abstractions.\n",
    "\n",
    "In other words, the DIP suggests that higher-level components of a system should not be tightly coupled with low-level components. Instead, both high-level and low-level components should depend on abstractions.\n",
    "\n",
    "Note: If your code follows the Open-Closed Principle and Liskov Substitution Principle, then it will be implicitly aligned to be compliant to the Dependency Inversion Principle also."
   ]
  },
  {
   "cell_type": "markdown",
   "metadata": {},
   "source": [
    "Imagine that you have a program that is given an input with characteristics that are consistent, like a .csv file with predefined columns, and you wrote a script to process it. What would happen if that file type or column structure were subject to change?\n",
    "\n",
    "You'd have to rewrite your script and accomodate the new format! This would also mean that the older file type + structure wouldn't be compatible with the updated program.\n",
    "\n",
    "However, you could instead solve this by creating another abstraction that takes the file as an input and passes it to the other interfaces. Let's start with a very simple example using this principle."
   ]
  },
  {
   "cell_type": "code",
   "execution_count": null,
   "metadata": {},
   "outputs": [],
   "source": [
    "\"\"\"\n",
    "Let's say you have a program to bake bread.\n",
    "In a higher level module/abstraction you'd likely call cook() somewhere.\n",
    "A poor implementation would cook AND intialize the bread/bake it.\n",
    "\"\"\"\n",
    "def cook():\n",
    "    bread = Bread()\n",
    "    bread.bake()\n",
    "\n",
    "cook()"
   ]
  },
  {
   "cell_type": "markdown",
   "metadata": {},
   "source": [
    "As you can see, the cook function depends on the Bread object. So what happens if you want to bake cookies?\n",
    "\n",
    "A novice mistake is to add a condition like this:"
   ]
  },
  {
   "cell_type": "code",
   "execution_count": null,
   "metadata": {},
   "outputs": [],
   "source": [
    "def cook(food: str):\n",
    "  if food == \"bread\":\n",
    "    bread = Bread()\n",
    "    bread.bake()\n",
    "  if food == \"cookies\":\n",
    "    cookies = Cookies()\n",
    "    cookies.bake()\n",
    "\n",
    "cook(\"cookies\")"
   ]
  },
  {
   "cell_type": "markdown",
   "metadata": {},
   "source": [
    "This code isn't great from a dependency perspective. By adding more food, you would have to change the cook interface and it will become a blob with many conditions - plus it breaks almost every principle!\n",
    "\n",
    "You need the cook function (which is a higher level module) not to depend on lower level modules, like the Bread or Cookies objects. So, the only input we need is something that we can bake, then bake it. Now the right way to do this is by implementing an interface.\n",
    "\n",
    "Let's invert this dependency!"
   ]
  },
  {
   "cell_type": "code",
   "execution_count": null,
   "metadata": {},
   "outputs": [],
   "source": [
    "from abc import ABC, abstractmethod\n",
    "\n",
    "class Bakeable(ABC):\n",
    "\t@abstractmethod\n",
    "\tdef bake(self):\n",
    "\t\t\tpass\n",
    "\n",
    "class Bread(Bakeable):\n",
    "  def bake(self):\n",
    "    print('Making bread.')\n",
    "\t\n",
    "class Cookies(Bakeable):\n",
    "  def bake(self):\n",
    "    print('Yum, cookies.')\n",
    "\n",
    "def cook(bakeable: Bakeable):\n",
    "\tbakeable.bake()\n",
    "\n",
    "cookies = Cookies()\n",
    "bread = Bread()\n",
    "\n",
    "# Some client would inject a Bakeable object into the cook function like such. It can be a separate entity entirely,\n",
    "# but for simplicity we just call the cook function here.\n",
    "cook(cookies)\n",
    "cook(bread)"
   ]
  },
  {
   "cell_type": "markdown",
   "metadata": {},
   "source": [
    "And now the cook function depends on the **abstraction**. It doesn't depend on messy conditions, the Bread, or the Cookies, but on the Bakeable abstraction. Now any Bakeable can be baked using the cook function.\n",
    "\n",
    "By implementing the interface we are sure that every Bakeable will have a bake() method that does something, as is required by children of an Abstract Class. Additionally, the cook function does not need to know which sub class is implemented! The cook function will simply bake anything that is Bakeable.\n",
    "\n",
    "The dependency now goes to the client, which would be some logic that'd call the cook function. The client is the one that wishes to bake something, would import the cook function, observe that it wants a Bakeable, is the only part of this program that is concerned with having a Bakeable defined, and would ultimately pass it into the cook function."
   ]
  }
 ],
 "metadata": {
  "kernelspec": {
   "display_name": "Python 3.8.15 64-bit",
   "language": "python",
   "name": "python3"
  },
  "language_info": {
   "codemirror_mode": {
    "name": "ipython",
    "version": 3
   },
   "file_extension": ".py",
   "mimetype": "text/x-python",
   "name": "python",
   "nbconvert_exporter": "python",
   "pygments_lexer": "ipython3",
   "version": "3.8.15"
  },
  "orig_nbformat": 4,
  "vscode": {
   "interpreter": {
    "hash": "1ee38ef4a5a9feb55287fd749643f13d043cb0a7addaab2a9c224cbe137c0062"
   }
  }
 },
 "nbformat": 4,
 "nbformat_minor": 2
}
