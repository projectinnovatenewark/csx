{
 "cells": [
  {
   "cell_type": "markdown",
   "metadata": {},
   "source": [
    "SOLID is an acronym where each letter represents some principles of software development. Let's go through them."
   ]
  },
  {
   "cell_type": "markdown",
   "metadata": {},
   "source": [
    "\"S\" stands for Single Responsibility Principle. It states that classes/functions should have one job. So if a class has more than one responsibility it becomes \"coupled\", meaning a change to one responsibility results in the modification of the other responsibility. Let's highlight an instance where this is not done well."
   ]
  },
  {
   "cell_type": "code",
   "execution_count": null,
   "metadata": {},
   "outputs": [],
   "source": [
    "class User:\n",
    "  def __init__(self, name: str):\n",
    "    self.name = name\n",
    "\n",
    "  def get_name(self) -> str:\n",
    "    pass\n",
    "\n",
    "  def get_user_from_db(self, id) -> User:\n",
    "    pass\n",
    "\n",
    "  def save_to_db(self, user: User):\n",
    "    pass"
   ]
  },
  {
   "cell_type": "markdown",
   "metadata": {},
   "source": [
    "We have a User class which is responsible for both the user properties and user database management. If the database management functions have to change, then the class that makes use of the User properties will have to be changed as well. The solution would be to decouple this into two classes."
   ]
  },
  {
   "cell_type": "code",
   "execution_count": null,
   "metadata": {},
   "outputs": [],
   "source": [
    "class User:\n",
    "  def __init__(self, name: str):\n",
    "    self.name = name\n",
    "  \n",
    "  def get_name(self):\n",
    "    pass\n",
    "\n",
    "\n",
    "class UserDB:\n",
    "  def get_user(self, id) -> User:\n",
    "    pass\n",
    "\n",
    "  def save(self, user: User):\n",
    "    pass"
   ]
  },
  {
   "cell_type": "markdown",
   "metadata": {},
   "source": [
    "Some additional thinking on this can be found in the [Facade pattern](https://kennison.name/files/zopestore/uploads/python/DesignPatternsInPython_ver0.1.pdf)."
   ]
  },
  {
   "cell_type": "markdown",
   "metadata": {},
   "source": [
    "\"O\", or the \"Open-Closed\" principle, states that classes/functions should be open to extension, but closed to modification. When we add new features to our codebase, we prefer to define new objects or extend existing objects, not change existing objects that are closed to modification. Let's start with a sub-optimal example."
   ]
  },
  {
   "cell_type": "code",
   "execution_count": null,
   "metadata": {},
   "outputs": [],
   "source": [
    "class Employee:\n",
    "  def __init__(self, name: str, salary: str):\n",
    "    self.name = name\n",
    "    self.salary = salary\n",
    "  \n",
    "class Recruiter(Employee):\n",
    "  def __init__(self, name: str, salary: str):\n",
    "    super().__init__(name, salary)\n",
    "    \n",
    "  def recruit(self):\n",
    "      print(\"{} is testing\".format(self.name))\n",
    "\n",
    "class Developer(Employee):\n",
    "  def __init__(self, name: str, salary: str):\n",
    "    super().__init__(name, salary)\n",
    "  \n",
    "  def develop(self):\n",
    "    print(\"{} is developing\".format(self.name))\n",
    "\n",
    "class Company:    \n",
    "  def __init__(self, name: str):\n",
    "    self.name = name\n",
    "  \n",
    "  def work(self, employee):\n",
    "    if isinstance(employee, Developer):\n",
    "      employee.develop()\n",
    "    elif isinstance(employee, Recruiter):\n",
    "      employee.recruit()\n",
    "    else:\n",
    "      raise Exception(\"Unknown employee\")"
   ]
  },
  {
   "cell_type": "markdown",
   "metadata": {},
   "source": [
    "This code has shortcomings as it pertains to defining a new kind of Employee. The \"Developer\" class has a method called develop(), and the \"Recruiter\" class has a method called recruit(). If we chose to add a \"Salesman\", we would have to modify the Company class' work() method. We can instead define an abstract class (ABC class) with an abstract method called work() that would require its child classes to implement a method of that name. Then, we can use that method in the Company class regardless of which type of Employee is doing the work."
   ]
  },
  {
   "cell_type": "code",
   "execution_count": null,
   "metadata": {},
   "outputs": [],
   "source": [
    "from abc import ABC, abstractmethod\n",
    "\n",
    "class Employee(ABC):\n",
    "  def __init__(self, name: str, salary: str):\n",
    "    self.name = name\n",
    "    self.salary = salary\n",
    "\n",
    "  @abstractmethod\n",
    "  def work(self):\n",
    "    pass\n",
    "\n",
    "class Recruiter(Employee):\n",
    "  def __init__(self, name: str, salary: str):\n",
    "    super().__init__(name, salary)\n",
    "\n",
    "  def work(self):\n",
    "    print(\"{} is recruiting\".format(self.name))\n",
    "\n",
    "class Developer(Employee):\n",
    "  def __init__(self, name: str, salary: str):\n",
    "    super().__init__(name, salary)\n",
    "\n",
    "  def work(self):\n",
    "    print(\"{} is developing\".format(self.name))\n",
    "\n",
    "class Company:\n",
    "  def __init__(self, name: str):\n",
    "    self.name = name\n",
    "\n",
    "  def do_work(self, employee: Employee):\n",
    "    employee.work()\n",
    "\n",
    "pin = Company(\"PIN\")\n",
    "developer = Developer(\"Tapia\", \"1000000\")\n",
    "recruiter = Recruiter(\"Shane\", \"1000000\")\n",
    "pin.do_work(developer)\n",
    "pin.do_work(recruiter)"
   ]
  },
  {
   "cell_type": "markdown",
   "metadata": {},
   "source": [
    "\"L\", or the ..."
   ]
  },
  {
   "cell_type": "markdown",
   "metadata": {},
   "source": [
    "\"I\", or the ..."
   ]
  },
  {
   "cell_type": "markdown",
   "metadata": {},
   "source": [
    "\"D\", or the ..."
   ]
  }
 ],
 "metadata": {
  "kernelspec": {
   "display_name": "Python 3.8.15 64-bit",
   "language": "python",
   "name": "python3"
  },
  "language_info": {
   "name": "python",
   "version": "3.8.15"
  },
  "orig_nbformat": 4,
  "vscode": {
   "interpreter": {
    "hash": "1ee38ef4a5a9feb55287fd749643f13d043cb0a7addaab2a9c224cbe137c0062"
   }
  }
 },
 "nbformat": 4,
 "nbformat_minor": 2
}
