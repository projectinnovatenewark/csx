{
 "cells": [
  {
   "cell_type": "markdown",
   "metadata": {},
   "source": [
    "## Section 1: Encapsulation and Access Modifiers\n",
    "\n",
    "In object orientated programming, access modifiers are used to modify the default scope of\n",
    "attributes and methods of a class. The purpose of access modifiers is to implement encapsulation.\n",
    "Encapsulation refers to the wrapping of code and data together into a single unit. Doing so\n",
    "restricts the access of certain variables and methods. Encapsulation can be thought of as a\n",
    "protective shield that prevents data from being accessed by the code outside of this shield.\n",
    "\n",
    "Access modifiers are identified by the use of the underscore (_) symbol. There are 3 types of\n",
    "access modifiers in Python: public, protected, and private. In the following sections, we will\n",
    "look over each type listed."
   ]
  },
  {
   "cell_type": "code",
   "execution_count": null,
   "metadata": {},
   "outputs": [],
   "source": []
  },
  {
   "cell_type": "markdown",
   "metadata": {},
   "source": [
    "## Section 2: Public Access Modifiers\n",
    "\n",
    "By default, all the attributes and methods of a class are public. The members declared as \"public\"\n",
    "are accessible from outside a class through an instantiation/object of the class. Attributes and\n",
    "methods that have public access do not use an underscore. As an example, below we define the class\n",
    "\"Pet\"."
   ]
  },
  {
   "cell_type": "code",
   "execution_count": null,
   "metadata": {},
   "outputs": [],
   "source": [
    "# TODO: Hey Teacher, have the students walk you through this example to reinforce what we already\n",
    "# TODO: know about classes.\n",
    "\n",
    "class Pet: # This class will look familiar to examples from the previous classes lesson.\n",
    "\n",
    "  def __init__(self, animal_type, num_legs, food):\n",
    "    self.animal_type = animal_type # This is a public attribute.\n",
    "    self.num_legs = num_legs # This is also a public attribute.\n",
    "    self.food = food # This is another public attribute.\n",
    "\n",
    "  def printer(self): # This is a public method.\n",
    "    print(f\"The pet {self.animal_type} has {self.num_legs} legs and eats {self.food}.\")\n",
    "\n",
    "class Dog(Pet): # This is a child class derived from \"Pet\".\n",
    "  def __init__(self, animal_type, num_legs, food, dog_type):\n",
    "    super().__init__(animal_type, num_legs, food)\n",
    "    self.dog_type = dog_type\n",
    "\n",
    "doggy = Dog(\"dog\", \"3\", \"spaghetti\", \"pitbull\")\n",
    "pet = Pet(\"dog\", \"3\", \"spaghetti\")\n",
    "pet.printer()\n",
    "doggy.printer()"
   ]
  },
  {
   "cell_type": "markdown",
   "metadata": {},
   "source": [
    "## Section 3: Protected Access Modifiers\n",
    "\n",
    "Protected access modifiers are used on attributes and methods to restrict their access to the\n",
    "class they are defined in or a child class derived from that class. Protected access modifiers are\n",
    "indicated with a single underscore (_) in its definition. Below we are redefining the \"Pet\" and\n",
    "\"Dog\" classes to demonstrate this concept."
   ]
  },
  {
   "cell_type": "code",
   "execution_count": null,
   "metadata": {},
   "outputs": [],
   "source": [
    "class Pet:\n",
    "\n",
    "  def __init__(self, animal_type, num_legs, food):\n",
    "    # IMPORTANT: Take note of the underscore in the definition of \"self._animal_type\". This\n",
    "    # IMPORTANT: defines \"animal_type\" as a protected instance attribute.\n",
    "    self._animal_type = animal_type \n",
    "    # This instance attribute is \"protected\". It will now only be accessible within the \"Pet\" class or a class derived from it.\n",
    "\n",
    "    self.num_legs = num_legs\n",
    "    self.food = food\n",
    "\n",
    "  def printer(self):\n",
    "    # The underscore is also inlcuded when referencing protected variables.\n",
    "    print(f\"The pet {self._animal_type} has {self.num_legs} legs and eats {self.food}.\")\n",
    "\n",
    "class Dog(Pet):\n",
    "  def __init__(self, animal_type, num_legs, food, dog_type):\n",
    "    super().__init__(animal_type, num_legs, food)\n",
    "    self.dog_type = dog_type\n",
    "    self.tricks = []\n",
    "\n",
    "  # Methods can also be defined using a protected access modifier through the use of a leading underscore (_).\n",
    "  def _add_trick(self, trick):\n",
    "    self.tricks.append(trick)\n",
    "    print(f\"Current tricks: {self.tricks}\")\n",
    "\n",
    "  def dog_printer(self):\n",
    "    # We can reference the protected variable, \"_animal_type\", here because \"Dog\" is a child class\n",
    "    # derived from \"Pet\".\n",
    "    print(f\"A {self.dog_type} is a {self._animal_type} that eats {self.food}.\")\n",
    "\n",
    "doggy = Dog(\"dog\", \"3\", \"spaghetti\", \"pitbull\")\n",
    "# The protected variable 'animal_type', which is equal to 'dog', will print when the \"printer()\"\n",
    "# method is called.\n",
    "doggy.printer()\n",
    "doggy.dog_printer()\n",
    "print(\"Calling a protected method.\")\n",
    "doggy._add_trick(\"roll over\")\n",
    "print(\"Calling a protected method a second time.\")\n",
    "doggy._add_trick(\"stay\")\n",
    "\n",
    "# TIP: #1\n",
    "# The only difference between a public and private attribute/method is that a protected\n",
    "# attribute/method cannot be referenced outside of its package. A Python package is a collection of\n",
    "# Python modules, or files ending with the extension \".py\", within the same directory. You will\n",
    "# learn more about Python packages and modules in a future lesson."
   ]
  },
  {
   "cell_type": "markdown",
   "metadata": {},
   "source": [
    "## Section 4: Private Access Modifiers\n",
    "\n",
    "Private access modifiers are indicated with a double underscore (__) in its definition. Private\n",
    "access modifiers are used on attributes and methods to restrict their access to only the class\n",
    "they are defined in. Below we are redefining the \"Pet\" and \"Dog\" classes to demonstrate this\n",
    "concept."
   ]
  },
  {
   "cell_type": "code",
   "execution_count": null,
   "metadata": {},
   "outputs": [],
   "source": [
    "class Pet:\n",
    "  # Notice we are instantiating new objects with keyword parameters now. This is because we will use\n",
    "  # a private method to store instance attribute values and then a public method to print them.\n",
    "  def __init__(self, animal_type=None, num_legs=None, food=None):\n",
    "    self.animal_type = animal_type\n",
    "    self.num_legs = num_legs\n",
    "    self.food = food\n",
    "\n",
    "  def __set_attributes(self): \n",
    "  # This is a method to set all instance attributes. Please note the use of 2 underscores (__) \n",
    "  # which defines the \"set_attributes()\" method as a private method.\n",
    "\n",
    "    self.animal_type = input(\"What is your animal? \")\n",
    "    self.num_legs = input(\"How many legs does it have? \")\n",
    "    self.food = input(\"What does it eat? \")\n",
    "\n",
    "  def printer(self):\n",
    "    self.__set_attributes() # We call the private method, \"__set_attributes()\" within the public \n",
    "    #method to access its functionality without exposing it.\n",
    "    \n",
    "    print(f\"animal_type: {self.animal_type}\\nnum_legs: {self.num_legs}\\nfood: {self.food}\")\n",
    "\n",
    "class Dog(Pet):\n",
    "  def __init__(self, animal_type=None, num_legs=None, food=None, dog_type=None):\n",
    "    super().__init__(animal_type, num_legs, food)\n",
    "    self.dog_type = dog_type\n",
    "\n",
    "  def dog_printer(self):\n",
    "    __set_attributes() # This will cause an error when \"dog_printer()\" is called.\n",
    "    print(f\"A {self.dog_type} is a {self.animal_type} that eats {self.food}.\")\n",
    "\n",
    "new_pet = Pet()\n",
    "new_pet.printer()\n",
    "\n",
    "# The below code will return an error because \"__set_attributes()\" is defined in the parent class.\n",
    "# As we learned in this section, private methods can not be referenced or called outside of the\n",
    "# class it is defined in.\n",
    "new_dog = Dog()\n",
    "new_dog.dog_printer()\n",
    "\n",
    "# TODO: Section 3 of TODO 17 (X min for students, Y min for demo)"
   ]
  }
 ],
 "metadata": {
  "kernelspec": {
   "display_name": "Python 3.10.6 64-bit",
   "language": "python",
   "name": "python3"
  },
  "language_info": {
   "name": "python",
   "version": "3.10.6"
  },
  "orig_nbformat": 4,
  "vscode": {
   "interpreter": {
    "hash": "aee8b7b246df8f9039afb4144a1f6fd8d2ca17a180786b69acc140d282b71a49"
   }
  }
 },
 "nbformat": 4,
 "nbformat_minor": 2
}
