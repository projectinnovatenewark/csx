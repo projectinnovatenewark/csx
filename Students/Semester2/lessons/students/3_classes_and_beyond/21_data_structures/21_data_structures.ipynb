{
 "cells": [
  {
   "cell_type": "markdown",
   "metadata": {},
   "source": [
    "### Section 1.1 "
   ]
  },
  {
   "cell_type": "code",
   "execution_count": null,
   "metadata": {},
   "outputs": [
    {
     "ename": "",
     "evalue": "",
     "output_type": "error",
     "traceback": [
      "\u001b[1;31mFailed to start the Kernel. \n",
      "\u001b[1;31mKernel Python 3.10.6 64-bit is not usable. Check the Jupyter output tab for more information. \n",
      "\u001b[1;31mView Jupyter <a href='command:jupyter.viewOutput'>log</a> for further details."
     ]
    }
   ],
   "source": [
    "# Python lists breakdown: https://developers.google.com/edu/python/lists\n",
    "# Python dicts breakdown: https://developers.google.com/edu/python/dict-files\n",
    "# Methods for dicts: \n",
    "\n",
    "\n",
    "# Stacks follow the Last-in-First-Out (LIFO) principle. As if stacking\n",
    "# coins one on top of the other, the last coin we put on the top\n",
    "# is the one that is the first to be removed from the stack later.\n",
    "\n",
    "letters = []\n",
    "\n",
    "# Push - adds element to the top of the stack:\n",
    "# Let's push some letters into our list\n",
    "letters.append('c')\n",
    "letters.append('a')\n",
    "letters.append('t')\n",
    "letters.append('g')\n",
    "\n",
    "# Pop - removes element at the top of the stack:\n",
    "# Now let's pop letters, we should get 'g'\n",
    "last_item = letters.pop()\n",
    "print(last_item)\n",
    "\n",
    "# If we pop again we'll get 't'\n",
    "last_item = letters.pop()\n",
    "print(last_item)\n",
    "\n",
    "# 'c' and 'a' remain\n",
    "print(letters) # ['c', 'a']\n",
    "\n",
    "# TODO: Try the two problems of Section 1.1 in 21_data_structurestodo.ipynb"
   ]
  },
  {
   "cell_type": "markdown",
   "metadata": {},
   "source": [
    "### Section 1.2"
   ]
  },
  {
   "cell_type": "code",
   "execution_count": null,
   "metadata": {},
   "outputs": [],
   "source": [
    "# Queues follow the First-in-First-Out (FIFO) principle.\n",
    "# As if waiting in a queue for the movie tickets, the first one to stand in line\n",
    "# is the first one to buy a ticket and enjoy the movie.\n",
    "\n",
    "fruits = []\n",
    "\n",
    "# Enqueue - add element to the end of the queue:\n",
    "# Let's enqueue some fruits into our list\n",
    "fruits.append('banana')\n",
    "fruits.append('grapes')\n",
    "fruits.append('mango')\n",
    "fruits.append('orange')\n",
    "\n",
    "# Dequeue - removes the element at the beginning of the queue:\n",
    "# Now let's dequeue our fruits, we should get 'banana'.\n",
    "first_item = fruits.pop(0)\n",
    "print(first_item)\n",
    "\n",
    "# If we dequeue again we'll get 'grapes'.\n",
    "first_item = fruits.pop(0)\n",
    "print(first_item)\n",
    "\n",
    "# 'mango' and 'orange' are remaining.\n",
    "print(fruits) # ['c', 'a']\n",
    "\n",
    "# TODO: Try the two problems of Section 1.2 in 21_data_structurestodo.ipynb\n",
    "\n",
    "# Checkout from master, pull master, add/commit changes on local branch, push changes to branch on remote repository, create pull request,\n",
    "# get pull request (or PR as its referred to) reviewed by a collaborator, address any changes that might need to be made, have \n",
    "# collaborator approve, merge the code to master, checkout to master on local computer, pull from master to update local branch,\n",
    "# checkout to new branch for some new code to be written, rinse and repeat!"
   ]
  }
 ],
 "metadata": {
  "kernelspec": {
   "display_name": "Python 3.10.6 64-bit",
   "language": "python",
   "name": "python3"
  },
  "language_info": {
   "name": "python",
   "version": "3.10.6"
  },
  "orig_nbformat": 4,
  "vscode": {
   "interpreter": {
    "hash": "aee8b7b246df8f9039afb4144a1f6fd8d2ca17a180786b69acc140d282b71a49"
   }
  }
 },
 "nbformat": 4,
 "nbformat_minor": 2
}
