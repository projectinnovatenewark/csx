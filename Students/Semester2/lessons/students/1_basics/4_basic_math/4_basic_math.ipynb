{
 "cells": [
  {
   "cell_type": "markdown",
   "metadata": {},
   "source": [
    "## TITLE: Section 1 - Basic Mathematical Operations in Python, & Modulo (8 minutes)\n",
    "\n",
    "Math in Python works exactly as you'd think it should. It's just like using a calculator,\n",
    "except you can store equations in variables. Below are basic mathematical operations you have \n",
    "seen in standard algebra classes."
   ]
  },
  {
   "cell_type": "code",
   "execution_count": 1,
   "metadata": {},
   "outputs": [
    {
     "name": "stdout",
     "output_type": "stream",
     "text": [
      "Math Section One\n",
      "addition: 4, subtraction: 5, multiplication: 12, division: 3.0, exponents: 4, remainder: 3.\n",
      "Lets see if our variables changed.\n",
      "addition:  8 subtraction:  14 multiplication:  4\n"
     ]
    }
   ],
   "source": [
    "addition = 2 + 2 # This is addition.\n",
    "subtraction = 10 - 5 # This is sutraction.\n",
    "multiplication = 3 * 4 # This is multiplication.\n",
    "division = 12 / 4 # This is division.\n",
    "exponents = 2 ** 2 # This is finding exponential value (2^2 or 2 squared).\n",
    "\n",
    "# IMPORTANT:\n",
    "# In python 2, division of whole numbers always returned a whole number,\n",
    "# but in python 3, they return float values.\n",
    "\n",
    "# The \"%\" is called the modulo operator. The modulo operator is used to return the remainder\n",
    "# of one number in the next. \n",
    "# In the below example, 9 goes into 120 13 times with a remainder of 3.\n",
    "remainder = 120 % 9\n",
    "print(\"Math Section One\")\n",
    "print(f\"addition: {addition}, subtraction: {subtraction}, multiplication: {multiplication}, division: {division}, exponents: {exponents}, remainder: {remainder}.\")\n",
    "\n",
    "# Let us not forget, variables can be changed! Lets reassign multiple variables in one line.\n",
    "# Use Lesson 2 Section 2 if you need a reminder on setting multiple variables in a line.\n",
    "addition, subtraction, multiplication = 4 + 4, 20 - 6, 2 * 2\n",
    "\n",
    "print(\"Lets see if our variables changed.\")\n",
    "print(\"addition: \", addition, \"subtraction: \", subtraction, \"multiplication: \", multiplication)"
   ]
  },
  {
   "cell_type": "markdown",
   "metadata": {},
   "source": [
    "## Section 1.1: PEMDAS and Order of Operations (5 minutes)\n",
    "\n",
    "Math in Python follows all the same rules as if you were completing a problem in\n",
    "your notebook or with a scientific calculator. In other words, Python follows PEMDAS.\n",
    "Let's test out some examples."
   ]
  },
  {
   "cell_type": "code",
   "execution_count": 2,
   "metadata": {},
   "outputs": [
    {
     "name": "stdout",
     "output_type": "stream",
     "text": [
      "we expect eq1 to equal 38. Python gives us 38\n",
      "we expect eq1 to equal 81. Python gives us 81\n",
      "we expect eq1 to equal 5. Python gives us 5.0\n",
      "we expect eq1 to equal 5. Python gives us 5\n"
     ]
    }
   ],
   "source": [
    "eq1 = 4 * 12 - 10\n",
    "eq2 = (6 + 3) ** 2\n",
    "eq3 = 7 + 2 / 2 - 3\n",
    "\n",
    "print(f\"we expect eq1 to equal 38. Python gives us {eq1}\")\n",
    "print(f\"we expect eq1 to equal 81. Python gives us {eq2}\")\n",
    "print(f\"we expect eq1 to equal 5. Python gives us {eq3}\")\n",
    "\n",
    "# IMPORTANT:\n",
    "# Remember when you divide, the output will be a float. If you want an integer,\n",
    "# you should us type conversion.\n",
    "print(f\"we expect eq1 to equal 5. Python gives us {int(eq3)}\")"
   ]
  },
  {
   "cell_type": "markdown",
   "metadata": {},
   "source": [
    "## Section 1.2: Constants, Incrementing/Decrementing, & Converting Numeric User Inputs (9 minutes)\n",
    "\n",
    "Here is a new concept we haven't covered yet- constants! Constants are like variables,\n",
    "but they are typed in all caps and shouldn't change. Variables can be manipulated and change,\n",
    "whereas constants should remain the same."
   ]
  },
  {
   "cell_type": "code",
   "execution_count": null,
   "metadata": {},
   "outputs": [],
   "source": [
    "# For example, the corporate tax rate is fixed at 20%. That would be an example of a constant.\n",
    "# You might also notice for company_profit, we use the int() function to convert the user input\n",
    "# (a string) to an integer.\n",
    "company_profit = int(input(\"How much money did your company make this year?: \"))\n",
    "CORPORATE_TAX_RATE = .20\n",
    "\n",
    "# IMPORTANT:\n",
    "# Here we see our first example of copmbining new concepts. A mathematical equation is set using a\n",
    "# vaiable and a constant. This is important to recognize because company_profit can change which\n",
    "# will therefore change the value of taxes_paid.\n",
    "taxes_paid = company_profit * CORPORATE_TAX_RATE\n",
    "print(f\"I paid ${taxes_paid:.2f} dollars in taxes for my business.\")\n",
    "\n",
    "# If you do calculations between a integer and float, the output is a float.\n",
    "summation = 3 + 3.0 # summation will now equal 6.0\n",
    "print(f\"1. summation is {summation}\")\n",
    "\n",
    "# Let's say you want to add to the variable summation. You want to increment it by one, for\n",
    "# whatever reason. There's two ways to do this, and one is a bit longer code-wise.\n",
    "# Lets do it that way first.\n",
    "summation = summation + 1 # summation will now be 7.0\n",
    "print(f\"2. summation is {summation}\")\n",
    "\n",
    "# Using += will add whatever value comes after to the variable, then reassign the variable\n",
    "# to that new value. Since summation was 7.0 and we use += 2, the value of summation after\n",
    "# this line will be 9.0.\n",
    "summation += 2 # summation will now equal 9.0\n",
    "print(f\"3. summation is {summation}\")\n",
    "\n",
    "# On a similar note, you can decrement with -=. Let's see how that looks.\n",
    "summation -= 3 # summation will now equal 6.0\n",
    "print(f\"4. summation is {summation}\")\n",
    "\n",
    "# TODO: Section 1 of TODO 4 (8 minutes for students, 3 minute demo)"
   ]
  },
  {
   "cell_type": "markdown",
   "metadata": {},
   "source": [
    "## Section 2: Math with Lists and Absolute Values (10 minutes)\n",
    "\n",
    " Python makes it easy to find things like min and max too. Luckily there are built in functions we can\n",
    " use. Below is a list of random numbers we are going to work on to show some examples."
   ]
  },
  {
   "cell_type": "code",
   "execution_count": null,
   "metadata": {},
   "outputs": [],
   "source": [
    "number_list = [13, 27, 4, 12, 39, 100]\n",
    "\n",
    "# To find the smallest number, or minimum, in a list, we can use the built in function: min().\n",
    "list_min = min(number_list)\n",
    "print(f\"The min of number_list is {list_min}\")\n",
    "\n",
    "# To find the largest number, or maximum, in a list, we can use the built in function: max().\n",
    "list_max = max(number_list)\n",
    "print(f\"The max of number_list is {list_max}\")\n",
    "\n",
    "# To find the summation of all the numbers in a list, we can use sum(). This is beneficial for when\n",
    "# you have a bunch of numbers and don't want to add them all together with a bunch of plus signs.\n",
    "list_sum = sum(number_list)\n",
    "print(f\"The sum  of number_list is {list_sum}\")\n",
    "\n",
    "# If you remember from math class, absolute value can be defined as the distance of a number on a line from 0.\n",
    "# So the absolute value of 10 and -10 are both 10.\n",
    "neg_int = -10\n",
    "pos_int = 10\n",
    "\n",
    "abs_neg = abs(-10)\n",
    "abs_pos = abs(10)\n",
    "print(f\"The absolute value of {neg_int} is {abs_neg}.\")\n",
    "print(f\"The absolute value of {pos_int} is {abs_pos}.\")\n",
    "\n",
    "# The same concept applies to floats as well!\n",
    "neg_float = -49.232\n",
    "pos_float = 3.5\n",
    "print(f\"The absolute value of {neg_float} is {abs(neg_float)}.\")\n",
    "print(f\"The absolute value of {pos_float} is {abs(pos_float)}.\")\n",
    "\n",
    "# IMPORTANT: Certain functions have return values that can be be placed in print statements, and\n",
    "# IMPORTANT: their return values will be printed as a string when using f shorthand.\n",
    "\n",
    "# TODO: Section 2 of TODO 4 (8 minutes for students, 3 minute demo)\n"
   ]
  },
  {
   "cell_type": "markdown",
   "metadata": {},
   "source": [
    "## Section 3: Short Import Intro and the Math Package (8 minutes)\n",
    "\n",
    "We also have the math package/module from python. Python has built in tools that we\t\n",
    "can import and use to help us in mathematical operations. Normally imports go at the\t\n",
    "TOP of a file, but we will put it here to consolidate the lesson.\t"
   ]
  },
  {
   "cell_type": "code",
   "execution_count": null,
   "metadata": {},
   "outputs": [],
   "source": [
    "import math\t\n",
    "\n",
    "# Now that we have the math package imported, we can use methods attached to the module. One\t\n",
    "# such function we can import is hypot(a, b) where a and b are positive numbers. This is used to\n",
    "# find the length of a hypotenuse of a right triangle replacing the need to type out the pythagorean\n",
    "# theorem; aka the equation (x**2 + y**2)**(1/2). See how the math package makes our life easier.\n",
    "a = 3\n",
    "b = 4\n",
    "\n",
    "hyp = math.hypot(a, b)\t\n",
    "pythag_theorem = (a**2 + b**2)**(1/2)\n",
    "\n",
    "print(f\"Here is the output of the math module example: {hyp}\")\t\n",
    "print(f\"Here we are using the pythagorean theorem equation: {pythag_theorem}\")\t\n",
    "\n",
    "# Packages can make your life much easier if you can use them right. Remember though,\n",
    "# it's always important to remember the underlying concept.\n"
   ]
  }
 ],
 "metadata": {
  "kernelspec": {
   "display_name": "Python 3.8.9 64-bit",
   "language": "python",
   "name": "python3"
  },
  "language_info": {
   "codemirror_mode": {
    "name": "ipython",
    "version": 3
   },
   "file_extension": ".py",
   "mimetype": "text/x-python",
   "name": "python",
   "nbconvert_exporter": "python",
   "pygments_lexer": "ipython3",
   "version": "3.8.9"
  },
  "orig_nbformat": 4,
  "vscode": {
   "interpreter": {
    "hash": "31f2aee4e71d21fbe5cf8b01ff0e069b9275f58929596ceb00d14d90e3e16cd6"
   }
  }
 },
 "nbformat": 4,
 "nbformat_minor": 2
}
