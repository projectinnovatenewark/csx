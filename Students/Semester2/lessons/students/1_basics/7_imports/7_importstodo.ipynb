{
 "cells": [
  {
   "cell_type": "markdown",
   "metadata": {},
   "source": [
    "### TODO: Section 1"
   ]
  },
  {
   "cell_type": "code",
   "execution_count": null,
   "metadata": {},
   "outputs": [],
   "source": [
    "# INSERT IMPORT STATEMENT HERE # FIXME\n",
    "\n",
    "# Import the annual_interest and TAX_RATE constants from the file \"interest.py\" in\n",
    "# studentrepository/todos/1_basics\n",
    "\n",
    "# Ask a user how much they would like to invest with an input. \n",
    "# Set it equal to a variable named \"investment\".\n",
    "# TIP: Don't forget to convert the input to an integer!\n",
    "\n",
    "# Calculate how much their investment would appreciate in one year by multiplying\n",
    "# the \"investment\" variable and the \"annual_interest\".\n",
    "# Set the appreciation amount equal to a variable named \"appreciation\".\n"
   ]
  },
  {
   "cell_type": "code",
   "execution_count": 2,
   "metadata": {},
   "outputs": [
    {
     "name": "stdout",
     "output_type": "stream",
     "text": [
      "1450.0\n"
     ]
    }
   ],
   "source": [
    "from interest import annual_interest, TAX_RATE\n",
    "\n",
    "investment = int(input(\"Enter the amount you would like to invest: \"))\n",
    "appreciation = investment * annual_interest\n",
    "print (appreciation)"
   ]
  },
  {
   "cell_type": "markdown",
   "metadata": {},
   "source": [
    "### TODO: Section 1.1\n"
   ]
  },
  {
   "cell_type": "code",
   "execution_count": null,
   "metadata": {},
   "outputs": [],
   "source": [
    "# Create a new variable named \"new_value\" by adding the \"appreciation\" variable to the\n",
    "# \"investment\" variable.\n",
    "\n",
    "# Calculate the taxes you have to pay by setting a variable of \"taxes\" equal to\n",
    "# the \"appreciation\" variable times the \"TAX_RATE\".\n",
    "\n",
    "# Print to the user the following output using f shorthand: \"Your investment of {investment} is now worth\n",
    "# {new_value} and you owe {taxes} in taxes.\""
   ]
  },
  {
   "cell_type": "code",
   "execution_count": 3,
   "metadata": {},
   "outputs": [
    {
     "name": "stdout",
     "output_type": "stream",
     "text": [
      "Your investment of 2000 is now worth 2145.0 and you owe 29.0 in taxes.\n"
     ]
    }
   ],
   "source": [
    "from interest import annual_interest, TAX_RATE\n",
    "\n",
    "investment = int(input(\"Enter the amount you would like to invest: \"))\n",
    "appreciation = investment * annual_interest\n",
    "new_value = investment + appreciation\n",
    "taxes = appreciation * TAX_RATE\n",
    "\n",
    "print(f\"Your investment of {investment} is now worth {new_value} and you owe {taxes} in taxes.\")\n"
   ]
  }
 ],
 "metadata": {
  "kernelspec": {
   "display_name": "Python 3.8.9 64-bit",
   "language": "python",
   "name": "python3"
  },
  "language_info": {
   "codemirror_mode": {
    "name": "ipython",
    "version": 3
   },
   "file_extension": ".py",
   "mimetype": "text/x-python",
   "name": "python",
   "nbconvert_exporter": "python",
   "pygments_lexer": "ipython3",
   "version": "3"
  },
  "orig_nbformat": 4,
  "vscode": {
   "interpreter": {
    "hash": "31f2aee4e71d21fbe5cf8b01ff0e069b9275f58929596ceb00d14d90e3e16cd6"
   }
  }
 },
 "nbformat": 4,
 "nbformat_minor": 2
}
