{
 "cells": [
  {
   "cell_type": "markdown",
   "metadata": {},
   "source": [
    "## Section 1: Importing Modules (4 min)\n",
    "\n",
    "Take a trip down memory lane and visit Lesson 4R Section 3. There we were introduced to importing\n",
    "the \"math\" module which has some useful functions like pi(), an easier way to find the value of π.\n",
    "There is a vast amount of modules that can be used that are natively built in to Python. Let's\n",
    "import a built in Python module called \"random\" that is used to generate random numbers.\n"
   ]
  },
  {
   "cell_type": "code",
   "execution_count": null,
   "metadata": {},
   "outputs": [],
   "source": [
    "# TODO: Hey Teacher, have the students create their own \"importable_stuff.py\" within the same folder\n",
    "# TODO: as this file. Then have them copy and paste the file from Github.\n",
    "\n",
    "# As we mentioned in Lesson 4, imports should generally be at the top of the file. For the sake of\n",
    "# this lesson though they will be placed throughout the file.\n",
    "import random\n",
    "\n",
    "# Let's use the \"random()\" function. This will generate a random float between 0.0 and 1.0.\n",
    "# We use dot (.) notation to reference the imported module and then the function from that module.\n",
    "# You can expect the format of importing to be similar to the following layout: module.function()\n",
    "rand_float = random.random()\n",
    "print(rand_float)"
   ]
  },
  {
   "cell_type": "markdown",
   "metadata": {},
   "source": [
    "## Section 1.1: Importing Specific Funcitons from Modules (5 min)\n"
   ]
  },
  {
   "cell_type": "code",
   "execution_count": null,
   "metadata": {},
   "outputs": [],
   "source": [
    "# In Python, if we only wanted to import a specific function from the \"random\" module, we can do so\n",
    "# using the following format:\n",
    "\n",
    "from random import randrange # This imports the randrange function from the \"random\" module.\n",
    "\n",
    "# We do not need to use dot notation anymore to reference our randrange function when importing this\n",
    "# way. The program can now recognize it originates from the \"random\" module.\n",
    "\n",
    "# Let's store a random number between 1 and 10 in a variable called \"rand\". \n",
    "\n",
    "rand = randrange(1,11) # The lower bound is included, but the upper bound is excluded.\n",
    "rand_plus_two = rand + 2 \n",
    "print(f\"Randomly generated number: {rand}. Here is rand + 2: {rand_plus_two}.\")"
   ]
  },
  {
   "cell_type": "markdown",
   "metadata": {},
   "source": [
    "## TITLE: Section 2: Importing from Files in your directory (6 min)\n",
    "\n",
    "You can import data or functions that you have defined yourself in other files. Let's import \n",
    "importable_stuff.py to use the constants we previously defined in it.\n",
    "TIP: Remember constants are indicated by the variable name being presented in all caps."
   ]
  },
  {
   "cell_type": "code",
   "execution_count": null,
   "metadata": {},
   "outputs": [],
   "source": [
    "# TODO: Hey Teacher, comment out each import before running the file and demonstrate\n",
    "# TODO: each individually.\n",
    "\n",
    "# As you learned in Section 1, below is the most straight forward way to import a file.\n",
    "import importable_stuff\n",
    "\n",
    "# Just as before, you use dot notation to access the constant \"DAYS_OF_WEEK\" from\n",
    "# importable_stuff.py. \n",
    "print(f\"Normal dot notation: {importable_stuff.DAYS_OF_WEEK}\")\n",
    "\n",
    "# You can also rename imports from files just as in Section 1.\n",
    "import importable_stuff as stuff # Now this import can be referred to going forward as \"stuff\".\n",
    "print(f\"Renaming as stuff: {stuff.DAYS_OF_WEEK}\")\n",
    "\n",
    "# Similar to Section 1, we can import specific objects from importable_stuff.py. If we wanted to\n",
    "# specifically import DAYS_OF_WEEK, then we use the following import statement:\n",
    "from importable_stuff import DAYS_OF_WEEK\n",
    "print(f\"Importing the constant: {DAYS_OF_WEEK}\")\n",
    "\n",
    "# You can also rename the variables and functions imported from files. Below we import the \"SEASONS\"\n",
    "# constant and rename it to \"SZNS\".\n",
    "from importable_stuff import SEASONS as SZNS\n",
    "print(f\"Importing and renaming the constant: {SZNS}\")\n",
    "\n",
    "# An easy and efficient way to import multiple objects is to separate them by commas.\n",
    "from importable_stuff import DAYS_OF_WEEK, MONTHS\n",
    "print(f\"{DAYS_OF_WEEK}\\n{MONTHS}\") # \"\\n\" prints whatever follows on a new line.\n",
    "\n",
    "# Lastly, there is a way to import all of the contents of a file without needing to use dot\n",
    "# notation. The syntax to do so is, \"from file_name import *\".\n",
    "from importable_stuff import *\n",
    "print(f\"{DAYS_OF_WEEK}\\n{MONTHS}\\n{SEASONS}\")\n",
    "\n",
    "# TODO: Complete TODO 7 (6 min for students, 2 min for demo)\n"
   ]
  }
 ],
 "metadata": {
  "interpreter": {
   "hash": "31f2aee4e71d21fbe5cf8b01ff0e069b9275f58929596ceb00d14d90e3e16cd6"
  },
  "kernelspec": {
   "display_name": "Python 3.8.9 64-bit",
   "language": "python",
   "name": "python3"
  },
  "language_info": {
   "name": "python",
   "version": "3.8.9"
  },
  "orig_nbformat": 4
 },
 "nbformat": 4,
 "nbformat_minor": 2
}
