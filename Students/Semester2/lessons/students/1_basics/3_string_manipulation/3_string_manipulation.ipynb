{
 "cells": [
  {
   "cell_type": "markdown",
   "metadata": {},
   "source": [
    "\n",
    "## Section 1: The \"input()\" Function (5 minutes)\n",
    "\n",
    " With the input function, you can get input from users.\n",
    " Lets set the user inputs equal to variables, then use them appropriately."
   ]
  },
  {
   "cell_type": "code",
   "execution_count": 2,
   "metadata": {},
   "outputs": [
    {
     "name": "stdout",
     "output_type": "stream",
     "text": [
      "The variable age has a type of <class 'str'>.\n",
      "Tony Bissoon18\n",
      "Enter the name of your favorite movie on the next line:\n",
      "Your favorite movie is .\n"
     ]
    }
   ],
   "source": [
    "first_name = input(\"What is your first name?: \")\n",
    "last_name = input(\"What is your last name?: \")\n",
    "age = input(\"What is your age?: \") # FIXME: Teacher, use type conversion after getting an error.\n",
    "\n",
    "# As you can see below, inputs automatically set a user input to a string.\n",
    "print(f\"The variable age has a type of {type(age)}.\")\n",
    "\n",
    "# The line below will try to concatenate three variables. What type(s) can be concatenated?\n",
    "statement = first_name + \" \" + last_name + \" \" + str(age)\n",
    "print(statement)\n",
    "\n",
    "# Additionally, if you want a user to enter an input on a blank line you can use an empty input\n",
    "# function.\n",
    "\n",
    "\n",
    "# TODO: Section 1 of TODO 3 (2 minutes for students, 1 minute demo)"
   ]
  },
  {
   "cell_type": "markdown",
   "metadata": {},
   "source": [
    "## Section 2:  Modifying the Casing of Strings (3 minutes)\n",
    "\n",
    " Next we are going to introduce the .title() function. This will capitalize the beginning of every\n",
    " word in a string as well as make the rest of the characters lower case."
   ]
  },
  {
   "cell_type": "code",
   "execution_count": 3,
   "metadata": {},
   "outputs": [
    {
     "name": "stdout",
     "output_type": "stream",
     "text": [
      "Thor: The Dark World\n",
      "what does this do?\n",
      "WHAT DOES THIS DO?\n",
      "\n",
      "what does this do?\n",
      "Here is one line \n",
      "and here is another line\n",
      "\tWhat Does This Do?\n"
     ]
    }
   ],
   "source": [
    "\n",
    "thor2 = \"tHOr: the DARK wOrlD\".title()\n",
    "print(thor2)\n",
    "\n",
    "# There are also casing functions for upper and lower cases, which are used the same as title().\n",
    "# We will explore .upper() and .lower() below.\n",
    "mixed_string = \"whAT Does THIS dO?\"\n",
    "\n",
    "print(mixed_string.lower()) # This will change all characters to lower case.\n",
    "print(mixed_string.upper()) # This will change all characters to upper case.\n",
    "\n",
    "# New string tools! You can start a string with '\\n' when printing it to print\n",
    "# on a new line, which would add a line above it. \"\\\" is a special character, also called\n",
    "# the \"escape\" character. It is used in representing certain 'whitespace characters' or\n",
    "# adding space between characters. : \"\\t\" is a tab and \"\\n\" is a newline,\n",
    "print(\"\\n\" + mixed_string.lower())\n",
    "print(\"Here is one line \\nand here is another line\")\n",
    "print(\"\\t\" + mixed_string.title())\n",
    "\n",
    "# TODO: Section 2 of TODO 3 (4 minutes for students, 1 minute demo)"
   ]
  },
  {
   "cell_type": "markdown",
   "metadata": {},
   "source": [
    "## Section 3: Formatting Variables in Strings (5 minutes)\n",
    "\n",
    "TIP: This section can be of minor emphasis as it is not seen very often in our curriculum.\n",
    "There are many methods of formatting strings. One of which is the use of a percent sign \"%\" to\n",
    "format the amount of decimal places in a float."
   ]
  },
  {
   "cell_type": "code",
   "execution_count": 1,
   "metadata": {},
   "outputs": [
    {
     "name": "stdout",
     "output_type": "stream",
     "text": [
      "Here is the number as a float: 3.00\n",
      "My name is Tony  Bissoon.\n",
      "Here is first variable passed into format 006.00 and here is the second 5.12\n"
     ]
    }
   ],
   "source": [
    "integer_number = 3\n",
    "print(\"Here is the number as a float: %.2f\" %integer_number)\n",
    "\n",
    "# The cleaner way to do the above is by using the format function. The .format() function lets us\n",
    "# concatenate elements within a string through positional formating.\n",
    "first_name = input(\"What is your first name?: \")\n",
    "last_name = input(\"What is your last name?: \")\n",
    "print(\"My name is {} {}.\".format(first_name, last_name))\n",
    "\n",
    "# You can also use the .format() function to modify the number of decimal places just as the % does.\n",
    "# To do so, you use the format \":num_of_zeros.num_of_decimal_placesf\"\n",
    "integer_number = 6\n",
    "float_number = 5.1234\n",
    "print(\"Here is first variable passed into format {:06.2f} and here is the second {:.2f}\".format(integer_number, float_number))\n"
   ]
  },
  {
   "cell_type": "markdown",
   "metadata": {},
   "source": [
    "## Section 4: String-related Functions (9 minutes)\n",
    "\n",
    " The join function combines items in a list. In this case, it will create a large string. The first\n",
    " input specifies how to join the items in the list. In the example below, it will join each item\n",
    " with a comma."
   ]
  },
  {
   "cell_type": "code",
   "execution_count": 4,
   "metadata": {},
   "outputs": [
    {
     "name": "stdout",
     "output_type": "stream",
     "text": [
      "Join the list_to_join combine,these,words,into,one,string\n",
      "As you can see, the original variable list_to_join has not changed ['combine', 'these', 'words', 'into', 'one', 'string']\n",
      "This is the new var: combinethesewordsintoonestring\n",
      "This is the new_var's updated value: combine these words into one string\n",
      "Split the string_to_listify ['lets', 'separate', 'these', 'words', 'into', 'separate', 'items', 'in', 'a', 'list']\n",
      "As you can see, the original variable string_to_listify has not changed lets separate these words into separate items in a list\n",
      "this is listified_string's updated value:  ['lets', 'separate', 'these', 'words', 'into', 'separate', 'items', 'in', 'a', 'list']\n",
      "Sup, how are you?\n",
      "True\n",
      "False\n",
      "True\n",
      "False\n"
     ]
    }
   ],
   "source": [
    "list_to_join = [\"combine\", \"these\", \"words\", \"into\", \"one\", \"string\"]\n",
    "print(f\"Join the list_to_join {','.join(list_to_join)}\")\n",
    "\n",
    "# The join function will not change the original list. As you can see from this output, it stays\n",
    "# the same.\n",
    "print(f\"As you can see, the original variable list_to_join has not changed {list_to_join}\")\n",
    "\n",
    "# If you wanted to capture the new value of combining the items in the list, you would have\n",
    "# to set it equal to a new variable like this:\n",
    "new_var = \"\".join(list_to_join)\n",
    "print(f\"This is the new var: {new_var}\")\n",
    "\n",
    "# But that looks kind of silly without spaces! Let's join them with a space instead to see a cleaner\n",
    "# outcome. We can reassign the new_var variable to have this new value.\n",
    "new_var = \" \".join(list_to_join)\n",
    "print(f\"This is the new_var's updated value: {new_var}\")\n",
    "\n",
    "# The split function seperates a string into items in a list. The split occurs in every instance of\n",
    "# the character that you specify. For example, in the split we put an empty space. This will split\n",
    "# the string into list items wherever there is a space.\n",
    "string_to_listify = \"lets separate these words into separate items in a list\"\n",
    "print(f\"Split the string_to_listify {string_to_listify.split(' ')}\") # FIXME: Teacher, demo this\n",
    "                                                                     # FIXME: with an \"s\", as well!\n",
    "\n",
    "# Split shares the same behavior as the join function. It will NOT update the original\n",
    "# variable. This will still be a string, even though we performed a split function on it.\n",
    "print(f\"As you can see, the original variable string_to_listify has not changed {string_to_listify}\")\n",
    "\n",
    "# Just as before, if we wanted to capture the value of that split, we will have to set it equal to a\n",
    "# new variable.\n",
    "listified_string = string_to_listify.split(\" \")\n",
    "print(\"this is listified_string's updated value: \", listified_string)\n",
    "\n",
    "# The replace function exchanges one input for another. Lets make the following polite statement a\n",
    "# little less formal:\n",
    "print(\"Hello, how are you?\".replace(\"Hello\", \"Sup\"))\n",
    "\n",
    "# The startswith function returns a boolean value (True/False) on whether or not a\n",
    "# string begins with a certain set of characters. Lets check if someone is saying hello\n",
    "# in the following two statements:\n",
    "print(\"Hello, I am saying hi to someone\".startswith(\"Hello\"))\n",
    "print(\"Whats up?\".startswith(\"Hello\"))\n",
    "\n",
    "# The endswith function returns a boolean value (True/False) on whether or not a string ends\n",
    "# with a certain set of characters. Lets check if these statements are questions:\n",
    "print(\"Am I a question?\".endswith(\"?\"))\n",
    "print(\"I'm not a question.\".endswith(\"?\"))\n",
    "\n",
    "# TODO: Section 4 of TODO 3 (3 minutes for students, 1 minute demo)"
   ]
  }
 ],
 "metadata": {
  "kernelspec": {
   "display_name": "Python 3.8.9 64-bit",
   "language": "python",
   "name": "python3"
  },
  "language_info": {
   "codemirror_mode": {
    "name": "ipython",
    "version": 3
   },
   "file_extension": ".py",
   "mimetype": "text/x-python",
   "name": "python",
   "nbconvert_exporter": "python",
   "pygments_lexer": "ipython3",
   "version": "3"
  },
  "orig_nbformat": 4,
  "vscode": {
   "interpreter": {
    "hash": "31f2aee4e71d21fbe5cf8b01ff0e069b9275f58929596ceb00d14d90e3e16cd6"
   }
  }
 },
 "nbformat": 4,
 "nbformat_minor": 2
}
