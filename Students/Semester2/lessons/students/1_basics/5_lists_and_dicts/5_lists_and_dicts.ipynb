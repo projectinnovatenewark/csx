{
 "cells": [
  {
   "cell_type": "markdown",
   "metadata": {},
   "source": [
    "## Section 1: Lists and List Indexing (5 min)\n",
    "A \"list\" is a grouping of values that are ordered and changeable.\n",
    "Each \"item\" in a list is separated by a comma."
   ]
  },
  {
   "cell_type": "code",
   "execution_count": 1,
   "metadata": {},
   "outputs": [
    {
     "name": "stdout",
     "output_type": "stream",
     "text": [
      "Andy\n",
      "Bronny\n",
      "['Andy', 'Bronny', 'Carlos', 'Denisa', 'Enrique', 'Susan']\n",
      "Susan\n",
      "Susan\n",
      "['Fred', 'Bronny', 'Carlos', 'Denisa', 'Enrique', 'Susan']\n"
     ]
    }
   ],
   "source": [
    "# In Python lists are written with square brackets, as shown below:\n",
    "class_list = [\"Andy\", \"Bronny\", \"Carlos\", \"Denisa\", \"Enrique\"]\n",
    "\n",
    "# An index refers to a position within an ordered list.\n",
    "# For the following list, the indexes break down like this:\n",
    "class_list = [\"Andy\", \"Bronny\", \"Carlos\", \"Denisa\", \"Enrique\"]\n",
    "#               0        1         2          3         4\n",
    "# As you can see, the first item in any list has an index of ZERO\n",
    "# and the next item is 1, followed by 2, etc.\n",
    "\n",
    "# In addition, Python supports negative indexes, in which case it counts from the end.\n",
    "# So the last character can be indexed with -1, the second to last with -2, etc.\n",
    "class_list = [\"Andy\", \"Bronny\", \"Carlos\", \"Denisa\", \"Enrique\"]\n",
    "#               -5       -4        -3        -2        -1\n",
    "\n",
    "# You can access single elements from a list using the name followed by a number in [].\n",
    "#As an example:\n",
    "print(class_list[0]) # first element\n",
    "\n",
    "# You can also set a single element from the list as a variable:\n",
    "second = class_list[1] # second element\n",
    "print(second)\n",
    "\n",
    "# To add an item to the end of a list, you use the append function as such:\n",
    "class_list.append(\"Susan\")\n",
    "print(class_list)\n",
    "\n",
    "# The append function adds an item to the end of the list. For this reason, the index value of\n",
    "# \"Susan\" in the example above will be both '5' and '-1'. You can check this with the following code\n",
    "print(class_list[5])\n",
    "print(class_list[-1])\n",
    "\n",
    "# Lastly, you can change an item based off of it's index position. Let's change the first item\n",
    "# to \"Fred\".\n",
    "class_list[0] = \"Fred\"\n",
    "print(class_list)\n",
    "\n",
    "# TODO: Section 1 of TODO 5 (4 minutes for students, 2 minute demo)."
   ]
  },
  {
   "cell_type": "markdown",
   "metadata": {},
   "source": [
    "## Section 2.1: Dictionaries, Reading and Adding Key/Value Pairs. (6 min)\n",
    "\n",
    "Dictionaries have keys which in turn have values similar to how a real life dictionary\n",
    "has words with definitions, the keys represent the words and values represent the definitions."
   ]
  },
  {
   "cell_type": "code",
   "execution_count": 2,
   "metadata": {},
   "outputs": [
    {
     "name": "stdout",
     "output_type": "stream",
     "text": [
      "Bronny's grade:  95\n",
      "Denisa's grade:  55\n",
      "{'Andy': 87, 'Bronny': 95, 'Carlos': 75, 'Denisa': 55, 'Enrique': 100, 'Susan': 92}\n"
     ]
    }
   ],
   "source": [
    "# Here is an example dictionary.\n",
    "grades_dict = {\"Andy\": 87, \"Bronny\": 95, \"Carlos\": 75, \"Denisa\": 55, \"Enrique\": 100}\n",
    "\n",
    "# In dictionaries, however, values can only be accessed by their key.\n",
    "# The format to finding a key's value is `dictionary[key]`\n",
    "print(\"Bronny's grade: \", grades_dict[\"Bronny\"])\n",
    "\n",
    "#Just like lists,you can set a single element from the dictionary as a variable:\n",
    "grade = grades_dict[\"Denisa\"]\n",
    "print(\"Denisa's grade: \", grade)\n",
    "\n",
    "# To add a key/value pair to a dictionary, you simply place a new key in brackets, and set\n",
    "# it equal to the desired value.\n",
    "grades_dict[\"Susan\"] = 92\n",
    "print(grades_dict)"
   ]
  },
  {
   "cell_type": "markdown",
   "metadata": {},
   "source": [
    "##  Section 2.2: More On Accessing Key/Value Pairs in Dictionaries (8 min)\n",
    "Lets think more about how variable assignments can play in here."
   ]
  },
  {
   "cell_type": "code",
   "execution_count": 1,
   "metadata": {},
   "outputs": [
    {
     "name": "stdout",
     "output_type": "stream",
     "text": [
      "Aaron's grade was 87\n"
     ]
    }
   ],
   "source": [
    "class_list = [\"Aaron\", \"Bello\", \"Carla\", \"Droov\", \"Ebron\"]\n",
    "grades_dict = {\"Aaron\": 87, \"Bello\": 95, \"Carla\": 75, \"Droov\": 55, \"Ebron\": 100}\n",
    "\n",
    "# Hmm. So, the first student in class can be found using class_list[0]. We can set that equal\n",
    "# to a variable like this.\n",
    "first_student = class_list[0] # this will equal \"Aaron\".\n",
    "\n",
    "# Now, since this student has a grade in the grades list, let's use this variable to find the\n",
    "# value of their grade in the list!\n",
    "first_student_grade = grades_dict[first_student] # this is the equivalent of grades_dict[\"Aaron\"]\n",
    "\n",
    "# Lets print this out together in a readable way. \n",
    "# Reminder- when you combine strings with commas, a space is placed between the strings.\n",
    "# However, when you use a `+` , there are no spaces added.\n",
    "print(first_student + \"'s grade was\", first_student_grade)\n",
    "\n",
    "#TODO: Section 2 of TODO 5 (5 minutes for students, 2 minute demo)"
   ]
  },
  {
   "cell_type": "markdown",
   "metadata": {},
   "source": [
    "## Section 3.1:  Tuples (2 min)\n",
    "Tuples are lists that cannot have their values modified, and they are denoted with parentheses"
   ]
  },
  {
   "cell_type": "code",
   "execution_count": 5,
   "metadata": {},
   "outputs": [],
   "source": [
    "# This is an example tuple.\n",
    "months = ('January', 'February', 'March', 'April', 'May', 'June', 'July', 'August', 'September', 'October', 'November', 'December')\n",
    "\n",
    "# Here is an example of trying to change a tuple's value. It will throw you an error.\n",
    "# FIXME: Uncomment the code below if you want to demo the error.\n",
    "# months[0] = \"June\" # Will output \"TypeError: 'tuple' object does not support item assignment\"."
   ]
  },
  {
   "cell_type": "markdown",
   "metadata": {},
   "source": [
    "## Section 3.2: Nested Lists and Dictionaries (10 min)\n",
    "What about 'nested' data types? What if a list's items are all dictionaries? What if values in\n",
    "dictionaries are lists? How would we handle that? Let's dive in."
   ]
  },
  {
   "cell_type": "code",
   "execution_count": 2,
   "metadata": {},
   "outputs": [
    {
     "name": "stdout",
     "output_type": "stream",
     "text": [
      "math:  {'subject': 'math', 'level': 'linear algebra', 'students': ['billy', 'beatrice', 'bronny', 'bart'], 'teacher_description': {'name': 'Betty', 'education': ['Masters of Math', 'Bachelors of Science']}, 'classTime': ['11:00 AM', '12:30 PM']}\n",
      "math level:  linear algebra should equal this linear algebra\n",
      "math first student:  billy should equal this billy\n",
      "math teacher education:  ['Masters of Math', 'Bachelors of Science'] should equal this ['Masters of Math', 'Bachelors of Science']\n"
     ]
    }
   ],
   "source": [
    "# Lets look at this data here. You can see that each item in the list\n",
    "# is a dictionary that represents a class.\n",
    "classes = [\n",
    "    { # beginning of the first item\n",
    "        'subject': 'math',\n",
    "        'level': 'linear algebra',\n",
    "        'students': ['billy', 'beatrice', 'bronny', 'bart'],\n",
    "        'teacher_description': {\n",
    "            'name': 'Betty',\n",
    "            'education': ['Masters of Math', 'Bachelors of Science']\n",
    "        },\n",
    "        'classTime': ['11:00 AM', '12:30 PM']\n",
    "    }, # end of the first item.\n",
    "    {  # beginning of second item.\n",
    "        'subject': 'english',\n",
    "        'level': 'composition',\n",
    "        'students': ['chris', 'callie', 'crysta', 'calista'],\n",
    "        'teacher_description': {\n",
    "            'name': 'Joanny',\n",
    "            'education': ['PHD of English', 'Masters of Literacy', 'Bachelors of Biology']\n",
    "        },\n",
    "        'classTime': ['1:00 PM', '2:45 PM']\n",
    "    }  # end of second item.\n",
    "]\n",
    "\n",
    "# Crazy data! How would we find the math teacher's level, the first student listed in her class, and\n",
    "# her education? Let's go through that here. Since the dictionary with \"math\" is the first ITEM in\n",
    "# the LIST of classes, lets set a variable math equal to the first item in the classes list.\n",
    "math = classes[0]\n",
    "print('math: ', math)\n",
    "\n",
    "# Here is how to find the math classes' level- by using either the math variable above OR the\n",
    "# classes list directly.\n",
    "math_level = math['level']\n",
    "math_level2 = classes[0]['level']\n",
    "print('math level: ', math_level, 'should equal this', math_level2)\n",
    "\n",
    "# We will do the same for the first student.\n",
    "math_first_student = math['students'][0]\n",
    "math_first_student_again = classes[0]['students'][0]\n",
    "print('math first student: ', math_first_student, 'should equal this', math_first_student_again)\n",
    "\n",
    "# Lastly, let's find the teacher's education level.\n",
    "math_teacher_education = math['teacher_description']['education']\n",
    "math_teacher_education_again = classes[0]['teacher_description']['education']\n",
    "print('math teacher education: ', math_teacher_education, 'should equal this', math_teacher_education_again)\n",
    "\n",
    "# TODO: Section 3 of TODO 5 (5 minutes for students, 1 minute demo).\n"
   ]
  }
 ],
 "metadata": {
  "kernelspec": {
   "display_name": "Python 3.8.9 64-bit",
   "language": "python",
   "name": "python3"
  },
  "language_info": {
   "codemirror_mode": {
    "name": "ipython",
    "version": 3
   },
   "file_extension": ".py",
   "mimetype": "text/x-python",
   "name": "python",
   "nbconvert_exporter": "python",
   "pygments_lexer": "ipython3",
   "version": "3.8.9"
  },
  "orig_nbformat": 4,
  "vscode": {
   "interpreter": {
    "hash": "31f2aee4e71d21fbe5cf8b01ff0e069b9275f58929596ceb00d14d90e3e16cd6"
   }
  }
 },
 "nbformat": 4,
 "nbformat_minor": 2
}
