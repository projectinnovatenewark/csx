{
 "cells": [
  {
   "cell_type": "markdown",
   "metadata": {},
   "source": [
    "## Section 1.1: Adding and Removing Items From Lists, Reading List Items and Length (5 minutes)\n",
    "The .append() method adds an item to the end of a list."
   ]
  },
  {
   "cell_type": "code",
   "execution_count": 1,
   "metadata": {},
   "outputs": [
    {
     "name": "stdout",
     "output_type": "stream",
     "text": [
      "['gold', 'silver', 'bronze']\n",
      "The last medal is bronze and the first medal is gold\n",
      "['go to sports practice', 'hangout with friends', 'study computer science', 'talk to mom', 'eat vegetables']\n",
      "['apples', 'oranges', 'bananas']\n",
      "The last fruit in the list is bananas\n",
      "['apples', 'oranges']\n",
      "The waiting list's length is 5\n",
      "The waiting list's length is now 4\n",
      "Last person in line: Carla\n",
      "List of people waiting: ['Candace', 'Joe', 'Ali', 'Miller'].\n"
     ]
    }
   ],
   "source": [
    "medals = [\"gold\", \"silver\"]\n",
    "medals.append(\"bronze\")\n",
    "print(medals)\n",
    "\n",
    "# As a reminder, index positions are used to access items in a list. You can also set those values\n",
    "# equal to a variable. We will demo this concept below.\n",
    "last_medal = medals[2]\n",
    "print(f\"The last medal is {last_medal} and the first medal is {medals[0]}\")\n",
    "\n",
    "# The .insert() method adds an element at a given index. The first argument passed defines the index\n",
    "# position, and the second argument defines the element you want to add to the list.\n",
    "priority_list = [\"go to sports practice\", \"hangout with friends\", \"talk to mom\", \"eat vegetables\"]\n",
    "priority_list.insert(2, \"study computer science\") \n",
    "# This will insert \"study computer science\" into \"priority_list\" at index position 2.\n",
    "print(priority_list)\n",
    "\n",
    "# The .remove() method removes a given item from a list.\n",
    "fruits = [\"apples\", \"oranges\", \"asparagus\", \"bananas\"]\n",
    "fruits.remove(\"asparagus\")\n",
    "print(fruits)\n",
    "\n",
    "# The .pop() method removes the last item from a list and returns it's value. \n",
    "# Therefore, you could set the .pop() method equal to a variable. \n",
    "\n",
    "last_fruit = fruits.pop()\n",
    "print(f\"The last fruit in the list is {last_fruit}\") \n",
    "# This will remove the last item from the list, and set it equal \n",
    "# to the variable, \"last_fruit\".\n",
    "print(fruits)\n",
    "\n",
    "# You can also pick an index position to remove from the list with the .pop() method \n",
    "# by providing an argument defining the desired index position.\n",
    "\n",
    "first_fruit = fruits.pop(0) # This will remove the first index position's item from the list.\n",
    "\n",
    "# The len() function is a built-in function that finds the length of a list/dictionary.\n",
    "\n",
    "waiting_list = [\"Candace\", \"Joe\", \"Ali\", \"Miller\", \"Carla\"]\n",
    "\n",
    "waiting_list_length = len(waiting_list) \n",
    "print(f\"The waiting list's length is {waiting_list_length}\")\n",
    "\n",
    "person_in_line = waiting_list.pop() \n",
    "# Again, this will remove the last item from the list and set it\n",
    "# equal to a variable, \"person_in_line\".\n",
    "\n",
    "# Let's recalculate the waiting list's length with len() after using pop().\n",
    "print(f\"The waiting list's length is now {len(waiting_list)}\")\n",
    "\n",
    "# Now print the list item and shopping list on different lines.\n",
    "# TIP: \\n creates a new line in the output (Lesson 3 flashback)\n",
    "print(f\"Last person in line: {person_in_line}\\nList of people waiting: {waiting_list}.\")\n"
   ]
  },
  {
   "cell_type": "markdown",
   "metadata": {},
   "source": [
    "## Section 1.2: Extending and Modifying Lists (6 minutes)\n",
    "The .extend() method adds a list to the end of another list."
   ]
  },
  {
   "cell_type": "code",
   "execution_count": null,
   "metadata": {},
   "outputs": [],
   "source": [
    "languages1 = ['French', 'English', 'German'] # A list of languages.\n",
    "\n",
    "languages2 = ['Spanish', 'Portuguese'] # Another list of languages.\n",
    "\n",
    "# Below will add items in \"languages2\" to the end of \"languages1\".\n",
    "languages1.extend(languages2)\n",
    "\n",
    "print(f'Language List: {languages1}.') # Printing the extended list.\n",
    "\n",
    "# If you want to replace an item in a list you can simply set it's index position to a new value.\n",
    "print(f\"Language List first variable before change: {languages1[0]}.\")\n",
    "\n",
    "languages1[0] = \"Mandarin\" \n",
    "# This will assign \"Mandarin\" to the first index position of languages1\".\n",
    "\n",
    "print(f\"Language List first variable after change: {languages1[0]}.\") \n",
    "# \"languages1[0]\" will now be equal to \"Mandarin\", and\n",
    "# \"French\" will be removed from the list.\n",
    "\n",
    "print(f\"Languages List after methods were performed {languages1}.\")\n",
    "\n",
    "# TODO: Section 1 of TODO 6 (5 minutes for students, 2 minute demo)"
   ]
  },
  {
   "cell_type": "markdown",
   "metadata": {},
   "source": [
    "## Section 2.1: Creating Segments, or \"Slices\", of Lists (7 minutes)\n",
    "\n",
    " Slicing is a way to segment items in a list."
   ]
  },
  {
   "cell_type": "code",
   "execution_count": 1,
   "metadata": {},
   "outputs": [
    {
     "name": "stdout",
     "output_type": "stream",
     "text": [
      "All but first and last: ['mug', 'newspaper', 'magazine', 'remote'].\n",
      "The first half: ['cloth', 'mug', 'newspaper'] | The second half: ['magazine', 'remote', 'coozie'].\n",
      "List stepper:  ['cloth', 'newspaper', 'remote'].\n"
     ]
    }
   ],
   "source": [
    "table_items = [\"cloth\", \"mug\", \"newspaper\", \"magazine\", \"remote\", \"coozie\"]\n",
    "#                 0       1         2           3           4         5\n",
    "\n",
    "# The syntax to slice a list is \"list_name[lower_bound:upper_bound]\". (Ex. list_example[2:4]) The\n",
    "# number to the left of the colon \":\" is the lower bound of a slice, and the number to the right is\n",
    "# the upper bound. The upper bound's index position is NOT included in a slice.\n",
    "\n",
    "# The list slice below would include the first index item and exclude the fifth index item. \n",
    "# Therefore, this slice of the list would include index positions 1 through 4.\n",
    "all_but_first_and_last = table_items[1:5] \n",
    "# TODO: Is index position 1 of \"table_items\" included\n",
    "# TODO: in this slice? What about index position 5?\n",
    "print(f\"All but first and last: {all_but_first_and_last}.\")\n",
    "\n",
    "# When there is no first number defined, the \"lower bound\" is equal to zero and will include the\n",
    "# first item in the list.\n",
    "\n",
    "# As an example, the following slice would include index items zero, one, and two.\n",
    "first_half = table_items[:3] \n",
    "# The first item in this slice of the list would be \"cloth\".\n",
    "# and the last item would be \"newspaper\"\n",
    "\n",
    "# When there is no secondary number defined, the \"upper bound\" is the last item in the list.\n",
    "second_half = table_items[3:] # This slice would include index items three, four, and five.\n",
    "print(f\"The first half: {first_half} | The second half: {second_half}.\")\n",
    "\n",
    "# The third number in a slice is called a stepper. The stepper defines the interval to skip between\n",
    "# index positions.\n",
    "list_stepper = table_items[0:5:2] \n",
    "# This would print all items in the list from index zero to five \n",
    "# while skipping every other number.\n",
    "\n",
    "print(f\"List stepper:  {list_stepper}.\")"
   ]
  },
  {
   "cell_type": "markdown",
   "metadata": {},
   "source": [
    "## TITLE: Section 2.2 - List Comprehensions (3 minutes)\n",
    "\n",
    "IMPORTANT: List comprehensions are ways to define potentially lengthy lists in one line.\n",
    "While you may not recognize the syntax here, just know that you are creating a list of\n",
    "squares for all numbers BETWEEN zero and ten, then printing them. \"for x in something\" means\n",
    "that \"x\" is a variable assigned to the items we are iterating through.\n"
   ]
  },
  {
   "cell_type": "code",
   "execution_count": 2,
   "metadata": {},
   "outputs": [
    {
     "name": "stdout",
     "output_type": "stream",
     "text": [
      "Squares list [0, 1, 4, 9, 16, 25, 36, 49, 64, 81]\n"
     ]
    }
   ],
   "source": [
    "squares = [i**2 for i in range(10)] \n",
    "# Each \"iteration\" of this loop represents a number between\n",
    "# 0 and 9, which will be named \"i\". We square the number \"i\"\n",
    "# for each iteration and append it to the list, \"squares\".\n",
    "\n",
    "print(f\"Squares list {squares}\")\n",
    "\n",
    "# TODO: Section 2 of TODO 6 (3 minutes for students, 2 minute demo)"
   ]
  },
  {
   "cell_type": "markdown",
   "metadata": {},
   "source": [
    "## Section 3: Adding, Removing, Reading and Changing Dictionaries' Key/Value Pairs (7 minutes)\n"
   ]
  },
  {
   "cell_type": "code",
   "execution_count": 2,
   "metadata": {},
   "outputs": [
    {
     "name": "stdout",
     "output_type": "stream",
     "text": [
      "{'lang_one': 'Python', 'lang_two': 'Java'}\n",
      "The programming language dictionary's length is 2\n",
      "After adding a key/value pair: {'lang_one': 'Python', 'lang_two': 'Java', 'lang_three': 'CSharp'}\n",
      "post golang {'lang_one': 'Python', 'lang_two': 'Golang', 'lang_three': 'CSharp'}\n",
      "lang_two is equal to: Golang\n",
      "post pop 2: programming_languages is equal to: {'lang_one': 'Python', 'lang_three': 'CSharp'}\n",
      "20\n",
      "None\n",
      "Does not exist.\n"
     ]
    }
   ],
   "source": [
    "# Let's define a dictionary called \"programming_languages\".\n",
    "programming_languages = {\"lang_one\": \"Python\", \"lang_two\": \"Java\"}\n",
    "print(programming_languages)\n",
    "\n",
    "# Here you can see that the len() function calculates the number of key/value pairs in a dictionary.\n",
    "print(f\"The programming language dictionary's length is {len(programming_languages)}\")\n",
    "\n",
    "# Bracket notation is used to create a new key/value pair in a dictionary. The syntax for this is\n",
    "# \"dict[new_key] = value\". \n",
    "# For example, we can add a key of \"lang_three\" with a value of \"CSharp\" to\n",
    "# the dictionary \"programming_languages\", as seen below.\n",
    "programming_languages[\"lang_three\"] = \"CSharp\"\n",
    "print(f\"After adding a key/value pair: {programming_languages}\")\n",
    "\n",
    "# Bracket notation is also used to update values of a given key that already exists in\n",
    "# the dictionary.\n",
    "programming_languages[\"lang_two\"] = \"Golang\" \n",
    "# \"lang_two\" already exists, so its value will change from \n",
    "# \"Java\" to \"Golang\".\n",
    "print(f\"post golang {programming_languages}\")\n",
    "\n",
    "# The .pop method removes a key/value pair when you pass the key as an argument.\n",
    "lang_two = programming_languages.pop(\"lang_two\")\n",
    "print(f\"lang_two is equal to: {lang_two}\")\n",
    "print(f\"post pop 2: programming_languages is equal to: {programming_languages}\")\n",
    "\n",
    "# The .get() method is used to find a value for a key in a dictionary.\n",
    "example_dict = {\"num_one\": 10, \"num_two\": 20, \"num_three\": 30}\n",
    "second_value = example_dict.get(\"num_two\")\n",
    "print(second_value)\n",
    "\n",
    "# If the key that you provide in the .get() method does not exist in the dictionary,\n",
    "# it will return \"None\".\n",
    "fourth_value = example_dict.get(\"num_four\")\n",
    "print(fourth_value)\n",
    "\n",
    "# You can also specify a return value if a given key does not exist in the dictionary.\n",
    "fourth_value = example_dict.get(\"num_four\", \"Does not exist.\")\n",
    "print(fourth_value)\n",
    "\n",
    "# TODO: Section 3 TODO 6 (7 minutes for students, 3 minute demo).\n"
   ]
  }
 ],
 "metadata": {
  "kernelspec": {
   "display_name": "Python 3.8.9 64-bit",
   "language": "python",
   "name": "python3"
  },
  "language_info": {
   "codemirror_mode": {
    "name": "ipython",
    "version": 3
   },
   "file_extension": ".py",
   "mimetype": "text/x-python",
   "name": "python",
   "nbconvert_exporter": "python",
   "pygments_lexer": "ipython3",
   "version": "3.8.9"
  },
  "orig_nbformat": 4,
  "vscode": {
   "interpreter": {
    "hash": "31f2aee4e71d21fbe5cf8b01ff0e069b9275f58929596ceb00d14d90e3e16cd6"
   }
  }
 },
 "nbformat": 4,
 "nbformat_minor": 2
}
