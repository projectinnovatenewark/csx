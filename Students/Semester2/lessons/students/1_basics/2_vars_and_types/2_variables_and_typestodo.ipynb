{
 "cells": [
  {
   "cell_type": "markdown",
   "metadata": {},
   "source": [
    "### TODO: Section 1:"
   ]
  },
  {
   "cell_type": "code",
   "execution_count": 1,
   "metadata": {},
   "outputs": [],
   "source": [
    "# Set a variable 'phrase1' euqal to \"Hi everyone! \" and another variable 'phrase2'\n",
    "# equal to \"My name is [name here]\". \n",
    "# Then use what you learned so far in the lesson to set these varibles to a new variable called \"complete\"\n",
    "# and print it.\n"
   ]
  },
  {
   "cell_type": "code",
   "execution_count": null,
   "metadata": {},
   "outputs": [],
   "source": []
  },
  {
   "cell_type": "markdown",
   "metadata": {},
   "source": [
    "### TODO: Section 2:"
   ]
  },
  {
   "cell_type": "code",
   "execution_count": 2,
   "metadata": {},
   "outputs": [],
   "source": [
    "# Set two variable in the same line, \"flt1\" and \"flt2\", equal to 3.5 and 14.0, respectively.\n",
    "# Then print each variable to check the output."
   ]
  },
  {
   "cell_type": "markdown",
   "metadata": {},
   "source": [
    "### TODO: Section 3:"
   ]
  },
  {
   "cell_type": "code",
   "execution_count": 4,
   "metadata": {},
   "outputs": [
    {
     "name": "stdout",
     "output_type": "stream",
     "text": [
      "My name is Tony and I am 18 years old\n"
     ]
    }
   ],
   "source": [
    "# Set a variable called name equal to your name,then set a variable of age\n",
    "# equal to your age as an integer. Print a statement with an output of\n",
    "# \"My name is [name here] and I am [age here] years old.\" using the above\n",
    "# variables in your print statement.\n",
    "\n",
    "\n",
    "# Takeaway:\n",
    "# Concatenation (+) can only be done with strings, not strings and integers/floats. \n",
    "# Commas (,) simply print different elements separated by a space rather than concatenating strings.\n"
   ]
  },
  {
   "cell_type": "markdown",
   "metadata": {},
   "source": [
    "### TODO: Section 4:"
   ]
  },
  {
   "cell_type": "code",
   "execution_count": 6,
   "metadata": {},
   "outputs": [],
   "source": [
    "# TODO: Section 4:\n",
    "# Set a variable equal to each of the types we have learned so far. That includes\n",
    "# integers, floats, booleans, None, and strings. So, have one variable per each\n",
    "# of those types (i.e. exampleInt = 0, exampleBool = False, etc.).\n",
    "# To check the type of something in python, you use the type() function.\n",
    "# For example, type(\"Hello\") would yield string, and type(6) would yield int.\n",
    "# So, create on print statement that would print the type of each variable you've set.\n",
    "\n",
    "# Takeaway:\n",
    "# Types are important in Python and you can check different elements' types using type().\n",
    "# The type() function is an example of a polymorphic function, meaning that the same\n",
    "# function name can be used for different types."
   ]
  },
  {
   "cell_type": "markdown",
   "metadata": {},
   "source": [
    "### TODO: Section 5"
   ]
  },
  {
   "cell_type": "code",
   "execution_count": 8,
   "metadata": {},
   "outputs": [],
   "source": [
    "# Lastly, we will introduce type conversion. There are functions you can use to\n",
    "# convert things in Python. The first type conversion function we will use is str().\n",
    "# Try the problem from Section 3, but use plus signs to concatenate strings and\n",
    "# print \"My name is [name here] and I am [age here] years old.\", by using the name and age variables. \n",
    "# However, this time when you're concatenating the age variable, wrap it in the\n",
    "# str() function as such: str(age). The print statement will no longer throw an\n",
    "# error 🎯 since age was converted to a string.\n",
    "\n",
    "\n",
    "# Takeaway:\n",
    "# We can change types in Python when appropriate, and we learned one way to do so with str()\n",
    "\n",
    "# Good job, everyone! First todo down 💪🏾"
   ]
  },
  {
   "cell_type": "markdown",
   "metadata": {},
   "source": [
    "NOTE: STR() FUNCTION DOES NOT WORK IN THE EXAMPLE ABOVE. @TONY @MYKO WORK TOGETHER TO FIX"
   ]
  }
 ],
 "metadata": {
  "interpreter": {
   "hash": "31f2aee4e71d21fbe5cf8b01ff0e069b9275f58929596ceb00d14d90e3e16cd6"
  },
  "kernelspec": {
   "display_name": "Python 3.8.9 64-bit",
   "language": "python",
   "name": "python3"
  },
  "language_info": {
   "codemirror_mode": {
    "name": "ipython",
    "version": 3
   },
   "file_extension": ".py",
   "mimetype": "text/x-python",
   "name": "python",
   "nbconvert_exporter": "python",
   "pygments_lexer": "ipython3",
   "version": "3.8.9"
  },
  "orig_nbformat": 4
 },
 "nbformat": 4,
 "nbformat_minor": 2
}
